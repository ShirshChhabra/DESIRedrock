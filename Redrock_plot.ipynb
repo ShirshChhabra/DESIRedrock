{
 "cells": [
  {
   "cell_type": "code",
   "execution_count": 205,
   "id": "b874a36d-0471-4cce-b728-ced8b4019185",
   "metadata": {},
   "outputs": [],
   "source": [
    "import fitsio\n",
    "from astropy.io import fits\n",
    "import matplotlib.pyplot as plt\n",
    "import astropy.table as t\n",
    "# importing all modules\n",
    "import os\n",
    "import fitsio\n",
    "import matplotlib.pyplot as plt\n",
    "import glob\n",
    "from astropy.io import fits\n",
    "import numpy as np\n",
    "import astropy.table as t\n",
    "import subprocess\n",
    "import json \n",
    "import scipy.optimize as so\n",
    "from scipy.integrate import odeint\n",
    "import numpy.ma as ma\n",
    "from scipy.stats import linregress\n",
    "import pandas as pd\n",
    "from scipy.stats import binned_statistic as bn\n",
    "import pickle"
   ]
  },
  {
   "cell_type": "code",
   "execution_count": 2,
   "id": "fa85f940-5b2c-435c-a8ea-d9e017338b5b",
   "metadata": {},
   "outputs": [
    {
     "name": "stdout",
     "output_type": "stream",
     "text": [
      "TILEID\n",
      "------\n",
      " 80605\n",
      " 80609\n",
      "TILEID\n",
      "------\n",
      " 80606\n",
      " 80608\n",
      " 80610\n"
     ]
    }
   ],
   "source": [
    "# checking which tiles have truth tables\n",
    "trutab=t.Table.read('/global/cfs/cdirs/desi/sv/vi/TruthTables/Fuji/ELG/220505_ELG_SV1_blanc_and_Fuji_v1.csv')\n",
    "trutab2=t.Table.read('/global/cfs/cdirs/desi/sv/vi/TruthTables/Fuji/LRG/220505_LRG_SV1_blanc_and_Fuji_v1.csv')\n",
    "print(np.unique(trutab2['TILEID']))\n",
    "print(np.unique(trutab['TILEID']))"
   ]
  },
  {
   "cell_type": "code",
   "execution_count": 3,
   "id": "ea521940-063b-4113-9405-1cf1a6a5e6c7",
   "metadata": {},
   "outputs": [],
   "source": [
    "#demo tile (filename) taken from Rafaella'S code\n",
    "# filename='/global/cfs/cdirs/desi/spectro/redux/fuji/tiles/cumulative/80618/20210328/emline-1-80618-thru20210328.fits'"
   ]
  },
  {
   "cell_type": "code",
   "execution_count": 4,
   "id": "a1ee7f56-2dac-438d-8695-afa2a25bb717",
   "metadata": {},
   "outputs": [],
   "source": [
    "#filenames for tiles with truth tables\n",
    "emlist=glob.glob('/global/cfs/cdirs/desi/spectro/redux/fuji/tiles/cumulative/80610/*/emline*.fits')"
   ]
  },
  {
   "cell_type": "code",
   "execution_count": 5,
   "id": "a3c06830-e204-446f-89a0-44806f2016a7",
   "metadata": {},
   "outputs": [
    {
     "data": {
      "text/plain": [
       "10"
      ]
     },
     "execution_count": 5,
     "metadata": {},
     "output_type": "execute_result"
    }
   ],
   "source": [
    "len(emlist)"
   ]
  },
  {
   "cell_type": "code",
   "execution_count": 6,
   "id": "91349251-91a9-4c98-a6ee-d25fabfa8d3c",
   "metadata": {
    "scrolled": true,
    "tags": []
   },
   "outputs": [
    {
     "name": "stdout",
     "output_type": "stream",
     "text": [
      "\n",
      "XTENSION= 'BINTABLE'           / binary table extension\n",
      "BITPIX  =                    8 / 8-bit bytes\n",
      "NAXIS   =                    2 / 2-dimensional binary table\n",
      "NAXIS1  =                  345 / width of table in bytes\n",
      "NAXIS2  =                  500 / number of rows in table\n",
      "PCOUNT  =                    0 / size of special data area\n",
      "GCOUNT  =                    1 / one data group (required keyword)\n",
      "TFIELDS =                   80 / number of fields in each row\n",
      "TTYPE1  = 'TARGETID'           / label for field   1\n",
      "TFORM1  = 'K'                  / data format of field: 8-byte INTEGER\n",
      "TTYPE2  = 'Z'                  / label for field   2\n",
      "TFORM2  = 'D'                  / data format of field: 8-byte DOUBLE\n",
      "TTYPE3  = 'ZWARN'              / label for field   3\n",
      "TFORM3  = 'K'                  / data format of field: 8-byte INTEGER\n",
      "TTYPE4  = 'SPECTYPE'           / label for field   4\n",
      "TFORM4  = '6A'                 / data format of field: ASCII Character\n",
      "TTYPE5  = 'DELTACHI2'          / label for field   5\n",
      "TFORM5  = 'D'                  / data format of field: 8-byte DOUBLE\n",
      "TTYPE6  = 'TARGET_RA'          / label for field   6\n",
      "TFORM6  = 'D'                  / data format of field: 8-byte DOUBLE\n",
      "TTYPE7  = 'TARGET_DEC'         / label for field   7\n",
      "TFORM7  = 'D'                  / data format of field: 8-byte DOUBLE\n",
      "TTYPE8  = 'OBJTYPE'            / label for field   8\n",
      "TFORM8  = '3A'                 / data format of field: ASCII Character\n",
      "TTYPE9  = 'OII_FLUX'           / label for field   9\n",
      "TFORM9  = 'E'                  / data format of field: 4-byte REAL\n",
      "TTYPE10 = 'OII_FLUX_IVAR'      / label for field  10\n",
      "TFORM10 = 'E'                  / data format of field: 4-byte REAL\n",
      "TTYPE11 = 'OII_SIGMA'          / label for field  11\n",
      "TFORM11 = 'E'                  / data format of field: 4-byte REAL\n",
      "TTYPE12 = 'OII_SIGMA_IVAR'     / label for field  12\n",
      "TFORM12 = 'E'                  / data format of field: 4-byte REAL\n",
      "TTYPE13 = 'OII_CONT'           / label for field  13\n",
      "TFORM13 = 'E'                  / data format of field: 4-byte REAL\n",
      "TTYPE14 = 'OII_CONT_IVAR'      / label for field  14\n",
      "TFORM14 = 'E'                  / data format of field: 4-byte REAL\n",
      "TTYPE15 = 'OII_SHARE'          / label for field  15\n",
      "TFORM15 = 'E'                  / data format of field: 4-byte REAL\n",
      "TTYPE16 = 'OII_SHARE_IVAR'     / label for field  16\n",
      "TFORM16 = 'E'                  / data format of field: 4-byte REAL\n",
      "TTYPE17 = 'OII_EW'             / label for field  17\n",
      "TFORM17 = 'E'                  / data format of field: 4-byte REAL\n",
      "TTYPE18 = 'OII_EW_IVAR'        / label for field  18\n",
      "TFORM18 = 'E'                  / data format of field: 4-byte REAL\n",
      "TTYPE19 = 'OII_CHI2'           / label for field  19\n",
      "TFORM19 = 'E'                  / data format of field: 4-byte REAL\n",
      "TTYPE20 = 'OII_NDOF'           / label for field  20\n",
      "TFORM20 = 'J'                  / data format of field: 4-byte INTEGER\n",
      "TTYPE21 = 'HDELTA_FLUX'        / label for field  21\n",
      "TFORM21 = 'E'                  / data format of field: 4-byte REAL\n",
      "TTYPE22 = 'HDELTA_FLUX_IVAR'   / label for field  22\n",
      "TFORM22 = 'E'                  / data format of field: 4-byte REAL\n",
      "TTYPE23 = 'HDELTA_SIGMA'       / label for field  23\n",
      "TFORM23 = 'E'                  / data format of field: 4-byte REAL\n",
      "TTYPE24 = 'HDELTA_SIGMA_IVAR'  / label for field  24\n",
      "TFORM24 = 'E'                  / data format of field: 4-byte REAL\n",
      "TTYPE25 = 'HDELTA_CONT'        / label for field  25\n",
      "TFORM25 = 'E'                  / data format of field: 4-byte REAL\n",
      "TTYPE26 = 'HDELTA_CONT_IVAR'   / label for field  26\n",
      "TFORM26 = 'E'                  / data format of field: 4-byte REAL\n",
      "TTYPE27 = 'HDELTA_SHARE'       / label for field  27\n",
      "TFORM27 = 'E'                  / data format of field: 4-byte REAL\n",
      "TTYPE28 = 'HDELTA_SHARE_IVAR'  / label for field  28\n",
      "TFORM28 = 'E'                  / data format of field: 4-byte REAL\n",
      "TTYPE29 = 'HDELTA_EW'          / label for field  29\n",
      "TFORM29 = 'E'                  / data format of field: 4-byte REAL\n",
      "TTYPE30 = 'HDELTA_EW_IVAR'     / label for field  30\n",
      "TFORM30 = 'E'                  / data format of field: 4-byte REAL\n",
      "TTYPE31 = 'HDELTA_CHI2'        / label for field  31\n",
      "TFORM31 = 'E'                  / data format of field: 4-byte REAL\n",
      "TTYPE32 = 'HDELTA_NDOF'        / label for field  32\n",
      "TFORM32 = 'J'                  / data format of field: 4-byte INTEGER\n",
      "TTYPE33 = 'HGAMMA_FLUX'        / label for field  33\n",
      "TFORM33 = 'E'                  / data format of field: 4-byte REAL\n",
      "TTYPE34 = 'HGAMMA_FLUX_IVAR'   / label for field  34\n",
      "TFORM34 = 'E'                  / data format of field: 4-byte REAL\n",
      "TTYPE35 = 'HGAMMA_SIGMA'       / label for field  35\n",
      "TFORM35 = 'E'                  / data format of field: 4-byte REAL\n",
      "TTYPE36 = 'HGAMMA_SIGMA_IVAR'  / label for field  36\n",
      "TFORM36 = 'E'                  / data format of field: 4-byte REAL\n",
      "TTYPE37 = 'HGAMMA_CONT'        / label for field  37\n",
      "TFORM37 = 'E'                  / data format of field: 4-byte REAL\n",
      "TTYPE38 = 'HGAMMA_CONT_IVAR'   / label for field  38\n",
      "TFORM38 = 'E'                  / data format of field: 4-byte REAL\n",
      "TTYPE39 = 'HGAMMA_SHARE'       / label for field  39\n",
      "TFORM39 = 'E'                  / data format of field: 4-byte REAL\n",
      "TTYPE40 = 'HGAMMA_SHARE_IVAR'  / label for field  40\n",
      "TFORM40 = 'E'                  / data format of field: 4-byte REAL\n",
      "TTYPE41 = 'HGAMMA_EW'          / label for field  41\n",
      "TFORM41 = 'E'                  / data format of field: 4-byte REAL\n",
      "TTYPE42 = 'HGAMMA_EW_IVAR'     / label for field  42\n",
      "TFORM42 = 'E'                  / data format of field: 4-byte REAL\n",
      "TTYPE43 = 'HGAMMA_CHI2'        / label for field  43\n",
      "TFORM43 = 'E'                  / data format of field: 4-byte REAL\n",
      "TTYPE44 = 'HGAMMA_NDOF'        / label for field  44\n",
      "TFORM44 = 'J'                  / data format of field: 4-byte INTEGER\n",
      "TTYPE45 = 'HBETA_FLUX'         / label for field  45\n",
      "TFORM45 = 'E'                  / data format of field: 4-byte REAL\n",
      "TTYPE46 = 'HBETA_FLUX_IVAR'    / label for field  46\n",
      "TFORM46 = 'E'                  / data format of field: 4-byte REAL\n",
      "TTYPE47 = 'HBETA_SIGMA'        / label for field  47\n",
      "TFORM47 = 'E'                  / data format of field: 4-byte REAL\n",
      "TTYPE48 = 'HBETA_SIGMA_IVAR'   / label for field  48\n",
      "TFORM48 = 'E'                  / data format of field: 4-byte REAL\n",
      "TTYPE49 = 'HBETA_CONT'         / label for field  49\n",
      "TFORM49 = 'E'                  / data format of field: 4-byte REAL\n",
      "TTYPE50 = 'HBETA_CONT_IVAR'    / label for field  50\n",
      "TFORM50 = 'E'                  / data format of field: 4-byte REAL\n",
      "TTYPE51 = 'HBETA_SHARE'        / label for field  51\n",
      "TFORM51 = 'E'                  / data format of field: 4-byte REAL\n",
      "TTYPE52 = 'HBETA_SHARE_IVAR'   / label for field  52\n",
      "TFORM52 = 'E'                  / data format of field: 4-byte REAL\n",
      "TTYPE53 = 'HBETA_EW'           / label for field  53\n",
      "TFORM53 = 'E'                  / data format of field: 4-byte REAL\n",
      "TTYPE54 = 'HBETA_EW_IVAR'      / label for field  54\n",
      "TFORM54 = 'E'                  / data format of field: 4-byte REAL\n",
      "TTYPE55 = 'HBETA_CHI2'         / label for field  55\n",
      "TFORM55 = 'E'                  / data format of field: 4-byte REAL\n",
      "TTYPE56 = 'HBETA_NDOF'         / label for field  56\n",
      "TFORM56 = 'J'                  / data format of field: 4-byte INTEGER\n",
      "TTYPE57 = 'OIII_FLUX'          / label for field  57\n",
      "TFORM57 = 'E'                  / data format of field: 4-byte REAL\n",
      "TTYPE58 = 'OIII_FLUX_IVAR'     / label for field  58\n",
      "TFORM58 = 'E'                  / data format of field: 4-byte REAL\n",
      "TTYPE59 = 'OIII_SIGMA'         / label for field  59\n",
      "TFORM59 = 'E'                  / data format of field: 4-byte REAL\n",
      "TTYPE60 = 'OIII_SIGMA_IVAR'    / label for field  60\n",
      "TFORM60 = 'E'                  / data format of field: 4-byte REAL\n",
      "TTYPE61 = 'OIII_CONT'          / label for field  61\n",
      "TFORM61 = 'E'                  / data format of field: 4-byte REAL\n",
      "TTYPE62 = 'OIII_CONT_IVAR'     / label for field  62\n",
      "TFORM62 = 'E'                  / data format of field: 4-byte REAL\n",
      "TTYPE63 = 'OIII_SHARE'         / label for field  63\n",
      "TFORM63 = 'E'                  / data format of field: 4-byte REAL\n",
      "TTYPE64 = 'OIII_SHARE_IVAR'    / label for field  64\n",
      "TFORM64 = 'E'                  / data format of field: 4-byte REAL\n",
      "TTYPE65 = 'OIII_EW'            / label for field  65\n",
      "TFORM65 = 'E'                  / data format of field: 4-byte REAL\n",
      "TTYPE66 = 'OIII_EW_IVAR'       / label for field  66\n",
      "TFORM66 = 'E'                  / data format of field: 4-byte REAL\n",
      "TTYPE67 = 'OIII_CHI2'          / label for field  67\n",
      "TFORM67 = 'E'                  / data format of field: 4-byte REAL\n",
      "TTYPE68 = 'OIII_NDOF'          / label for field  68\n",
      "TFORM68 = 'J'                  / data format of field: 4-byte INTEGER\n",
      "TTYPE69 = 'HALPHA_FLUX'        / label for field  69\n",
      "TFORM69 = 'E'                  / data format of field: 4-byte REAL\n",
      "TTYPE70 = 'HALPHA_FLUX_IVAR'   / label for field  70\n",
      "TFORM70 = 'E'                  / data format of field: 4-byte REAL\n",
      "TTYPE71 = 'HALPHA_SIGMA'       / label for field  71\n",
      "TFORM71 = 'E'                  / data format of field: 4-byte REAL\n",
      "TTYPE72 = 'HALPHA_SIGMA_IVAR'  / label for field  72\n",
      "TFORM72 = 'E'                  / data format of field: 4-byte REAL\n",
      "TTYPE73 = 'HALPHA_CONT'        / label for field  73\n",
      "TFORM73 = 'E'                  / data format of field: 4-byte REAL\n",
      "TTYPE74 = 'HALPHA_CONT_IVAR'   / label for field  74\n",
      "TFORM74 = 'E'                  / data format of field: 4-byte REAL\n",
      "TTYPE75 = 'HALPHA_SHARE'       / label for field  75\n",
      "TFORM75 = 'E'                  / data format of field: 4-byte REAL\n",
      "TTYPE76 = 'HALPHA_SHARE_IVAR'  / label for field  76\n",
      "TFORM76 = 'E'                  / data format of field: 4-byte REAL\n",
      "TTYPE77 = 'HALPHA_EW'          / label for field  77\n",
      "TFORM77 = 'E'                  / data format of field: 4-byte REAL\n",
      "TTYPE78 = 'HALPHA_EW_IVAR'     / label for field  78\n",
      "TFORM78 = 'E'                  / data format of field: 4-byte REAL\n",
      "TTYPE79 = 'HALPHA_CHI2'        / label for field  79\n",
      "TFORM79 = 'E'                  / data format of field: 4-byte REAL\n",
      "TTYPE80 = 'HALPHA_NDOF'        / label for field  80\n",
      "TFORM80 = 'J'                  / data format of field: 4-byte INTEGER\n",
      "EXTNAME = 'EMLINEFIT'          / name of this binary table extension\n",
      "RRFN    = '/global/cfs/cdirs/desi/spectro/redux/fuji/tiles/cumulative/80610/202'\n",
      "COADDFN = '/global/cfs/cdirs/desi/spectro/redux/fuji/tiles/cumulative/80610/202'\n",
      "RFHW    =                   40 / \n",
      "MINRFHW =                   20 / \n",
      "RFCONTW =                  200 / \n",
      "RV      =                  3.1 / \n",
      "EMNAMES = 'OII,HDELTA,HGAMMA,HBETA,OIII,HALPHA' / \n",
      "RFWAVE00= '3727.092,3729.874'  / \n",
      "RFWAVE01= '4102.892'           / \n",
      "RFWAVE02= '4341.684'           / \n",
      "RFWAVE03= '4862.683'           / \n",
      "RFWAVE04= '4960.295,5008.239'  / \n",
      "RFWAVE05= '6564.613'           / \n"
     ]
    }
   ],
   "source": [
    "# reading each fits file in emfit output\n",
    "for filename in emlist:\n",
    "    emread1= fitsio.FITS(filename)\n",
    "print(emread1[1].read_header())"
   ]
  },
  {
   "cell_type": "code",
   "execution_count": 7,
   "id": "25e21084-242f-47af-994b-5c8c8c1ff2d9",
   "metadata": {},
   "outputs": [
    {
     "name": "stderr",
     "output_type": "stream",
     "text": [
      "WARNING: MergeConflictWarning: Cannot merge meta key 'RRFN' types <class 'str'> and <class 'str'>, choosing RRFN='/global/cfs/cdirs/desi/spectro/redux/fuji/tiles/cumulative/80610/20210208/redrock-2-80610-thru20210208.fits' [astropy.utils.metadata]\n",
      "WARNING: MergeConflictWarning: Cannot merge meta key 'COADDFN' types <class 'str'> and <class 'str'>, choosing COADDFN='/global/cfs/cdirs/desi/spectro/redux/fuji/tiles/cumulative/80610/20210208/coadd-2-80610-thru20210208.fits' [astropy.utils.metadata]\n"
     ]
    }
   ],
   "source": [
    "# reading each fits file in emfit output 2\n",
    "emtable=t.Table()\n",
    "for filename in emlist:\n",
    "    emread2=fits.open(filename)\n",
    "    dumtable=t.Table.read(emread2[1])\n",
    "    emtable=t.vstack([dumtable,emtable])"
   ]
  },
  {
   "cell_type": "code",
   "execution_count": 8,
   "id": "5cb03a05-3817-4855-a843-f492f86e56ed",
   "metadata": {},
   "outputs": [
    {
     "data": {
      "text/plain": [
       "5000"
      ]
     },
     "execution_count": 8,
     "metadata": {},
     "output_type": "execute_result"
    }
   ],
   "source": [
    "len(emtable)"
   ]
  },
  {
   "cell_type": "code",
   "execution_count": 9,
   "id": "331c7756-2690-4599-bdea-179f9a5cc175",
   "metadata": {},
   "outputs": [
    {
     "data": {
      "text/plain": [
       "(array([3897.,    0.,    0.,    0.,    0.,  911.,    0.,    0.,    0.,\n",
       "         192.]),\n",
       " array([0. , 0.2, 0.4, 0.6, 0.8, 1. , 1.2, 1.4, 1.6, 1.8, 2. ]),\n",
       " <BarContainer object of 10 artists>)"
      ]
     },
     "execution_count": 9,
     "metadata": {},
     "output_type": "execute_result"
    },
    {
     "data": {
      "image/png": "[encoded data removed]",
      "text/plain": [
       "<Figure size 432x288 with 1 Axes>"
      ]
     },
     "metadata": {
      "needs_background": "light"
     },
     "output_type": "display_data"
    }
   ],
   "source": [
    "spectype=emtable['SPECTYPE']\n",
    "zwarn=emtable['ZWARN'][spectype=='GALAXY']\n",
    "delchi2=emtable['DELTACHI2'][spectype=='GALAXY']\n",
    "flo2=emtable['OII_FLUX'][spectype=='GALAXY']\n",
    "sigo2=emtable['OII_SIGMA'][spectype=='GALAXY']\n",
    "flo3=emtable['OIII_FLUX'][spectype=='GALAXY']\n",
    "sigo3=emtable['OIII_SIGMA'][spectype=='GALAXY']\n",
    "ivaro2=emtable['OII_FLUX_IVAR'][spectype=='GALAXY']\n",
    "ivaro3=emtable['OIII_FLUX_IVAR'][spectype=='GALAXY']\n",
    "plt.hist(spectype)"
   ]
  },
  {
   "cell_type": "code",
   "execution_count": 10,
   "id": "3c1cb1bc-7f83-493c-abe0-970deeb9aeac",
   "metadata": {},
   "outputs": [
    {
     "data": {
      "text/plain": [
       "(array([  0.,   0.,   0.,   0.,   0.,   0.,   0.,   0.,   0.,   0.,   0.,\n",
       "          0.,   0.,   0.,   0.,   0.,   0.,   0.,   0.,   0.,   0.,   0.,\n",
       "          0.,   0.,   0.,   0.,   0.,   0.,   0.,   0.,   0.,   0.,   0.,\n",
       "          0.,   0.,   0.,   0.,   0.,   0.,   0.,   0.,   0.,   0.,   0.,\n",
       "          0.,   0.,   0.,   0.,   0.,   0.,   0.,   0.,   0.,   0.,   0.,\n",
       "          0.,   0.,   0.,   0.,   0.,   0.,   0.,   0.,   0.,   0.,   0.,\n",
       "          0.,   0.,   0.,   0.,   1.,   1.,   0.,   0.,   3.,   1.,  12.,\n",
       "        526., 434., 267., 153.,  95.,  60.,  45.,  40.,  25.,  16.,  15.,\n",
       "         15.,  10.,  11.,  10.,   6.,   6.,   7.,   7.,   3.,   3.,   4.,\n",
       "          2.,   2.,   2.,   2.,   3.,   2.,   2.,   1.,   0.,   1.,   0.,\n",
       "          3.,   0.,   0.,   0.,   1.,   0.,   0.,   0.,   2.,   0.,   1.,\n",
       "          1.,   0.,   0.,   0.,   0.,   1.,   0.,   0.,   0.,   1.,   0.,\n",
       "          0.,   0.,   0.,   0.,   0.,   1.,   0.,   0.,   0.,   1.,   0.,\n",
       "          1.,   0.,   0.,   1.,   1.,   0.,   0.,   0.,   2.,   0.,   0.]),\n",
       " array([-155, -153, -151, -149, -147, -145, -143, -141, -139, -137, -135,\n",
       "        -133, -131, -129, -127, -125, -123, -121, -119, -117, -115, -113,\n",
       "        -111, -109, -107, -105, -103, -101,  -99,  -97,  -95,  -93,  -91,\n",
       "         -89,  -87,  -85,  -83,  -81,  -79,  -77,  -75,  -73,  -71,  -69,\n",
       "         -67,  -65,  -63,  -61,  -59,  -57,  -55,  -53,  -51,  -49,  -47,\n",
       "         -45,  -43,  -41,  -39,  -37,  -35,  -33,  -31,  -29,  -27,  -25,\n",
       "         -23,  -21,  -19,  -17,  -15,  -13,  -11,   -9,   -7,   -5,   -3,\n",
       "          -1,    1,    3,    5,    7,    9,   11,   13,   15,   17,   19,\n",
       "          21,   23,   25,   27,   29,   31,   33,   35,   37,   39,   41,\n",
       "          43,   45,   47,   49,   51,   53,   55,   57,   59,   61,   63,\n",
       "          65,   67,   69,   71,   73,   75,   77,   79,   81,   83,   85,\n",
       "          87,   89,   91,   93,   95,   97,   99,  101,  103,  105,  107,\n",
       "         109,  111,  113,  115,  117,  119,  121,  123,  125,  127,  129,\n",
       "         131,  133,  135,  137,  139,  141,  143,  145,  147,  149,  151,\n",
       "         153]),\n",
       " <BarContainer object of 154 artists>)"
      ]
     },
     "execution_count": 10,
     "metadata": {},
     "output_type": "execute_result"
    },
    {
     "data": {
      "image/png": "[encoded data removed]",
      "text/plain": [
       "<Figure size 432x288 with 1 Axes>"
      ]
     },
     "metadata": {
      "needs_background": "light"
     },
     "output_type": "display_data"
    }
   ],
   "source": [
    "plt.hist(flo2/sigo2,bins=np.arange(-155,155,2),alpha=0.5)\n",
    "plt.hist(flo3/sigo3,bins=np.arange(-155,155,2),alpha=0.5)"
   ]
  },
  {
   "cell_type": "code",
   "execution_count": 11,
   "id": "edab92fb-b242-4d84-ab0a-b8e0beefdbe5",
   "metadata": {},
   "outputs": [
    {
     "data": {
      "text/plain": [
       "<matplotlib.legend.Legend at 0x1554bfcac130>"
      ]
     },
     "execution_count": 11,
     "metadata": {},
     "output_type": "execute_result"
    },
    {
     "data": {
      "image/png": "[encoded data removed]",
      "text/plain": [
       "<Figure size 432x288 with 1 Axes>"
      ]
     },
     "metadata": {
      "needs_background": "light"
     },
     "output_type": "display_data"
    }
   ],
   "source": [
    "plt.hist(flo2*ivaro2**0.5,bins=np.arange(-10,10,.2),alpha=0.5,label='OII')\n",
    "plt.hist(flo3*ivaro3**0.5,bins=np.arange(-10,10,.2),alpha=0.5,label='OIII')\n",
    "plt.xlim(-10,10)\n",
    "plt.legend()"
   ]
  },
  {
   "cell_type": "code",
   "execution_count": 12,
   "id": "6ddeb71e-9429-4acc-8630-2cd5df8b65cc",
   "metadata": {},
   "outputs": [
    {
     "name": "stdout",
     "output_type": "stream",
     "text": [
      "0.025749423520368946\n",
      "0.021137586471944657\n"
     ]
    },
    {
     "data": {
      "image/png": "[encoded data removed]",
      "text/plain": [
       "<Figure size 432x288 with 1 Axes>"
      ]
     },
     "metadata": {
      "needs_background": "light"
     },
     "output_type": "display_data"
    }
   ],
   "source": [
    "good=(zwarn==0)&(delchi2>40)\n",
    "plt.hist(flo2[good]*ivaro2[good]**0.5,bins=np.arange(-40,40,.2),alpha=0.5,label='OII')\n",
    "plt.hist(flo3[good]*ivaro3[good]**0.5,bins=np.arange(-40,40,.2),alpha=0.5,label='OIII')\n",
    "plt.xlim(-40,40)\n",
    "plt.legend()\n",
    "print(np.sum(flo2[good]*ivaro2[good]**0.5<3)/np.sum(good))\n",
    "print(np.sum(flo3[good]*ivaro3[good]**0.5<3)/np.sum(good))"
   ]
  },
  {
   "cell_type": "code",
   "execution_count": 13,
   "id": "5973eaf3-fa51-4765-a0b0-f5e0adc0568d",
   "metadata": {},
   "outputs": [
    {
     "data": {
      "text/html": [
       "&lt;MaskedColumn name=&apos;OII_FLUX_IVAR&apos; dtype=&apos;float32&apos; length=3897&gt;\n",
       "<table>\n",
       "<tr><td>2.1781898</td></tr>\n",
       "<tr><td>9.876283</td></tr>\n",
       "<tr><td>7.379619</td></tr>\n",
       "<tr><td>8.128761</td></tr>\n",
       "<tr><td>10.533537</td></tr>\n",
       "<tr><td>5.6001954</td></tr>\n",
       "<tr><td>9.061078</td></tr>\n",
       "<tr><td>0.19983253</td></tr>\n",
       "<tr><td>2.4820395</td></tr>\n",
       "<tr><td>0.05031181</td></tr>\n",
       "<tr><td>12.15505</td></tr>\n",
       "<tr><td>12.005175</td></tr>\n",
       "<tr><td>...</td></tr>\n",
       "<tr><td>5.492769</td></tr>\n",
       "<tr><td>4.9255195</td></tr>\n",
       "<tr><td>0.84469104</td></tr>\n",
       "<tr><td>5.362877</td></tr>\n",
       "<tr><td>17.690096</td></tr>\n",
       "<tr><td>10.395211</td></tr>\n",
       "<tr><td>--</td></tr>\n",
       "<tr><td>1.5749444</td></tr>\n",
       "<tr><td>8.990093</td></tr>\n",
       "<tr><td>6.662373</td></tr>\n",
       "<tr><td>3.7571466</td></tr>\n",
       "<tr><td>7.795846</td></tr>\n",
       "</table>"
      ],
      "text/plain": [
       "<MaskedColumn name='OII_FLUX_IVAR' dtype='float32' length=3897>\n",
       " 2.1781898\n",
       "  9.876283\n",
       "  7.379619\n",
       "  8.128761\n",
       " 10.533537\n",
       " 5.6001954\n",
       "  9.061078\n",
       "0.19983253\n",
       " 2.4820395\n",
       "0.05031181\n",
       "  12.15505\n",
       " 12.005175\n",
       "       ...\n",
       "  5.492769\n",
       " 4.9255195\n",
       "0.84469104\n",
       "  5.362877\n",
       " 17.690096\n",
       " 10.395211\n",
       "        --\n",
       " 1.5749444\n",
       "  8.990093\n",
       "  6.662373\n",
       " 3.7571466\n",
       "  7.795846"
      ]
     },
     "execution_count": 13,
     "metadata": {},
     "output_type": "execute_result"
    }
   ],
   "source": [
    "ivaro2"
   ]
  },
  {
   "cell_type": "code",
   "execution_count": 14,
   "id": "7a0100a6-a2b0-4e4b-9e7d-f2eb50153f9d",
   "metadata": {},
   "outputs": [
    {
     "name": "stdout",
     "output_type": "stream",
     "text": [
      "6\n",
      "2602\n"
     ]
    },
    {
     "data": {
      "image/png": "[encoded data removed]",
      "text/plain": [
       "<Figure size 432x288 with 1 Axes>"
      ]
     },
     "metadata": {
      "needs_background": "light"
     },
     "output_type": "display_data"
    }
   ],
   "source": [
    "plt.scatter(flo2[good],flo3[good])\n",
    "# plt.xlim(right=0)\n",
    "plt.ylim(-100,200)\n",
    "plt.xlabel('oii')\n",
    "plt.ylabel('oiii')\n",
    "plt.axvline(0)\n",
    "plt.axhline(-3)\n",
    "print(np.sum((flo2[good]*ivaro2[good]**0.5>-3) & (flo3[good]*ivaro3[good]**0.5<-3)))\n",
    "print(np.sum(good))\n"
   ]
  },
  {
   "cell_type": "code",
   "execution_count": 15,
   "id": "c8667714-2466-4acf-ae94-b0eca637adf5",
   "metadata": {},
   "outputs": [
    {
     "data": {
      "text/plain": [
       "Text(0, 0.5, 'oiii')"
      ]
     },
     "execution_count": 15,
     "metadata": {},
     "output_type": "execute_result"
    },
    {
     "data": {
      "image/png": "[encoded data removed]",
      "text/plain": [
       "<Figure size 432x288 with 1 Axes>"
      ]
     },
     "metadata": {
      "needs_background": "light"
     },
     "output_type": "display_data"
    }
   ],
   "source": [
    "plt.scatter(flo2[good]*ivaro2[good]**0.5,flo3[good]*ivaro3[good]**0.5)\n",
    "plt.xlim(right=0)\n",
    "plt.xlabel('oii')\n",
    "plt.ylabel('oiii')"
   ]
  },
  {
   "cell_type": "code",
   "execution_count": 111,
   "id": "bfb22852-a7a3-41b8-ab2e-9b1cbfa2dfd8",
   "metadata": {},
   "outputs": [],
   "source": [
    "def read_tile_catalog(tile_string):\n",
    "    # Read galaxy catalog of a tile including line fit information of all objects\n",
    "    # input: string with the ID of the tile, e.g. \"80605\"\n",
    "    # returns: structured array with catalog of all objects in that tile\n",
    "    \n",
    "    emlist = glob.glob('/global/cfs/cdirs/desi/spectro/redux/fuji/tiles/cumulative/'+tile_string+'/*/emline*.fits')\n",
    "    emtable = t.Table()\n",
    "    for filename in emlist:\n",
    "        #emread2=fits.open(filename)\n",
    "        dumtable=t.Table.read(filename)\n",
    "        dumtable['RRFN']=dumtable.meta['RRFN']\n",
    "        dumtable['FN']=filename\n",
    "        dumtable['COADDFN']=dumtable.meta['COADDFN']\n",
    "        emtable=t.vstack([dumtable,emtable])\n",
    "    return emtable\n",
    "\n",
    "def filter_galaxies(catalog):\n",
    "    # Filter catalog to only include galaxy targets, return the filtered catalog\n",
    "    return catalog[catalog['SPECTYPE']=='GALAXY']\n",
    "\n",
    "def filter_good_fits(catalog, deltachi2=40):\n",
    "    # Filter catalog to only include targets with no ZWARN flag and good deltachi2\n",
    "    \n",
    "    good = (catalog['ZWARN'] == 0) & (catalog['DELTACHI2']>deltachi2)\n",
    "    return catalog[good]\n",
    "\n",
    "def calculate_oii_oiii_matrix(catalog, oIIlimit=-3, oIIIlimit=-3):\n",
    "    \n",
    "    # return normalized matrix of whether OII and OIII fluxes are or are not compatible with physical fit\n",
    "    \n",
    "    matrix = np.zeros(4)\n",
    "    # ordered as 'OII good, OIII good', 'good, bad', 'bad, good', 'bad, bad' where bad means the significance of the respective flux is smaller than the limit passed to the function\n",
    "    \n",
    "    select = (catalog['OII_FLUX']*catalog['OII_FLUX_IVAR']**0.5 > oIIlimit) & (catalog['OIII_FLUX']*catalog['OIII_FLUX_IVAR']**0.5 > oIIIlimit)\n",
    "    matrix[0] = np.sum(select)\n",
    "    \n",
    "    select = (catalog['OII_FLUX']*catalog['OII_FLUX_IVAR']**0.5 > oIIlimit) & (catalog['OIII_FLUX']*catalog['OIII_FLUX_IVAR']**0.5 <= oIIIlimit)\n",
    "    matrix[1] = np.sum(select)\n",
    "    \n",
    "    select = (catalog['OII_FLUX']*catalog['OII_FLUX_IVAR']**0.5 <= oIIlimit) & (catalog['OIII_FLUX']*catalog['OIII_FLUX_IVAR']**0.5 > oIIIlimit)\n",
    "    matrix[2] = np.sum(select)\n",
    "    \n",
    "    select = (catalog['OII_FLUX']*catalog['OII_FLUX_IVAR']**0.5 <= oIIlimit) & (catalog['OIII_FLUX']*catalog['OIII_FLUX_IVAR']**0.5 <= oIIIlimit)\n",
    "    matrix[3] = np.sum(select)\n",
    "    \n",
    "    return matrix/np.sum(matrix)\n",
    "\n",
    "\n",
    "def plot_matrices(matrices):\n",
    "    \n",
    "    matrices = np.array(matrices)\n",
    "    \n",
    "    # plt.hist(matrices[:,0], label=\"good OII & OIII\",color='blue') hidden because we expect it to be -> 1\n",
    "    plt.hist(matrices[:,1], label=\"good OII, bad OIII\",bins=(np.linspace(0,0.1,100)),alpha=0.5)\n",
    "    plt.hist(matrices[:,2], label=\"bad OII, good OIII\",bins=(np.linspace(0,0.1,100)),alpha=0.5)\n",
    "    plt.hist(matrices[:,3], label=\"bad OII & OIII\",bins=(np.linspace(0,0.1,100)),alpha=0.5)\n",
    "    plt.legend()\n",
    "    plt.xlabel('fraction of galaxies')\n",
    "\n",
    "#def plot_matrices(catalog):\n",
    "#    \n",
    "#    matrices = np.array(matrices)\n",
    "#    plt.scatter()\n"
   ]
  },
  {
   "cell_type": "code",
   "execution_count": 108,
   "id": "82d681ce-e9ee-4fd9-a0a7-009ab8ea7ac8",
   "metadata": {},
   "outputs": [],
   "source": [
    "#tiles=[\"80653\",\"80654\",\"80655\",\"80656\",\"80657\",\"80658\",\"80659\",\"80660\",\"80661\",\"80662\",\"80663\",\"80664\",\"80665\",\"80666\",\"80669\",\"80670\",\"80673\",\"80674\",\"80675\",\"80676\",\"80677\",\"80678\",\"80679\",\"80680\",\"80681\",\"80682\",\"80683\",\"80684\",\"80685\",\"80686\",\"80687\",\"80688\",\"80689\",\"80690\",\"80691\",\"80692\",\"80693\",\"80694\",\"80695\",\"80696\",\"80697\",\"80698\",\"80699\",\"80700\",\"80701\",\"80702\",\"80703\",\"80705\",\"80706\",\"80707\",\"80708\",\"80709\",\"80710\",\"80711\",\"80712\",\"80715\",\"80718\",\"80719\",\"80720\",\"80721\",\"80722\",\"80724\",\"80726\",\"80728\",\"80729\",\"80730\",\"80731\",\"80732\",\"80733\",\"80734\",\"80735\",\"80736\",\"80737\",\"80738\",\"80740\",\"80741\",\"80742\",\"80782\",\"80783\",\"80784\",\"80785\",\"80786\",\"80787\",\"80788\",\"80789\",\"80790\",\"80856\",\"80857\",\"80858\",\"80859\",\"80860\",\"80861\",\"80862\",\"80863\",\"80865\",\"80866\",\"80867\",\"80869\",\"80870\",\"80871\",\"80872\",\"80873\",\"80875\",\"80876\",\"80879\",\"80882\",\"80885\",\"80886\",\"80887\",\"80888\",\"80889\",\"80890\",\"80891\",\"80892\",\"80893\",\"80894\",\"80895\",\"80896\",\"80897\",\"80898\",\"80899\",\"80900\",\"80901\",\"80902\",\"80938\",\"80944\",\"80949\",\"80950\",\"80951\",\"80952\",\"80954\",\"80955\",\"80956\",\"80958\",\"80959\",\"80960\",\"80962\",\"80963\",\"80966\",\"80968\",\"80970\",\"80971\",\"80972\",\"80974\",\"80975\",\"81000\",\"81001\",\"81002\",\"81003\",\"81004\",\"81005\",\"81006\",\"81007\",\"81008\",\"81009\",\"81010\",\"81011\",\"81012\",\"81013\",\"81014\",\"81015\",\"81022\",\"81056\",\"81057\",\"81058\",\"81059\",\"81060\",\"81061\",\"81062\",\"81063\",\"81064\",\"81065\",\"81066\",\"81067\",\"81068\",\"81069\",\"81072\",\"81073\",\"81074\",\"81075\",\"81088\",\"81097\",\"81098\",\"81099\",\"81100\",\"81101\",\"81102\",\"81103\",\"81104\",\"81105\",\"81106\",\"81107\",\"81108\",\"81109\",\"81110\",\"81111\",\"81112\",\"81113\",\"81114\",\"81115\"]\n",
    "tiles=['81115'] # if you want to test a particular file"
   ]
  },
  {
   "cell_type": "code",
   "execution_count": 112,
   "id": "40ee4fd9-afa8-4933-b106-d2e3581615b8",
   "metadata": {
    "scrolled": true,
    "tags": []
   },
   "outputs": [
    {
     "name": "stdout",
     "output_type": "stream",
     "text": [
      "81115\n"
     ]
    },
    {
     "name": "stderr",
     "output_type": "stream",
     "text": [
      "WARNING: MergeConflictWarning: Cannot merge meta key 'RRFN' types <class 'str'> and <class 'str'>, choosing RRFN='/global/cfs/cdirs/desi/spectro/redux/fuji/tiles/cumulative/81115/20210513/redrock-6-81115-thru20210513.fits' [astropy.utils.metadata]\n",
      "WARNING: MergeConflictWarning: Cannot merge meta key 'COADDFN' types <class 'str'> and <class 'str'>, choosing COADDFN='/global/cfs/cdirs/desi/spectro/redux/fuji/tiles/cumulative/81115/20210513/coadd-6-81115-thru20210513.fits' [astropy.utils.metadata]\n",
      "WARNING: MergeConflictWarning: Cannot merge meta key 'RRFN' types <class 'str'> and <class 'str'>, choosing RRFN='/global/cfs/cdirs/desi/spectro/redux/fuji/tiles/cumulative/81115/20210513/redrock-6-81115-thru20210513.fits' [astropy.utils.metadata]\n",
      "WARNING: MergeConflictWarning: Cannot merge meta key 'COADDFN' types <class 'str'> and <class 'str'>, choosing COADDFN='/global/cfs/cdirs/desi/spectro/redux/fuji/tiles/cumulative/81115/20210513/coadd-6-81115-thru20210513.fits' [astropy.utils.metadata]\n",
      "WARNING: MergeConflictWarning: Cannot merge meta key 'RRFN' types <class 'str'> and <class 'str'>, choosing RRFN='/global/cfs/cdirs/desi/spectro/redux/fuji/tiles/cumulative/81115/20210513/redrock-6-81115-thru20210513.fits' [astropy.utils.metadata]\n",
      "WARNING: MergeConflictWarning: Cannot merge meta key 'COADDFN' types <class 'str'> and <class 'str'>, choosing COADDFN='/global/cfs/cdirs/desi/spectro/redux/fuji/tiles/cumulative/81115/20210513/coadd-6-81115-thru20210513.fits' [astropy.utils.metadata]\n",
      "WARNING: MergeConflictWarning: Cannot merge meta key 'RRFN' types <class 'str'> and <class 'str'>, choosing RRFN='/global/cfs/cdirs/desi/spectro/redux/fuji/tiles/cumulative/81115/20210513/redrock-6-81115-thru20210513.fits' [astropy.utils.metadata]\n",
      "WARNING: MergeConflictWarning: Cannot merge meta key 'COADDFN' types <class 'str'> and <class 'str'>, choosing COADDFN='/global/cfs/cdirs/desi/spectro/redux/fuji/tiles/cumulative/81115/20210513/coadd-6-81115-thru20210513.fits' [astropy.utils.metadata]\n",
      "WARNING: MergeConflictWarning: Cannot merge meta key 'RRFN' types <class 'str'> and <class 'str'>, choosing RRFN='/global/cfs/cdirs/desi/spectro/redux/fuji/tiles/cumulative/81115/20210513/redrock-6-81115-thru20210513.fits' [astropy.utils.metadata]\n",
      "WARNING: MergeConflictWarning: Cannot merge meta key 'COADDFN' types <class 'str'> and <class 'str'>, choosing COADDFN='/global/cfs/cdirs/desi/spectro/redux/fuji/tiles/cumulative/81115/20210513/coadd-6-81115-thru20210513.fits' [astropy.utils.metadata]\n",
      "WARNING: MergeConflictWarning: Cannot merge meta key 'RRFN' types <class 'str'> and <class 'str'>, choosing RRFN='/global/cfs/cdirs/desi/spectro/redux/fuji/tiles/cumulative/81115/20210513/redrock-6-81115-thru20210513.fits' [astropy.utils.metadata]\n",
      "WARNING: MergeConflictWarning: Cannot merge meta key 'COADDFN' types <class 'str'> and <class 'str'>, choosing COADDFN='/global/cfs/cdirs/desi/spectro/redux/fuji/tiles/cumulative/81115/20210513/coadd-6-81115-thru20210513.fits' [astropy.utils.metadata]\n",
      "WARNING: MergeConflictWarning: Cannot merge meta key 'RRFN' types <class 'str'> and <class 'str'>, choosing RRFN='/global/cfs/cdirs/desi/spectro/redux/fuji/tiles/cumulative/81115/20210513/redrock-6-81115-thru20210513.fits' [astropy.utils.metadata]\n",
      "WARNING: MergeConflictWarning: Cannot merge meta key 'COADDFN' types <class 'str'> and <class 'str'>, choosing COADDFN='/global/cfs/cdirs/desi/spectro/redux/fuji/tiles/cumulative/81115/20210513/coadd-6-81115-thru20210513.fits' [astropy.utils.metadata]\n",
      "WARNING: MergeConflictWarning: Cannot merge meta key 'RRFN' types <class 'str'> and <class 'str'>, choosing RRFN='/global/cfs/cdirs/desi/spectro/redux/fuji/tiles/cumulative/81115/20210513/redrock-6-81115-thru20210513.fits' [astropy.utils.metadata]\n",
      "WARNING: MergeConflictWarning: Cannot merge meta key 'COADDFN' types <class 'str'> and <class 'str'>, choosing COADDFN='/global/cfs/cdirs/desi/spectro/redux/fuji/tiles/cumulative/81115/20210513/coadd-6-81115-thru20210513.fits' [astropy.utils.metadata]\n",
      "WARNING: MergeConflictWarning: Cannot merge meta key 'RRFN' types <class 'str'> and <class 'str'>, choosing RRFN='/global/cfs/cdirs/desi/spectro/redux/fuji/tiles/cumulative/81115/20210513/redrock-6-81115-thru20210513.fits' [astropy.utils.metadata]\n",
      "WARNING: MergeConflictWarning: Cannot merge meta key 'COADDFN' types <class 'str'> and <class 'str'>, choosing COADDFN='/global/cfs/cdirs/desi/spectro/redux/fuji/tiles/cumulative/81115/20210513/coadd-6-81115-thru20210513.fits' [astropy.utils.metadata]\n"
     ]
    },
    {
     "data": {
      "image/png": "[encoded data removed]",
      "text/plain": [
       "<Figure size 432x288 with 1 Axes>"
      ]
     },
     "metadata": {
      "needs_background": "light"
     },
     "output_type": "display_data"
    },
    {
     "data": {
      "image/png": "[encoded data removed]",
      "text/plain": [
       "<Figure size 432x288 with 1 Axes>"
      ]
     },
     "metadata": {
      "needs_background": "light"
     },
     "output_type": "display_data"
    }
   ],
   "source": [
    "\n",
    "matrices = []\n",
    "matrices_good=[]\n",
    "for tile in tiles:\n",
    "    print(tile)\n",
    "    catalog = read_tile_catalog(tile)\n",
    "    filenames_all.append(filenames)\n",
    "#    catalog = filter_galaxies(catalog)\n",
    "    matrices.append(calculate_oii_oiii_matrix(catalog))\n",
    "    #plot_oiioiiicorrelation(catalog)\n",
    "#    catalog = filter_good_fits(catalog)\n",
    "    matrices_good.append(calculate_oii_oiii_matrix(catalog))\n",
    "    \n",
    "plot_matrices(matrices)\n",
    "plt.figure()\n",
    "plot_matrices(matrices_good)"
   ]
  },
  {
   "cell_type": "code",
   "execution_count": null,
   "id": "5c963bb6-3a58-453d-bd04-aa17a53603fe",
   "metadata": {},
   "outputs": [
    {
     "data": {
      "text/plain": [
       "<matplotlib.legend.Legend at 0x1554bd142d60>"
      ]
     },
     "execution_count": 101,
     "metadata": {},
     "output_type": "execute_result"
    },
    {
     "data": {
      "image/png": "[encoded data removed]",
      "text/plain": [
       "<Figure size 432x288 with 1 Axes>"
      ]
     },
     "metadata": {
      "needs_background": "light"
     },
     "output_type": "display_data"
    }
   ],
   "source": [
    "matricesdum = np.array(matrices)\n",
    "plt.hist(matricesdum[:,1], label=\"good OII, bad OIII\",bins=(np.linspace(0,0.1,50)),alpha=0.5)\n",
    "plt.hist(matricesdum[:,2], label=\"bad OII, good OIII\",bins=(np.linspace(0,0.1,50)),alpha=0.5)\n",
    "plt.legend()"
   ]
  },
  {
   "cell_type": "code",
   "execution_count": 20,
   "id": "a03f5a0d-99ed-4ca9-a1b4-4f1d73d1c6f0",
   "metadata": {},
   "outputs": [
    {
     "data": {
      "text/plain": [
       "<matplotlib.legend.Legend at 0x1554bed92cd0>"
      ]
     },
     "execution_count": 20,
     "metadata": {},
     "output_type": "execute_result"
    },
    {
     "data": {
      "image/png": "[encoded data removed]",
      "text/plain": [
       "<Figure size 432x288 with 1 Axes>"
      ]
     },
     "metadata": {
      "needs_background": "light"
     },
     "output_type": "display_data"
    }
   ],
   "source": [
    "matricesgooddum = np.array(matrices_good)\n",
    "plt.hist(matricesgooddum[:,1], label=\"good OII, bad OIII\",bins=(np.linspace(0,0.1,50)),alpha=0.5)\n",
    "plt.hist(matricesgooddum[:,2], label=\"bad OII, good OIII\",bins=(np.linspace(0,0.1,50)),alpha=0.5)\n",
    "plt.legend()"
   ]
  },
  {
   "cell_type": "code",
   "execution_count": 21,
   "id": "0b2b5b77-16fa-44b3-b338-a7aac984d7f9",
   "metadata": {},
   "outputs": [
    {
     "data": {
      "text/plain": [
       "<matplotlib.colorbar.Colorbar at 0x1554bebf2af0>"
      ]
     },
     "execution_count": 21,
     "metadata": {},
     "output_type": "execute_result"
    },
    {
     "data": {
      "image/png": "[encoded data removed]",
      "text/plain": [
       "<Figure size 432x288 with 2 Axes>"
      ]
     },
     "metadata": {
      "needs_background": "light"
     },
     "output_type": "display_data"
    }
   ],
   "source": [
    "plt.imshow([[matricesdum[:,1],matricesdum[:,2]],[matricesgooddum[:,1],matricesgooddum[:,2]]])\n",
    "plt.colorbar()"
   ]
  },
  {
   "cell_type": "code",
   "execution_count": 32,
   "id": "96ca0551-c619-4230-a72c-3d0480def1c7",
   "metadata": {},
   "outputs": [],
   "source": [
    "# An arbitrary collection of objects supported by pickle.\n",
    "data = {'matrix from all the tiles Dr. Daniel': matrices,\n",
    "    'Good Matrix from all the tiles Dr. Daniel provided': matrices_good}\n",
    "with open('data.pickle', 'wb') as f:\n",
    "    # Pickle the 'data' dictionary using the highest protocol available.\n",
    "    pickle.dump(data, f, pickle.HIGHEST_PROTOCOL)\n"
   ]
  },
  {
   "cell_type": "code",
   "execution_count": 33,
   "id": "8dfc53f2-c736-4339-bb7e-2dfbbd6a52ce",
   "metadata": {},
   "outputs": [],
   "source": [
    "with open('data.pickle', 'rb') as f:\n",
    "    # The protocol version used is detected automatically, so we do not\n",
    "    # have to specify it.\n",
    "    data = pickle.load(f)"
   ]
  },
  {
   "cell_type": "code",
   "execution_count": 34,
   "id": "a169919c-dddd-4629-963d-c3178ff83746",
   "metadata": {},
   "outputs": [
    {
     "ename": "TypeError",
     "evalue": "'NoneType' object is not subscriptable",
     "output_type": "error",
     "traceback": [
      "\u001b[0;31m---------------------------------------------------------------------------\u001b[0m",
      "\u001b[0;31mTypeError\u001b[0m                                 Traceback (most recent call last)",
      "Input \u001b[0;32mIn [34]\u001b[0m, in \u001b[0;36m<module>\u001b[0;34m\u001b[0m\n\u001b[1;32m     30\u001b[0m     all_galaxies \u001b[38;5;241m=\u001b[39m select_all_galaxies(redrock_cat)\n\u001b[1;32m     31\u001b[0m     good_galaxies \u001b[38;5;241m=\u001b[39m select_good_galaxies(redrock_cat)\n\u001b[0;32m---> 33\u001b[0m     pulls_oIII\u001b[38;5;241m.\u001b[39mappend(\u001b[43memlinefit_cat\u001b[49m\u001b[43m[\u001b[49m\u001b[43mall_galaxies\u001b[49m\u001b[43m]\u001b[49m[\u001b[38;5;124m'\u001b[39m\u001b[38;5;124mOIII_FLUX\u001b[39m\u001b[38;5;124m'\u001b[39m]\u001b[38;5;241m/\u001b[39memlinefit_cat[all_galaxies][\u001b[38;5;124m'\u001b[39m\u001b[38;5;124mOIII_SIGMA\u001b[39m\u001b[38;5;124m'\u001b[39m])\n\u001b[1;32m     34\u001b[0m     \u001b[38;5;66;03m# and four more like this for the other pulls\u001b[39;00m\n\u001b[1;32m     35\u001b[0m     \u001b[38;5;66;03m# may or may not have to subtract the continuum (also in the catalog) from the flux - best may be to look at emlinefit code\u001b[39;00m\n\u001b[1;32m     37\u001b[0m plt\u001b[38;5;241m.\u001b[39mhist(pulls_oIII)\n",
      "\u001b[0;31mTypeError\u001b[0m: 'NoneType' object is not subscriptable"
     ]
    }
   ],
   "source": [
    "# determine pull distribution of OIII and OII lines in the data\n",
    "\n",
    "tiles = [80618]\n",
    "nights = [20210328]\n",
    "\n",
    "def read_redrock_cat(tile,night):\n",
    "    # read redrock catalog of given tile, night\n",
    "    return None\n",
    "\n",
    "def read_emlinefit_cat(tile,night):\n",
    "    return None\n",
    "\n",
    "def select_all_galaxies(redrock_cat):\n",
    "    # return indices of all galaxy fibers (see Raffaella's notebook)\n",
    "    return []\n",
    "\n",
    "def select_good_galaxies(redrock_cat):\n",
    "    # return indices of all high fidelity redshift galaxy fibers (see Raffaella's notebook)\n",
    "    return []\n",
    "\n",
    "pulls_oIII = []\n",
    "pulls_oIII_good = []\n",
    "pulls_oII  = []\n",
    "pulls_oII_good = []\n",
    "\n",
    "for tile,night in zip(tiles,nights):\n",
    "    redrock_cat = read_redrock_cat(tile,night)\n",
    "    emlinefit_cat = read_emlinefit_cat(tile,night)\n",
    "    \n",
    "    all_galaxies = select_all_galaxies(redrock_cat)\n",
    "    good_galaxies = select_good_galaxies(redrock_cat)\n",
    "    \n",
    "    pulls_oIII.append(emlinefit_cat[all_galaxies]['OIII_FLUX']/emlinefit_cat[all_galaxies]['OIII_SIGMA'])\n",
    "    # and four more like this for the other pulls\n",
    "    # may or may not have to subtract the continuum (also in the catalog) from the flux - best may be to look at emlinefit code\n",
    "    \n",
    "plt.hist(pulls_oIII)\n",
    "# add a Gaussian here to the histogram, normalized by twice the number of negative pulls\n",
    "\n",
    "# and three more\n",
    "    \n",
    "plt.scatter(pulls_oIII,pulls_oII)\n",
    "# maybe fit an ellipse == determine the covariance of these two quantities, maybe just from the negative side (ignoring cases where both are positive?)\n",
    "# the fact that the oII penalty is already in effect limits the usefulness of this test\n",
    "# (but maybe the oII penalty is not implemented right)\n",
    "\n",
    "# if this test shows a significant population of negative OIII outliers that are not also OII outliers,\n",
    "# that is clear indication we can gain by dealing with that in the fit\n",
    "\n",
    "# if this test does not show that, the next test may be to do the same on the model (which could show that the model is unphysical, even without coincidence of absorption lines in the data and oIII wavelength in the fit)\n",
    "\n"
   ]
  },
  {
   "cell_type": "code",
   "execution_count": null,
   "id": "2de28c15-3794-4126-bdb7-323b92902a56",
   "metadata": {},
   "outputs": [],
   "source": []
  },
  {
   "cell_type": "code",
   "execution_count": null,
   "id": "130d66ec-3ec1-4256-a715-8f0352e297d5",
   "metadata": {},
   "outputs": [],
   "source": []
  },
  {
   "cell_type": "code",
   "execution_count": 113,
   "id": "60d3a943-d5ff-47c3-ad3f-40a9426751e8",
   "metadata": {},
   "outputs": [
    {
     "name": "stdout",
     "output_type": "stream",
     "text": [
      "                                                    FN                                                    \n",
      "----------------------------------------------------------------------------------------------------------\n",
      "/global/cfs/cdirs/desi/spectro/redux/fuji/tiles/cumulative/81115/20210513/emline-8-81115-thru20210513.fits\n",
      "/global/cfs/cdirs/desi/spectro/redux/fuji/tiles/cumulative/81115/20210513/emline-2-81115-thru20210513.fits\n",
      "/global/cfs/cdirs/desi/spectro/redux/fuji/tiles/cumulative/81115/20210513/emline-2-81115-thru20210513.fits\n",
      "/global/cfs/cdirs/desi/spectro/redux/fuji/tiles/cumulative/81115/20210513/emline-3-81115-thru20210513.fits\n",
      "/global/cfs/cdirs/desi/spectro/redux/fuji/tiles/cumulative/81115/20210513/emline-3-81115-thru20210513.fits\n",
      "/global/cfs/cdirs/desi/spectro/redux/fuji/tiles/cumulative/81115/20210513/emline-3-81115-thru20210513.fits\n",
      "/global/cfs/cdirs/desi/spectro/redux/fuji/tiles/cumulative/81115/20210513/emline-3-81115-thru20210513.fits\n",
      "/global/cfs/cdirs/desi/spectro/redux/fuji/tiles/cumulative/81115/20210513/emline-3-81115-thru20210513.fits\n",
      "/global/cfs/cdirs/desi/spectro/redux/fuji/tiles/cumulative/81115/20210513/emline-3-81115-thru20210513.fits\n",
      "/global/cfs/cdirs/desi/spectro/redux/fuji/tiles/cumulative/81115/20210513/emline-3-81115-thru20210513.fits\n",
      "/global/cfs/cdirs/desi/spectro/redux/fuji/tiles/cumulative/81115/20210513/emline-3-81115-thru20210513.fits\n",
      "/global/cfs/cdirs/desi/spectro/redux/fuji/tiles/cumulative/81115/20210513/emline-9-81115-thru20210513.fits\n",
      "12\n",
      "     TARGETID    \n",
      "-----------------\n",
      "39633438759718709\n",
      "       -407199501\n",
      "39633441318243200\n",
      "39633443889350550\n",
      "       -407200677\n",
      "       -407200717\n",
      "39633443889352836\n",
      "39633448972846134\n",
      "39633446443680962\n",
      "       -407200512\n",
      "       -407200415\n",
      "39633433483281984\n",
      "SPECTYPE\n",
      "--------\n",
      "  GALAXY\n",
      "  GALAXY\n",
      "  GALAXY\n",
      "  GALAXY\n",
      "  GALAXY\n",
      "  GALAXY\n",
      "  GALAXY\n",
      "  GALAXY\n",
      "  GALAXY\n",
      "  GALAXY\n",
      "  GALAXY\n",
      "  GALAXY\n",
      "OBJTYPE\n",
      "-------\n",
      "    TGT\n",
      "    SKY\n",
      "    TGT\n",
      "    TGT\n",
      "    SKY\n",
      "    SKY\n",
      "    TGT\n",
      "    TGT\n",
      "    TGT\n",
      "    SKY\n",
      "    SKY\n",
      "    TGT\n",
      " OII_FLUX \n",
      "----------\n",
      "-2.6756449\n",
      "-1.4490168\n",
      "-0.7310289\n",
      "  1.173354\n",
      "0.45421022\n",
      "0.34073773\n",
      "0.63711524\n",
      " 2.0484338\n",
      "-2.2297187\n",
      "  1.437411\n",
      " 1.3711351\n",
      " -2.833836\n"
     ]
    }
   ],
   "source": [
    "catalog=t.Table(catalog,masked=True)\n",
    "problematic = (catalog['Z']>0.102)&(catalog['Z']<0.107)&(catalog['OIII_FLUX']*catalog['OIII_FLUX_IVAR']**0.5<-2)\n",
    "filenames=catalog['FN']\n",
    "print(filenames[problematic])\n",
    "print(len(filenames[problematic]))\n",
    "print(catalog[problematic]['TARGETID'])\n",
    "print(catalog[problematic]['SPECTYPE'])\n",
    "print(catalog[problematic]['OBJTYPE'])\n",
    "print(catalog[problematic]['OII_FLUX']*catalog[problematic]['OII_FLUX_IVAR']**0.5)"
   ]
  },
  {
   "cell_type": "code",
   "execution_count": 229,
   "id": "1237b5d2-88d8-4473-a1b6-2948b9d3f77c",
   "metadata": {},
   "outputs": [
    {
     "name": "stdout",
     "output_type": "stream",
     "text": [
      "[128] -407199501\n",
      "[476] 39633441318243200\n",
      "[100] 39633443889350550\n",
      "[105] -407200677\n",
      "[121] -407200717\n",
      "[146] 39633443889352836\n",
      "[157] 39633448972846134\n",
      "[174] 39633446443680962\n",
      "[183] -407200512\n",
      "[326] -407200415\n",
      "[403] 39633438759718709\n",
      "[492] 39633433483281984\n"
     ]
    }
   ],
   "source": [
    "outdict={}\n",
    "\n",
    "for fn in np.unique(catalog[problematic]['COADDFN']):\n",
    "    entries=catalog[problematic][catalog[problematic]['COADDFN']==fn]\n",
    "    fobj=fitsio.FITS(fn)\n",
    "    fm=fobj['FIBERMAP']\n",
    "    tids=fm['TARGETID'][:]\n",
    "    for entry in entries:\n",
    "        if entry['TARGETID'] in tids:\n",
    "            index=(fm['TARGETID'][:]==entry['TARGETID']).nonzero()[0]\n",
    "            print(index, entry['TARGETID'])\n",
    "            outdict[entry['TARGETID']]={'wave':[],'flux':[],'ivar':[],'mask':[]}            \n",
    "            for color in 'BRZ':\n",
    "                outdict[entry['TARGETID']]['wave'].append(fobj[f'{color}_WAVELENGTH'][:])\n",
    "                outdict[entry['TARGETID']]['flux'].append(fobj[f'{color}_FLUX'][index:index+1,:][0])\n",
    "                outdict[entry['TARGETID']]['ivar'].append(fobj[f'{color}_IVAR'][index:index+1,:][0])\n",
    "                outdict[entry['TARGETID']]['mask'].append(fobj[f'{color}_MASK'][index:index+1,:][0])\n"
   ]
  },
  {
   "cell_type": "code",
   "execution_count": 1,
   "id": "cd8917be-2e1f-41ce-bfd6-bc4b9ff58d65",
   "metadata": {},
   "outputs": [
    {
     "ename": "NameError",
     "evalue": "name 'plt' is not defined",
     "output_type": "error",
     "traceback": [
      "\u001b[0;31m---------------------------------------------------------------------------\u001b[0m",
      "\u001b[0;31mNameError\u001b[0m                                 Traceback (most recent call last)",
      "Input \u001b[0;32mIn [1]\u001b[0m, in \u001b[0;36m<module>\u001b[0;34m\u001b[0m\n\u001b[0;32m----> 1\u001b[0m fig,ax_all\u001b[38;5;241m=\u001b[39m\u001b[43mplt\u001b[49m\u001b[38;5;241m.\u001b[39msubplots(\u001b[38;5;28mlen\u001b[39m(outdict),sharex\u001b[38;5;241m=\u001b[39m\u001b[38;5;28;01mTrue\u001b[39;00m,figsize\u001b[38;5;241m=\u001b[39m(\u001b[38;5;241m20\u001b[39m,\u001b[38;5;241m5\u001b[39m\u001b[38;5;241m*\u001b[39m\u001b[38;5;28mlen\u001b[39m(outdict)))\n\u001b[1;32m      2\u001b[0m \u001b[38;5;28;01mfor\u001b[39;00m ax,(tid, tdict) \u001b[38;5;129;01min\u001b[39;00m \u001b[38;5;28mzip\u001b[39m(ax_all,outdict\u001b[38;5;241m.\u001b[39mitems()):\n\u001b[1;32m      3\u001b[0m     \u001b[38;5;28;01mfor\u001b[39;00m j,(w,f,i,m) \u001b[38;5;129;01min\u001b[39;00m \u001b[38;5;28menumerate\u001b[39m(\u001b[38;5;28mzip\u001b[39m(tdict[\u001b[38;5;124m'\u001b[39m\u001b[38;5;124mwave\u001b[39m\u001b[38;5;124m'\u001b[39m],tdict[\u001b[38;5;124m'\u001b[39m\u001b[38;5;124mflux\u001b[39m\u001b[38;5;124m'\u001b[39m],tdict[\u001b[38;5;124m'\u001b[39m\u001b[38;5;124mivar\u001b[39m\u001b[38;5;124m'\u001b[39m],tdict[\u001b[38;5;124m'\u001b[39m\u001b[38;5;124mmask\u001b[39m\u001b[38;5;124m'\u001b[39m])):\n",
      "\u001b[0;31mNameError\u001b[0m: name 'plt' is not defined"
     ]
    }
   ],
   "source": [
    "fig,ax_all=plt.subplots(len(outdict),sharex=True,figsize=(20,5*len(outdict)))\n",
    "for ax,(tid, tdict) in zip(ax_all,outdict.items()):\n",
    "    for j,(w,f,i,m) in enumerate(zip(tdict['wave'],tdict['flux'],tdict['ivar'],tdict['mask'])):\n",
    "        ax.plot(w[m==0],f[m==0],color='k',label='flux' if j==0 else '')\n",
    "        ax.plot(w[m==0],i[m==0]**(-0.5),color='r',label='sigma_flux' if j==0 else '')\n",
    "        ax.plot(w,m,color='g',label='mask' if j==0 else '')\n",
    "        ax.set_title(tid)\n",
    "        ax.set_ylim(-10,100)\n",
    "        ax.set_xlim(5000*1.105-200,5000*1.105+200)\n",
    "        ax.legend()\n",
    "        \n",
    "        \n",
    "#1.105 is the 1+z for those objects, please read those from the respective RRFN\n",
    "#5000 is the ~ wavelength of the OIII doublet, needs to be adapted for OII"
   ]
  },
  {
   "cell_type": "code",
   "execution_count": null,
   "id": "1ab30263-0a1a-4579-9edf-6fca76c071b9",
   "metadata": {},
   "outputs": [],
   "source": []
  }
 ],
 "metadata": {
  "kernelspec": {
   "display_name": "NERSC Python",
   "language": "python",
   "name": "python3"
  },
  "language_info": {
   "codemirror_mode": {
    "name": "ipython",
    "version": 3
   },
   "file_extension": ".py",
   "mimetype": "text/x-python",
   "name": "python",
   "nbconvert_exporter": "python",
   "pygments_lexer": "ipython3",
   "version": "3.9.7"
  }
 },
 "nbformat": 4,
 "nbformat_minor": 5
}
