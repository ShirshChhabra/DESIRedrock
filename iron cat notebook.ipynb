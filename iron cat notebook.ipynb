{
 "cells": [
  {
   "cell_type": "code",
   "execution_count": 1,
   "id": "30e3d5ce-bf99-4f61-821d-044fe5f56c47",
   "metadata": {
    "tags": []
   },
   "outputs": [],
   "source": [
    "# importing the packages\n",
    "import fitsio\n",
    "from astropy.io import fits\n",
    "import matplotlib.pyplot as plt\n",
    "import astropy.table as t\n",
    "# importing all modules\n",
    "import os\n",
    "import fitsio\n",
    "import matplotlib.pyplot as plt\n",
    "import glob\n",
    "from astropy.io import fits\n",
    "import numpy as np\n",
    "import astropy.table as t\n",
    "import subprocess\n",
    "import json \n",
    "import scipy.optimize as so\n",
    "from scipy.integrate import odeint\n",
    "import numpy.ma as ma\n",
    "from scipy.stats import linregress\n",
    "import pandas as pd\n",
    "from scipy.stats import binned_statistic as bn\n",
    "import pickle\n",
    "import h5py\n",
    "import redrock.templates\n",
    "import multiprocessing\n",
    "import random\n",
    "from desitarget.targetmask import desi_mask, bgs_mask\n",
    "chi2cut=25"
   ]
  },
  {
   "cell_type": "code",
   "execution_count": 6,
   "id": "0647c0fc-c42d-42d6-9974-a2a6950cf99e",
   "metadata": {
    "tags": []
   },
   "outputs": [
    {
     "name": "stdout",
     "output_type": "stream",
     "text": [
      "DEBUG: Read templates from /global/common/software/desi/perlmutter/desiconda/20230111-2.1.0/code/redrock-templates/main\n",
      "DEBUG: Using default redshift range -0.0050-1.6997 for rrtemplate-galaxy.fits\n",
      "DEBUG: Using redshift range 1.4000-6.9930 for rrtemplate-qso-HIZ.fits\n",
      "DEBUG: Using redshift range 0.0500-1.5983 for rrtemplate-qso-LOZ.fits\n",
      "DEBUG: Using default redshift range -0.0020-0.0020 for rrtemplate-star-A.fits\n",
      "DEBUG: Using default redshift range -0.0020-0.0020 for rrtemplate-star-B.fits\n",
      "DEBUG: Using default redshift range -0.0020-0.0020 for rrtemplate-star-CV.fits\n",
      "DEBUG: Using default redshift range -0.0020-0.0020 for rrtemplate-star-F.fits\n",
      "DEBUG: Using default redshift range -0.0020-0.0020 for rrtemplate-star-G.fits\n",
      "DEBUG: Using default redshift range -0.0020-0.0020 for rrtemplate-star-K.fits\n",
      "DEBUG: Using default redshift range -0.0020-0.0020 for rrtemplate-star-M.fits\n",
      "DEBUG: Using default redshift range -0.0020-0.0020 for rrtemplate-star-WD.fits\n"
     ]
    }
   ],
   "source": [
    "#this only loads the rr templates\n",
    "templates = dict()\n",
    "\n",
    "for filename in redrock.templates.find_templates():\n",
    "    l = redrock.templates.Template(filename) #check if you can add a \"verbose=False\"\n",
    "    templates[(l.template_type, l.sub_type)] = l"
   ]
  },
  {
   "cell_type": "code",
   "execution_count": 138,
   "id": "a830dbb2-f3e0-4306-9685-89cb1795c953",
   "metadata": {
    "tags": []
   },
   "outputs": [
    {
     "name": "stdout",
     "output_type": "stream",
     "text": [
      "1298\n"
     ]
    }
   ],
   "source": [
    "# tiles used for analysis\n",
    "# tiles=['80605','80606','80608','80609','80610','80613',\"80653\",\"80654\",\"80655\",\"80656\",\"80657\",\"80658\",\"80659\",\"80660\",\"80661\",\"80662\",\"80663\",\"80664\",\"80665\",\"80666\",\"80669\",\"80670\",\"80673\",\"80674\",\"80675\",\"80676\",\"80677\",\"80678\",\"80679\",\"80680\",\"80681\",\"80682\",\"80683\",\"80684\",\"80685\",\"80686\",\"80687\",\"80688\",\"80689\",\"80690\",\"80691\",\"80692\",\"80693\",\"80694\",\"80695\",\"80696\",\"80697\",\"80698\",\"80699\",\"80700\",\"80701\",\"80702\",\"80703\",\"80705\",\"80706\",\"80707\",\"80708\",\"80709\",\"80710\",\"80711\",\"80712\",\"80715\",\"80718\",\"80719\",\"80720\",\"80721\",\"80722\",\"80724\",\"80726\",\"80728\",\"80729\",\"80730\",\"80731\",\"80732\",\"80733\",\"80734\",\"80735\",\"80736\",\"80737\",\"80738\",\"807chi2cut\",\"80741\",\"80742\",\"80782\",\"80783\",\"80784\",\"80785\",\"80786\",\"80787\",\"80788\",\"80789\",\"80790\",\"80856\",\"80857\",\"80858\",\"80859\",\"80860\",\"80861\",\"80862\",\"80863\",\"80865\",\"80866\",\"80867\",\"80869\",\"80870\",\"80871\",\"80872\",\"80873\",\"80875\",\"80876\",\"80879\",\"80882\",\"80885\",\"80886\",\"80887\",\"80888\",\"80889\",\"80890\",\"80891\",\"80892\",\"80893\",\"80894\",\"80895\",\"80896\",\"80897\",\"80898\",\"80899\",\"80900\",\"80901\",\"80902\",\"80938\",\"80944\",\"80949\",\"80950\",\"80951\",\"80952\",\"80954\",\"80955\",\"80956\",\"80958\",\"80959\",\"80960\",\"80962\",\"80963\",\"80966\",\"80968\",\"80970\",\"80971\",\"80972\",\"80974\",\"80975\",\"81000\",\"81001\",\"81002\",\"81003\",\"81004\",\"81005\",\"81006\",\"81007\",\"81008\",\"81009\",\"81010\",\"81011\",\"81012\",\"81013\",\"81014\",\"81015\",\"81022\",\"81056\",\"81057\",\"81058\",\"81059\",\"81060\",\"81061\",\"81062\",\"81063\",\"81064\",\"81065\",\"81066\",\"81067\",\"81068\",\"81069\",\"81072\",\"81073\",\"81074\",\"81075\",\"81088\",\"81097\",\"81098\",\"81099\",\"81100\",\"81101\",\"81102\",\"81103\",\"81104\",\"81105\",\"81106\",\"81107\",\"81108\",\"81109\",\"81110\",\"81111\",\"81112\",\"81113\",\"81114\",\"81115\"]\n",
    "# tiles=['80605','80606'] # if you want to test a particular file\n",
    "irontiles=glob.glob('/global/cfs/cdirs/desi/spectro/redux/iron/tiles/pernight/*/*')\n",
    "night=[int(t.split('/')[-1]) for t in irontiles]\n",
    "night=[str(t) for t in night]\n",
    "irontiles=[int(t.split('/')[-2]) for t in irontiles]\n",
    "irontiles=[str(t) for t in irontiles]\n",
    "tiles=irontiles[:]\n",
    "print(len(tiles))"
   ]
  },
  {
   "cell_type": "code",
   "execution_count": 139,
   "id": "5a29d541-1193-4e59-9fdb-75f0e4b7284b",
   "metadata": {
    "tags": []
   },
   "outputs": [],
   "source": [
    "# running slurm scripts\n",
    "for x,tileid in enumerate(tiles):\n",
    "        scriptfile=(f\"/pscratch/sd/s/shirsh/iron_cat_pernight/{tileid}{night[x]}.slurm\")\n",
    "        with open(scriptfile,\"w\") as y:\n",
    "            y.write(\n",
    "f\"\"\"#!/bin/bash\n",
    "#SBATCH -N 1\n",
    "#SBATCH -C cpu\n",
    "#SBATCH -q regular\n",
    "#SBATCH -J ironcat\n",
    "#SBATCH --mail-user=Shirsh.Chhabra@lmu.de\n",
    "#SBATCH --mail-type=ALL\n",
    "#SBATCH -t 00:30:00\n",
    "source /global/common/software/desi/desi_environment.sh\n",
    "#OpenMP settings:\n",
    "export OMP_NUM_THREADS=32\n",
    "export OMP_PLACES=threads\n",
    "export OMP_PROC_BIND=spread\n",
    "export SPECPROD=daily\n",
    "python /pscratch/sd/s/shirsh/iron_cat_pernight/irontile{tileid}night{night[x]}.py\n",
    "\"\"\")\n",
    "        scriptfile=(f\"/pscratch/sd/s/shirsh/iron_cat_pernight/irontile{tileid}night{night[x]}.py\")\n",
    "        with open(scriptfile,\"w\") as y:\n",
    "            y.write(\n",
    "f\"\"\"\n",
    "# importing the packages\n",
    "import fitsio\n",
    "from astropy.io import fits\n",
    "import matplotlib.pyplot as plt\n",
    "import astropy.table as t\n",
    "# importing all modules\n",
    "import os\n",
    "import fitsio\n",
    "import matplotlib.pyplot as plt\n",
    "import glob\n",
    "from astropy.io import fits\n",
    "import numpy as np\n",
    "import astropy.table as t\n",
    "import subprocess\n",
    "import json \n",
    "import scipy.optimize as so\n",
    "from scipy.integrate import odeint\n",
    "from scipy.stats import linregress\n",
    "import pandas as pd\n",
    "from scipy.stats import binned_statistic as bn\n",
    "import pickle\n",
    "import h5py\n",
    "import redrock.templates\n",
    "import multiprocessing\n",
    "import random\n",
    "from desitarget.targetmask import desi_mask, bgs_mask\n",
    "chi2cut=25\n",
    "\n",
    "templates = dict()\n",
    "\n",
    "for filename in redrock.templates.find_templates():\n",
    "    l = redrock.templates.Template(filename) #check if you can add a \"verbose=False\"\n",
    "    templates[(l.template_type, l.sub_type)] = l\n",
    "# function definitions to make catalog\n",
    "def read_tile_catalog(tile_string):\n",
    "    # Read galaxy catalog of a tile including line fit information of all objects\n",
    "    # input: string with the ID of the tile, e.g. \"80605\"\n",
    "    # returns: structured array with catalog of all objects in that tile\n",
    "    \n",
    "    emlist = glob.glob('/global/cfs/cdirs/desi/spectro/redux/iron/tiles/pernight/'+str({tileid})+'/'+'{night[x]}'+'/emline*.fits')\n",
    "    emlist.sort()\n",
    "    emtable = t.Table()\n",
    "    for filename in emlist:\n",
    "        emread2=fits.open(filename)\n",
    "        dumtable=t.Table.read(emread2[1])\n",
    "        dumtable['RRFN']=dumtable.meta['RRFN']\n",
    "        dumtable['TILEID']=int(tile_string)\n",
    "        dumtable['FN']=filename\n",
    "        dumtable['RRN']=filename.replace('emline','rrdetails').replace('fits','h5')\n",
    "        dumtable['COADDFN']=dumtable.meta['COADDFN']\n",
    "        rrtable=t.Table.read(dumtable['RRFN'][0],hdu='FIBERMAP')\n",
    "        dumtable['FIBERSTATUS']=rrtable['COADD_FIBERSTATUS']\n",
    "        dumtable['BGS_TARGET']=rrtable['BGS_TARGET']\n",
    "        dumtable['COADD_EXPTIME']=rrtable['COADD_EXPTIME']\n",
    "        dumtable['DESI_TARGET']=rrtable['DESI_TARGET']\n",
    "        # dumtable['SV1_DESI_TARGET']=0\n",
    "        # dumtable['SV2_DESI_TARGET']=0\n",
    "        # dumtable['SV3_DESI_TARGET']=0\n",
    "        # dumtable['SV1_BGS_TARGET']=0\n",
    "        # dumtable['SV2_BGS_TARGET']=0\n",
    "        # dumtable['SV3_BGS_TARGET']=0\n",
    "        if 'SV1_DESI_TARGET' in rrtable.keys():\n",
    "             dumtable['SV1_DESI_TARGET']=rrtable['SV1_DESI_TARGET']\n",
    "        if 'SV2_DESI_TARGET' in rrtable.keys():\n",
    "             dumtable['SV2_DESI_TARGET']=rrtable['SV2_DESI_TARGET']\n",
    "        if 'SV3_DESI_TARGET' in rrtable.keys():\n",
    "             dumtable['SV3_DESI_TARGET']=rrtable['SV3_DESI_TARGET']\n",
    "        if 'SV1_BGS_TARGET' in rrtable.keys():\n",
    "             dumtable['SV1_BGS_TARGET']=rrtable['SV1_BGS_TARGET']\n",
    "        if 'SV2_BGS_TARGET' in rrtable.keys():\n",
    "             dumtable['SV2_BGS_TARGET']=rrtable['SV2_BGS_TARGET']\n",
    "        if 'SV3_BGS_TARGET' in rrtable.keys():\n",
    "             dumtable['SV3_BGS_TARGET']=rrtable['SV3_BGS_TARGET']\n",
    "        emtable=t.vstack([dumtable,emtable])\n",
    "    \n",
    "    return emtable\n",
    "\n",
    "def filter_galaxies(catalog):\n",
    "    # print(catalog.keys())\n",
    "    # Filter catalog to only include galaxy targets among spectype and targets among different, return the filtered catalog\n",
    "    return catalog[(catalog['SPECTYPE']=='GALAXY') & (catalog['OBJTYPE']=='TGT') & (catalog[\"FIBERSTATUS\"]==0) & (catalog['ZWARN'] == 0)]\n",
    "\n",
    "\n",
    "# Making the catalog - filtering targets according to choice (could also be done in the very end)\n",
    "catalog = read_tile_catalog({tileid})\n",
    "catalog = filter_galaxies(catalog)\n",
    "if 'TILEID' not in catalog.colnames:\n",
    "            catalog['TILEID']=np.array([s.split('cumulative/')[1].split('/')[0] for s in catalog['FN']],dtype=int)\n",
    "if 'RRN' not in catalog.colnames:\n",
    "            catalog['RRN']=np.array([f.replace('fits','h5').replace('emline','rrdetails') for f in catalog['FN']])\n",
    "catalog.sort('COADDFN')\n",
    "\n",
    "# penalty calculation 3 - per arm, median continuum, +ve penalty \n",
    "# finding the data, model, computing penalties for 1 tile\n",
    "zoiii=[]\n",
    "penoiii=[]\n",
    "zchi2oiii=[]\n",
    "check=[]\n",
    "\n",
    "   \n",
    "def parallel_penalties(fn):\n",
    "    #lets do those once per file to save memory\n",
    "    outdict={{}}\n",
    "    g=[]\n",
    "    mi=[]\n",
    "    xi=[]\n",
    "    z=[]\n",
    "    chi2=[]\n",
    "    pentmp=[]\n",
    "    out_old_penalty=[]\n",
    "    chi2_nopen=[]\n",
    "\n",
    "    selector=catalog['COADDFN']==fn\n",
    "    entries=catalog[selector]\n",
    "    # print(len(entries))\n",
    "    if len(entries)==0:\n",
    "        print(f\"no entries for file{{fn}}\")\n",
    "        return None,None,None, None, None\n",
    "    \n",
    "    fnrr=entries['RRFN'][0]\n",
    "    fnrr_details=entries['RRN'][0]\n",
    "        \n",
    "    rrf=fitsio.FITS(fnrr)\n",
    "    fobj=fitsio.FITS(fn)\n",
    "    rr_details = h5py.File(fnrr_details, mode='r')\n",
    "\n",
    "    fm=fobj['FIBERMAP']\n",
    "    tids=fm['TARGETID'][:]\n",
    "    for j,entry in enumerate(entries):\n",
    "        \n",
    "        if entry['TARGETID'] in tids:\n",
    "            index=(fm['TARGETID'][:]==entry['TARGETID']).nonzero()[0]\n",
    "            g.append(entry['TARGETID'])\n",
    "            # print(index, entry['TARGETID'])\n",
    "            outdict[entry['TARGETID']]={{'wave':[],'flux':[],'ivar':[],'mask':[],'redshift':rrf['REDSHIFTS']['Z'][index],'petal':fn.split('/')[-1].split('-')[1],'tile':fn.split('/')[-1].split('-')[2]}}            \n",
    "            for color in 'BRZ':\n",
    "                outdict[entry['TARGETID']]['wave'].append(fobj[f'{{color}}_WAVELENGTH'][:])\n",
    "                outdict[entry['TARGETID']]['flux'].append(fobj[f'{{color}}_FLUX'][index:index+1,:][0])\n",
    "                outdict[entry['TARGETID']]['ivar'].append(fobj[f'{{color}}_IVAR'][index:index+1,:][0])\n",
    "                outdict[entry['TARGETID']]['mask'].append(fobj[f'{{color}}_MASK'][index:index+1,:][0])    \n",
    "                \n",
    "            zfit = t.Table(np.array(rr_details['zfit'][str(entry['TARGETID'])]['zfit']))\n",
    "            \n",
    "            tflux=[]\n",
    "            twave=[]\n",
    "            zmod=[]\n",
    "            penmod=[]  \n",
    "            chi2sintar=[]\n",
    "            oldpen=[]\n",
    "            oldchi2nopen=[]\n",
    "            close_z=[]\n",
    "            for p in range(0,len(zfit['z'])):\n",
    "                fulltype=((zfit['spectype'][p],zfit['subtype'][p]))\n",
    "                # print(fulltype)\n",
    "                tflux.append(templates[fulltype].flux.T.dot(zfit['coeff'][p][:templates[fulltype].flux.shape[0]]))\n",
    "                twave.append(templates[fulltype].wave * (1+zfit['z'][p]))\n",
    "                zmod.append(zfit['z'][p])\n",
    "                chi2sintar.append(zfit['chi2'][p])\n",
    "            \n",
    "                if zfit['spectype'][p]=='GALAXY':\n",
    "                    z_from_fit=zfit['z'][p]\n",
    "                    closest_zind=np.argmin(np.abs(rr_details['zscan']['GALAXY']['redshifts'][:]-z_from_fit))\n",
    "                    closest_z=rr_details['zscan']['GALAXY']['redshifts'][closest_zind]\n",
    "                    unpenalized_chi2=rr_details['zscan']['GALAXY']['zchi2'][(rr_details['targetids']==entry['TARGETID']).nonzero()[0][0],closest_zind]\n",
    "                    old_penalty=rr_details['zscan']['GALAXY']['penalty'][(rr_details['targetids']==entry['TARGETID']).nonzero()[0][0],closest_zind]\n",
    "                    close_z.append(closest_z)\n",
    "                    oldpen.append(old_penalty)\n",
    "                    oldchi2nopen.append(unpenalized_chi2)\n",
    "                else:\n",
    "                    penline=np.zeros((3,3))\n",
    "                    oldpen.append(0)\n",
    "                    close_z.append(zfit['z'][p])\n",
    "                    oldchi2nopen.append(0)\n",
    "                    penmod.append(penline)\n",
    "                    continue\n",
    "                \n",
    "                penline=[]\n",
    "                for linetype in ['OIII_right','OIII_left','OII']:\n",
    "                    if linetype=='OIII_right':\n",
    "                        linemin=5000*(1+zmod[p])\n",
    "                        linemax=5015*(1+zmod[p])\n",
    "                        cont1min=4980*(1+zmod[p])\n",
    "                        cont1max=4990*(1+zmod[p])\n",
    "                        cont2min=5025*(1+zmod[p])\n",
    "                        cont2max=5035*(1+zmod[p])\n",
    "                    elif linetype=='OIII_left':\n",
    "                        linemin=4952*(1+zmod[p]) #modify range\n",
    "                        linemax=4967*(1+zmod[p])\n",
    "                        cont1min=4930*(1+zmod[p])\n",
    "                        cont1max=4940*(1+zmod[p])\n",
    "                        cont2min=4975*(1+zmod[p])\n",
    "                        cont2max=4985*(1+zmod[p])\n",
    "                    elif linetype=='OII':\n",
    "                        linemin=3720*(1+zmod[p]) #modify ranges\n",
    "                        linemax=3735*(1+zmod[p])\n",
    "                        cont1min=3700*(1+zmod[p])\n",
    "                        cont1max=3710*(1+zmod[p])\n",
    "                        cont2min=3745*(1+zmod[p])\n",
    "                        cont2max=3755*(1+zmod[p])\n",
    "                    line=linemax-linemin\n",
    "                    cont1=cont1max-cont1min\n",
    "                    cont2=cont2max-cont2min    \n",
    "                    bindatline=[]\n",
    "                    bindatcont1=[]\n",
    "                    bindatcont2=[]\n",
    "                    binsigline=[]\n",
    "                    binsigcont1=[]\n",
    "                    binsigcont2=[]\n",
    "                    wdaty=[]\n",
    "                    datx=[]\n",
    "                    sigy=[]  \n",
    "                    wl=[]\n",
    "                    daty=[]\n",
    "                    binwdatline=[]\n",
    "                    penarm=[]\n",
    "                    #this loop calculates penalty for different arms per single line\n",
    "                    for i in range(0,3):\n",
    "    \n",
    "                        datydum=outdict[entry['TARGETID']]['flux'][i][outdict[entry['TARGETID']]['mask'][i]==0]\n",
    "                        minx=np.nanmin(outdict[entry['TARGETID']]['wave'][i])\n",
    "                        maxx=np.nanmax(outdict[entry['TARGETID']]['wave'][i])\n",
    "                        datxdum=outdict[entry['TARGETID']]['wave'][i][outdict[entry['TARGETID']]['mask'][i]==0]\n",
    "                        sigydum=outdict[entry['TARGETID']]['ivar'][i][outdict[entry['TARGETID']]['mask'][i]==0] \n",
    "                        # datplot, =plt.plot(datxdum,datydum,zorder=10)\n",
    "                        # sigplot, =plt.plot(datxdum,sigydum)\n",
    "                        daty=np.array(datydum)\n",
    "                        datx=np.array(datxdum)\n",
    "                        sigy=np.array(sigydum)\n",
    "                        # if len(datx)==0:\n",
    "                        #     print(entry['TARGETID'])\n",
    "                        if linemin>max(outdict[entry['TARGETID']]['wave'][i]) or linemax<min(outdict[entry['TARGETID']]['wave'][i]):\n",
    "                            penarm.append(0)\n",
    "                            continue\n",
    "                        datxlin=datx[(datx>=linemin)*(datx<=linemax)]\n",
    "                        datxcont1=datx[(datx>=cont1min)*(datx<=cont1max)]\n",
    "                        datxcont2=datx[(datx>=cont2min)*(datx<=cont2max)]\n",
    "                        datylin=daty[(datx>=linemin)*(datx<=linemax)]\n",
    "                        datycont1=daty[(datx>=cont1min)*(datx<=cont1max)]\n",
    "                        datycont2=daty[(datx>=cont2min)*(datx<=cont2max)]\n",
    "                        sigylin=sigy[(datx>=linemin)*(datx<=linemax)]\n",
    "                        sigycont1=sigy[(datx>=cont1min)*(datx<=cont1max)]\n",
    "                        sigycont2=sigy[(datx>=cont2min)*(datx<=cont2max)]\n",
    "                        wdaty=daty*sigy\n",
    "                        wdatylin=wdaty[(datx>=linemin)*(datx<=linemax)]\n",
    "                        wdatycont1=wdaty[(datx>=linemin)*(datx<=linemax)]\n",
    "                        wdatycont2=wdaty[(datx>=linemin)*(datx<=linemax)]\n",
    "                        binmod,l,_=bn(twave[p],tflux[p], bins=np.arange(minx-0.4,maxx+0.4+1e-5,0.8))\n",
    "                        # if len(binmod)!=len(datx):\n",
    "                        #  print(min(l+0.4),min(datx),max(l+0.4),max(datx))\n",
    "                        binmod=binmod[outdict[entry['TARGETID']]['mask'][i]==0]\n",
    "                        binmodline=binmod[(datx>=linemin)*(datx<=linemax)]\n",
    "                        binmodcont1=binmod[(datx>=cont1min)*(datx<=cont1max)]\n",
    "                        binmodcont2=binmod[(datx>=cont2min)*(datx<=cont2max)]\n",
    "                        # binmodline,q,_=bn(twave[p],tflux[p], bins=np.linspace(np.nanmin(datxlin)-0.4,np.nanmax(datxlin)+0.4,int((np.nanmax(datxlin)+0.4-(np.nanmin(datxlin)-0.4))/0.8)+1))\n",
    "                        # binlinex,_,_=bn(twave[p],twave[p], bins=np.arange(linemin,linemax,0.8))\n",
    "                        # if len(datxcont1)!=0:\n",
    "                        #  binmodcont1,x,_=bn(twave[p],tflux[p], bins=np.linspace(np.nanmin(datxcont1)-0.4,np.nanmax(datxcont1)+0.4,int((np.nanmax(datxcont1)+0.4-(np.nanmin(datxcont1)-0.4))/0.8)+1))\n",
    "                        # else:\n",
    "                        #  binmodcont1=np.nan\n",
    "                        # # bincont1x,x,_=bn(twave[p],twave[p], bins=np.arange(cont1min,cont1max,0.8))\n",
    "                        # if len(datxcont2)!=0:\n",
    "                        #  binmodcont2,_,_=bn(twave[p],tflux[p], bins=np.linspace(np.nanmin(datxcont2)-0.4,np.nanmax(datxcont2)+0.4,int((np.nanmax(datxcont2)+0.4-(np.nanmin(datxcont2)-0.4))/0.8)+1))\n",
    "                        # else: \n",
    "                        #  binmodcont2=np.nan\n",
    "                        # bincont2x,_,_=bn(twave[p],twave[p], bins=np.arange(cont2min,cont2max,0.8))\n",
    "                        \n",
    "                        # binmodline=binmodline[(binlinex>=min(datx))*(binlinex<=max(datx))]\n",
    "                        # binmodcont1=binmodcont1[(bincont1x>=min(datx))*(bincont1x<=max(datx))]\n",
    "                        # binmodcont2=binmodcont2[(bincont2x>=min(datx))*(bincont2x<=max(datx))]\n",
    "                        #finding the data continuum median\n",
    "                        # wdatcont=np.concatenate((binwdatycont1,binwdatycont2))\n",
    "                        sigcont=np.concatenate((sigycont1,sigycont2))\n",
    "                        datcont=np.nanmedian(np.concatenate([datycont1,datycont2]))\n",
    "                        #finding the model continuum average\n",
    "                        modcont=np.nanmedian(np.concatenate([binmodcont1,binmodcont2]))\n",
    "                        csd=datylin-datcont\n",
    "                        csm=binmodline-modcont\n",
    "                        # av=[]\n",
    "                        # if len(csm)!=len(csd):\n",
    "                        #     for u in range(0,len(q)-1):\n",
    "                        #         av.append((q[u]+q[u+1])/2)\n",
    "                        #     print(datxlin)\n",
    "                        binpen=csm[(csm<0)]*(2*csd[(csm<0)]-csm[(csm<0)])*sigylin[(csm<0)]\n",
    "                        penarm.append(np.nansum(binpen[binpen>0])) # final array of len 3\n",
    "                        \n",
    "                    penline.append(penarm) # final array of 3*3\n",
    "                    \n",
    "                penmod.append(penline) # final array of 9*3*3\n",
    "                \n",
    "            #print(np.array(zmod).shape)\n",
    "            chi2_nopen.append(oldchi2nopen)\n",
    "            out_old_penalty.append(oldpen)\n",
    "            \n",
    "            pentmp.append(penmod) # final array of numtar*9*3*3\n",
    "            z.append(zmod)\n",
    "            chi2.append(chi2sintar)\n",
    "\n",
    "    return pentmp, z, chi2, chi2_nopen, out_old_penalty\n",
    "    \n",
    "with multiprocessing.Pool(16) as pool:\n",
    "        out=pool.map(parallel_penalties,np.unique(catalog['COADDFN']))\n",
    "        out=[o for o in out if o[0] is not None]\n",
    "        \n",
    "# storing the penalty outputs\n",
    "pen=[o[0] for o in out]\n",
    "z=[o[1] for o in out]\n",
    "chi2=[o[2] for o in out]\n",
    "chi2_nopen=[o[3] for o in out]\n",
    "old_penalty=[o[4] for o in out]\n",
    "\n",
    "\n",
    "# merging the output in the shape of the catalog and penalty per line\n",
    "# only for per arm penalty algorithm\n",
    "penmer=np.concatenate(pen,axis=0)\n",
    "penmer=np.sum(penmer,axis=3)\n",
    "z=np.concatenate(z,axis=0)\n",
    "penoiii_right=penmer[...,0]\n",
    "penoiii_left=penmer[...,1]\n",
    "penoii=penmer[...,2]\n",
    "chi2=np.concatenate(chi2,axis=0)\n",
    "chi2_no_penalty=np.concatenate(chi2_nopen,axis=0)\n",
    "old_penalty=np.concatenate(old_penalty,axis=0)\n",
    "# writing the newly calculated variables into the catalog\n",
    "catalog['penoiii_right']=penoiii_right\n",
    "catalog['penoiii_left']=penoiii_left\n",
    "catalog['penoii']=penoii\n",
    "catalog['zrr']=z\n",
    "catalog['zchi2rr']=chi2\n",
    "catalog['old_pen']=old_penalty\n",
    "catalog['old_chi2_no_pen']=chi2_no_penalty\n",
    "# calculating the variables to be used and assigning them to the catalog\n",
    "pen_tot=catalog['penoiii_right']+catalog['penoiii_left']+catalog['penoii']\n",
    "catalog[\"pen_tot\"]=pen_tot\n",
    "pen_difference=pen_tot-catalog['old_pen']\n",
    "catalog[\"pen_difference\"]=pen_difference\n",
    "catalog[\"new_chi2_with_penalty\"]=catalog['zchi2rr']+pen_tot\n",
    "catalog[\"oldest_chi2_without_penalty\"]=catalog['zchi2rr']-catalog['old_pen']\n",
    "newbest=np.argmin(catalog[\"new_chi2_with_penalty\"],axis=1)\n",
    "catalog['newbestmodel']=newbest\n",
    "# calculating the new model order and saving it\n",
    "new_model_order=np.argsort(catalog[\"new_chi2_with_penalty\"],axis=1)\n",
    "# raw_model_order=np.argsort(catalog[\"oldest_chi2_without_penalty\"],axis=1)\n",
    "catalog['new_model_order']=new_model_order\n",
    "# sorting the new chi2\n",
    "new_chi2_sorted=np.take_along_axis(catalog[\"new_chi2_with_penalty\"],new_model_order,axis=1)\n",
    "#calculating and saving the new deltachi2\n",
    "new_deltachi2=new_chi2_sorted[:,1]-new_chi2_sorted[:,0]\n",
    "catalog['new_deltachi2']=new_deltachi2\n",
    "catalog['z_new']=np.take_along_axis(catalog[\"zrr\"],new_model_order,axis=1)[:,0]\n",
    "catalog.write('/pscratch/sd/s/shirsh/iron_cat_pernight/{tileid}{night[x]}.fits',overwrite=True)\n",
    "\"\"\")\n",
    "        subprocess.run([\"sbatch\", \"/pscratch/sd/s/shirsh/iron_cat_pernight\"+f\"/{tileid}{night[x]}.slurm\"], capture_output=True)"
   ]
  },
  {
   "cell_type": "code",
   "execution_count": null,
   "id": "3be4c623-bf1f-4c36-a5f7-61a25237a699",
   "metadata": {
    "tags": []
   },
   "outputs": [],
   "source": [
    "fil=glob.glob('/pscratch/sd/s/shirsh/iron_cat_pernight/*.fits')\n",
    "len(fil)\n",
    "iron_pernight_cat=t.Table()\n",
    "for num,r in enumerate(fil):\n",
    "    dumtable=t.Table.read(r)\n",
    "    print(num)\n",
    "    iron_pernight_cat=t.vstack([dumtable,iron_pernight_cat])\n",
    "iron_pernight_cat.write('/pscratch/sd/s/shirsh/iron_cat_pernight/iron_pernight_cat.fits',overwrite=True)"
   ]
  },
  {
   "cell_type": "code",
   "execution_count": 2,
   "id": "3dce6adc-81f4-4b4e-8c09-c745d92b8a84",
   "metadata": {
    "tags": []
   },
   "outputs": [],
   "source": [
    "cat=t.Table.read('/pscratch/sd/s/shirsh/iron_cat_pernight/iron_pernight_cat.fits')"
   ]
  },
  {
   "cell_type": "code",
   "execution_count": null,
   "id": "de3feabc-e719-44ea-a510-a55d15d62abe",
   "metadata": {},
   "outputs": [],
   "source": [
    "fil=glob.glob('/pscratch/sd/s/shirsh/iron_cat/*.fits')\n",
    "# t1=t.Table.read(fil[0])\n",
    "# t2=t.Table.read(fil[1])\n",
    "# t3=t.Table.read(fil[2])\n",
    "# t4=t.Table.read(fil[3])\n",
    "# new=t.vstack([t1,t2,t3,t4])\n",
    "# tab=[]\n",
    "tab=[]\n",
    "for num,file in enumerate(fil):\n",
    "    print(num)\n",
    "    tab.append(t.Table.read(file))\n",
    "    \n",
    "# Pickling filtered data sets \n",
    "irontab = {'irontab': tab}\n",
    "with open('irontab.pickle', 'wb') as f:\n",
    "    # Pickle the 'data' dictionary using the highest protocol available.\n",
    "    pickle.dump(irontab, f, pickle.HIGHEST_PROTOCOL)\n",
    "    \n",
    "# Extracting and displaying pickled data\n",
    "with open('irontab.pickle', 'rb') as f:\n",
    "    # The protocol version used is detected automatically, so we do not\n",
    "    # have to specify it.\n",
    "    penalty = pickle.load(f)\n",
    "    \n",
    "penalty.keys()\n",
    "\n",
    "new=t.vstack(penalty['irontab'])\n"
   ]
  },
  {
   "cell_type": "code",
   "execution_count": null,
   "id": "c1ea8eaa-43c3-4e3a-9e17-30c4c86e7e47",
   "metadata": {
    "tags": []
   },
   "outputs": [],
   "source": [
    "cat.keys()"
   ]
  },
  {
   "cell_type": "code",
   "execution_count": 98,
   "id": "6519438d-a28e-406d-8130-3f27878d1e60",
   "metadata": {
    "tags": []
   },
   "outputs": [],
   "source": [
    "unique40, inverse40, count40 = np.unique(cat['TARGETID'][cat[\"DELTACHI2\"]>40],return_inverse=True,return_counts=True)\n",
    "unique25,inverse25, count25 = np.unique(cat['TARGETID'][cat[\"DELTACHI2\"]>25],return_inverse=True,return_counts=True)\n",
    "cat40=cat[cat[\"DELTACHI2\"]>40]\n",
    "cat25=cat[cat[\"DELTACHI2\"]>25]"
   ]
  },
  {
   "cell_type": "code",
   "execution_count": 100,
   "id": "63a91211-f9d9-4198-86c1-7be314203f39",
   "metadata": {
    "tags": []
   },
   "outputs": [],
   "source": [
    "anetdispz=[]\n",
    "anetmeanz=[]\n",
    "anetmeanznew=[]\n",
    "anetdispznew=[]\n",
    "for c,ca,u,inv in [[count40,cat40,unique40,inverse40],[count25,cat25,unique25,inverse25]]:\n",
    "    netdispz=[]\n",
    "    netmeanz=[]\n",
    "    netmeanznew=[]\n",
    "    netdispznew=[]\n",
    "    for i in range(2,17):\n",
    "        mask=[c!=i]\n",
    "        itimesrepeatedtargetsmasked=ma.array(u, mask = mask)\n",
    "        targetidrepeateditimesincat=itimesrepeatedtargetsmasked[inv]\n",
    "        mask2=ma.getmask(targetidrepeateditimesincat)\n",
    "        zfortargetidrepeateditimesincat=ma.array(ca['Z'], mask = mask2)\n",
    "        znewfortargetidrepeateditimesincat=ma.array(ca['z_new'], mask = mask2)\n",
    "        targetidrepeateditimesincat=targetidrepeateditimesincat.compressed()\n",
    "        zfortargetidrepeateditimesincat=zfortargetidrepeateditimesincat.compressed()\n",
    "        znewfortargetidrepeateditimesincat=znewfortargetidrepeateditimesincat.compressed()\n",
    "        inds=targetidrepeateditimesincat.argsort()\n",
    "        targetidrepeateditimesincat_sort=targetidrepeateditimesincat[inds]\n",
    "        zfortargetidrepeateditimesincat_sort=zfortargetidrepeateditimesincat[inds]\n",
    "        znewfortargetidrepeateditimesincat_sort=znewfortargetidrepeateditimesincat[inds]\n",
    "        zfortargetidrepeateditimesincat_sort.shape=(-1,i)\n",
    "        znewfortargetidrepeateditimesincat_sort.shape=(-1,i)\n",
    "        dispz=np.std(zfortargetidrepeateditimesincat_sort,axis=1,ddof=1)\n",
    "        dispznew=np.std(znewfortargetidrepeateditimesincat_sort,axis=1,ddof=1)\n",
    "        meanz=np.mean(zfortargetidrepeateditimesincat_sort,axis=1)\n",
    "        meanznew=np.mean(znewfortargetidrepeateditimesincat_sort,axis=1)\n",
    "        netdispz.append(dispz)\n",
    "        netmeanz.append(meanz)\n",
    "        netdispznew.append(dispznew)\n",
    "        netmeanznew.append(meanznew)\n",
    "    anetdispz.append(netdispz)\n",
    "    anetmeanz.append(netmeanz)\n",
    "    anetdispznew.append(netdispznew)\n",
    "    anetmeanznew.append(netmeanznew)\n",
    "    \n",
    "    "
   ]
  },
  {
   "cell_type": "code",
   "execution_count": 162,
   "id": "48d96129-2f8a-4c13-a3a3-035c242c0aa7",
   "metadata": {
    "tags": []
   },
   "outputs": [
    {
     "data": {
      "text/plain": [
       "<matplotlib.legend.Legend at 0x7fe3c916ebc0>"
      ]
     },
     "execution_count": 162,
     "metadata": {},
     "output_type": "execute_result"
    },
    {
     "data": {
      "image/png": "[encoded data removed]",
      "text/plain": [
       "<Figure size 640x480 with 1 Axes>"
      ]
     },
     "metadata": {},
     "output_type": "display_data"
    }
   ],
   "source": [
    "plt.hist([bla for ap in anetdispz[1] for bla in ap ],bins=np.linspace(0,1.6,40),label='$\\Delta\\chi^2>25$')\n",
    "plt.hist([bla for ap in anetdispz[0] for bla in ap ],bins=np.linspace(0,1.6,40),label='$\\Delta\\chi^2>40$')\n",
    "plt.title('old penalty')\n",
    "plt.yscale('log')\n",
    "plt.xlabel('$\\Delta Z$ Dispersion')\n",
    "plt.ylabel('# of targets')\n",
    "plt.legend()"
   ]
  },
  {
   "cell_type": "code",
   "execution_count": 180,
   "id": "1ea59b85-1d4d-4eb9-ba61-54e538ecb3ad",
   "metadata": {
    "tags": []
   },
   "outputs": [
    {
     "name": "stdout",
     "output_type": "stream",
     "text": [
      "1.588261050653054\n",
      "1.123621041531252\n",
      "1.5692514711065069\n",
      "1.103848583882947\n"
     ]
    }
   ],
   "source": [
    "dum=[bla for ap in anetdispz[1] for bla in ap ]\n",
    "dum=np.array(dum)\n",
    "frac=len(dum[dum>1e3/3e5])/len(dum)*100\n",
    "print(frac)\n",
    "\n",
    "dum=[bla for ap in anetdispz[0] for bla in ap ]\n",
    "dum=np.array(dum)\n",
    "frac=len(dum[dum>1e3/3e5])/len(dum)*100\n",
    "print(frac)\n",
    "\n",
    "dum=[bla for ap in anetdispznew[1] for bla in ap ]\n",
    "dum=np.array(dum)\n",
    "frac=len(dum[dum>1e3/3e5])/len(dum)*100\n",
    "print(frac)\n",
    "\n",
    "dum=[bla for ap in anetdispznew[0] for bla in ap ]\n",
    "dum=np.array(dum)\n",
    "frac=len(dum[dum>1e3/3e5])/len(dum)*100\n",
    "print(frac)"
   ]
  },
  {
   "cell_type": "code",
   "execution_count": 163,
   "id": "e4bd2441-a3d2-47b7-870a-511198427066",
   "metadata": {
    "tags": []
   },
   "outputs": [
    {
     "data": {
      "text/plain": [
       "<matplotlib.legend.Legend at 0x7fe3c9a57760>"
      ]
     },
     "execution_count": 163,
     "metadata": {},
     "output_type": "execute_result"
    },
    {
     "data": {
      "image/png": "[encoded data removed]",
      "text/plain": [
       "<Figure size 640x480 with 1 Axes>"
      ]
     },
     "metadata": {},
     "output_type": "display_data"
    }
   ],
   "source": [
    "plt.hist([bla for ap in anetdispznew[1] for bla in ap ],bins=np.linspace(0,1.6,40),label='$\\Delta\\chi^2>25$')\n",
    "plt.hist([bla for ap in anetdispznew[0] for bla in ap ],bins=np.linspace(0,1.6,40),label='$\\Delta\\chi^2>40$')\n",
    "plt.title('new penalty')\n",
    "plt.yscale('log')\n",
    "plt.xlabel('$\\Delta Z$ Dispersion')\n",
    "plt.ylabel('# of targets')\n",
    "plt.legend()"
   ]
  },
  {
   "cell_type": "code",
   "execution_count": 164,
   "id": "f1e5e1ab-e5d8-4cea-8ac6-07f3f719a772",
   "metadata": {
    "tags": []
   },
   "outputs": [
    {
     "data": {
      "text/plain": [
       "<matplotlib.legend.Legend at 0x7fe3c3e6d2d0>"
      ]
     },
     "execution_count": 164,
     "metadata": {},
     "output_type": "execute_result"
    },
    {
     "data": {
      "image/png": "[encoded data removed]",
      "text/plain": [
       "<Figure size 640x480 with 1 Axes>"
      ]
     },
     "metadata": {},
     "output_type": "display_data"
    }
   ],
   "source": [
    "plt.hist([bla for ap in anetdispz[0] for bla in ap ],bins=np.linspace(0,1.6,40),label='old penalty',alpha=0.5)\n",
    "plt.hist([bla for ap in anetdispznew[0] for bla in ap ],bins=np.linspace(0,1.6,40),label='new penalty',alpha=0.5)\n",
    "plt.title('$\\Delta\\chi^2>=40$')\n",
    "plt.yscale('log')\n",
    "plt.xlabel('$\\Delta Z$ Dispersion')\n",
    "plt.ylabel('# of targets')\n",
    "plt.legend()"
   ]
  },
  {
   "cell_type": "code",
   "execution_count": 165,
   "id": "62dee9ac-b916-44f8-843b-a7b48d05e488",
   "metadata": {
    "tags": []
   },
   "outputs": [
    {
     "data": {
      "text/plain": [
       "<matplotlib.legend.Legend at 0x7fe3c3e30700>"
      ]
     },
     "execution_count": 165,
     "metadata": {},
     "output_type": "execute_result"
    },
    {
     "data": {
      "image/png": "[encoded data removed]",
      "text/plain": [
       "<Figure size 640x480 with 1 Axes>"
      ]
     },
     "metadata": {},
     "output_type": "display_data"
    }
   ],
   "source": [
    "plt.hist([bla for ap in anetdispz[1] for bla in ap ],bins=np.linspace(0,0.01,20),label='old penalty',alpha=0.5)\n",
    "plt.hist([bla for ap in anetdispznew[1] for bla in ap ],bins=np.linspace(0,0.01,20),label='new penalty',alpha=0.5)\n",
    "plt.title('$\\Delta\\chi^2>25$')\n",
    "plt.yscale('log')\n",
    "plt.xlabel('$\\Delta Z$ Dispersion')\n",
    "plt.ylabel('# of targets')\n",
    "plt.legend()"
   ]
  },
  {
   "cell_type": "code",
   "execution_count": 166,
   "id": "0d49a131-f3bd-405c-87f8-c4d02782e06f",
   "metadata": {
    "tags": []
   },
   "outputs": [
    {
     "data": {
      "text/plain": [
       "<matplotlib.legend.Legend at 0x7fe3c34409a0>"
      ]
     },
     "execution_count": 166,
     "metadata": {},
     "output_type": "execute_result"
    },
    {
     "data": {
      "image/png": "[encoded data removed]",
      "text/plain": [
       "<Figure size 640x480 with 1 Axes>"
      ]
     },
     "metadata": {},
     "output_type": "display_data"
    }
   ],
   "source": [
    "plt.hist([bla for ap in anetdispz[0] for bla in ap ],bins=np.linspace(0,0.01,20),label='old penalty',alpha=0.5)\n",
    "plt.hist([bla for ap in anetdispznew[0] for bla in ap ],bins=np.linspace(0,0.01,20),label='new penalty',alpha=0.5)\n",
    "plt.title('$\\Delta\\chi^2>40$')\n",
    "plt.yscale('log')\n",
    "plt.xlabel('$\\Delta Z$ Dispersion')\n",
    "plt.ylabel('# of targets')\n",
    "plt.legend()"
   ]
  },
  {
   "cell_type": "code",
   "execution_count": 167,
   "id": "b4703c24-ba7a-43a4-8378-8fee56bc9d93",
   "metadata": {
    "tags": []
   },
   "outputs": [
    {
     "data": {
      "text/plain": [
       "<matplotlib.legend.Legend at 0x7fe3c8626fb0>"
      ]
     },
     "execution_count": 167,
     "metadata": {},
     "output_type": "execute_result"
    },
    {
     "data": {
      "image/png": "[encoded data removed]",
      "text/plain": [
       "<Figure size 640x480 with 1 Axes>"
      ]
     },
     "metadata": {},
     "output_type": "display_data"
    }
   ],
   "source": [
    "plt.hist([bla for ap in anetdispz[1] for bla in ap ],bins=np.linspace(0,1.6,40),label='old penalty',alpha=0.5)\n",
    "plt.hist([bla for ap in anetdispznew[1] for bla in ap ],bins=np.linspace(0,1.6,40),label='new penalty',alpha=0.5)\n",
    "plt.title('$\\Delta\\chi^2>25$')\n",
    "plt.yscale('log')\n",
    "plt.xlabel('$\\Delta Z$ Dispersion')\n",
    "plt.ylabel('# of targets')\n",
    "plt.legend()"
   ]
  }
 ],
 "metadata": {
  "kernelspec": {
   "display_name": "DESI master",
   "language": "python",
   "name": "desi-master"
  },
  "language_info": {
   "codemirror_mode": {
    "name": "ipython",
    "version": 3
   },
   "file_extension": ".py",
   "mimetype": "text/x-python",
   "name": "python",
   "nbconvert_exporter": "python",
   "pygments_lexer": "ipython3",
   "version": "3.10.8"
  }
 },
 "nbformat": 4,
 "nbformat_minor": 5
}
