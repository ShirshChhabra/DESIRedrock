{
 "cells": [
  {
   "cell_type": "code",
   "execution_count": 95,
   "id": "b874a36d-0471-4cce-b728-ced8b4019185",
   "metadata": {},
   "outputs": [],
   "source": [
    "import fitsio\n",
    "from astropy.io import fits\n",
    "import matplotlib.pyplot as plt\n",
    "import astropy.table as t\n",
    "# importing all modules\n",
    "import os\n",
    "import fitsio\n",
    "import matplotlib.pyplot as plt\n",
    "import glob\n",
    "from astropy.io import fits\n",
    "import numpy as np\n",
    "import astropy.table as t\n",
    "import subprocess\n",
    "import json \n",
    "import scipy.optimize as so\n",
    "from scipy.integrate import odeint\n",
    "import numpy.ma as ma\n",
    "from scipy.stats import linregress\n",
    "import pandas as pd\n",
    "from scipy.stats import binned_statistic as bn\n",
    "import pickle"
   ]
  },
  {
   "cell_type": "code",
   "execution_count": 96,
   "id": "fa85f940-5b2c-435c-a8ea-d9e017338b5b",
   "metadata": {},
   "outputs": [
    {
     "name": "stdout",
     "output_type": "stream",
     "text": [
      "TILEID\n",
      "------\n",
      " 80605\n",
      " 80609\n",
      "TILEID\n",
      "------\n",
      " 80606\n",
      " 80608\n",
      " 80610\n"
     ]
    }
   ],
   "source": [
    "# checking which tiles have truth tables\n",
    "trutab=t.Table.read('/global/cfs/cdirs/desi/sv/vi/TruthTables/Fuji/ELG/220505_ELG_SV1_blanc_and_Fuji_v1.csv')\n",
    "trutab2=t.Table.read('/global/cfs/cdirs/desi/sv/vi/TruthTables/Fuji/LRG/220505_LRG_SV1_blanc_and_Fuji_v1.csv')\n",
    "print(np.unique(trutab2['TILEID']))\n",
    "print(np.unique(trutab['TILEID']))"
   ]
  },
  {
   "cell_type": "code",
   "execution_count": 97,
   "id": "ea521940-063b-4113-9405-1cf1a6a5e6c7",
   "metadata": {},
   "outputs": [],
   "source": [
    "#demo tile (filename) taken from Rafaella'S code\n",
    "# filename='/global/cfs/cdirs/desi/spectro/redux/fuji/tiles/cumulative/80618/20210328/emline-1-80618-thru20210328.fits'"
   ]
  },
  {
   "cell_type": "code",
   "execution_count": 98,
   "id": "a1ee7f56-2dac-438d-8695-afa2a25bb717",
   "metadata": {},
   "outputs": [],
   "source": [
    "#filenames for tiles with truth tables\n",
    "emlist=glob.glob('/global/cfs/cdirs/desi/spectro/redux/fuji/tiles/cumulative/80610/*/emline*.fits')"
   ]
  },
  {
   "cell_type": "code",
   "execution_count": 99,
   "id": "a3c06830-e204-446f-89a0-44806f2016a7",
   "metadata": {},
   "outputs": [
    {
     "data": {
      "text/plain": [
       "10"
      ]
     },
     "execution_count": 99,
     "metadata": {},
     "output_type": "execute_result"
    }
   ],
   "source": [
    "len(emlist)"
   ]
  },
  {
   "cell_type": "code",
   "execution_count": 100,
   "id": "91349251-91a9-4c98-a6ee-d25fabfa8d3c",
   "metadata": {
    "scrolled": true,
    "tags": []
   },
   "outputs": [
    {
     "name": "stdout",
     "output_type": "stream",
     "text": [
      "\n",
      "XTENSION= 'BINTABLE'           / binary table extension\n",
      "BITPIX  =                    8 / 8-bit bytes\n",
      "NAXIS   =                    2 / 2-dimensional binary table\n",
      "NAXIS1  =                  345 / width of table in bytes\n",
      "NAXIS2  =                  500 / number of rows in table\n",
      "PCOUNT  =                    0 / size of special data area\n",
      "GCOUNT  =                    1 / one data group (required keyword)\n",
      "TFIELDS =                   80 / number of fields in each row\n",
      "TTYPE1  = 'TARGETID'           / label for field   1\n",
      "TFORM1  = 'K'                  / data format of field: 8-byte INTEGER\n",
      "TTYPE2  = 'Z'                  / label for field   2\n",
      "TFORM2  = 'D'                  / data format of field: 8-byte DOUBLE\n",
      "TTYPE3  = 'ZWARN'              / label for field   3\n",
      "TFORM3  = 'K'                  / data format of field: 8-byte INTEGER\n",
      "TTYPE4  = 'SPECTYPE'           / label for field   4\n",
      "TFORM4  = '6A'                 / data format of field: ASCII Character\n",
      "TTYPE5  = 'DELTACHI2'          / label for field   5\n",
      "TFORM5  = 'D'                  / data format of field: 8-byte DOUBLE\n",
      "TTYPE6  = 'TARGET_RA'          / label for field   6\n",
      "TFORM6  = 'D'                  / data format of field: 8-byte DOUBLE\n",
      "TTYPE7  = 'TARGET_DEC'         / label for field   7\n",
      "TFORM7  = 'D'                  / data format of field: 8-byte DOUBLE\n",
      "TTYPE8  = 'OBJTYPE'            / label for field   8\n",
      "TFORM8  = '3A'                 / data format of field: ASCII Character\n",
      "TTYPE9  = 'OII_FLUX'           / label for field   9\n",
      "TFORM9  = 'E'                  / data format of field: 4-byte REAL\n",
      "TTYPE10 = 'OII_FLUX_IVAR'      / label for field  10\n",
      "TFORM10 = 'E'                  / data format of field: 4-byte REAL\n",
      "TTYPE11 = 'OII_SIGMA'          / label for field  11\n",
      "TFORM11 = 'E'                  / data format of field: 4-byte REAL\n",
      "TTYPE12 = 'OII_SIGMA_IVAR'     / label for field  12\n",
      "TFORM12 = 'E'                  / data format of field: 4-byte REAL\n",
      "TTYPE13 = 'OII_CONT'           / label for field  13\n",
      "TFORM13 = 'E'                  / data format of field: 4-byte REAL\n",
      "TTYPE14 = 'OII_CONT_IVAR'      / label for field  14\n",
      "TFORM14 = 'E'                  / data format of field: 4-byte REAL\n",
      "TTYPE15 = 'OII_SHARE'          / label for field  15\n",
      "TFORM15 = 'E'                  / data format of field: 4-byte REAL\n",
      "TTYPE16 = 'OII_SHARE_IVAR'     / label for field  16\n",
      "TFORM16 = 'E'                  / data format of field: 4-byte REAL\n",
      "TTYPE17 = 'OII_EW'             / label for field  17\n",
      "TFORM17 = 'E'                  / data format of field: 4-byte REAL\n",
      "TTYPE18 = 'OII_EW_IVAR'        / label for field  18\n",
      "TFORM18 = 'E'                  / data format of field: 4-byte REAL\n",
      "TTYPE19 = 'OII_CHI2'           / label for field  19\n",
      "TFORM19 = 'E'                  / data format of field: 4-byte REAL\n",
      "TTYPE20 = 'OII_NDOF'           / label for field  20\n",
      "TFORM20 = 'J'                  / data format of field: 4-byte INTEGER\n",
      "TTYPE21 = 'HDELTA_FLUX'        / label for field  21\n",
      "TFORM21 = 'E'                  / data format of field: 4-byte REAL\n",
      "TTYPE22 = 'HDELTA_FLUX_IVAR'   / label for field  22\n",
      "TFORM22 = 'E'                  / data format of field: 4-byte REAL\n",
      "TTYPE23 = 'HDELTA_SIGMA'       / label for field  23\n",
      "TFORM23 = 'E'                  / data format of field: 4-byte REAL\n",
      "TTYPE24 = 'HDELTA_SIGMA_IVAR'  / label for field  24\n",
      "TFORM24 = 'E'                  / data format of field: 4-byte REAL\n",
      "TTYPE25 = 'HDELTA_CONT'        / label for field  25\n",
      "TFORM25 = 'E'                  / data format of field: 4-byte REAL\n",
      "TTYPE26 = 'HDELTA_CONT_IVAR'   / label for field  26\n",
      "TFORM26 = 'E'                  / data format of field: 4-byte REAL\n",
      "TTYPE27 = 'HDELTA_SHARE'       / label for field  27\n",
      "TFORM27 = 'E'                  / data format of field: 4-byte REAL\n",
      "TTYPE28 = 'HDELTA_SHARE_IVAR'  / label for field  28\n",
      "TFORM28 = 'E'                  / data format of field: 4-byte REAL\n",
      "TTYPE29 = 'HDELTA_EW'          / label for field  29\n",
      "TFORM29 = 'E'                  / data format of field: 4-byte REAL\n",
      "TTYPE30 = 'HDELTA_EW_IVAR'     / label for field  30\n",
      "TFORM30 = 'E'                  / data format of field: 4-byte REAL\n",
      "TTYPE31 = 'HDELTA_CHI2'        / label for field  31\n",
      "TFORM31 = 'E'                  / data format of field: 4-byte REAL\n",
      "TTYPE32 = 'HDELTA_NDOF'        / label for field  32\n",
      "TFORM32 = 'J'                  / data format of field: 4-byte INTEGER\n",
      "TTYPE33 = 'HGAMMA_FLUX'        / label for field  33\n",
      "TFORM33 = 'E'                  / data format of field: 4-byte REAL\n",
      "TTYPE34 = 'HGAMMA_FLUX_IVAR'   / label for field  34\n",
      "TFORM34 = 'E'                  / data format of field: 4-byte REAL\n",
      "TTYPE35 = 'HGAMMA_SIGMA'       / label for field  35\n",
      "TFORM35 = 'E'                  / data format of field: 4-byte REAL\n",
      "TTYPE36 = 'HGAMMA_SIGMA_IVAR'  / label for field  36\n",
      "TFORM36 = 'E'                  / data format of field: 4-byte REAL\n",
      "TTYPE37 = 'HGAMMA_CONT'        / label for field  37\n",
      "TFORM37 = 'E'                  / data format of field: 4-byte REAL\n",
      "TTYPE38 = 'HGAMMA_CONT_IVAR'   / label for field  38\n",
      "TFORM38 = 'E'                  / data format of field: 4-byte REAL\n",
      "TTYPE39 = 'HGAMMA_SHARE'       / label for field  39\n",
      "TFORM39 = 'E'                  / data format of field: 4-byte REAL\n",
      "TTYPE40 = 'HGAMMA_SHARE_IVAR'  / label for field  40\n",
      "TFORM40 = 'E'                  / data format of field: 4-byte REAL\n",
      "TTYPE41 = 'HGAMMA_EW'          / label for field  41\n",
      "TFORM41 = 'E'                  / data format of field: 4-byte REAL\n",
      "TTYPE42 = 'HGAMMA_EW_IVAR'     / label for field  42\n",
      "TFORM42 = 'E'                  / data format of field: 4-byte REAL\n",
      "TTYPE43 = 'HGAMMA_CHI2'        / label for field  43\n",
      "TFORM43 = 'E'                  / data format of field: 4-byte REAL\n",
      "TTYPE44 = 'HGAMMA_NDOF'        / label for field  44\n",
      "TFORM44 = 'J'                  / data format of field: 4-byte INTEGER\n",
      "TTYPE45 = 'HBETA_FLUX'         / label for field  45\n",
      "TFORM45 = 'E'                  / data format of field: 4-byte REAL\n",
      "TTYPE46 = 'HBETA_FLUX_IVAR'    / label for field  46\n",
      "TFORM46 = 'E'                  / data format of field: 4-byte REAL\n",
      "TTYPE47 = 'HBETA_SIGMA'        / label for field  47\n",
      "TFORM47 = 'E'                  / data format of field: 4-byte REAL\n",
      "TTYPE48 = 'HBETA_SIGMA_IVAR'   / label for field  48\n",
      "TFORM48 = 'E'                  / data format of field: 4-byte REAL\n",
      "TTYPE49 = 'HBETA_CONT'         / label for field  49\n",
      "TFORM49 = 'E'                  / data format of field: 4-byte REAL\n",
      "TTYPE50 = 'HBETA_CONT_IVAR'    / label for field  50\n",
      "TFORM50 = 'E'                  / data format of field: 4-byte REAL\n",
      "TTYPE51 = 'HBETA_SHARE'        / label for field  51\n",
      "TFORM51 = 'E'                  / data format of field: 4-byte REAL\n",
      "TTYPE52 = 'HBETA_SHARE_IVAR'   / label for field  52\n",
      "TFORM52 = 'E'                  / data format of field: 4-byte REAL\n",
      "TTYPE53 = 'HBETA_EW'           / label for field  53\n",
      "TFORM53 = 'E'                  / data format of field: 4-byte REAL\n",
      "TTYPE54 = 'HBETA_EW_IVAR'      / label for field  54\n",
      "TFORM54 = 'E'                  / data format of field: 4-byte REAL\n",
      "TTYPE55 = 'HBETA_CHI2'         / label for field  55\n",
      "TFORM55 = 'E'                  / data format of field: 4-byte REAL\n",
      "TTYPE56 = 'HBETA_NDOF'         / label for field  56\n",
      "TFORM56 = 'J'                  / data format of field: 4-byte INTEGER\n",
      "TTYPE57 = 'OIII_FLUX'          / label for field  57\n",
      "TFORM57 = 'E'                  / data format of field: 4-byte REAL\n",
      "TTYPE58 = 'OIII_FLUX_IVAR'     / label for field  58\n",
      "TFORM58 = 'E'                  / data format of field: 4-byte REAL\n",
      "TTYPE59 = 'OIII_SIGMA'         / label for field  59\n",
      "TFORM59 = 'E'                  / data format of field: 4-byte REAL\n",
      "TTYPE60 = 'OIII_SIGMA_IVAR'    / label for field  60\n",
      "TFORM60 = 'E'                  / data format of field: 4-byte REAL\n",
      "TTYPE61 = 'OIII_CONT'          / label for field  61\n",
      "TFORM61 = 'E'                  / data format of field: 4-byte REAL\n",
      "TTYPE62 = 'OIII_CONT_IVAR'     / label for field  62\n",
      "TFORM62 = 'E'                  / data format of field: 4-byte REAL\n",
      "TTYPE63 = 'OIII_SHARE'         / label for field  63\n",
      "TFORM63 = 'E'                  / data format of field: 4-byte REAL\n",
      "TTYPE64 = 'OIII_SHARE_IVAR'    / label for field  64\n",
      "TFORM64 = 'E'                  / data format of field: 4-byte REAL\n",
      "TTYPE65 = 'OIII_EW'            / label for field  65\n",
      "TFORM65 = 'E'                  / data format of field: 4-byte REAL\n",
      "TTYPE66 = 'OIII_EW_IVAR'       / label for field  66\n",
      "TFORM66 = 'E'                  / data format of field: 4-byte REAL\n",
      "TTYPE67 = 'OIII_CHI2'          / label for field  67\n",
      "TFORM67 = 'E'                  / data format of field: 4-byte REAL\n",
      "TTYPE68 = 'OIII_NDOF'          / label for field  68\n",
      "TFORM68 = 'J'                  / data format of field: 4-byte INTEGER\n",
      "TTYPE69 = 'HALPHA_FLUX'        / label for field  69\n",
      "TFORM69 = 'E'                  / data format of field: 4-byte REAL\n",
      "TTYPE70 = 'HALPHA_FLUX_IVAR'   / label for field  70\n",
      "TFORM70 = 'E'                  / data format of field: 4-byte REAL\n",
      "TTYPE71 = 'HALPHA_SIGMA'       / label for field  71\n",
      "TFORM71 = 'E'                  / data format of field: 4-byte REAL\n",
      "TTYPE72 = 'HALPHA_SIGMA_IVAR'  / label for field  72\n",
      "TFORM72 = 'E'                  / data format of field: 4-byte REAL\n",
      "TTYPE73 = 'HALPHA_CONT'        / label for field  73\n",
      "TFORM73 = 'E'                  / data format of field: 4-byte REAL\n",
      "TTYPE74 = 'HALPHA_CONT_IVAR'   / label for field  74\n",
      "TFORM74 = 'E'                  / data format of field: 4-byte REAL\n",
      "TTYPE75 = 'HALPHA_SHARE'       / label for field  75\n",
      "TFORM75 = 'E'                  / data format of field: 4-byte REAL\n",
      "TTYPE76 = 'HALPHA_SHARE_IVAR'  / label for field  76\n",
      "TFORM76 = 'E'                  / data format of field: 4-byte REAL\n",
      "TTYPE77 = 'HALPHA_EW'          / label for field  77\n",
      "TFORM77 = 'E'                  / data format of field: 4-byte REAL\n",
      "TTYPE78 = 'HALPHA_EW_IVAR'     / label for field  78\n",
      "TFORM78 = 'E'                  / data format of field: 4-byte REAL\n",
      "TTYPE79 = 'HALPHA_CHI2'        / label for field  79\n",
      "TFORM79 = 'E'                  / data format of field: 4-byte REAL\n",
      "TTYPE80 = 'HALPHA_NDOF'        / label for field  80\n",
      "TFORM80 = 'J'                  / data format of field: 4-byte INTEGER\n",
      "EXTNAME = 'EMLINEFIT'          / name of this binary table extension\n",
      "RRFN    = '/global/cfs/cdirs/desi/spectro/redux/fuji/tiles/cumulative/80610/202'\n",
      "COADDFN = '/global/cfs/cdirs/desi/spectro/redux/fuji/tiles/cumulative/80610/202'\n",
      "RFHW    =                   40 / \n",
      "MINRFHW =                   20 / \n",
      "RFCONTW =                  200 / \n",
      "RV      =                  3.1 / \n",
      "EMNAMES = 'OII,HDELTA,HGAMMA,HBETA,OIII,HALPHA' / \n",
      "RFWAVE00= '3727.092,3729.874'  / \n",
      "RFWAVE01= '4102.892'           / \n",
      "RFWAVE02= '4341.684'           / \n",
      "RFWAVE03= '4862.683'           / \n",
      "RFWAVE04= '4960.295,5008.239'  / \n",
      "RFWAVE05= '6564.613'           / \n"
     ]
    }
   ],
   "source": [
    "# reading each fits file in emfit output\n",
    "for filename in emlist:\n",
    "    emread1= fitsio.FITS(filename)\n",
    "print(emread1[1].read_header())"
   ]
  },
  {
   "cell_type": "code",
   "execution_count": 101,
   "id": "25e21084-242f-47af-994b-5c8c8c1ff2d9",
   "metadata": {},
   "outputs": [],
   "source": [
    "# reading each fits file in emfit output 2\n",
    "emtable=t.Table()\n",
    "for filename in emlist:\n",
    "    emread2=fits.open(filename)\n",
    "    dumtable=t.Table.read(emread2[1])\n",
    "    emtable=t.vstack([dumtable,emtable])"
   ]
  },
  {
   "cell_type": "code",
   "execution_count": 102,
   "id": "5cb03a05-3817-4855-a843-f492f86e56ed",
   "metadata": {},
   "outputs": [
    {
     "data": {
      "text/plain": [
       "5000"
      ]
     },
     "execution_count": 102,
     "metadata": {},
     "output_type": "execute_result"
    }
   ],
   "source": [
    "len(emtable)"
   ]
  },
  {
   "cell_type": "code",
   "execution_count": 103,
   "id": "331c7756-2690-4599-bdea-179f9a5cc175",
   "metadata": {},
   "outputs": [
    {
     "data": {
      "text/plain": [
       "(array([3897.,    0.,    0.,    0.,    0.,  911.,    0.,    0.,    0.,\n",
       "         192.]),\n",
       " array([0. , 0.2, 0.4, 0.6, 0.8, 1. , 1.2, 1.4, 1.6, 1.8, 2. ]),\n",
       " <BarContainer object of 10 artists>)"
      ]
     },
     "execution_count": 103,
     "metadata": {},
     "output_type": "execute_result"
    },
    {
     "data": {
      "image/png": "[encoded data removed]",
      "text/plain": [
       "<Figure size 432x288 with 1 Axes>"
      ]
     },
     "metadata": {
      "needs_background": "light"
     },
     "output_type": "display_data"
    }
   ],
   "source": [
    "spectype=emtable['SPECTYPE']\n",
    "zwarn=emtable['ZWARN'][spectype=='GALAXY']\n",
    "delchi2=emtable['DELTACHI2'][spectype=='GALAXY']\n",
    "flo2=emtable['OII_FLUX'][spectype=='GALAXY']\n",
    "sigo2=emtable['OII_SIGMA'][spectype=='GALAXY']\n",
    "flo3=emtable['OIII_FLUX'][spectype=='GALAXY']\n",
    "sigo3=emtable['OIII_SIGMA'][spectype=='GALAXY']\n",
    "ivaro2=emtable['OII_FLUX_IVAR'][spectype=='GALAXY']\n",
    "ivaro3=emtable['OIII_FLUX_IVAR'][spectype=='GALAXY']\n",
    "plt.hist(spectype)"
   ]
  },
  {
   "cell_type": "code",
   "execution_count": 104,
   "id": "3c1cb1bc-7f83-493c-abe0-970deeb9aeac",
   "metadata": {},
   "outputs": [
    {
     "data": {
      "text/plain": [
       "(array([  0.,   0.,   0.,   0.,   0.,   0.,   0.,   0.,   0.,   0.,   0.,\n",
       "          0.,   0.,   0.,   0.,   0.,   0.,   0.,   0.,   0.,   0.,   0.,\n",
       "          0.,   0.,   0.,   0.,   0.,   0.,   0.,   0.,   0.,   0.,   0.,\n",
       "          0.,   0.,   0.,   0.,   0.,   0.,   0.,   0.,   0.,   0.,   0.,\n",
       "          0.,   0.,   0.,   0.,   0.,   0.,   0.,   0.,   0.,   0.,   0.,\n",
       "          0.,   0.,   0.,   0.,   0.,   0.,   0.,   0.,   0.,   0.,   0.,\n",
       "          0.,   0.,   0.,   0.,   1.,   1.,   0.,   0.,   3.,   1.,  12.,\n",
       "        526., 434., 267., 153.,  95.,  60.,  45.,  40.,  25.,  16.,  15.,\n",
       "         15.,  10.,  11.,  10.,   6.,   6.,   7.,   7.,   3.,   3.,   4.,\n",
       "          2.,   2.,   2.,   2.,   3.,   2.,   2.,   1.,   0.,   1.,   0.,\n",
       "          3.,   0.,   0.,   0.,   1.,   0.,   0.,   0.,   2.,   0.,   1.,\n",
       "          1.,   0.,   0.,   0.,   0.,   1.,   0.,   0.,   0.,   1.,   0.,\n",
       "          0.,   0.,   0.,   0.,   0.,   1.,   0.,   0.,   0.,   1.,   0.,\n",
       "          1.,   0.,   0.,   1.,   1.,   0.,   0.,   0.,   2.,   0.,   0.]),\n",
       " array([-155, -153, -151, -149, -147, -145, -143, -141, -139, -137, -135,\n",
       "        -133, -131, -129, -127, -125, -123, -121, -119, -117, -115, -113,\n",
       "        -111, -109, -107, -105, -103, -101,  -99,  -97,  -95,  -93,  -91,\n",
       "         -89,  -87,  -85,  -83,  -81,  -79,  -77,  -75,  -73,  -71,  -69,\n",
       "         -67,  -65,  -63,  -61,  -59,  -57,  -55,  -53,  -51,  -49,  -47,\n",
       "         -45,  -43,  -41,  -39,  -37,  -35,  -33,  -31,  -29,  -27,  -25,\n",
       "         -23,  -21,  -19,  -17,  -15,  -13,  -11,   -9,   -7,   -5,   -3,\n",
       "          -1,    1,    3,    5,    7,    9,   11,   13,   15,   17,   19,\n",
       "          21,   23,   25,   27,   29,   31,   33,   35,   37,   39,   41,\n",
       "          43,   45,   47,   49,   51,   53,   55,   57,   59,   61,   63,\n",
       "          65,   67,   69,   71,   73,   75,   77,   79,   81,   83,   85,\n",
       "          87,   89,   91,   93,   95,   97,   99,  101,  103,  105,  107,\n",
       "         109,  111,  113,  115,  117,  119,  121,  123,  125,  127,  129,\n",
       "         131,  133,  135,  137,  139,  141,  143,  145,  147,  149,  151,\n",
       "         153]),\n",
       " <BarContainer object of 154 artists>)"
      ]
     },
     "execution_count": 104,
     "metadata": {},
     "output_type": "execute_result"
    },
    {
     "data": {
      "image/png": "[encoded data removed]",
      "text/plain": [
       "<Figure size 432x288 with 1 Axes>"
      ]
     },
     "metadata": {
      "needs_background": "light"
     },
     "output_type": "display_data"
    }
   ],
   "source": [
    "plt.hist(flo2/sigo2,bins=np.arange(-155,155,2),alpha=0.5)\n",
    "plt.hist(flo3/sigo3,bins=np.arange(-155,155,2),alpha=0.5)"
   ]
  },
  {
   "cell_type": "code",
   "execution_count": 105,
   "id": "edab92fb-b242-4d84-ab0a-b8e0beefdbe5",
   "metadata": {},
   "outputs": [
    {
     "data": {
      "text/plain": [
       "<matplotlib.legend.Legend at 0x15551661d9d0>"
      ]
     },
     "execution_count": 105,
     "metadata": {},
     "output_type": "execute_result"
    },
    {
     "data": {
      "image/png": "[encoded data removed]",
      "text/plain": [
       "<Figure size 432x288 with 1 Axes>"
      ]
     },
     "metadata": {
      "needs_background": "light"
     },
     "output_type": "display_data"
    }
   ],
   "source": [
    "plt.hist(flo2*ivaro2**0.5,bins=np.arange(-10,10,.2),alpha=0.5,label='OII')\n",
    "plt.hist(flo3*ivaro3**0.5,bins=np.arange(-10,10,.2),alpha=0.5,label='OIII')\n",
    "plt.xlim(-10,10)\n",
    "plt.legend()"
   ]
  },
  {
   "cell_type": "code",
   "execution_count": 106,
   "id": "6ddeb71e-9429-4acc-8630-2cd5df8b65cc",
   "metadata": {},
   "outputs": [
    {
     "name": "stdout",
     "output_type": "stream",
     "text": [
      "0.025749423520368946\n",
      "0.021137586471944657\n"
     ]
    },
    {
     "data": {
      "image/png": "[encoded data removed]",
      "text/plain": [
       "<Figure size 432x288 with 1 Axes>"
      ]
     },
     "metadata": {
      "needs_background": "light"
     },
     "output_type": "display_data"
    }
   ],
   "source": [
    "good=(zwarn==0)&(delchi2>40)\n",
    "plt.hist(flo2[good]*ivaro2[good]**0.5,bins=np.arange(-40,40,.2),alpha=0.5,label='OII')\n",
    "plt.hist(flo3[good]*ivaro3[good]**0.5,bins=np.arange(-40,40,.2),alpha=0.5,label='OIII')\n",
    "plt.xlim(-40,40)\n",
    "plt.legend()\n",
    "print(np.sum(flo2[good]*ivaro2[good]**0.5<3)/np.sum(good))\n",
    "print(np.sum(flo3[good]*ivaro3[good]**0.5<3)/np.sum(good))"
   ]
  },
  {
   "cell_type": "code",
   "execution_count": 107,
   "id": "5973eaf3-fa51-4765-a0b0-f5e0adc0568d",
   "metadata": {},
   "outputs": [
    {
     "data": {
      "text/html": [
       "&lt;MaskedColumn name=&apos;OII_FLUX_IVAR&apos; dtype=&apos;float32&apos; length=3897&gt;\n",
       "<table>\n",
       "<tr><td>2.1781898</td></tr>\n",
       "<tr><td>9.876283</td></tr>\n",
       "<tr><td>7.379619</td></tr>\n",
       "<tr><td>8.128761</td></tr>\n",
       "<tr><td>10.533537</td></tr>\n",
       "<tr><td>5.6001954</td></tr>\n",
       "<tr><td>9.061078</td></tr>\n",
       "<tr><td>0.19983253</td></tr>\n",
       "<tr><td>2.4820395</td></tr>\n",
       "<tr><td>0.05031181</td></tr>\n",
       "<tr><td>12.15505</td></tr>\n",
       "<tr><td>12.005175</td></tr>\n",
       "<tr><td>...</td></tr>\n",
       "<tr><td>5.492769</td></tr>\n",
       "<tr><td>4.9255195</td></tr>\n",
       "<tr><td>0.84469104</td></tr>\n",
       "<tr><td>5.362877</td></tr>\n",
       "<tr><td>17.690096</td></tr>\n",
       "<tr><td>10.395211</td></tr>\n",
       "<tr><td>--</td></tr>\n",
       "<tr><td>1.5749444</td></tr>\n",
       "<tr><td>8.990093</td></tr>\n",
       "<tr><td>6.662373</td></tr>\n",
       "<tr><td>3.7571466</td></tr>\n",
       "<tr><td>7.795846</td></tr>\n",
       "</table>"
      ],
      "text/plain": [
       "<MaskedColumn name='OII_FLUX_IVAR' dtype='float32' length=3897>\n",
       " 2.1781898\n",
       "  9.876283\n",
       "  7.379619\n",
       "  8.128761\n",
       " 10.533537\n",
       " 5.6001954\n",
       "  9.061078\n",
       "0.19983253\n",
       " 2.4820395\n",
       "0.05031181\n",
       "  12.15505\n",
       " 12.005175\n",
       "       ...\n",
       "  5.492769\n",
       " 4.9255195\n",
       "0.84469104\n",
       "  5.362877\n",
       " 17.690096\n",
       " 10.395211\n",
       "        --\n",
       " 1.5749444\n",
       "  8.990093\n",
       "  6.662373\n",
       " 3.7571466\n",
       "  7.795846"
      ]
     },
     "execution_count": 107,
     "metadata": {},
     "output_type": "execute_result"
    }
   ],
   "source": [
    "ivaro2"
   ]
  },
  {
   "cell_type": "code",
   "execution_count": 108,
   "id": "7a0100a6-a2b0-4e4b-9e7d-f2eb50153f9d",
   "metadata": {},
   "outputs": [
    {
     "name": "stdout",
     "output_type": "stream",
     "text": [
      "6\n",
      "2602\n"
     ]
    },
    {
     "data": {
      "image/png": "[encoded data removed]",
      "text/plain": [
       "<Figure size 432x288 with 1 Axes>"
      ]
     },
     "metadata": {
      "needs_background": "light"
     },
     "output_type": "display_data"
    }
   ],
   "source": [
    "plt.scatter(flo2[good],flo3[good])\n",
    "# plt.xlim(right=0)\n",
    "plt.ylim(-100,200)\n",
    "plt.xlabel('oii')\n",
    "plt.ylabel('oiii')\n",
    "plt.axvline(0)\n",
    "plt.axhline(-3)\n",
    "print(np.sum((flo2[good]*ivaro2[good]**0.5>-3) & (flo3[good]*ivaro3[good]**0.5<-3)))\n",
    "print(np.sum(good))\n"
   ]
  },
  {
   "cell_type": "code",
   "execution_count": 109,
   "id": "c8667714-2466-4acf-ae94-b0eca637adf5",
   "metadata": {},
   "outputs": [
    {
     "data": {
      "text/plain": [
       "Text(0, 0.5, 'oiii')"
      ]
     },
     "execution_count": 109,
     "metadata": {},
     "output_type": "execute_result"
    },
    {
     "data": {
      "image/png": "[encoded data removed]",
      "text/plain": [
       "<Figure size 432x288 with 1 Axes>"
      ]
     },
     "metadata": {
      "needs_background": "light"
     },
     "output_type": "display_data"
    }
   ],
   "source": [
    "plt.scatter(flo2[good]*ivaro2[good]**0.5,flo3[good]*ivaro3[good]**0.5)\n",
    "plt.xlim(right=0)\n",
    "plt.xlabel('oii')\n",
    "plt.ylabel('oiii')"
   ]
  },
  {
   "cell_type": "code",
   "execution_count": 138,
   "id": "bfb22852-a7a3-41b8-ab2e-9b1cbfa2dfd8",
   "metadata": {},
   "outputs": [],
   "source": [
    "def read_tile_catalog(tile_string):\n",
    "    # Read galaxy catalog of a tile including line fit information of all objects\n",
    "    # input: string with the ID of the tile, e.g. \"80605\"\n",
    "    # returns: structured array with catalog of all objects in that tile\n",
    "    \n",
    "    emlist = glob.glob('/global/cfs/cdirs/desi/spectro/redux/fuji/tiles/cumulative/'+tile_string+'/*/emline*.fits')\n",
    "    emtable = t.Table()\n",
    "    for filename in emlist:\n",
    "        emread2=fits.open(filename)\n",
    "        dumtable=t.Table.read(emread2[1])\n",
    "        emtable=t.vstack([dumtable,emtable])\n",
    "    \n",
    "    return emtable\n",
    "\n",
    "def filter_galaxies(catalog):\n",
    "    # Filter catalog to only include galaxy targets among spectype and targets among different, return the filtered catalog\n",
    "    return catalog[(catalog['SPECTYPE']=='GALAXY') & (catalog['OBJTYPE']=='TGT')]\n",
    "\n",
    "def filter_good_fits(catalog, deltachi2=40):\n",
    "    # Filter catalog to only include targets with no ZWARN flag and good deltachi2\n",
    "    \n",
    "    good = (catalog['ZWARN'] == 0) & (catalog['DELTACHI2']>deltachi2)\n",
    "    return catalog[good]\n",
    "\n",
    "def calculate_oii_oiii_matrix(catalog, oIIlimit=-3, oIIIlimit=-3):\n",
    "    \n",
    "    # return normalized matrix of whether OII and OIII fluxes are or are not compatible with physical fit\n",
    "    \n",
    "    matrix = np.zeros(4)\n",
    "    # ordered as 'OII good, OIII good', 'good, bad', 'bad, good', 'bad, bad' where bad means the significance of the respective flux is smaller than the limit passed to the function\n",
    "    \n",
    "    select = (catalog['OII_FLUX']*catalog['OII_FLUX_IVAR']**0.5 > oIIlimit) & (catalog['OIII_FLUX']*catalog['OIII_FLUX_IVAR']**0.5 > oIIIlimit)\n",
    "    matrix[0] = np.sum(select)\n",
    "    \n",
    "    select = (catalog['OII_FLUX']*catalog['OII_FLUX_IVAR']**0.5 > oIIlimit) & (catalog['OIII_FLUX']*catalog['OIII_FLUX_IVAR']**0.5 <= oIIIlimit)\n",
    "    matrix[1] = np.sum(select)\n",
    "    \n",
    "    select = (catalog['OII_FLUX']*catalog['OII_FLUX_IVAR']**0.5 <= oIIlimit) & (catalog['OIII_FLUX']*catalog['OIII_FLUX_IVAR']**0.5 > oIIIlimit)\n",
    "    matrix[2] = np.sum(select)\n",
    "    \n",
    "    select = (catalog['OII_FLUX']*catalog['OII_FLUX_IVAR']**0.5 <= oIIlimit) & (catalog['OIII_FLUX']*catalog['OIII_FLUX_IVAR']**0.5 <= oIIIlimit)\n",
    "    matrix[3] = np.sum(select)\n",
    "    \n",
    "    return matrix/np.sum(matrix)\n",
    "\n",
    "\n",
    "def plot_matrices(matrices):\n",
    "    \n",
    "    matrices = np.array(matrices)\n",
    "    \n",
    "    # plt.hist(matrices[:,0], label=\"good OII & OIII\",color='blue') hidden because we expect it to be -> 1\n",
    "    plt.hist(matrices[:,1], label=\"good OII, bad OIII\",bins=(np.linspace(0,0.1,100)),alpha=0.5)\n",
    "    plt.hist(matrices[:,2], label=\"bad OII, good OIII\",bins=(np.linspace(0,0.1,100)),alpha=0.5)\n",
    "    plt.hist(matrices[:,3], label=\"bad OII & OIII\",bins=(np.linspace(0,0.1,100)),alpha=0.5)\n",
    "    plt.legend()\n",
    "    plt.xlabel('fraction of galaxies')\n",
    "\n",
    "def calculateoiilinestrength(catalog):\n",
    "    return (np.array(catalog['OII_FLUX']*catalog['OII_FLUX_IVAR']**0.5))\n",
    "\n",
    "def calculateoiiilinestrength(catalog):\n",
    "    return (np.array(catalog['OIII_FLUX']*catalog['OIII_FLUX_IVAR']**0.5))\n",
    "    \n"
   ]
  },
  {
   "cell_type": "code",
   "execution_count": 164,
   "id": "82d681ce-e9ee-4fd9-a0a7-009ab8ea7ac8",
   "metadata": {},
   "outputs": [],
   "source": [
    "tiles=[\"80653\",\"80654\",\"80655\",\"80656\",\"80657\",\"80658\",\"80659\",\"80660\",\"80661\",\"80662\",\"80663\",\"80664\",\"80665\",\"80666\",\"80669\",\"80670\",\"80673\",\"80674\",\"80675\",\"80676\",\"80677\",\"80678\",\"80679\",\"80680\",\"80681\",\"80682\",\"80683\",\"80684\",\"80685\",\"80686\",\"80687\",\"80688\",\"80689\",\"80690\",\"80691\",\"80692\",\"80693\",\"80694\",\"80695\",\"80696\",\"80697\",\"80698\",\"80699\",\"80700\",\"80701\",\"80702\",\"80703\",\"80705\",\"80706\",\"80707\",\"80708\",\"80709\",\"80710\",\"80711\",\"80712\",\"80715\",\"80718\",\"80719\",\"80720\",\"80721\",\"80722\",\"80724\",\"80726\",\"80728\",\"80729\",\"80730\",\"80731\",\"80732\",\"80733\",\"80734\",\"80735\",\"80736\",\"80737\",\"80738\",\"80740\",\"80741\",\"80742\",\"80782\",\"80783\",\"80784\",\"80785\",\"80786\",\"80787\",\"80788\",\"80789\",\"80790\",\"80856\",\"80857\",\"80858\",\"80859\",\"80860\",\"80861\",\"80862\",\"80863\",\"80865\",\"80866\",\"80867\",\"80869\",\"80870\",\"80871\",\"80872\",\"80873\",\"80875\",\"80876\",\"80879\",\"80882\",\"80885\",\"80886\",\"80887\",\"80888\",\"80889\",\"80890\",\"80891\",\"80892\",\"80893\",\"80894\",\"80895\",\"80896\",\"80897\",\"80898\",\"80899\",\"80900\",\"80901\",\"80902\",\"80938\",\"80944\",\"80949\",\"80950\",\"80951\",\"80952\",\"80954\",\"80955\",\"80956\",\"80958\",\"80959\",\"80960\",\"80962\",\"80963\",\"80966\",\"80968\",\"80970\",\"80971\",\"80972\",\"80974\",\"80975\",\"81000\",\"81001\",\"81002\",\"81003\",\"81004\",\"81005\",\"81006\",\"81007\",\"81008\",\"81009\",\"81010\",\"81011\",\"81012\",\"81013\",\"81014\",\"81015\",\"81022\",\"81056\",\"81057\",\"81058\",\"81059\",\"81060\",\"81061\",\"81062\",\"81063\",\"81064\",\"81065\",\"81066\",\"81067\",\"81068\",\"81069\",\"81072\",\"81073\",\"81074\",\"81075\",\"81088\",\"81097\",\"81098\",\"81099\",\"81100\",\"81101\",\"81102\",\"81103\",\"81104\",\"81105\",\"81106\",\"81107\",\"81108\",\"81109\",\"81110\",\"81111\",\"81112\",\"81113\",\"81114\",\"81115\"]\n",
    "# tiles=[\"80653\",\"80654\",\"80655\",\"80656\",\"80657\",\"80658\",\"80659\"] # if you want to test a particular file"
   ]
  },
  {
   "cell_type": "code",
   "execution_count": 165,
   "id": "40ee4fd9-afa8-4933-b106-d2e3581615b8",
   "metadata": {
    "scrolled": true,
    "tags": []
   },
   "outputs": [
    {
     "name": "stdout",
     "output_type": "stream",
     "text": [
      "80653\n",
      "80654\n",
      "80655\n",
      "80656\n",
      "80657\n",
      "80658\n",
      "80659\n",
      "80660\n"
     ]
    },
    {
     "name": "stderr",
     "output_type": "stream",
     "text": [
      "WARNING: MergeConflictWarning: Cannot merge meta key 'RRFN' types <class 'str'> and <class 'str'>, choosing RRFN='/global/cfs/cdirs/desi/spectro/redux/fuji/tiles/cumulative/80660/20210131/redrock-5-80660-thru20210131.fits' [astropy.utils.metadata]\n",
      "WARNING: MergeConflictWarning: Cannot merge meta key 'COADDFN' types <class 'str'> and <class 'str'>, choosing COADDFN='/global/cfs/cdirs/desi/spectro/redux/fuji/tiles/cumulative/80660/20210131/coadd-5-80660-thru20210131.fits' [astropy.utils.metadata]\n"
     ]
    },
    {
     "name": "stdout",
     "output_type": "stream",
     "text": [
      "80661\n"
     ]
    },
    {
     "name": "stderr",
     "output_type": "stream",
     "text": [
      "WARNING: MergeConflictWarning: Cannot merge meta key 'RRFN' types <class 'str'> and <class 'str'>, choosing RRFN='/global/cfs/cdirs/desi/spectro/redux/fuji/tiles/cumulative/80661/20210322/redrock-4-80661-thru20210322.fits' [astropy.utils.metadata]\n",
      "WARNING: MergeConflictWarning: Cannot merge meta key 'COADDFN' types <class 'str'> and <class 'str'>, choosing COADDFN='/global/cfs/cdirs/desi/spectro/redux/fuji/tiles/cumulative/80661/20210322/coadd-4-80661-thru20210322.fits' [astropy.utils.metadata]\n"
     ]
    },
    {
     "name": "stdout",
     "output_type": "stream",
     "text": [
      "80662\n"
     ]
    },
    {
     "name": "stderr",
     "output_type": "stream",
     "text": [
      "WARNING: MergeConflictWarning: Cannot merge meta key 'RRFN' types <class 'str'> and <class 'str'>, choosing RRFN='/global/cfs/cdirs/desi/spectro/redux/fuji/tiles/cumulative/80662/20210322/redrock-4-80662-thru20210322.fits' [astropy.utils.metadata]\n",
      "WARNING: MergeConflictWarning: Cannot merge meta key 'COADDFN' types <class 'str'> and <class 'str'>, choosing COADDFN='/global/cfs/cdirs/desi/spectro/redux/fuji/tiles/cumulative/80662/20210322/coadd-4-80662-thru20210322.fits' [astropy.utils.metadata]\n"
     ]
    },
    {
     "name": "stdout",
     "output_type": "stream",
     "text": [
      "80663\n"
     ]
    },
    {
     "name": "stderr",
     "output_type": "stream",
     "text": [
      "WARNING: MergeConflictWarning: Cannot merge meta key 'RRFN' types <class 'str'> and <class 'str'>, choosing RRFN='/global/cfs/cdirs/desi/spectro/redux/fuji/tiles/cumulative/80663/20210322/redrock-6-80663-thru20210322.fits' [astropy.utils.metadata]\n",
      "WARNING: MergeConflictWarning: Cannot merge meta key 'COADDFN' types <class 'str'> and <class 'str'>, choosing COADDFN='/global/cfs/cdirs/desi/spectro/redux/fuji/tiles/cumulative/80663/20210322/coadd-6-80663-thru20210322.fits' [astropy.utils.metadata]\n"
     ]
    },
    {
     "name": "stdout",
     "output_type": "stream",
     "text": [
      "80664\n"
     ]
    },
    {
     "name": "stderr",
     "output_type": "stream",
     "text": [
      "WARNING: MergeConflictWarning: Cannot merge meta key 'RRFN' types <class 'str'> and <class 'str'>, choosing RRFN='/global/cfs/cdirs/desi/spectro/redux/fuji/tiles/cumulative/80664/20210402/redrock-9-80664-thru20210402.fits' [astropy.utils.metadata]\n",
      "WARNING: MergeConflictWarning: Cannot merge meta key 'COADDFN' types <class 'str'> and <class 'str'>, choosing COADDFN='/global/cfs/cdirs/desi/spectro/redux/fuji/tiles/cumulative/80664/20210402/coadd-9-80664-thru20210402.fits' [astropy.utils.metadata]\n"
     ]
    },
    {
     "name": "stdout",
     "output_type": "stream",
     "text": [
      "80665\n"
     ]
    },
    {
     "name": "stderr",
     "output_type": "stream",
     "text": [
      "WARNING: MergeConflictWarning: Cannot merge meta key 'RRFN' types <class 'str'> and <class 'str'>, choosing RRFN='/global/cfs/cdirs/desi/spectro/redux/fuji/tiles/cumulative/80665/20210322/redrock-4-80665-thru20210322.fits' [astropy.utils.metadata]\n",
      "WARNING: MergeConflictWarning: Cannot merge meta key 'COADDFN' types <class 'str'> and <class 'str'>, choosing COADDFN='/global/cfs/cdirs/desi/spectro/redux/fuji/tiles/cumulative/80665/20210322/coadd-4-80665-thru20210322.fits' [astropy.utils.metadata]\n"
     ]
    },
    {
     "name": "stdout",
     "output_type": "stream",
     "text": [
      "80666\n"
     ]
    },
    {
     "name": "stderr",
     "output_type": "stream",
     "text": [
      "WARNING: MergeConflictWarning: Cannot merge meta key 'RRFN' types <class 'str'> and <class 'str'>, choosing RRFN='/global/cfs/cdirs/desi/spectro/redux/fuji/tiles/cumulative/80666/20210402/redrock-0-80666-thru20210402.fits' [astropy.utils.metadata]\n",
      "WARNING: MergeConflictWarning: Cannot merge meta key 'COADDFN' types <class 'str'> and <class 'str'>, choosing COADDFN='/global/cfs/cdirs/desi/spectro/redux/fuji/tiles/cumulative/80666/20210402/coadd-0-80666-thru20210402.fits' [astropy.utils.metadata]\n"
     ]
    },
    {
     "name": "stdout",
     "output_type": "stream",
     "text": [
      "80669\n"
     ]
    },
    {
     "name": "stderr",
     "output_type": "stream",
     "text": [
      "WARNING: MergeConflictWarning: Cannot merge meta key 'RRFN' types <class 'str'> and <class 'str'>, choosing RRFN='/global/cfs/cdirs/desi/spectro/redux/fuji/tiles/cumulative/80669/20210206/redrock-7-80669-thru20210206.fits' [astropy.utils.metadata]\n",
      "WARNING: MergeConflictWarning: Cannot merge meta key 'COADDFN' types <class 'str'> and <class 'str'>, choosing COADDFN='/global/cfs/cdirs/desi/spectro/redux/fuji/tiles/cumulative/80669/20210206/coadd-7-80669-thru20210206.fits' [astropy.utils.metadata]\n"
     ]
    },
    {
     "name": "stdout",
     "output_type": "stream",
     "text": [
      "80670\n"
     ]
    },
    {
     "name": "stderr",
     "output_type": "stream",
     "text": [
      "WARNING: MergeConflictWarning: Cannot merge meta key 'RRFN' types <class 'str'> and <class 'str'>, choosing RRFN='/global/cfs/cdirs/desi/spectro/redux/fuji/tiles/cumulative/80670/20210111/redrock-2-80670-thru20210111.fits' [astropy.utils.metadata]\n",
      "WARNING: MergeConflictWarning: Cannot merge meta key 'COADDFN' types <class 'str'> and <class 'str'>, choosing COADDFN='/global/cfs/cdirs/desi/spectro/redux/fuji/tiles/cumulative/80670/20210111/coadd-2-80670-thru20210111.fits' [astropy.utils.metadata]\n"
     ]
    },
    {
     "name": "stdout",
     "output_type": "stream",
     "text": [
      "80673\n"
     ]
    },
    {
     "name": "stderr",
     "output_type": "stream",
     "text": [
      "WARNING: MergeConflictWarning: Cannot merge meta key 'RRFN' types <class 'str'> and <class 'str'>, choosing RRFN='/global/cfs/cdirs/desi/spectro/redux/fuji/tiles/cumulative/80673/20210206/redrock-2-80673-thru20210206.fits' [astropy.utils.metadata]\n",
      "WARNING: MergeConflictWarning: Cannot merge meta key 'COADDFN' types <class 'str'> and <class 'str'>, choosing COADDFN='/global/cfs/cdirs/desi/spectro/redux/fuji/tiles/cumulative/80673/20210206/coadd-2-80673-thru20210206.fits' [astropy.utils.metadata]\n"
     ]
    },
    {
     "name": "stdout",
     "output_type": "stream",
     "text": [
      "80674\n"
     ]
    },
    {
     "name": "stderr",
     "output_type": "stream",
     "text": [
      "WARNING: MergeConflictWarning: Cannot merge meta key 'RRFN' types <class 'str'> and <class 'str'>, choosing RRFN='/global/cfs/cdirs/desi/spectro/redux/fuji/tiles/cumulative/80674/20210116/redrock-4-80674-thru20210116.fits' [astropy.utils.metadata]\n",
      "WARNING: MergeConflictWarning: Cannot merge meta key 'COADDFN' types <class 'str'> and <class 'str'>, choosing COADDFN='/global/cfs/cdirs/desi/spectro/redux/fuji/tiles/cumulative/80674/20210116/coadd-4-80674-thru20210116.fits' [astropy.utils.metadata]\n"
     ]
    },
    {
     "name": "stdout",
     "output_type": "stream",
     "text": [
      "80675\n"
     ]
    },
    {
     "name": "stderr",
     "output_type": "stream",
     "text": [
      "WARNING: MergeConflictWarning: Cannot merge meta key 'RRFN' types <class 'str'> and <class 'str'>, choosing RRFN='/global/cfs/cdirs/desi/spectro/redux/fuji/tiles/cumulative/80675/20210201/redrock-4-80675-thru20210201.fits' [astropy.utils.metadata]\n",
      "WARNING: MergeConflictWarning: Cannot merge meta key 'COADDFN' types <class 'str'> and <class 'str'>, choosing COADDFN='/global/cfs/cdirs/desi/spectro/redux/fuji/tiles/cumulative/80675/20210201/coadd-4-80675-thru20210201.fits' [astropy.utils.metadata]\n"
     ]
    },
    {
     "name": "stdout",
     "output_type": "stream",
     "text": [
      "80676\n"
     ]
    },
    {
     "name": "stderr",
     "output_type": "stream",
     "text": [
      "WARNING: MergeConflictWarning: Cannot merge meta key 'RRFN' types <class 'str'> and <class 'str'>, choosing RRFN='/global/cfs/cdirs/desi/spectro/redux/fuji/tiles/cumulative/80676/20210109/redrock-8-80676-thru20210109.fits' [astropy.utils.metadata]\n",
      "WARNING: MergeConflictWarning: Cannot merge meta key 'COADDFN' types <class 'str'> and <class 'str'>, choosing COADDFN='/global/cfs/cdirs/desi/spectro/redux/fuji/tiles/cumulative/80676/20210109/coadd-8-80676-thru20210109.fits' [astropy.utils.metadata]\n"
     ]
    },
    {
     "name": "stdout",
     "output_type": "stream",
     "text": [
      "80677\n"
     ]
    },
    {
     "name": "stderr",
     "output_type": "stream",
     "text": [
      "WARNING: MergeConflictWarning: Cannot merge meta key 'RRFN' types <class 'str'> and <class 'str'>, choosing RRFN='/global/cfs/cdirs/desi/spectro/redux/fuji/tiles/cumulative/80677/20210205/redrock-6-80677-thru20210205.fits' [astropy.utils.metadata]\n",
      "WARNING: MergeConflictWarning: Cannot merge meta key 'COADDFN' types <class 'str'> and <class 'str'>, choosing COADDFN='/global/cfs/cdirs/desi/spectro/redux/fuji/tiles/cumulative/80677/20210205/coadd-6-80677-thru20210205.fits' [astropy.utils.metadata]\n"
     ]
    },
    {
     "name": "stdout",
     "output_type": "stream",
     "text": [
      "80678\n"
     ]
    },
    {
     "name": "stderr",
     "output_type": "stream",
     "text": [
      "WARNING: MergeConflictWarning: Cannot merge meta key 'RRFN' types <class 'str'> and <class 'str'>, choosing RRFN='/global/cfs/cdirs/desi/spectro/redux/fuji/tiles/cumulative/80678/20210206/redrock-0-80678-thru20210206.fits' [astropy.utils.metadata]\n",
      "WARNING: MergeConflictWarning: Cannot merge meta key 'COADDFN' types <class 'str'> and <class 'str'>, choosing COADDFN='/global/cfs/cdirs/desi/spectro/redux/fuji/tiles/cumulative/80678/20210206/coadd-0-80678-thru20210206.fits' [astropy.utils.metadata]\n"
     ]
    },
    {
     "name": "stdout",
     "output_type": "stream",
     "text": [
      "80679\n"
     ]
    },
    {
     "name": "stderr",
     "output_type": "stream",
     "text": [
      "WARNING: MergeConflictWarning: Cannot merge meta key 'RRFN' types <class 'str'> and <class 'str'>, choosing RRFN='/global/cfs/cdirs/desi/spectro/redux/fuji/tiles/cumulative/80679/20210315/redrock-2-80679-thru20210315.fits' [astropy.utils.metadata]\n",
      "WARNING: MergeConflictWarning: Cannot merge meta key 'COADDFN' types <class 'str'> and <class 'str'>, choosing COADDFN='/global/cfs/cdirs/desi/spectro/redux/fuji/tiles/cumulative/80679/20210315/coadd-2-80679-thru20210315.fits' [astropy.utils.metadata]\n"
     ]
    },
    {
     "name": "stdout",
     "output_type": "stream",
     "text": [
      "80680\n"
     ]
    },
    {
     "name": "stderr",
     "output_type": "stream",
     "text": [
      "WARNING: MergeConflictWarning: Cannot merge meta key 'RRFN' types <class 'str'> and <class 'str'>, choosing RRFN='/global/cfs/cdirs/desi/spectro/redux/fuji/tiles/cumulative/80680/20210208/redrock-6-80680-thru20210208.fits' [astropy.utils.metadata]\n",
      "WARNING: MergeConflictWarning: Cannot merge meta key 'COADDFN' types <class 'str'> and <class 'str'>, choosing COADDFN='/global/cfs/cdirs/desi/spectro/redux/fuji/tiles/cumulative/80680/20210208/coadd-6-80680-thru20210208.fits' [astropy.utils.metadata]\n"
     ]
    },
    {
     "name": "stdout",
     "output_type": "stream",
     "text": [
      "80681\n"
     ]
    },
    {
     "name": "stderr",
     "output_type": "stream",
     "text": [
      "WARNING: MergeConflictWarning: Cannot merge meta key 'RRFN' types <class 'str'> and <class 'str'>, choosing RRFN='/global/cfs/cdirs/desi/spectro/redux/fuji/tiles/cumulative/80681/20210109/redrock-1-80681-thru20210109.fits' [astropy.utils.metadata]\n",
      "WARNING: MergeConflictWarning: Cannot merge meta key 'COADDFN' types <class 'str'> and <class 'str'>, choosing COADDFN='/global/cfs/cdirs/desi/spectro/redux/fuji/tiles/cumulative/80681/20210109/coadd-1-80681-thru20210109.fits' [astropy.utils.metadata]\n"
     ]
    },
    {
     "name": "stdout",
     "output_type": "stream",
     "text": [
      "80682\n"
     ]
    },
    {
     "name": "stderr",
     "output_type": "stream",
     "text": [
      "WARNING: MergeConflictWarning: Cannot merge meta key 'RRFN' types <class 'str'> and <class 'str'>, choosing RRFN='/global/cfs/cdirs/desi/spectro/redux/fuji/tiles/cumulative/80682/20210109/redrock-0-80682-thru20210109.fits' [astropy.utils.metadata]\n",
      "WARNING: MergeConflictWarning: Cannot merge meta key 'COADDFN' types <class 'str'> and <class 'str'>, choosing COADDFN='/global/cfs/cdirs/desi/spectro/redux/fuji/tiles/cumulative/80682/20210109/coadd-0-80682-thru20210109.fits' [astropy.utils.metadata]\n"
     ]
    },
    {
     "name": "stdout",
     "output_type": "stream",
     "text": [
      "80683\n"
     ]
    },
    {
     "name": "stderr",
     "output_type": "stream",
     "text": [
      "WARNING: MergeConflictWarning: Cannot merge meta key 'RRFN' types <class 'str'> and <class 'str'>, choosing RRFN='/global/cfs/cdirs/desi/spectro/redux/fuji/tiles/cumulative/80683/20210206/redrock-7-80683-thru20210206.fits' [astropy.utils.metadata]\n",
      "WARNING: MergeConflictWarning: Cannot merge meta key 'COADDFN' types <class 'str'> and <class 'str'>, choosing COADDFN='/global/cfs/cdirs/desi/spectro/redux/fuji/tiles/cumulative/80683/20210206/coadd-7-80683-thru20210206.fits' [astropy.utils.metadata]\n"
     ]
    },
    {
     "name": "stdout",
     "output_type": "stream",
     "text": [
      "80684\n"
     ]
    },
    {
     "name": "stderr",
     "output_type": "stream",
     "text": [
      "WARNING: MergeConflictWarning: Cannot merge meta key 'RRFN' types <class 'str'> and <class 'str'>, choosing RRFN='/global/cfs/cdirs/desi/spectro/redux/fuji/tiles/cumulative/80684/20210305/redrock-8-80684-thru20210305.fits' [astropy.utils.metadata]\n",
      "WARNING: MergeConflictWarning: Cannot merge meta key 'COADDFN' types <class 'str'> and <class 'str'>, choosing COADDFN='/global/cfs/cdirs/desi/spectro/redux/fuji/tiles/cumulative/80684/20210305/coadd-8-80684-thru20210305.fits' [astropy.utils.metadata]\n"
     ]
    },
    {
     "name": "stdout",
     "output_type": "stream",
     "text": [
      "80685\n"
     ]
    },
    {
     "name": "stderr",
     "output_type": "stream",
     "text": [
      "WARNING: MergeConflictWarning: Cannot merge meta key 'RRFN' types <class 'str'> and <class 'str'>, choosing RRFN='/global/cfs/cdirs/desi/spectro/redux/fuji/tiles/cumulative/80685/20210216/redrock-0-80685-thru20210216.fits' [astropy.utils.metadata]\n",
      "WARNING: MergeConflictWarning: Cannot merge meta key 'COADDFN' types <class 'str'> and <class 'str'>, choosing COADDFN='/global/cfs/cdirs/desi/spectro/redux/fuji/tiles/cumulative/80685/20210216/coadd-0-80685-thru20210216.fits' [astropy.utils.metadata]\n"
     ]
    },
    {
     "name": "stdout",
     "output_type": "stream",
     "text": [
      "80686\n"
     ]
    },
    {
     "name": "stderr",
     "output_type": "stream",
     "text": [
      "WARNING: MergeConflictWarning: Cannot merge meta key 'RRFN' types <class 'str'> and <class 'str'>, choosing RRFN='/global/cfs/cdirs/desi/spectro/redux/fuji/tiles/cumulative/80686/20210309/redrock-2-80686-thru20210309.fits' [astropy.utils.metadata]\n",
      "WARNING: MergeConflictWarning: Cannot merge meta key 'COADDFN' types <class 'str'> and <class 'str'>, choosing COADDFN='/global/cfs/cdirs/desi/spectro/redux/fuji/tiles/cumulative/80686/20210309/coadd-2-80686-thru20210309.fits' [astropy.utils.metadata]\n"
     ]
    },
    {
     "name": "stdout",
     "output_type": "stream",
     "text": [
      "80687\n"
     ]
    },
    {
     "name": "stderr",
     "output_type": "stream",
     "text": [
      "WARNING: MergeConflictWarning: Cannot merge meta key 'RRFN' types <class 'str'> and <class 'str'>, choosing RRFN='/global/cfs/cdirs/desi/spectro/redux/fuji/tiles/cumulative/80687/20210305/redrock-2-80687-thru20210305.fits' [astropy.utils.metadata]\n",
      "WARNING: MergeConflictWarning: Cannot merge meta key 'COADDFN' types <class 'str'> and <class 'str'>, choosing COADDFN='/global/cfs/cdirs/desi/spectro/redux/fuji/tiles/cumulative/80687/20210305/coadd-2-80687-thru20210305.fits' [astropy.utils.metadata]\n"
     ]
    },
    {
     "name": "stdout",
     "output_type": "stream",
     "text": [
      "80688\n"
     ]
    },
    {
     "name": "stderr",
     "output_type": "stream",
     "text": [
      "WARNING: MergeConflictWarning: Cannot merge meta key 'RRFN' types <class 'str'> and <class 'str'>, choosing RRFN='/global/cfs/cdirs/desi/spectro/redux/fuji/tiles/cumulative/80688/20210206/redrock-1-80688-thru20210206.fits' [astropy.utils.metadata]\n",
      "WARNING: MergeConflictWarning: Cannot merge meta key 'COADDFN' types <class 'str'> and <class 'str'>, choosing COADDFN='/global/cfs/cdirs/desi/spectro/redux/fuji/tiles/cumulative/80688/20210206/coadd-1-80688-thru20210206.fits' [astropy.utils.metadata]\n"
     ]
    },
    {
     "name": "stdout",
     "output_type": "stream",
     "text": [
      "80689\n"
     ]
    },
    {
     "name": "stderr",
     "output_type": "stream",
     "text": [
      "WARNING: MergeConflictWarning: Cannot merge meta key 'RRFN' types <class 'str'> and <class 'str'>, choosing RRFN='/global/cfs/cdirs/desi/spectro/redux/fuji/tiles/cumulative/80689/20210319/redrock-0-80689-thru20210319.fits' [astropy.utils.metadata]\n",
      "WARNING: MergeConflictWarning: Cannot merge meta key 'COADDFN' types <class 'str'> and <class 'str'>, choosing COADDFN='/global/cfs/cdirs/desi/spectro/redux/fuji/tiles/cumulative/80689/20210319/coadd-0-80689-thru20210319.fits' [astropy.utils.metadata]\n"
     ]
    },
    {
     "name": "stdout",
     "output_type": "stream",
     "text": [
      "80690\n"
     ]
    },
    {
     "name": "stderr",
     "output_type": "stream",
     "text": [
      "WARNING: MergeConflictWarning: Cannot merge meta key 'RRFN' types <class 'str'> and <class 'str'>, choosing RRFN='/global/cfs/cdirs/desi/spectro/redux/fuji/tiles/cumulative/80690/20210216/redrock-4-80690-thru20210216.fits' [astropy.utils.metadata]\n",
      "WARNING: MergeConflictWarning: Cannot merge meta key 'COADDFN' types <class 'str'> and <class 'str'>, choosing COADDFN='/global/cfs/cdirs/desi/spectro/redux/fuji/tiles/cumulative/80690/20210216/coadd-4-80690-thru20210216.fits' [astropy.utils.metadata]\n"
     ]
    },
    {
     "name": "stdout",
     "output_type": "stream",
     "text": [
      "80691\n"
     ]
    },
    {
     "name": "stderr",
     "output_type": "stream",
     "text": [
      "WARNING: MergeConflictWarning: Cannot merge meta key 'RRFN' types <class 'str'> and <class 'str'>, choosing RRFN='/global/cfs/cdirs/desi/spectro/redux/fuji/tiles/cumulative/80691/20210309/redrock-5-80691-thru20210309.fits' [astropy.utils.metadata]\n",
      "WARNING: MergeConflictWarning: Cannot merge meta key 'COADDFN' types <class 'str'> and <class 'str'>, choosing COADDFN='/global/cfs/cdirs/desi/spectro/redux/fuji/tiles/cumulative/80691/20210309/coadd-5-80691-thru20210309.fits' [astropy.utils.metadata]\n"
     ]
    },
    {
     "name": "stdout",
     "output_type": "stream",
     "text": [
      "80692\n"
     ]
    },
    {
     "name": "stderr",
     "output_type": "stream",
     "text": [
      "WARNING: MergeConflictWarning: Cannot merge meta key 'RRFN' types <class 'str'> and <class 'str'>, choosing RRFN='/global/cfs/cdirs/desi/spectro/redux/fuji/tiles/cumulative/80692/20210214/redrock-5-80692-thru20210214.fits' [astropy.utils.metadata]\n",
      "WARNING: MergeConflictWarning: Cannot merge meta key 'COADDFN' types <class 'str'> and <class 'str'>, choosing COADDFN='/global/cfs/cdirs/desi/spectro/redux/fuji/tiles/cumulative/80692/20210214/coadd-5-80692-thru20210214.fits' [astropy.utils.metadata]\n"
     ]
    },
    {
     "name": "stdout",
     "output_type": "stream",
     "text": [
      "80693\n"
     ]
    },
    {
     "name": "stderr",
     "output_type": "stream",
     "text": [
      "WARNING: MergeConflictWarning: Cannot merge meta key 'RRFN' types <class 'str'> and <class 'str'>, choosing RRFN='/global/cfs/cdirs/desi/spectro/redux/fuji/tiles/cumulative/80693/20210204/redrock-5-80693-thru20210204.fits' [astropy.utils.metadata]\n",
      "WARNING: MergeConflictWarning: Cannot merge meta key 'COADDFN' types <class 'str'> and <class 'str'>, choosing COADDFN='/global/cfs/cdirs/desi/spectro/redux/fuji/tiles/cumulative/80693/20210204/coadd-5-80693-thru20210204.fits' [astropy.utils.metadata]\n"
     ]
    },
    {
     "name": "stdout",
     "output_type": "stream",
     "text": [
      "80694\n"
     ]
    },
    {
     "name": "stderr",
     "output_type": "stream",
     "text": [
      "WARNING: MergeConflictWarning: Cannot merge meta key 'RRFN' types <class 'str'> and <class 'str'>, choosing RRFN='/global/cfs/cdirs/desi/spectro/redux/fuji/tiles/cumulative/80694/20210306/redrock-5-80694-thru20210306.fits' [astropy.utils.metadata]\n",
      "WARNING: MergeConflictWarning: Cannot merge meta key 'COADDFN' types <class 'str'> and <class 'str'>, choosing COADDFN='/global/cfs/cdirs/desi/spectro/redux/fuji/tiles/cumulative/80694/20210306/coadd-5-80694-thru20210306.fits' [astropy.utils.metadata]\n"
     ]
    },
    {
     "name": "stdout",
     "output_type": "stream",
     "text": [
      "80695\n"
     ]
    },
    {
     "name": "stderr",
     "output_type": "stream",
     "text": [
      "WARNING: MergeConflictWarning: Cannot merge meta key 'RRFN' types <class 'str'> and <class 'str'>, choosing RRFN='/global/cfs/cdirs/desi/spectro/redux/fuji/tiles/cumulative/80695/20210318/redrock-7-80695-thru20210318.fits' [astropy.utils.metadata]\n",
      "WARNING: MergeConflictWarning: Cannot merge meta key 'COADDFN' types <class 'str'> and <class 'str'>, choosing COADDFN='/global/cfs/cdirs/desi/spectro/redux/fuji/tiles/cumulative/80695/20210318/coadd-7-80695-thru20210318.fits' [astropy.utils.metadata]\n"
     ]
    },
    {
     "name": "stdout",
     "output_type": "stream",
     "text": [
      "80696\n"
     ]
    },
    {
     "name": "stderr",
     "output_type": "stream",
     "text": [
      "WARNING: MergeConflictWarning: Cannot merge meta key 'RRFN' types <class 'str'> and <class 'str'>, choosing RRFN='/global/cfs/cdirs/desi/spectro/redux/fuji/tiles/cumulative/80696/20210309/redrock-3-80696-thru20210309.fits' [astropy.utils.metadata]\n",
      "WARNING: MergeConflictWarning: Cannot merge meta key 'COADDFN' types <class 'str'> and <class 'str'>, choosing COADDFN='/global/cfs/cdirs/desi/spectro/redux/fuji/tiles/cumulative/80696/20210309/coadd-3-80696-thru20210309.fits' [astropy.utils.metadata]\n"
     ]
    },
    {
     "name": "stdout",
     "output_type": "stream",
     "text": [
      "80697\n"
     ]
    },
    {
     "name": "stderr",
     "output_type": "stream",
     "text": [
      "WARNING: MergeConflictWarning: Cannot merge meta key 'RRFN' types <class 'str'> and <class 'str'>, choosing RRFN='/global/cfs/cdirs/desi/spectro/redux/fuji/tiles/cumulative/80697/20210404/redrock-8-80697-thru20210404.fits' [astropy.utils.metadata]\n",
      "WARNING: MergeConflictWarning: Cannot merge meta key 'COADDFN' types <class 'str'> and <class 'str'>, choosing COADDFN='/global/cfs/cdirs/desi/spectro/redux/fuji/tiles/cumulative/80697/20210404/coadd-8-80697-thru20210404.fits' [astropy.utils.metadata]\n"
     ]
    },
    {
     "name": "stdout",
     "output_type": "stream",
     "text": [
      "80698\n"
     ]
    },
    {
     "name": "stderr",
     "output_type": "stream",
     "text": [
      "WARNING: MergeConflictWarning: Cannot merge meta key 'RRFN' types <class 'str'> and <class 'str'>, choosing RRFN='/global/cfs/cdirs/desi/spectro/redux/fuji/tiles/cumulative/80698/20210318/redrock-2-80698-thru20210318.fits' [astropy.utils.metadata]\n",
      "WARNING: MergeConflictWarning: Cannot merge meta key 'COADDFN' types <class 'str'> and <class 'str'>, choosing COADDFN='/global/cfs/cdirs/desi/spectro/redux/fuji/tiles/cumulative/80698/20210318/coadd-2-80698-thru20210318.fits' [astropy.utils.metadata]\n"
     ]
    },
    {
     "name": "stdout",
     "output_type": "stream",
     "text": [
      "80699\n"
     ]
    },
    {
     "name": "stderr",
     "output_type": "stream",
     "text": [
      "WARNING: MergeConflictWarning: Cannot merge meta key 'RRFN' types <class 'str'> and <class 'str'>, choosing RRFN='/global/cfs/cdirs/desi/spectro/redux/fuji/tiles/cumulative/80699/20210305/redrock-8-80699-thru20210305.fits' [astropy.utils.metadata]\n",
      "WARNING: MergeConflictWarning: Cannot merge meta key 'COADDFN' types <class 'str'> and <class 'str'>, choosing COADDFN='/global/cfs/cdirs/desi/spectro/redux/fuji/tiles/cumulative/80699/20210305/coadd-8-80699-thru20210305.fits' [astropy.utils.metadata]\n"
     ]
    },
    {
     "name": "stdout",
     "output_type": "stream",
     "text": [
      "80700\n"
     ]
    },
    {
     "name": "stderr",
     "output_type": "stream",
     "text": [
      "WARNING: MergeConflictWarning: Cannot merge meta key 'RRFN' types <class 'str'> and <class 'str'>, choosing RRFN='/global/cfs/cdirs/desi/spectro/redux/fuji/tiles/cumulative/80700/20210208/redrock-4-80700-thru20210208.fits' [astropy.utils.metadata]\n",
      "WARNING: MergeConflictWarning: Cannot merge meta key 'COADDFN' types <class 'str'> and <class 'str'>, choosing COADDFN='/global/cfs/cdirs/desi/spectro/redux/fuji/tiles/cumulative/80700/20210208/coadd-4-80700-thru20210208.fits' [astropy.utils.metadata]\n"
     ]
    },
    {
     "name": "stdout",
     "output_type": "stream",
     "text": [
      "80701\n"
     ]
    },
    {
     "name": "stderr",
     "output_type": "stream",
     "text": [
      "WARNING: MergeConflictWarning: Cannot merge meta key 'RRFN' types <class 'str'> and <class 'str'>, choosing RRFN='/global/cfs/cdirs/desi/spectro/redux/fuji/tiles/cumulative/80701/20210212/redrock-9-80701-thru20210212.fits' [astropy.utils.metadata]\n",
      "WARNING: MergeConflictWarning: Cannot merge meta key 'COADDFN' types <class 'str'> and <class 'str'>, choosing COADDFN='/global/cfs/cdirs/desi/spectro/redux/fuji/tiles/cumulative/80701/20210212/coadd-9-80701-thru20210212.fits' [astropy.utils.metadata]\n"
     ]
    },
    {
     "name": "stdout",
     "output_type": "stream",
     "text": [
      "80702\n"
     ]
    },
    {
     "name": "stderr",
     "output_type": "stream",
     "text": [
      "WARNING: MergeConflictWarning: Cannot merge meta key 'RRFN' types <class 'str'> and <class 'str'>, choosing RRFN='/global/cfs/cdirs/desi/spectro/redux/fuji/tiles/cumulative/80702/20210320/redrock-5-80702-thru20210320.fits' [astropy.utils.metadata]\n",
      "WARNING: MergeConflictWarning: Cannot merge meta key 'COADDFN' types <class 'str'> and <class 'str'>, choosing COADDFN='/global/cfs/cdirs/desi/spectro/redux/fuji/tiles/cumulative/80702/20210320/coadd-5-80702-thru20210320.fits' [astropy.utils.metadata]\n"
     ]
    },
    {
     "name": "stdout",
     "output_type": "stream",
     "text": [
      "80703\n"
     ]
    },
    {
     "name": "stderr",
     "output_type": "stream",
     "text": [
      "WARNING: MergeConflictWarning: Cannot merge meta key 'RRFN' types <class 'str'> and <class 'str'>, choosing RRFN='/global/cfs/cdirs/desi/spectro/redux/fuji/tiles/cumulative/80703/20210306/redrock-9-80703-thru20210306.fits' [astropy.utils.metadata]\n",
      "WARNING: MergeConflictWarning: Cannot merge meta key 'COADDFN' types <class 'str'> and <class 'str'>, choosing COADDFN='/global/cfs/cdirs/desi/spectro/redux/fuji/tiles/cumulative/80703/20210306/coadd-9-80703-thru20210306.fits' [astropy.utils.metadata]\n"
     ]
    },
    {
     "name": "stdout",
     "output_type": "stream",
     "text": [
      "80705\n"
     ]
    },
    {
     "name": "stderr",
     "output_type": "stream",
     "text": [
      "WARNING: MergeConflictWarning: Cannot merge meta key 'RRFN' types <class 'str'> and <class 'str'>, choosing RRFN='/global/cfs/cdirs/desi/spectro/redux/fuji/tiles/cumulative/80705/20210218/redrock-8-80705-thru20210218.fits' [astropy.utils.metadata]\n",
      "WARNING: MergeConflictWarning: Cannot merge meta key 'COADDFN' types <class 'str'> and <class 'str'>, choosing COADDFN='/global/cfs/cdirs/desi/spectro/redux/fuji/tiles/cumulative/80705/20210218/coadd-8-80705-thru20210218.fits' [astropy.utils.metadata]\n"
     ]
    },
    {
     "name": "stdout",
     "output_type": "stream",
     "text": [
      "80706\n"
     ]
    },
    {
     "name": "stderr",
     "output_type": "stream",
     "text": [
      "WARNING: MergeConflictWarning: Cannot merge meta key 'RRFN' types <class 'str'> and <class 'str'>, choosing RRFN='/global/cfs/cdirs/desi/spectro/redux/fuji/tiles/cumulative/80706/20210402/redrock-4-80706-thru20210402.fits' [astropy.utils.metadata]\n",
      "WARNING: MergeConflictWarning: Cannot merge meta key 'COADDFN' types <class 'str'> and <class 'str'>, choosing COADDFN='/global/cfs/cdirs/desi/spectro/redux/fuji/tiles/cumulative/80706/20210402/coadd-4-80706-thru20210402.fits' [astropy.utils.metadata]\n"
     ]
    },
    {
     "name": "stdout",
     "output_type": "stream",
     "text": [
      "80707\n"
     ]
    },
    {
     "name": "stderr",
     "output_type": "stream",
     "text": [
      "WARNING: MergeConflictWarning: Cannot merge meta key 'RRFN' types <class 'str'> and <class 'str'>, choosing RRFN='/global/cfs/cdirs/desi/spectro/redux/fuji/tiles/cumulative/80707/20210208/redrock-9-80707-thru20210208.fits' [astropy.utils.metadata]\n",
      "WARNING: MergeConflictWarning: Cannot merge meta key 'COADDFN' types <class 'str'> and <class 'str'>, choosing COADDFN='/global/cfs/cdirs/desi/spectro/redux/fuji/tiles/cumulative/80707/20210208/coadd-9-80707-thru20210208.fits' [astropy.utils.metadata]\n"
     ]
    },
    {
     "name": "stdout",
     "output_type": "stream",
     "text": [
      "80708\n"
     ]
    },
    {
     "name": "stderr",
     "output_type": "stream",
     "text": [
      "WARNING: MergeConflictWarning: Cannot merge meta key 'RRFN' types <class 'str'> and <class 'str'>, choosing RRFN='/global/cfs/cdirs/desi/spectro/redux/fuji/tiles/cumulative/80708/20210221/redrock-9-80708-thru20210221.fits' [astropy.utils.metadata]\n",
      "WARNING: MergeConflictWarning: Cannot merge meta key 'COADDFN' types <class 'str'> and <class 'str'>, choosing COADDFN='/global/cfs/cdirs/desi/spectro/redux/fuji/tiles/cumulative/80708/20210221/coadd-9-80708-thru20210221.fits' [astropy.utils.metadata]\n"
     ]
    },
    {
     "name": "stdout",
     "output_type": "stream",
     "text": [
      "80709\n"
     ]
    },
    {
     "name": "stderr",
     "output_type": "stream",
     "text": [
      "WARNING: MergeConflictWarning: Cannot merge meta key 'RRFN' types <class 'str'> and <class 'str'>, choosing RRFN='/global/cfs/cdirs/desi/spectro/redux/fuji/tiles/cumulative/80709/20210306/redrock-5-80709-thru20210306.fits' [astropy.utils.metadata]\n",
      "WARNING: MergeConflictWarning: Cannot merge meta key 'COADDFN' types <class 'str'> and <class 'str'>, choosing COADDFN='/global/cfs/cdirs/desi/spectro/redux/fuji/tiles/cumulative/80709/20210306/coadd-5-80709-thru20210306.fits' [astropy.utils.metadata]\n"
     ]
    },
    {
     "name": "stdout",
     "output_type": "stream",
     "text": [
      "80710\n"
     ]
    },
    {
     "name": "stderr",
     "output_type": "stream",
     "text": [
      "WARNING: MergeConflictWarning: Cannot merge meta key 'RRFN' types <class 'str'> and <class 'str'>, choosing RRFN='/global/cfs/cdirs/desi/spectro/redux/fuji/tiles/cumulative/80710/20210404/redrock-9-80710-thru20210404.fits' [astropy.utils.metadata]\n",
      "WARNING: MergeConflictWarning: Cannot merge meta key 'COADDFN' types <class 'str'> and <class 'str'>, choosing COADDFN='/global/cfs/cdirs/desi/spectro/redux/fuji/tiles/cumulative/80710/20210404/coadd-9-80710-thru20210404.fits' [astropy.utils.metadata]\n"
     ]
    },
    {
     "name": "stdout",
     "output_type": "stream",
     "text": [
      "80711\n"
     ]
    },
    {
     "name": "stderr",
     "output_type": "stream",
     "text": [
      "WARNING: MergeConflictWarning: Cannot merge meta key 'RRFN' types <class 'str'> and <class 'str'>, choosing RRFN='/global/cfs/cdirs/desi/spectro/redux/fuji/tiles/cumulative/80711/20210429/redrock-2-80711-thru20210429.fits' [astropy.utils.metadata]\n",
      "WARNING: MergeConflictWarning: Cannot merge meta key 'COADDFN' types <class 'str'> and <class 'str'>, choosing COADDFN='/global/cfs/cdirs/desi/spectro/redux/fuji/tiles/cumulative/80711/20210429/coadd-2-80711-thru20210429.fits' [astropy.utils.metadata]\n"
     ]
    },
    {
     "name": "stdout",
     "output_type": "stream",
     "text": [
      "80712\n"
     ]
    },
    {
     "name": "stderr",
     "output_type": "stream",
     "text": [
      "WARNING: MergeConflictWarning: Cannot merge meta key 'RRFN' types <class 'str'> and <class 'str'>, choosing RRFN='/global/cfs/cdirs/desi/spectro/redux/fuji/tiles/cumulative/80712/20210222/redrock-4-80712-thru20210222.fits' [astropy.utils.metadata]\n",
      "WARNING: MergeConflictWarning: Cannot merge meta key 'COADDFN' types <class 'str'> and <class 'str'>, choosing COADDFN='/global/cfs/cdirs/desi/spectro/redux/fuji/tiles/cumulative/80712/20210222/coadd-4-80712-thru20210222.fits' [astropy.utils.metadata]\n"
     ]
    },
    {
     "name": "stdout",
     "output_type": "stream",
     "text": [
      "80715\n"
     ]
    },
    {
     "name": "stderr",
     "output_type": "stream",
     "text": [
      "WARNING: MergeConflictWarning: Cannot merge meta key 'RRFN' types <class 'str'> and <class 'str'>, choosing RRFN='/global/cfs/cdirs/desi/spectro/redux/fuji/tiles/cumulative/80715/20210115/redrock-4-80715-thru20210115.fits' [astropy.utils.metadata]\n",
      "WARNING: MergeConflictWarning: Cannot merge meta key 'COADDFN' types <class 'str'> and <class 'str'>, choosing COADDFN='/global/cfs/cdirs/desi/spectro/redux/fuji/tiles/cumulative/80715/20210115/coadd-4-80715-thru20210115.fits' [astropy.utils.metadata]\n"
     ]
    },
    {
     "name": "stdout",
     "output_type": "stream",
     "text": [
      "80718\n"
     ]
    },
    {
     "name": "stderr",
     "output_type": "stream",
     "text": [
      "WARNING: MergeConflictWarning: Cannot merge meta key 'RRFN' types <class 'str'> and <class 'str'>, choosing RRFN='/global/cfs/cdirs/desi/spectro/redux/fuji/tiles/cumulative/80718/20210130/redrock-8-80718-thru20210130.fits' [astropy.utils.metadata]\n",
      "WARNING: MergeConflictWarning: Cannot merge meta key 'COADDFN' types <class 'str'> and <class 'str'>, choosing COADDFN='/global/cfs/cdirs/desi/spectro/redux/fuji/tiles/cumulative/80718/20210130/coadd-8-80718-thru20210130.fits' [astropy.utils.metadata]\n"
     ]
    },
    {
     "name": "stdout",
     "output_type": "stream",
     "text": [
      "80719\n"
     ]
    },
    {
     "name": "stderr",
     "output_type": "stream",
     "text": [
      "WARNING: MergeConflictWarning: Cannot merge meta key 'RRFN' types <class 'str'> and <class 'str'>, choosing RRFN='/global/cfs/cdirs/desi/spectro/redux/fuji/tiles/cumulative/80719/20210130/redrock-4-80719-thru20210130.fits' [astropy.utils.metadata]\n",
      "WARNING: MergeConflictWarning: Cannot merge meta key 'COADDFN' types <class 'str'> and <class 'str'>, choosing COADDFN='/global/cfs/cdirs/desi/spectro/redux/fuji/tiles/cumulative/80719/20210130/coadd-4-80719-thru20210130.fits' [astropy.utils.metadata]\n"
     ]
    },
    {
     "name": "stdout",
     "output_type": "stream",
     "text": [
      "80720\n"
     ]
    },
    {
     "name": "stderr",
     "output_type": "stream",
     "text": [
      "WARNING: MergeConflictWarning: Cannot merge meta key 'RRFN' types <class 'str'> and <class 'str'>, choosing RRFN='/global/cfs/cdirs/desi/spectro/redux/fuji/tiles/cumulative/80720/20210130/redrock-1-80720-thru20210130.fits' [astropy.utils.metadata]\n",
      "WARNING: MergeConflictWarning: Cannot merge meta key 'COADDFN' types <class 'str'> and <class 'str'>, choosing COADDFN='/global/cfs/cdirs/desi/spectro/redux/fuji/tiles/cumulative/80720/20210130/coadd-1-80720-thru20210130.fits' [astropy.utils.metadata]\n"
     ]
    },
    {
     "name": "stdout",
     "output_type": "stream",
     "text": [
      "80721\n"
     ]
    },
    {
     "name": "stderr",
     "output_type": "stream",
     "text": [
      "WARNING: MergeConflictWarning: Cannot merge meta key 'RRFN' types <class 'str'> and <class 'str'>, choosing RRFN='/global/cfs/cdirs/desi/spectro/redux/fuji/tiles/cumulative/80721/20210309/redrock-7-80721-thru20210309.fits' [astropy.utils.metadata]\n",
      "WARNING: MergeConflictWarning: Cannot merge meta key 'COADDFN' types <class 'str'> and <class 'str'>, choosing COADDFN='/global/cfs/cdirs/desi/spectro/redux/fuji/tiles/cumulative/80721/20210309/coadd-7-80721-thru20210309.fits' [astropy.utils.metadata]\n"
     ]
    },
    {
     "name": "stdout",
     "output_type": "stream",
     "text": [
      "80722\n"
     ]
    },
    {
     "name": "stderr",
     "output_type": "stream",
     "text": [
      "WARNING: MergeConflictWarning: Cannot merge meta key 'RRFN' types <class 'str'> and <class 'str'>, choosing RRFN='/global/cfs/cdirs/desi/spectro/redux/fuji/tiles/cumulative/80722/20210328/redrock-3-80722-thru20210328.fits' [astropy.utils.metadata]\n",
      "WARNING: MergeConflictWarning: Cannot merge meta key 'COADDFN' types <class 'str'> and <class 'str'>, choosing COADDFN='/global/cfs/cdirs/desi/spectro/redux/fuji/tiles/cumulative/80722/20210328/coadd-3-80722-thru20210328.fits' [astropy.utils.metadata]\n"
     ]
    },
    {
     "name": "stdout",
     "output_type": "stream",
     "text": [
      "80724\n"
     ]
    },
    {
     "name": "stderr",
     "output_type": "stream",
     "text": [
      "WARNING: MergeConflictWarning: Cannot merge meta key 'RRFN' types <class 'str'> and <class 'str'>, choosing RRFN='/global/cfs/cdirs/desi/spectro/redux/fuji/tiles/cumulative/80724/20210328/redrock-5-80724-thru20210328.fits' [astropy.utils.metadata]\n",
      "WARNING: MergeConflictWarning: Cannot merge meta key 'COADDFN' types <class 'str'> and <class 'str'>, choosing COADDFN='/global/cfs/cdirs/desi/spectro/redux/fuji/tiles/cumulative/80724/20210328/coadd-5-80724-thru20210328.fits' [astropy.utils.metadata]\n"
     ]
    },
    {
     "name": "stdout",
     "output_type": "stream",
     "text": [
      "80726\n"
     ]
    },
    {
     "name": "stderr",
     "output_type": "stream",
     "text": [
      "WARNING: MergeConflictWarning: Cannot merge meta key 'RRFN' types <class 'str'> and <class 'str'>, choosing RRFN='/global/cfs/cdirs/desi/spectro/redux/fuji/tiles/cumulative/80726/20210324/redrock-9-80726-thru20210324.fits' [astropy.utils.metadata]\n",
      "WARNING: MergeConflictWarning: Cannot merge meta key 'COADDFN' types <class 'str'> and <class 'str'>, choosing COADDFN='/global/cfs/cdirs/desi/spectro/redux/fuji/tiles/cumulative/80726/20210324/coadd-9-80726-thru20210324.fits' [astropy.utils.metadata]\n"
     ]
    },
    {
     "name": "stdout",
     "output_type": "stream",
     "text": [
      "80728\n"
     ]
    },
    {
     "name": "stderr",
     "output_type": "stream",
     "text": [
      "WARNING: MergeConflictWarning: Cannot merge meta key 'RRFN' types <class 'str'> and <class 'str'>, choosing RRFN='/global/cfs/cdirs/desi/spectro/redux/fuji/tiles/cumulative/80728/20210331/redrock-0-80728-thru20210331.fits' [astropy.utils.metadata]\n",
      "WARNING: MergeConflictWarning: Cannot merge meta key 'COADDFN' types <class 'str'> and <class 'str'>, choosing COADDFN='/global/cfs/cdirs/desi/spectro/redux/fuji/tiles/cumulative/80728/20210331/coadd-0-80728-thru20210331.fits' [astropy.utils.metadata]\n"
     ]
    },
    {
     "name": "stdout",
     "output_type": "stream",
     "text": [
      "80729\n"
     ]
    },
    {
     "name": "stderr",
     "output_type": "stream",
     "text": [
      "WARNING: MergeConflictWarning: Cannot merge meta key 'RRFN' types <class 'str'> and <class 'str'>, choosing RRFN='/global/cfs/cdirs/desi/spectro/redux/fuji/tiles/cumulative/80729/20210402/redrock-6-80729-thru20210402.fits' [astropy.utils.metadata]\n",
      "WARNING: MergeConflictWarning: Cannot merge meta key 'COADDFN' types <class 'str'> and <class 'str'>, choosing COADDFN='/global/cfs/cdirs/desi/spectro/redux/fuji/tiles/cumulative/80729/20210402/coadd-6-80729-thru20210402.fits' [astropy.utils.metadata]\n"
     ]
    },
    {
     "name": "stdout",
     "output_type": "stream",
     "text": [
      "80730\n"
     ]
    },
    {
     "name": "stderr",
     "output_type": "stream",
     "text": [
      "WARNING: MergeConflictWarning: Cannot merge meta key 'RRFN' types <class 'str'> and <class 'str'>, choosing RRFN='/global/cfs/cdirs/desi/spectro/redux/fuji/tiles/cumulative/80730/20210322/redrock-9-80730-thru20210322.fits' [astropy.utils.metadata]\n",
      "WARNING: MergeConflictWarning: Cannot merge meta key 'COADDFN' types <class 'str'> and <class 'str'>, choosing COADDFN='/global/cfs/cdirs/desi/spectro/redux/fuji/tiles/cumulative/80730/20210322/coadd-9-80730-thru20210322.fits' [astropy.utils.metadata]\n"
     ]
    },
    {
     "name": "stdout",
     "output_type": "stream",
     "text": [
      "80731\n"
     ]
    },
    {
     "name": "stderr",
     "output_type": "stream",
     "text": [
      "WARNING: MergeConflictWarning: Cannot merge meta key 'RRFN' types <class 'str'> and <class 'str'>, choosing RRFN='/global/cfs/cdirs/desi/spectro/redux/fuji/tiles/cumulative/80731/20210402/redrock-3-80731-thru20210402.fits' [astropy.utils.metadata]\n",
      "WARNING: MergeConflictWarning: Cannot merge meta key 'COADDFN' types <class 'str'> and <class 'str'>, choosing COADDFN='/global/cfs/cdirs/desi/spectro/redux/fuji/tiles/cumulative/80731/20210402/coadd-3-80731-thru20210402.fits' [astropy.utils.metadata]\n"
     ]
    },
    {
     "name": "stdout",
     "output_type": "stream",
     "text": [
      "80732\n"
     ]
    },
    {
     "name": "stderr",
     "output_type": "stream",
     "text": [
      "WARNING: MergeConflictWarning: Cannot merge meta key 'RRFN' types <class 'str'> and <class 'str'>, choosing RRFN='/global/cfs/cdirs/desi/spectro/redux/fuji/tiles/cumulative/80732/20210322/redrock-2-80732-thru20210322.fits' [astropy.utils.metadata]\n",
      "WARNING: MergeConflictWarning: Cannot merge meta key 'COADDFN' types <class 'str'> and <class 'str'>, choosing COADDFN='/global/cfs/cdirs/desi/spectro/redux/fuji/tiles/cumulative/80732/20210322/coadd-2-80732-thru20210322.fits' [astropy.utils.metadata]\n"
     ]
    },
    {
     "name": "stdout",
     "output_type": "stream",
     "text": [
      "80733\n"
     ]
    },
    {
     "name": "stderr",
     "output_type": "stream",
     "text": [
      "WARNING: MergeConflictWarning: Cannot merge meta key 'RRFN' types <class 'str'> and <class 'str'>, choosing RRFN='/global/cfs/cdirs/desi/spectro/redux/fuji/tiles/cumulative/80733/20210402/redrock-6-80733-thru20210402.fits' [astropy.utils.metadata]\n",
      "WARNING: MergeConflictWarning: Cannot merge meta key 'COADDFN' types <class 'str'> and <class 'str'>, choosing COADDFN='/global/cfs/cdirs/desi/spectro/redux/fuji/tiles/cumulative/80733/20210402/coadd-6-80733-thru20210402.fits' [astropy.utils.metadata]\n"
     ]
    },
    {
     "name": "stdout",
     "output_type": "stream",
     "text": [
      "80734\n"
     ]
    },
    {
     "name": "stderr",
     "output_type": "stream",
     "text": [
      "WARNING: MergeConflictWarning: Cannot merge meta key 'RRFN' types <class 'str'> and <class 'str'>, choosing RRFN='/global/cfs/cdirs/desi/spectro/redux/fuji/tiles/cumulative/80734/20210402/redrock-4-80734-thru20210402.fits' [astropy.utils.metadata]\n",
      "WARNING: MergeConflictWarning: Cannot merge meta key 'COADDFN' types <class 'str'> and <class 'str'>, choosing COADDFN='/global/cfs/cdirs/desi/spectro/redux/fuji/tiles/cumulative/80734/20210402/coadd-4-80734-thru20210402.fits' [astropy.utils.metadata]\n"
     ]
    },
    {
     "name": "stdout",
     "output_type": "stream",
     "text": [
      "80735\n"
     ]
    },
    {
     "name": "stderr",
     "output_type": "stream",
     "text": [
      "WARNING: MergeConflictWarning: Cannot merge meta key 'RRFN' types <class 'str'> and <class 'str'>, choosing RRFN='/global/cfs/cdirs/desi/spectro/redux/fuji/tiles/cumulative/80735/20210402/redrock-3-80735-thru20210402.fits' [astropy.utils.metadata]\n",
      "WARNING: MergeConflictWarning: Cannot merge meta key 'COADDFN' types <class 'str'> and <class 'str'>, choosing COADDFN='/global/cfs/cdirs/desi/spectro/redux/fuji/tiles/cumulative/80735/20210402/coadd-3-80735-thru20210402.fits' [astropy.utils.metadata]\n"
     ]
    },
    {
     "name": "stdout",
     "output_type": "stream",
     "text": [
      "80736\n"
     ]
    },
    {
     "name": "stderr",
     "output_type": "stream",
     "text": [
      "WARNING: MergeConflictWarning: Cannot merge meta key 'RRFN' types <class 'str'> and <class 'str'>, choosing RRFN='/global/cfs/cdirs/desi/spectro/redux/fuji/tiles/cumulative/80736/20210404/redrock-9-80736-thru20210404.fits' [astropy.utils.metadata]\n",
      "WARNING: MergeConflictWarning: Cannot merge meta key 'COADDFN' types <class 'str'> and <class 'str'>, choosing COADDFN='/global/cfs/cdirs/desi/spectro/redux/fuji/tiles/cumulative/80736/20210404/coadd-9-80736-thru20210404.fits' [astropy.utils.metadata]\n"
     ]
    },
    {
     "name": "stdout",
     "output_type": "stream",
     "text": [
      "80737\n"
     ]
    },
    {
     "name": "stderr",
     "output_type": "stream",
     "text": [
      "WARNING: MergeConflictWarning: Cannot merge meta key 'RRFN' types <class 'str'> and <class 'str'>, choosing RRFN='/global/cfs/cdirs/desi/spectro/redux/fuji/tiles/cumulative/80737/20210321/redrock-5-80737-thru20210321.fits' [astropy.utils.metadata]\n",
      "WARNING: MergeConflictWarning: Cannot merge meta key 'COADDFN' types <class 'str'> and <class 'str'>, choosing COADDFN='/global/cfs/cdirs/desi/spectro/redux/fuji/tiles/cumulative/80737/20210321/coadd-5-80737-thru20210321.fits' [astropy.utils.metadata]\n"
     ]
    },
    {
     "name": "stdout",
     "output_type": "stream",
     "text": [
      "80738\n"
     ]
    },
    {
     "name": "stderr",
     "output_type": "stream",
     "text": [
      "WARNING: MergeConflictWarning: Cannot merge meta key 'RRFN' types <class 'str'> and <class 'str'>, choosing RRFN='/global/cfs/cdirs/desi/spectro/redux/fuji/tiles/cumulative/80738/20210406/redrock-6-80738-thru20210406.fits' [astropy.utils.metadata]\n",
      "WARNING: MergeConflictWarning: Cannot merge meta key 'COADDFN' types <class 'str'> and <class 'str'>, choosing COADDFN='/global/cfs/cdirs/desi/spectro/redux/fuji/tiles/cumulative/80738/20210406/coadd-6-80738-thru20210406.fits' [astropy.utils.metadata]\n"
     ]
    },
    {
     "name": "stdout",
     "output_type": "stream",
     "text": [
      "80740\n"
     ]
    },
    {
     "name": "stderr",
     "output_type": "stream",
     "text": [
      "WARNING: MergeConflictWarning: Cannot merge meta key 'RRFN' types <class 'str'> and <class 'str'>, choosing RRFN='/global/cfs/cdirs/desi/spectro/redux/fuji/tiles/cumulative/80740/20210328/redrock-8-80740-thru20210328.fits' [astropy.utils.metadata]\n",
      "WARNING: MergeConflictWarning: Cannot merge meta key 'COADDFN' types <class 'str'> and <class 'str'>, choosing COADDFN='/global/cfs/cdirs/desi/spectro/redux/fuji/tiles/cumulative/80740/20210328/coadd-8-80740-thru20210328.fits' [astropy.utils.metadata]\n"
     ]
    },
    {
     "name": "stdout",
     "output_type": "stream",
     "text": [
      "80741\n"
     ]
    },
    {
     "name": "stderr",
     "output_type": "stream",
     "text": [
      "WARNING: MergeConflictWarning: Cannot merge meta key 'RRFN' types <class 'str'> and <class 'str'>, choosing RRFN='/global/cfs/cdirs/desi/spectro/redux/fuji/tiles/cumulative/80741/20210306/redrock-9-80741-thru20210306.fits' [astropy.utils.metadata]\n",
      "WARNING: MergeConflictWarning: Cannot merge meta key 'COADDFN' types <class 'str'> and <class 'str'>, choosing COADDFN='/global/cfs/cdirs/desi/spectro/redux/fuji/tiles/cumulative/80741/20210306/coadd-9-80741-thru20210306.fits' [astropy.utils.metadata]\n"
     ]
    },
    {
     "name": "stdout",
     "output_type": "stream",
     "text": [
      "80742\n"
     ]
    },
    {
     "name": "stderr",
     "output_type": "stream",
     "text": [
      "WARNING: MergeConflictWarning: Cannot merge meta key 'RRFN' types <class 'str'> and <class 'str'>, choosing RRFN='/global/cfs/cdirs/desi/spectro/redux/fuji/tiles/cumulative/80742/20210328/redrock-2-80742-thru20210328.fits' [astropy.utils.metadata]\n",
      "WARNING: MergeConflictWarning: Cannot merge meta key 'COADDFN' types <class 'str'> and <class 'str'>, choosing COADDFN='/global/cfs/cdirs/desi/spectro/redux/fuji/tiles/cumulative/80742/20210328/coadd-2-80742-thru20210328.fits' [astropy.utils.metadata]\n"
     ]
    },
    {
     "name": "stdout",
     "output_type": "stream",
     "text": [
      "80782\n"
     ]
    },
    {
     "name": "stderr",
     "output_type": "stream",
     "text": [
      "WARNING: MergeConflictWarning: Cannot merge meta key 'RRFN' types <class 'str'> and <class 'str'>, choosing RRFN='/global/cfs/cdirs/desi/spectro/redux/fuji/tiles/cumulative/80782/20210223/redrock-8-80782-thru20210223.fits' [astropy.utils.metadata]\n",
      "WARNING: MergeConflictWarning: Cannot merge meta key 'COADDFN' types <class 'str'> and <class 'str'>, choosing COADDFN='/global/cfs/cdirs/desi/spectro/redux/fuji/tiles/cumulative/80782/20210223/coadd-8-80782-thru20210223.fits' [astropy.utils.metadata]\n"
     ]
    },
    {
     "name": "stdout",
     "output_type": "stream",
     "text": [
      "80783\n"
     ]
    },
    {
     "name": "stderr",
     "output_type": "stream",
     "text": [
      "WARNING: MergeConflictWarning: Cannot merge meta key 'RRFN' types <class 'str'> and <class 'str'>, choosing RRFN='/global/cfs/cdirs/desi/spectro/redux/fuji/tiles/cumulative/80783/20210223/redrock-8-80783-thru20210223.fits' [astropy.utils.metadata]\n",
      "WARNING: MergeConflictWarning: Cannot merge meta key 'COADDFN' types <class 'str'> and <class 'str'>, choosing COADDFN='/global/cfs/cdirs/desi/spectro/redux/fuji/tiles/cumulative/80783/20210223/coadd-8-80783-thru20210223.fits' [astropy.utils.metadata]\n"
     ]
    },
    {
     "name": "stdout",
     "output_type": "stream",
     "text": [
      "80784\n"
     ]
    },
    {
     "name": "stderr",
     "output_type": "stream",
     "text": [
      "WARNING: MergeConflictWarning: Cannot merge meta key 'RRFN' types <class 'str'> and <class 'str'>, choosing RRFN='/global/cfs/cdirs/desi/spectro/redux/fuji/tiles/cumulative/80784/20210223/redrock-6-80784-thru20210223.fits' [astropy.utils.metadata]\n",
      "WARNING: MergeConflictWarning: Cannot merge meta key 'COADDFN' types <class 'str'> and <class 'str'>, choosing COADDFN='/global/cfs/cdirs/desi/spectro/redux/fuji/tiles/cumulative/80784/20210223/coadd-6-80784-thru20210223.fits' [astropy.utils.metadata]\n"
     ]
    },
    {
     "name": "stdout",
     "output_type": "stream",
     "text": [
      "80785\n"
     ]
    },
    {
     "name": "stderr",
     "output_type": "stream",
     "text": [
      "WARNING: MergeConflictWarning: Cannot merge meta key 'RRFN' types <class 'str'> and <class 'str'>, choosing RRFN='/global/cfs/cdirs/desi/spectro/redux/fuji/tiles/cumulative/80785/20210223/redrock-7-80785-thru20210223.fits' [astropy.utils.metadata]\n",
      "WARNING: MergeConflictWarning: Cannot merge meta key 'COADDFN' types <class 'str'> and <class 'str'>, choosing COADDFN='/global/cfs/cdirs/desi/spectro/redux/fuji/tiles/cumulative/80785/20210223/coadd-7-80785-thru20210223.fits' [astropy.utils.metadata]\n"
     ]
    },
    {
     "name": "stdout",
     "output_type": "stream",
     "text": [
      "80786\n"
     ]
    },
    {
     "name": "stderr",
     "output_type": "stream",
     "text": [
      "WARNING: MergeConflictWarning: Cannot merge meta key 'RRFN' types <class 'str'> and <class 'str'>, choosing RRFN='/global/cfs/cdirs/desi/spectro/redux/fuji/tiles/cumulative/80786/20210223/redrock-3-80786-thru20210223.fits' [astropy.utils.metadata]\n",
      "WARNING: MergeConflictWarning: Cannot merge meta key 'COADDFN' types <class 'str'> and <class 'str'>, choosing COADDFN='/global/cfs/cdirs/desi/spectro/redux/fuji/tiles/cumulative/80786/20210223/coadd-3-80786-thru20210223.fits' [astropy.utils.metadata]\n"
     ]
    },
    {
     "name": "stdout",
     "output_type": "stream",
     "text": [
      "80787\n"
     ]
    },
    {
     "name": "stderr",
     "output_type": "stream",
     "text": [
      "WARNING: MergeConflictWarning: Cannot merge meta key 'RRFN' types <class 'str'> and <class 'str'>, choosing RRFN='/global/cfs/cdirs/desi/spectro/redux/fuji/tiles/cumulative/80787/20210223/redrock-7-80787-thru20210223.fits' [astropy.utils.metadata]\n",
      "WARNING: MergeConflictWarning: Cannot merge meta key 'COADDFN' types <class 'str'> and <class 'str'>, choosing COADDFN='/global/cfs/cdirs/desi/spectro/redux/fuji/tiles/cumulative/80787/20210223/coadd-7-80787-thru20210223.fits' [astropy.utils.metadata]\n"
     ]
    },
    {
     "name": "stdout",
     "output_type": "stream",
     "text": [
      "80788\n"
     ]
    },
    {
     "name": "stderr",
     "output_type": "stream",
     "text": [
      "WARNING: MergeConflictWarning: Cannot merge meta key 'RRFN' types <class 'str'> and <class 'str'>, choosing RRFN='/global/cfs/cdirs/desi/spectro/redux/fuji/tiles/cumulative/80788/20210223/redrock-5-80788-thru20210223.fits' [astropy.utils.metadata]\n",
      "WARNING: MergeConflictWarning: Cannot merge meta key 'COADDFN' types <class 'str'> and <class 'str'>, choosing COADDFN='/global/cfs/cdirs/desi/spectro/redux/fuji/tiles/cumulative/80788/20210223/coadd-5-80788-thru20210223.fits' [astropy.utils.metadata]\n"
     ]
    },
    {
     "name": "stdout",
     "output_type": "stream",
     "text": [
      "80789\n"
     ]
    },
    {
     "name": "stderr",
     "output_type": "stream",
     "text": [
      "WARNING: MergeConflictWarning: Cannot merge meta key 'RRFN' types <class 'str'> and <class 'str'>, choosing RRFN='/global/cfs/cdirs/desi/spectro/redux/fuji/tiles/cumulative/80789/20210223/redrock-6-80789-thru20210223.fits' [astropy.utils.metadata]\n",
      "WARNING: MergeConflictWarning: Cannot merge meta key 'COADDFN' types <class 'str'> and <class 'str'>, choosing COADDFN='/global/cfs/cdirs/desi/spectro/redux/fuji/tiles/cumulative/80789/20210223/coadd-6-80789-thru20210223.fits' [astropy.utils.metadata]\n"
     ]
    },
    {
     "name": "stdout",
     "output_type": "stream",
     "text": [
      "80790\n"
     ]
    },
    {
     "name": "stderr",
     "output_type": "stream",
     "text": [
      "WARNING: MergeConflictWarning: Cannot merge meta key 'RRFN' types <class 'str'> and <class 'str'>, choosing RRFN='/global/cfs/cdirs/desi/spectro/redux/fuji/tiles/cumulative/80790/20210223/redrock-0-80790-thru20210223.fits' [astropy.utils.metadata]\n",
      "WARNING: MergeConflictWarning: Cannot merge meta key 'COADDFN' types <class 'str'> and <class 'str'>, choosing COADDFN='/global/cfs/cdirs/desi/spectro/redux/fuji/tiles/cumulative/80790/20210223/coadd-0-80790-thru20210223.fits' [astropy.utils.metadata]\n"
     ]
    },
    {
     "name": "stdout",
     "output_type": "stream",
     "text": [
      "80856\n"
     ]
    },
    {
     "name": "stderr",
     "output_type": "stream",
     "text": [
      "WARNING: MergeConflictWarning: Cannot merge meta key 'RRFN' types <class 'str'> and <class 'str'>, choosing RRFN='/global/cfs/cdirs/desi/spectro/redux/fuji/tiles/cumulative/80856/20210318/redrock-0-80856-thru20210318.fits' [astropy.utils.metadata]\n",
      "WARNING: MergeConflictWarning: Cannot merge meta key 'COADDFN' types <class 'str'> and <class 'str'>, choosing COADDFN='/global/cfs/cdirs/desi/spectro/redux/fuji/tiles/cumulative/80856/20210318/coadd-0-80856-thru20210318.fits' [astropy.utils.metadata]\n"
     ]
    },
    {
     "name": "stdout",
     "output_type": "stream",
     "text": [
      "80857\n"
     ]
    },
    {
     "name": "stderr",
     "output_type": "stream",
     "text": [
      "WARNING: MergeConflictWarning: Cannot merge meta key 'RRFN' types <class 'str'> and <class 'str'>, choosing RRFN='/global/cfs/cdirs/desi/spectro/redux/fuji/tiles/cumulative/80857/20210403/redrock-1-80857-thru20210403.fits' [astropy.utils.metadata]\n",
      "WARNING: MergeConflictWarning: Cannot merge meta key 'COADDFN' types <class 'str'> and <class 'str'>, choosing COADDFN='/global/cfs/cdirs/desi/spectro/redux/fuji/tiles/cumulative/80857/20210403/coadd-1-80857-thru20210403.fits' [astropy.utils.metadata]\n"
     ]
    },
    {
     "name": "stdout",
     "output_type": "stream",
     "text": [
      "80858\n"
     ]
    },
    {
     "name": "stderr",
     "output_type": "stream",
     "text": [
      "WARNING: MergeConflictWarning: Cannot merge meta key 'RRFN' types <class 'str'> and <class 'str'>, choosing RRFN='/global/cfs/cdirs/desi/spectro/redux/fuji/tiles/cumulative/80858/20210403/redrock-7-80858-thru20210403.fits' [astropy.utils.metadata]\n",
      "WARNING: MergeConflictWarning: Cannot merge meta key 'COADDFN' types <class 'str'> and <class 'str'>, choosing COADDFN='/global/cfs/cdirs/desi/spectro/redux/fuji/tiles/cumulative/80858/20210403/coadd-7-80858-thru20210403.fits' [astropy.utils.metadata]\n"
     ]
    },
    {
     "name": "stdout",
     "output_type": "stream",
     "text": [
      "80859\n"
     ]
    },
    {
     "name": "stderr",
     "output_type": "stream",
     "text": [
      "WARNING: MergeConflictWarning: Cannot merge meta key 'RRFN' types <class 'str'> and <class 'str'>, choosing RRFN='/global/cfs/cdirs/desi/spectro/redux/fuji/tiles/cumulative/80859/20210321/redrock-7-80859-thru20210321.fits' [astropy.utils.metadata]\n",
      "WARNING: MergeConflictWarning: Cannot merge meta key 'COADDFN' types <class 'str'> and <class 'str'>, choosing COADDFN='/global/cfs/cdirs/desi/spectro/redux/fuji/tiles/cumulative/80859/20210321/coadd-7-80859-thru20210321.fits' [astropy.utils.metadata]\n"
     ]
    },
    {
     "name": "stdout",
     "output_type": "stream",
     "text": [
      "80860\n"
     ]
    },
    {
     "name": "stderr",
     "output_type": "stream",
     "text": [
      "WARNING: MergeConflictWarning: Cannot merge meta key 'RRFN' types <class 'str'> and <class 'str'>, choosing RRFN='/global/cfs/cdirs/desi/spectro/redux/fuji/tiles/cumulative/80860/20210404/redrock-7-80860-thru20210404.fits' [astropy.utils.metadata]\n",
      "WARNING: MergeConflictWarning: Cannot merge meta key 'COADDFN' types <class 'str'> and <class 'str'>, choosing COADDFN='/global/cfs/cdirs/desi/spectro/redux/fuji/tiles/cumulative/80860/20210404/coadd-7-80860-thru20210404.fits' [astropy.utils.metadata]\n"
     ]
    },
    {
     "name": "stdout",
     "output_type": "stream",
     "text": [
      "80861\n"
     ]
    },
    {
     "name": "stderr",
     "output_type": "stream",
     "text": [
      "WARNING: MergeConflictWarning: Cannot merge meta key 'RRFN' types <class 'str'> and <class 'str'>, choosing RRFN='/global/cfs/cdirs/desi/spectro/redux/fuji/tiles/cumulative/80861/20210404/redrock-8-80861-thru20210404.fits' [astropy.utils.metadata]\n",
      "WARNING: MergeConflictWarning: Cannot merge meta key 'COADDFN' types <class 'str'> and <class 'str'>, choosing COADDFN='/global/cfs/cdirs/desi/spectro/redux/fuji/tiles/cumulative/80861/20210404/coadd-8-80861-thru20210404.fits' [astropy.utils.metadata]\n"
     ]
    },
    {
     "name": "stdout",
     "output_type": "stream",
     "text": [
      "80862\n"
     ]
    },
    {
     "name": "stderr",
     "output_type": "stream",
     "text": [
      "WARNING: MergeConflictWarning: Cannot merge meta key 'RRFN' types <class 'str'> and <class 'str'>, choosing RRFN='/global/cfs/cdirs/desi/spectro/redux/fuji/tiles/cumulative/80862/20210416/redrock-8-80862-thru20210416.fits' [astropy.utils.metadata]\n",
      "WARNING: MergeConflictWarning: Cannot merge meta key 'COADDFN' types <class 'str'> and <class 'str'>, choosing COADDFN='/global/cfs/cdirs/desi/spectro/redux/fuji/tiles/cumulative/80862/20210416/coadd-8-80862-thru20210416.fits' [astropy.utils.metadata]\n"
     ]
    },
    {
     "name": "stdout",
     "output_type": "stream",
     "text": [
      "80863\n"
     ]
    },
    {
     "name": "stderr",
     "output_type": "stream",
     "text": [
      "WARNING: MergeConflictWarning: Cannot merge meta key 'RRFN' types <class 'str'> and <class 'str'>, choosing RRFN='/global/cfs/cdirs/desi/spectro/redux/fuji/tiles/cumulative/80863/20210316/redrock-0-80863-thru20210316.fits' [astropy.utils.metadata]\n",
      "WARNING: MergeConflictWarning: Cannot merge meta key 'COADDFN' types <class 'str'> and <class 'str'>, choosing COADDFN='/global/cfs/cdirs/desi/spectro/redux/fuji/tiles/cumulative/80863/20210316/coadd-0-80863-thru20210316.fits' [astropy.utils.metadata]\n"
     ]
    },
    {
     "name": "stdout",
     "output_type": "stream",
     "text": [
      "80865\n"
     ]
    },
    {
     "name": "stderr",
     "output_type": "stream",
     "text": [
      "WARNING: MergeConflictWarning: Cannot merge meta key 'RRFN' types <class 'str'> and <class 'str'>, choosing RRFN='/global/cfs/cdirs/desi/spectro/redux/fuji/tiles/cumulative/80865/20210510/redrock-1-80865-thru20210510.fits' [astropy.utils.metadata]\n",
      "WARNING: MergeConflictWarning: Cannot merge meta key 'COADDFN' types <class 'str'> and <class 'str'>, choosing COADDFN='/global/cfs/cdirs/desi/spectro/redux/fuji/tiles/cumulative/80865/20210510/coadd-1-80865-thru20210510.fits' [astropy.utils.metadata]\n"
     ]
    },
    {
     "name": "stdout",
     "output_type": "stream",
     "text": [
      "80866\n"
     ]
    },
    {
     "name": "stderr",
     "output_type": "stream",
     "text": [
      "WARNING: MergeConflictWarning: Cannot merge meta key 'RRFN' types <class 'str'> and <class 'str'>, choosing RRFN='/global/cfs/cdirs/desi/spectro/redux/fuji/tiles/cumulative/80866/20210314/redrock-7-80866-thru20210314.fits' [astropy.utils.metadata]\n",
      "WARNING: MergeConflictWarning: Cannot merge meta key 'COADDFN' types <class 'str'> and <class 'str'>, choosing COADDFN='/global/cfs/cdirs/desi/spectro/redux/fuji/tiles/cumulative/80866/20210314/coadd-7-80866-thru20210314.fits' [astropy.utils.metadata]\n"
     ]
    },
    {
     "name": "stdout",
     "output_type": "stream",
     "text": [
      "80867\n"
     ]
    },
    {
     "name": "stderr",
     "output_type": "stream",
     "text": [
      "WARNING: MergeConflictWarning: Cannot merge meta key 'RRFN' types <class 'str'> and <class 'str'>, choosing RRFN='/global/cfs/cdirs/desi/spectro/redux/fuji/tiles/cumulative/80867/20210314/redrock-1-80867-thru20210314.fits' [astropy.utils.metadata]\n",
      "WARNING: MergeConflictWarning: Cannot merge meta key 'COADDFN' types <class 'str'> and <class 'str'>, choosing COADDFN='/global/cfs/cdirs/desi/spectro/redux/fuji/tiles/cumulative/80867/20210314/coadd-1-80867-thru20210314.fits' [astropy.utils.metadata]\n"
     ]
    },
    {
     "name": "stdout",
     "output_type": "stream",
     "text": [
      "80869\n"
     ]
    },
    {
     "name": "stderr",
     "output_type": "stream",
     "text": [
      "WARNING: MergeConflictWarning: Cannot merge meta key 'RRFN' types <class 'str'> and <class 'str'>, choosing RRFN='/global/cfs/cdirs/desi/spectro/redux/fuji/tiles/cumulative/80869/20210511/redrock-9-80869-thru20210511.fits' [astropy.utils.metadata]\n",
      "WARNING: MergeConflictWarning: Cannot merge meta key 'COADDFN' types <class 'str'> and <class 'str'>, choosing COADDFN='/global/cfs/cdirs/desi/spectro/redux/fuji/tiles/cumulative/80869/20210511/coadd-9-80869-thru20210511.fits' [astropy.utils.metadata]\n"
     ]
    },
    {
     "name": "stdout",
     "output_type": "stream",
     "text": [
      "80870\n"
     ]
    },
    {
     "name": "stderr",
     "output_type": "stream",
     "text": [
      "WARNING: MergeConflictWarning: Cannot merge meta key 'RRFN' types <class 'str'> and <class 'str'>, choosing RRFN='/global/cfs/cdirs/desi/spectro/redux/fuji/tiles/cumulative/80870/20210513/redrock-1-80870-thru20210513.fits' [astropy.utils.metadata]\n",
      "WARNING: MergeConflictWarning: Cannot merge meta key 'COADDFN' types <class 'str'> and <class 'str'>, choosing COADDFN='/global/cfs/cdirs/desi/spectro/redux/fuji/tiles/cumulative/80870/20210513/coadd-1-80870-thru20210513.fits' [astropy.utils.metadata]\n"
     ]
    },
    {
     "name": "stdout",
     "output_type": "stream",
     "text": [
      "80871\n"
     ]
    },
    {
     "name": "stderr",
     "output_type": "stream",
     "text": [
      "WARNING: MergeConflictWarning: Cannot merge meta key 'RRFN' types <class 'str'> and <class 'str'>, choosing RRFN='/global/cfs/cdirs/desi/spectro/redux/fuji/tiles/cumulative/80871/20210430/redrock-7-80871-thru20210430.fits' [astropy.utils.metadata]\n",
      "WARNING: MergeConflictWarning: Cannot merge meta key 'COADDFN' types <class 'str'> and <class 'str'>, choosing COADDFN='/global/cfs/cdirs/desi/spectro/redux/fuji/tiles/cumulative/80871/20210430/coadd-7-80871-thru20210430.fits' [astropy.utils.metadata]\n"
     ]
    },
    {
     "name": "stdout",
     "output_type": "stream",
     "text": [
      "80872\n"
     ]
    },
    {
     "name": "stderr",
     "output_type": "stream",
     "text": [
      "WARNING: MergeConflictWarning: Cannot merge meta key 'RRFN' types <class 'str'> and <class 'str'>, choosing RRFN='/global/cfs/cdirs/desi/spectro/redux/fuji/tiles/cumulative/80872/20210512/redrock-1-80872-thru20210512.fits' [astropy.utils.metadata]\n",
      "WARNING: MergeConflictWarning: Cannot merge meta key 'COADDFN' types <class 'str'> and <class 'str'>, choosing COADDFN='/global/cfs/cdirs/desi/spectro/redux/fuji/tiles/cumulative/80872/20210512/coadd-1-80872-thru20210512.fits' [astropy.utils.metadata]\n"
     ]
    },
    {
     "name": "stdout",
     "output_type": "stream",
     "text": [
      "80873\n"
     ]
    },
    {
     "name": "stderr",
     "output_type": "stream",
     "text": [
      "WARNING: MergeConflictWarning: Cannot merge meta key 'RRFN' types <class 'str'> and <class 'str'>, choosing RRFN='/global/cfs/cdirs/desi/spectro/redux/fuji/tiles/cumulative/80873/20210402/redrock-8-80873-thru20210402.fits' [astropy.utils.metadata]\n",
      "WARNING: MergeConflictWarning: Cannot merge meta key 'COADDFN' types <class 'str'> and <class 'str'>, choosing COADDFN='/global/cfs/cdirs/desi/spectro/redux/fuji/tiles/cumulative/80873/20210402/coadd-8-80873-thru20210402.fits' [astropy.utils.metadata]\n"
     ]
    },
    {
     "name": "stdout",
     "output_type": "stream",
     "text": [
      "80875\n"
     ]
    },
    {
     "name": "stderr",
     "output_type": "stream",
     "text": [
      "WARNING: MergeConflictWarning: Cannot merge meta key 'RRFN' types <class 'str'> and <class 'str'>, choosing RRFN='/global/cfs/cdirs/desi/spectro/redux/fuji/tiles/cumulative/80875/20210320/redrock-0-80875-thru20210320.fits' [astropy.utils.metadata]\n",
      "WARNING: MergeConflictWarning: Cannot merge meta key 'COADDFN' types <class 'str'> and <class 'str'>, choosing COADDFN='/global/cfs/cdirs/desi/spectro/redux/fuji/tiles/cumulative/80875/20210320/coadd-0-80875-thru20210320.fits' [astropy.utils.metadata]\n"
     ]
    },
    {
     "name": "stdout",
     "output_type": "stream",
     "text": [
      "80876\n"
     ]
    },
    {
     "name": "stderr",
     "output_type": "stream",
     "text": [
      "WARNING: MergeConflictWarning: Cannot merge meta key 'RRFN' types <class 'str'> and <class 'str'>, choosing RRFN='/global/cfs/cdirs/desi/spectro/redux/fuji/tiles/cumulative/80876/20210320/redrock-9-80876-thru20210320.fits' [astropy.utils.metadata]\n",
      "WARNING: MergeConflictWarning: Cannot merge meta key 'COADDFN' types <class 'str'> and <class 'str'>, choosing COADDFN='/global/cfs/cdirs/desi/spectro/redux/fuji/tiles/cumulative/80876/20210320/coadd-9-80876-thru20210320.fits' [astropy.utils.metadata]\n"
     ]
    },
    {
     "name": "stdout",
     "output_type": "stream",
     "text": [
      "80879\n"
     ]
    },
    {
     "name": "stderr",
     "output_type": "stream",
     "text": [
      "WARNING: MergeConflictWarning: Cannot merge meta key 'RRFN' types <class 'str'> and <class 'str'>, choosing RRFN='/global/cfs/cdirs/desi/spectro/redux/fuji/tiles/cumulative/80879/20210321/redrock-2-80879-thru20210321.fits' [astropy.utils.metadata]\n",
      "WARNING: MergeConflictWarning: Cannot merge meta key 'COADDFN' types <class 'str'> and <class 'str'>, choosing COADDFN='/global/cfs/cdirs/desi/spectro/redux/fuji/tiles/cumulative/80879/20210321/coadd-2-80879-thru20210321.fits' [astropy.utils.metadata]\n"
     ]
    },
    {
     "name": "stdout",
     "output_type": "stream",
     "text": [
      "80882\n"
     ]
    },
    {
     "name": "stderr",
     "output_type": "stream",
     "text": [
      "WARNING: MergeConflictWarning: Cannot merge meta key 'RRFN' types <class 'str'> and <class 'str'>, choosing RRFN='/global/cfs/cdirs/desi/spectro/redux/fuji/tiles/cumulative/80882/20210319/redrock-0-80882-thru20210319.fits' [astropy.utils.metadata]\n",
      "WARNING: MergeConflictWarning: Cannot merge meta key 'COADDFN' types <class 'str'> and <class 'str'>, choosing COADDFN='/global/cfs/cdirs/desi/spectro/redux/fuji/tiles/cumulative/80882/20210319/coadd-0-80882-thru20210319.fits' [astropy.utils.metadata]\n"
     ]
    },
    {
     "name": "stdout",
     "output_type": "stream",
     "text": [
      "80885\n"
     ]
    },
    {
     "name": "stderr",
     "output_type": "stream",
     "text": [
      "WARNING: MergeConflictWarning: Cannot merge meta key 'RRFN' types <class 'str'> and <class 'str'>, choosing RRFN='/global/cfs/cdirs/desi/spectro/redux/fuji/tiles/cumulative/80885/20210402/redrock-2-80885-thru20210402.fits' [astropy.utils.metadata]\n",
      "WARNING: MergeConflictWarning: Cannot merge meta key 'COADDFN' types <class 'str'> and <class 'str'>, choosing COADDFN='/global/cfs/cdirs/desi/spectro/redux/fuji/tiles/cumulative/80885/20210402/coadd-2-80885-thru20210402.fits' [astropy.utils.metadata]\n"
     ]
    },
    {
     "name": "stdout",
     "output_type": "stream",
     "text": [
      "80886\n"
     ]
    },
    {
     "name": "stderr",
     "output_type": "stream",
     "text": [
      "WARNING: MergeConflictWarning: Cannot merge meta key 'RRFN' types <class 'str'> and <class 'str'>, choosing RRFN='/global/cfs/cdirs/desi/spectro/redux/fuji/tiles/cumulative/80886/20210403/redrock-7-80886-thru20210403.fits' [astropy.utils.metadata]\n",
      "WARNING: MergeConflictWarning: Cannot merge meta key 'COADDFN' types <class 'str'> and <class 'str'>, choosing COADDFN='/global/cfs/cdirs/desi/spectro/redux/fuji/tiles/cumulative/80886/20210403/coadd-7-80886-thru20210403.fits' [astropy.utils.metadata]\n"
     ]
    },
    {
     "name": "stdout",
     "output_type": "stream",
     "text": [
      "80887\n"
     ]
    },
    {
     "name": "stderr",
     "output_type": "stream",
     "text": [
      "WARNING: MergeConflictWarning: Cannot merge meta key 'RRFN' types <class 'str'> and <class 'str'>, choosing RRFN='/global/cfs/cdirs/desi/spectro/redux/fuji/tiles/cumulative/80887/20210404/redrock-6-80887-thru20210404.fits' [astropy.utils.metadata]\n",
      "WARNING: MergeConflictWarning: Cannot merge meta key 'COADDFN' types <class 'str'> and <class 'str'>, choosing COADDFN='/global/cfs/cdirs/desi/spectro/redux/fuji/tiles/cumulative/80887/20210404/coadd-6-80887-thru20210404.fits' [astropy.utils.metadata]\n"
     ]
    },
    {
     "name": "stdout",
     "output_type": "stream",
     "text": [
      "80888\n"
     ]
    },
    {
     "name": "stderr",
     "output_type": "stream",
     "text": [
      "WARNING: MergeConflictWarning: Cannot merge meta key 'RRFN' types <class 'str'> and <class 'str'>, choosing RRFN='/global/cfs/cdirs/desi/spectro/redux/fuji/tiles/cumulative/80888/20210318/redrock-7-80888-thru20210318.fits' [astropy.utils.metadata]\n",
      "WARNING: MergeConflictWarning: Cannot merge meta key 'COADDFN' types <class 'str'> and <class 'str'>, choosing COADDFN='/global/cfs/cdirs/desi/spectro/redux/fuji/tiles/cumulative/80888/20210318/coadd-7-80888-thru20210318.fits' [astropy.utils.metadata]\n"
     ]
    },
    {
     "name": "stdout",
     "output_type": "stream",
     "text": [
      "80889\n"
     ]
    },
    {
     "name": "stderr",
     "output_type": "stream",
     "text": [
      "WARNING: MergeConflictWarning: Cannot merge meta key 'RRFN' types <class 'str'> and <class 'str'>, choosing RRFN='/global/cfs/cdirs/desi/spectro/redux/fuji/tiles/cumulative/80889/20210404/redrock-1-80889-thru20210404.fits' [astropy.utils.metadata]\n",
      "WARNING: MergeConflictWarning: Cannot merge meta key 'COADDFN' types <class 'str'> and <class 'str'>, choosing COADDFN='/global/cfs/cdirs/desi/spectro/redux/fuji/tiles/cumulative/80889/20210404/coadd-1-80889-thru20210404.fits' [astropy.utils.metadata]\n"
     ]
    },
    {
     "name": "stdout",
     "output_type": "stream",
     "text": [
      "80890\n"
     ]
    },
    {
     "name": "stderr",
     "output_type": "stream",
     "text": [
      "WARNING: MergeConflictWarning: Cannot merge meta key 'RRFN' types <class 'str'> and <class 'str'>, choosing RRFN='/global/cfs/cdirs/desi/spectro/redux/fuji/tiles/cumulative/80890/20210404/redrock-1-80890-thru20210404.fits' [astropy.utils.metadata]\n",
      "WARNING: MergeConflictWarning: Cannot merge meta key 'COADDFN' types <class 'str'> and <class 'str'>, choosing COADDFN='/global/cfs/cdirs/desi/spectro/redux/fuji/tiles/cumulative/80890/20210404/coadd-1-80890-thru20210404.fits' [astropy.utils.metadata]\n"
     ]
    },
    {
     "name": "stdout",
     "output_type": "stream",
     "text": [
      "80891\n"
     ]
    },
    {
     "name": "stderr",
     "output_type": "stream",
     "text": [
      "WARNING: MergeConflictWarning: Cannot merge meta key 'RRFN' types <class 'str'> and <class 'str'>, choosing RRFN='/global/cfs/cdirs/desi/spectro/redux/fuji/tiles/cumulative/80891/20210404/redrock-4-80891-thru20210404.fits' [astropy.utils.metadata]\n",
      "WARNING: MergeConflictWarning: Cannot merge meta key 'COADDFN' types <class 'str'> and <class 'str'>, choosing COADDFN='/global/cfs/cdirs/desi/spectro/redux/fuji/tiles/cumulative/80891/20210404/coadd-4-80891-thru20210404.fits' [astropy.utils.metadata]\n"
     ]
    },
    {
     "name": "stdout",
     "output_type": "stream",
     "text": [
      "80892\n"
     ]
    },
    {
     "name": "stderr",
     "output_type": "stream",
     "text": [
      "WARNING: MergeConflictWarning: Cannot merge meta key 'RRFN' types <class 'str'> and <class 'str'>, choosing RRFN='/global/cfs/cdirs/desi/spectro/redux/fuji/tiles/cumulative/80892/20210406/redrock-6-80892-thru20210406.fits' [astropy.utils.metadata]\n",
      "WARNING: MergeConflictWarning: Cannot merge meta key 'COADDFN' types <class 'str'> and <class 'str'>, choosing COADDFN='/global/cfs/cdirs/desi/spectro/redux/fuji/tiles/cumulative/80892/20210406/coadd-6-80892-thru20210406.fits' [astropy.utils.metadata]\n"
     ]
    },
    {
     "name": "stdout",
     "output_type": "stream",
     "text": [
      "80893\n"
     ]
    },
    {
     "name": "stderr",
     "output_type": "stream",
     "text": [
      "WARNING: MergeConflictWarning: Cannot merge meta key 'RRFN' types <class 'str'> and <class 'str'>, choosing RRFN='/global/cfs/cdirs/desi/spectro/redux/fuji/tiles/cumulative/80893/20210404/redrock-4-80893-thru20210404.fits' [astropy.utils.metadata]\n",
      "WARNING: MergeConflictWarning: Cannot merge meta key 'COADDFN' types <class 'str'> and <class 'str'>, choosing COADDFN='/global/cfs/cdirs/desi/spectro/redux/fuji/tiles/cumulative/80893/20210404/coadd-4-80893-thru20210404.fits' [astropy.utils.metadata]\n"
     ]
    },
    {
     "name": "stdout",
     "output_type": "stream",
     "text": [
      "80894\n"
     ]
    },
    {
     "name": "stderr",
     "output_type": "stream",
     "text": [
      "WARNING: MergeConflictWarning: Cannot merge meta key 'RRFN' types <class 'str'> and <class 'str'>, choosing RRFN='/global/cfs/cdirs/desi/spectro/redux/fuji/tiles/cumulative/80894/20210404/redrock-0-80894-thru20210404.fits' [astropy.utils.metadata]\n",
      "WARNING: MergeConflictWarning: Cannot merge meta key 'COADDFN' types <class 'str'> and <class 'str'>, choosing COADDFN='/global/cfs/cdirs/desi/spectro/redux/fuji/tiles/cumulative/80894/20210404/coadd-0-80894-thru20210404.fits' [astropy.utils.metadata]\n"
     ]
    },
    {
     "name": "stdout",
     "output_type": "stream",
     "text": [
      "80895\n"
     ]
    },
    {
     "name": "stderr",
     "output_type": "stream",
     "text": [
      "WARNING: MergeConflictWarning: Cannot merge meta key 'RRFN' types <class 'str'> and <class 'str'>, choosing RRFN='/global/cfs/cdirs/desi/spectro/redux/fuji/tiles/cumulative/80895/20210403/redrock-5-80895-thru20210403.fits' [astropy.utils.metadata]\n",
      "WARNING: MergeConflictWarning: Cannot merge meta key 'COADDFN' types <class 'str'> and <class 'str'>, choosing COADDFN='/global/cfs/cdirs/desi/spectro/redux/fuji/tiles/cumulative/80895/20210403/coadd-5-80895-thru20210403.fits' [astropy.utils.metadata]\n"
     ]
    },
    {
     "name": "stdout",
     "output_type": "stream",
     "text": [
      "80896\n"
     ]
    },
    {
     "name": "stderr",
     "output_type": "stream",
     "text": [
      "WARNING: MergeConflictWarning: Cannot merge meta key 'RRFN' types <class 'str'> and <class 'str'>, choosing RRFN='/global/cfs/cdirs/desi/spectro/redux/fuji/tiles/cumulative/80896/20210406/redrock-2-80896-thru20210406.fits' [astropy.utils.metadata]\n",
      "WARNING: MergeConflictWarning: Cannot merge meta key 'COADDFN' types <class 'str'> and <class 'str'>, choosing COADDFN='/global/cfs/cdirs/desi/spectro/redux/fuji/tiles/cumulative/80896/20210406/coadd-2-80896-thru20210406.fits' [astropy.utils.metadata]\n"
     ]
    },
    {
     "name": "stdout",
     "output_type": "stream",
     "text": [
      "80897\n"
     ]
    },
    {
     "name": "stderr",
     "output_type": "stream",
     "text": [
      "WARNING: MergeConflictWarning: Cannot merge meta key 'RRFN' types <class 'str'> and <class 'str'>, choosing RRFN='/global/cfs/cdirs/desi/spectro/redux/fuji/tiles/cumulative/80897/20210406/redrock-8-80897-thru20210406.fits' [astropy.utils.metadata]\n",
      "WARNING: MergeConflictWarning: Cannot merge meta key 'COADDFN' types <class 'str'> and <class 'str'>, choosing COADDFN='/global/cfs/cdirs/desi/spectro/redux/fuji/tiles/cumulative/80897/20210406/coadd-8-80897-thru20210406.fits' [astropy.utils.metadata]\n"
     ]
    },
    {
     "name": "stdout",
     "output_type": "stream",
     "text": [
      "80898\n"
     ]
    },
    {
     "name": "stderr",
     "output_type": "stream",
     "text": [
      "WARNING: MergeConflictWarning: Cannot merge meta key 'RRFN' types <class 'str'> and <class 'str'>, choosing RRFN='/global/cfs/cdirs/desi/spectro/redux/fuji/tiles/cumulative/80898/20210406/redrock-3-80898-thru20210406.fits' [astropy.utils.metadata]\n",
      "WARNING: MergeConflictWarning: Cannot merge meta key 'COADDFN' types <class 'str'> and <class 'str'>, choosing COADDFN='/global/cfs/cdirs/desi/spectro/redux/fuji/tiles/cumulative/80898/20210406/coadd-3-80898-thru20210406.fits' [astropy.utils.metadata]\n"
     ]
    },
    {
     "name": "stdout",
     "output_type": "stream",
     "text": [
      "80899\n"
     ]
    },
    {
     "name": "stderr",
     "output_type": "stream",
     "text": [
      "WARNING: MergeConflictWarning: Cannot merge meta key 'RRFN' types <class 'str'> and <class 'str'>, choosing RRFN='/global/cfs/cdirs/desi/spectro/redux/fuji/tiles/cumulative/80899/20210404/redrock-4-80899-thru20210404.fits' [astropy.utils.metadata]\n",
      "WARNING: MergeConflictWarning: Cannot merge meta key 'COADDFN' types <class 'str'> and <class 'str'>, choosing COADDFN='/global/cfs/cdirs/desi/spectro/redux/fuji/tiles/cumulative/80899/20210404/coadd-4-80899-thru20210404.fits' [astropy.utils.metadata]\n"
     ]
    },
    {
     "name": "stdout",
     "output_type": "stream",
     "text": [
      "80900\n"
     ]
    },
    {
     "name": "stderr",
     "output_type": "stream",
     "text": [
      "WARNING: MergeConflictWarning: Cannot merge meta key 'RRFN' types <class 'str'> and <class 'str'>, choosing RRFN='/global/cfs/cdirs/desi/spectro/redux/fuji/tiles/cumulative/80900/20210406/redrock-4-80900-thru20210406.fits' [astropy.utils.metadata]\n",
      "WARNING: MergeConflictWarning: Cannot merge meta key 'COADDFN' types <class 'str'> and <class 'str'>, choosing COADDFN='/global/cfs/cdirs/desi/spectro/redux/fuji/tiles/cumulative/80900/20210406/coadd-4-80900-thru20210406.fits' [astropy.utils.metadata]\n"
     ]
    },
    {
     "name": "stdout",
     "output_type": "stream",
     "text": [
      "80901\n"
     ]
    },
    {
     "name": "stderr",
     "output_type": "stream",
     "text": [
      "WARNING: MergeConflictWarning: Cannot merge meta key 'RRFN' types <class 'str'> and <class 'str'>, choosing RRFN='/global/cfs/cdirs/desi/spectro/redux/fuji/tiles/cumulative/80901/20210406/redrock-4-80901-thru20210406.fits' [astropy.utils.metadata]\n",
      "WARNING: MergeConflictWarning: Cannot merge meta key 'COADDFN' types <class 'str'> and <class 'str'>, choosing COADDFN='/global/cfs/cdirs/desi/spectro/redux/fuji/tiles/cumulative/80901/20210406/coadd-4-80901-thru20210406.fits' [astropy.utils.metadata]\n"
     ]
    },
    {
     "name": "stdout",
     "output_type": "stream",
     "text": [
      "80902\n"
     ]
    },
    {
     "name": "stderr",
     "output_type": "stream",
     "text": [
      "WARNING: MergeConflictWarning: Cannot merge meta key 'RRFN' types <class 'str'> and <class 'str'>, choosing RRFN='/global/cfs/cdirs/desi/spectro/redux/fuji/tiles/cumulative/80902/20210404/redrock-8-80902-thru20210404.fits' [astropy.utils.metadata]\n",
      "WARNING: MergeConflictWarning: Cannot merge meta key 'COADDFN' types <class 'str'> and <class 'str'>, choosing COADDFN='/global/cfs/cdirs/desi/spectro/redux/fuji/tiles/cumulative/80902/20210404/coadd-8-80902-thru20210404.fits' [astropy.utils.metadata]\n"
     ]
    },
    {
     "name": "stdout",
     "output_type": "stream",
     "text": [
      "80938\n"
     ]
    },
    {
     "name": "stderr",
     "output_type": "stream",
     "text": [
      "WARNING: MergeConflictWarning: Cannot merge meta key 'RRFN' types <class 'str'> and <class 'str'>, choosing RRFN='/global/cfs/cdirs/desi/spectro/redux/fuji/tiles/cumulative/80938/20210422/redrock-9-80938-thru20210422.fits' [astropy.utils.metadata]\n",
      "WARNING: MergeConflictWarning: Cannot merge meta key 'COADDFN' types <class 'str'> and <class 'str'>, choosing COADDFN='/global/cfs/cdirs/desi/spectro/redux/fuji/tiles/cumulative/80938/20210422/coadd-9-80938-thru20210422.fits' [astropy.utils.metadata]\n"
     ]
    },
    {
     "name": "stdout",
     "output_type": "stream",
     "text": [
      "80944\n"
     ]
    },
    {
     "name": "stderr",
     "output_type": "stream",
     "text": [
      "WARNING: MergeConflictWarning: Cannot merge meta key 'RRFN' types <class 'str'> and <class 'str'>, choosing RRFN='/global/cfs/cdirs/desi/spectro/redux/fuji/tiles/cumulative/80944/20210422/redrock-2-80944-thru20210422.fits' [astropy.utils.metadata]\n",
      "WARNING: MergeConflictWarning: Cannot merge meta key 'COADDFN' types <class 'str'> and <class 'str'>, choosing COADDFN='/global/cfs/cdirs/desi/spectro/redux/fuji/tiles/cumulative/80944/20210422/coadd-2-80944-thru20210422.fits' [astropy.utils.metadata]\n"
     ]
    },
    {
     "name": "stdout",
     "output_type": "stream",
     "text": [
      "80949\n"
     ]
    },
    {
     "name": "stderr",
     "output_type": "stream",
     "text": [
      "WARNING: MergeConflictWarning: Cannot merge meta key 'RRFN' types <class 'str'> and <class 'str'>, choosing RRFN='/global/cfs/cdirs/desi/spectro/redux/fuji/tiles/cumulative/80949/20210425/redrock-0-80949-thru20210425.fits' [astropy.utils.metadata]\n",
      "WARNING: MergeConflictWarning: Cannot merge meta key 'COADDFN' types <class 'str'> and <class 'str'>, choosing COADDFN='/global/cfs/cdirs/desi/spectro/redux/fuji/tiles/cumulative/80949/20210425/coadd-0-80949-thru20210425.fits' [astropy.utils.metadata]\n"
     ]
    },
    {
     "name": "stdout",
     "output_type": "stream",
     "text": [
      "80950\n"
     ]
    },
    {
     "name": "stderr",
     "output_type": "stream",
     "text": [
      "WARNING: MergeConflictWarning: Cannot merge meta key 'RRFN' types <class 'str'> and <class 'str'>, choosing RRFN='/global/cfs/cdirs/desi/spectro/redux/fuji/tiles/cumulative/80950/20210422/redrock-3-80950-thru20210422.fits' [astropy.utils.metadata]\n",
      "WARNING: MergeConflictWarning: Cannot merge meta key 'COADDFN' types <class 'str'> and <class 'str'>, choosing COADDFN='/global/cfs/cdirs/desi/spectro/redux/fuji/tiles/cumulative/80950/20210422/coadd-3-80950-thru20210422.fits' [astropy.utils.metadata]\n"
     ]
    },
    {
     "name": "stdout",
     "output_type": "stream",
     "text": [
      "80951\n"
     ]
    },
    {
     "name": "stderr",
     "output_type": "stream",
     "text": [
      "WARNING: MergeConflictWarning: Cannot merge meta key 'RRFN' types <class 'str'> and <class 'str'>, choosing RRFN='/global/cfs/cdirs/desi/spectro/redux/fuji/tiles/cumulative/80951/20210425/redrock-8-80951-thru20210425.fits' [astropy.utils.metadata]\n",
      "WARNING: MergeConflictWarning: Cannot merge meta key 'COADDFN' types <class 'str'> and <class 'str'>, choosing COADDFN='/global/cfs/cdirs/desi/spectro/redux/fuji/tiles/cumulative/80951/20210425/coadd-8-80951-thru20210425.fits' [astropy.utils.metadata]\n"
     ]
    },
    {
     "name": "stdout",
     "output_type": "stream",
     "text": [
      "80952\n"
     ]
    },
    {
     "name": "stderr",
     "output_type": "stream",
     "text": [
      "WARNING: MergeConflictWarning: Cannot merge meta key 'RRFN' types <class 'str'> and <class 'str'>, choosing RRFN='/global/cfs/cdirs/desi/spectro/redux/fuji/tiles/cumulative/80952/20210425/redrock-2-80952-thru20210425.fits' [astropy.utils.metadata]\n",
      "WARNING: MergeConflictWarning: Cannot merge meta key 'COADDFN' types <class 'str'> and <class 'str'>, choosing COADDFN='/global/cfs/cdirs/desi/spectro/redux/fuji/tiles/cumulative/80952/20210425/coadd-2-80952-thru20210425.fits' [astropy.utils.metadata]\n"
     ]
    },
    {
     "name": "stdout",
     "output_type": "stream",
     "text": [
      "80954\n"
     ]
    },
    {
     "name": "stderr",
     "output_type": "stream",
     "text": [
      "WARNING: MergeConflictWarning: Cannot merge meta key 'RRFN' types <class 'str'> and <class 'str'>, choosing RRFN='/global/cfs/cdirs/desi/spectro/redux/fuji/tiles/cumulative/80954/20210425/redrock-1-80954-thru20210425.fits' [astropy.utils.metadata]\n",
      "WARNING: MergeConflictWarning: Cannot merge meta key 'COADDFN' types <class 'str'> and <class 'str'>, choosing COADDFN='/global/cfs/cdirs/desi/spectro/redux/fuji/tiles/cumulative/80954/20210425/coadd-1-80954-thru20210425.fits' [astropy.utils.metadata]\n"
     ]
    },
    {
     "name": "stdout",
     "output_type": "stream",
     "text": [
      "80955\n"
     ]
    },
    {
     "name": "stderr",
     "output_type": "stream",
     "text": [
      "WARNING: MergeConflictWarning: Cannot merge meta key 'RRFN' types <class 'str'> and <class 'str'>, choosing RRFN='/global/cfs/cdirs/desi/spectro/redux/fuji/tiles/cumulative/80955/20210425/redrock-4-80955-thru20210425.fits' [astropy.utils.metadata]\n",
      "WARNING: MergeConflictWarning: Cannot merge meta key 'COADDFN' types <class 'str'> and <class 'str'>, choosing COADDFN='/global/cfs/cdirs/desi/spectro/redux/fuji/tiles/cumulative/80955/20210425/coadd-4-80955-thru20210425.fits' [astropy.utils.metadata]\n"
     ]
    },
    {
     "name": "stdout",
     "output_type": "stream",
     "text": [
      "80956\n"
     ]
    },
    {
     "name": "stderr",
     "output_type": "stream",
     "text": [
      "WARNING: MergeConflictWarning: Cannot merge meta key 'RRFN' types <class 'str'> and <class 'str'>, choosing RRFN='/global/cfs/cdirs/desi/spectro/redux/fuji/tiles/cumulative/80956/20210424/redrock-5-80956-thru20210424.fits' [astropy.utils.metadata]\n",
      "WARNING: MergeConflictWarning: Cannot merge meta key 'COADDFN' types <class 'str'> and <class 'str'>, choosing COADDFN='/global/cfs/cdirs/desi/spectro/redux/fuji/tiles/cumulative/80956/20210424/coadd-5-80956-thru20210424.fits' [astropy.utils.metadata]\n"
     ]
    },
    {
     "name": "stdout",
     "output_type": "stream",
     "text": [
      "80958\n"
     ]
    },
    {
     "name": "stderr",
     "output_type": "stream",
     "text": [
      "WARNING: MergeConflictWarning: Cannot merge meta key 'RRFN' types <class 'str'> and <class 'str'>, choosing RRFN='/global/cfs/cdirs/desi/spectro/redux/fuji/tiles/cumulative/80958/20210425/redrock-7-80958-thru20210425.fits' [astropy.utils.metadata]\n",
      "WARNING: MergeConflictWarning: Cannot merge meta key 'COADDFN' types <class 'str'> and <class 'str'>, choosing COADDFN='/global/cfs/cdirs/desi/spectro/redux/fuji/tiles/cumulative/80958/20210425/coadd-7-80958-thru20210425.fits' [astropy.utils.metadata]\n"
     ]
    },
    {
     "name": "stdout",
     "output_type": "stream",
     "text": [
      "80959\n"
     ]
    },
    {
     "name": "stderr",
     "output_type": "stream",
     "text": [
      "WARNING: MergeConflictWarning: Cannot merge meta key 'RRFN' types <class 'str'> and <class 'str'>, choosing RRFN='/global/cfs/cdirs/desi/spectro/redux/fuji/tiles/cumulative/80959/20210424/redrock-8-80959-thru20210424.fits' [astropy.utils.metadata]\n",
      "WARNING: MergeConflictWarning: Cannot merge meta key 'COADDFN' types <class 'str'> and <class 'str'>, choosing COADDFN='/global/cfs/cdirs/desi/spectro/redux/fuji/tiles/cumulative/80959/20210424/coadd-8-80959-thru20210424.fits' [astropy.utils.metadata]\n"
     ]
    },
    {
     "name": "stdout",
     "output_type": "stream",
     "text": [
      "80960\n"
     ]
    },
    {
     "name": "stderr",
     "output_type": "stream",
     "text": [
      "WARNING: MergeConflictWarning: Cannot merge meta key 'RRFN' types <class 'str'> and <class 'str'>, choosing RRFN='/global/cfs/cdirs/desi/spectro/redux/fuji/tiles/cumulative/80960/20210424/redrock-8-80960-thru20210424.fits' [astropy.utils.metadata]\n",
      "WARNING: MergeConflictWarning: Cannot merge meta key 'COADDFN' types <class 'str'> and <class 'str'>, choosing COADDFN='/global/cfs/cdirs/desi/spectro/redux/fuji/tiles/cumulative/80960/20210424/coadd-8-80960-thru20210424.fits' [astropy.utils.metadata]\n"
     ]
    },
    {
     "name": "stdout",
     "output_type": "stream",
     "text": [
      "80962\n"
     ]
    },
    {
     "name": "stderr",
     "output_type": "stream",
     "text": [
      "WARNING: MergeConflictWarning: Cannot merge meta key 'RRFN' types <class 'str'> and <class 'str'>, choosing RRFN='/global/cfs/cdirs/desi/spectro/redux/fuji/tiles/cumulative/80962/20210422/redrock-3-80962-thru20210422.fits' [astropy.utils.metadata]\n",
      "WARNING: MergeConflictWarning: Cannot merge meta key 'COADDFN' types <class 'str'> and <class 'str'>, choosing COADDFN='/global/cfs/cdirs/desi/spectro/redux/fuji/tiles/cumulative/80962/20210422/coadd-3-80962-thru20210422.fits' [astropy.utils.metadata]\n"
     ]
    },
    {
     "name": "stdout",
     "output_type": "stream",
     "text": [
      "80963\n"
     ]
    },
    {
     "name": "stderr",
     "output_type": "stream",
     "text": [
      "WARNING: MergeConflictWarning: Cannot merge meta key 'RRFN' types <class 'str'> and <class 'str'>, choosing RRFN='/global/cfs/cdirs/desi/spectro/redux/fuji/tiles/cumulative/80963/20210424/redrock-8-80963-thru20210424.fits' [astropy.utils.metadata]\n",
      "WARNING: MergeConflictWarning: Cannot merge meta key 'COADDFN' types <class 'str'> and <class 'str'>, choosing COADDFN='/global/cfs/cdirs/desi/spectro/redux/fuji/tiles/cumulative/80963/20210424/coadd-8-80963-thru20210424.fits' [astropy.utils.metadata]\n"
     ]
    },
    {
     "name": "stdout",
     "output_type": "stream",
     "text": [
      "80966\n"
     ]
    },
    {
     "name": "stderr",
     "output_type": "stream",
     "text": [
      "WARNING: MergeConflictWarning: Cannot merge meta key 'RRFN' types <class 'str'> and <class 'str'>, choosing RRFN='/global/cfs/cdirs/desi/spectro/redux/fuji/tiles/cumulative/80966/20210422/redrock-5-80966-thru20210422.fits' [astropy.utils.metadata]\n",
      "WARNING: MergeConflictWarning: Cannot merge meta key 'COADDFN' types <class 'str'> and <class 'str'>, choosing COADDFN='/global/cfs/cdirs/desi/spectro/redux/fuji/tiles/cumulative/80966/20210422/coadd-5-80966-thru20210422.fits' [astropy.utils.metadata]\n"
     ]
    },
    {
     "name": "stdout",
     "output_type": "stream",
     "text": [
      "80968\n"
     ]
    },
    {
     "name": "stderr",
     "output_type": "stream",
     "text": [
      "WARNING: MergeConflictWarning: Cannot merge meta key 'RRFN' types <class 'str'> and <class 'str'>, choosing RRFN='/global/cfs/cdirs/desi/spectro/redux/fuji/tiles/cumulative/80968/20210422/redrock-1-80968-thru20210422.fits' [astropy.utils.metadata]\n",
      "WARNING: MergeConflictWarning: Cannot merge meta key 'COADDFN' types <class 'str'> and <class 'str'>, choosing COADDFN='/global/cfs/cdirs/desi/spectro/redux/fuji/tiles/cumulative/80968/20210422/coadd-1-80968-thru20210422.fits' [astropy.utils.metadata]\n"
     ]
    },
    {
     "name": "stdout",
     "output_type": "stream",
     "text": [
      "80970\n"
     ]
    },
    {
     "name": "stderr",
     "output_type": "stream",
     "text": [
      "WARNING: MergeConflictWarning: Cannot merge meta key 'RRFN' types <class 'str'> and <class 'str'>, choosing RRFN='/global/cfs/cdirs/desi/spectro/redux/fuji/tiles/cumulative/80970/20210424/redrock-5-80970-thru20210424.fits' [astropy.utils.metadata]\n",
      "WARNING: MergeConflictWarning: Cannot merge meta key 'COADDFN' types <class 'str'> and <class 'str'>, choosing COADDFN='/global/cfs/cdirs/desi/spectro/redux/fuji/tiles/cumulative/80970/20210424/coadd-5-80970-thru20210424.fits' [astropy.utils.metadata]\n"
     ]
    },
    {
     "name": "stdout",
     "output_type": "stream",
     "text": [
      "80971\n"
     ]
    },
    {
     "name": "stderr",
     "output_type": "stream",
     "text": [
      "WARNING: MergeConflictWarning: Cannot merge meta key 'RRFN' types <class 'str'> and <class 'str'>, choosing RRFN='/global/cfs/cdirs/desi/spectro/redux/fuji/tiles/cumulative/80971/20210512/redrock-6-80971-thru20210512.fits' [astropy.utils.metadata]\n",
      "WARNING: MergeConflictWarning: Cannot merge meta key 'COADDFN' types <class 'str'> and <class 'str'>, choosing COADDFN='/global/cfs/cdirs/desi/spectro/redux/fuji/tiles/cumulative/80971/20210512/coadd-6-80971-thru20210512.fits' [astropy.utils.metadata]\n"
     ]
    },
    {
     "name": "stdout",
     "output_type": "stream",
     "text": [
      "80972\n"
     ]
    },
    {
     "name": "stderr",
     "output_type": "stream",
     "text": [
      "WARNING: MergeConflictWarning: Cannot merge meta key 'RRFN' types <class 'str'> and <class 'str'>, choosing RRFN='/global/cfs/cdirs/desi/spectro/redux/fuji/tiles/cumulative/80972/20210511/redrock-2-80972-thru20210511.fits' [astropy.utils.metadata]\n",
      "WARNING: MergeConflictWarning: Cannot merge meta key 'COADDFN' types <class 'str'> and <class 'str'>, choosing COADDFN='/global/cfs/cdirs/desi/spectro/redux/fuji/tiles/cumulative/80972/20210511/coadd-2-80972-thru20210511.fits' [astropy.utils.metadata]\n"
     ]
    },
    {
     "name": "stdout",
     "output_type": "stream",
     "text": [
      "80974\n"
     ]
    },
    {
     "name": "stderr",
     "output_type": "stream",
     "text": [
      "WARNING: MergeConflictWarning: Cannot merge meta key 'RRFN' types <class 'str'> and <class 'str'>, choosing RRFN='/global/cfs/cdirs/desi/spectro/redux/fuji/tiles/cumulative/80974/20210512/redrock-8-80974-thru20210512.fits' [astropy.utils.metadata]\n",
      "WARNING: MergeConflictWarning: Cannot merge meta key 'COADDFN' types <class 'str'> and <class 'str'>, choosing COADDFN='/global/cfs/cdirs/desi/spectro/redux/fuji/tiles/cumulative/80974/20210512/coadd-8-80974-thru20210512.fits' [astropy.utils.metadata]\n"
     ]
    },
    {
     "name": "stdout",
     "output_type": "stream",
     "text": [
      "80975\n"
     ]
    },
    {
     "name": "stderr",
     "output_type": "stream",
     "text": [
      "WARNING: MergeConflictWarning: Cannot merge meta key 'RRFN' types <class 'str'> and <class 'str'>, choosing RRFN='/global/cfs/cdirs/desi/spectro/redux/fuji/tiles/cumulative/80975/20210513/redrock-2-80975-thru20210513.fits' [astropy.utils.metadata]\n",
      "WARNING: MergeConflictWarning: Cannot merge meta key 'COADDFN' types <class 'str'> and <class 'str'>, choosing COADDFN='/global/cfs/cdirs/desi/spectro/redux/fuji/tiles/cumulative/80975/20210513/coadd-2-80975-thru20210513.fits' [astropy.utils.metadata]\n"
     ]
    },
    {
     "name": "stdout",
     "output_type": "stream",
     "text": [
      "81000\n"
     ]
    },
    {
     "name": "stderr",
     "output_type": "stream",
     "text": [
      "WARNING: MergeConflictWarning: Cannot merge meta key 'RRFN' types <class 'str'> and <class 'str'>, choosing RRFN='/global/cfs/cdirs/desi/spectro/redux/fuji/tiles/cumulative/81000/20210402/redrock-7-81000-thru20210402.fits' [astropy.utils.metadata]\n",
      "WARNING: MergeConflictWarning: Cannot merge meta key 'COADDFN' types <class 'str'> and <class 'str'>, choosing COADDFN='/global/cfs/cdirs/desi/spectro/redux/fuji/tiles/cumulative/81000/20210402/coadd-7-81000-thru20210402.fits' [astropy.utils.metadata]\n"
     ]
    },
    {
     "name": "stdout",
     "output_type": "stream",
     "text": [
      "81001\n"
     ]
    },
    {
     "name": "stderr",
     "output_type": "stream",
     "text": [
      "WARNING: MergeConflictWarning: Cannot merge meta key 'RRFN' types <class 'str'> and <class 'str'>, choosing RRFN='/global/cfs/cdirs/desi/spectro/redux/fuji/tiles/cumulative/81001/20210402/redrock-8-81001-thru20210402.fits' [astropy.utils.metadata]\n",
      "WARNING: MergeConflictWarning: Cannot merge meta key 'COADDFN' types <class 'str'> and <class 'str'>, choosing COADDFN='/global/cfs/cdirs/desi/spectro/redux/fuji/tiles/cumulative/81001/20210402/coadd-8-81001-thru20210402.fits' [astropy.utils.metadata]\n"
     ]
    },
    {
     "name": "stdout",
     "output_type": "stream",
     "text": [
      "81002\n"
     ]
    },
    {
     "name": "stderr",
     "output_type": "stream",
     "text": [
      "WARNING: MergeConflictWarning: Cannot merge meta key 'RRFN' types <class 'str'> and <class 'str'>, choosing RRFN='/global/cfs/cdirs/desi/spectro/redux/fuji/tiles/cumulative/81002/20210402/redrock-8-81002-thru20210402.fits' [astropy.utils.metadata]\n",
      "WARNING: MergeConflictWarning: Cannot merge meta key 'COADDFN' types <class 'str'> and <class 'str'>, choosing COADDFN='/global/cfs/cdirs/desi/spectro/redux/fuji/tiles/cumulative/81002/20210402/coadd-8-81002-thru20210402.fits' [astropy.utils.metadata]\n"
     ]
    },
    {
     "name": "stdout",
     "output_type": "stream",
     "text": [
      "81003\n"
     ]
    },
    {
     "name": "stderr",
     "output_type": "stream",
     "text": [
      "WARNING: MergeConflictWarning: Cannot merge meta key 'RRFN' types <class 'str'> and <class 'str'>, choosing RRFN='/global/cfs/cdirs/desi/spectro/redux/fuji/tiles/cumulative/81003/20210402/redrock-7-81003-thru20210402.fits' [astropy.utils.metadata]\n",
      "WARNING: MergeConflictWarning: Cannot merge meta key 'COADDFN' types <class 'str'> and <class 'str'>, choosing COADDFN='/global/cfs/cdirs/desi/spectro/redux/fuji/tiles/cumulative/81003/20210402/coadd-7-81003-thru20210402.fits' [astropy.utils.metadata]\n"
     ]
    },
    {
     "name": "stdout",
     "output_type": "stream",
     "text": [
      "81004\n"
     ]
    },
    {
     "name": "stderr",
     "output_type": "stream",
     "text": [
      "WARNING: MergeConflictWarning: Cannot merge meta key 'RRFN' types <class 'str'> and <class 'str'>, choosing RRFN='/global/cfs/cdirs/desi/spectro/redux/fuji/tiles/cumulative/81004/20210402/redrock-8-81004-thru20210402.fits' [astropy.utils.metadata]\n",
      "WARNING: MergeConflictWarning: Cannot merge meta key 'COADDFN' types <class 'str'> and <class 'str'>, choosing COADDFN='/global/cfs/cdirs/desi/spectro/redux/fuji/tiles/cumulative/81004/20210402/coadd-8-81004-thru20210402.fits' [astropy.utils.metadata]\n"
     ]
    },
    {
     "name": "stdout",
     "output_type": "stream",
     "text": [
      "81005\n"
     ]
    },
    {
     "name": "stderr",
     "output_type": "stream",
     "text": [
      "WARNING: MergeConflictWarning: Cannot merge meta key 'RRFN' types <class 'str'> and <class 'str'>, choosing RRFN='/global/cfs/cdirs/desi/spectro/redux/fuji/tiles/cumulative/81005/20210403/redrock-2-81005-thru20210403.fits' [astropy.utils.metadata]\n",
      "WARNING: MergeConflictWarning: Cannot merge meta key 'COADDFN' types <class 'str'> and <class 'str'>, choosing COADDFN='/global/cfs/cdirs/desi/spectro/redux/fuji/tiles/cumulative/81005/20210403/coadd-2-81005-thru20210403.fits' [astropy.utils.metadata]\n"
     ]
    },
    {
     "name": "stdout",
     "output_type": "stream",
     "text": [
      "81006\n"
     ]
    },
    {
     "name": "stderr",
     "output_type": "stream",
     "text": [
      "WARNING: MergeConflictWarning: Cannot merge meta key 'RRFN' types <class 'str'> and <class 'str'>, choosing RRFN='/global/cfs/cdirs/desi/spectro/redux/fuji/tiles/cumulative/81006/20210402/redrock-0-81006-thru20210402.fits' [astropy.utils.metadata]\n",
      "WARNING: MergeConflictWarning: Cannot merge meta key 'COADDFN' types <class 'str'> and <class 'str'>, choosing COADDFN='/global/cfs/cdirs/desi/spectro/redux/fuji/tiles/cumulative/81006/20210402/coadd-0-81006-thru20210402.fits' [astropy.utils.metadata]\n"
     ]
    },
    {
     "name": "stdout",
     "output_type": "stream",
     "text": [
      "81007\n"
     ]
    },
    {
     "name": "stderr",
     "output_type": "stream",
     "text": [
      "WARNING: MergeConflictWarning: Cannot merge meta key 'RRFN' types <class 'str'> and <class 'str'>, choosing RRFN='/global/cfs/cdirs/desi/spectro/redux/fuji/tiles/cumulative/81007/20210403/redrock-6-81007-thru20210403.fits' [astropy.utils.metadata]\n",
      "WARNING: MergeConflictWarning: Cannot merge meta key 'COADDFN' types <class 'str'> and <class 'str'>, choosing COADDFN='/global/cfs/cdirs/desi/spectro/redux/fuji/tiles/cumulative/81007/20210403/coadd-6-81007-thru20210403.fits' [astropy.utils.metadata]\n"
     ]
    },
    {
     "name": "stdout",
     "output_type": "stream",
     "text": [
      "81008\n"
     ]
    },
    {
     "name": "stderr",
     "output_type": "stream",
     "text": [
      "WARNING: MergeConflictWarning: Cannot merge meta key 'RRFN' types <class 'str'> and <class 'str'>, choosing RRFN='/global/cfs/cdirs/desi/spectro/redux/fuji/tiles/cumulative/81008/20210404/redrock-2-81008-thru20210404.fits' [astropy.utils.metadata]\n",
      "WARNING: MergeConflictWarning: Cannot merge meta key 'COADDFN' types <class 'str'> and <class 'str'>, choosing COADDFN='/global/cfs/cdirs/desi/spectro/redux/fuji/tiles/cumulative/81008/20210404/coadd-2-81008-thru20210404.fits' [astropy.utils.metadata]\n"
     ]
    },
    {
     "name": "stdout",
     "output_type": "stream",
     "text": [
      "81009\n"
     ]
    },
    {
     "name": "stderr",
     "output_type": "stream",
     "text": [
      "WARNING: MergeConflictWarning: Cannot merge meta key 'RRFN' types <class 'str'> and <class 'str'>, choosing RRFN='/global/cfs/cdirs/desi/spectro/redux/fuji/tiles/cumulative/81009/20210404/redrock-2-81009-thru20210404.fits' [astropy.utils.metadata]\n",
      "WARNING: MergeConflictWarning: Cannot merge meta key 'COADDFN' types <class 'str'> and <class 'str'>, choosing COADDFN='/global/cfs/cdirs/desi/spectro/redux/fuji/tiles/cumulative/81009/20210404/coadd-2-81009-thru20210404.fits' [astropy.utils.metadata]\n"
     ]
    },
    {
     "name": "stdout",
     "output_type": "stream",
     "text": [
      "81010\n"
     ]
    },
    {
     "name": "stderr",
     "output_type": "stream",
     "text": [
      "WARNING: MergeConflictWarning: Cannot merge meta key 'RRFN' types <class 'str'> and <class 'str'>, choosing RRFN='/global/cfs/cdirs/desi/spectro/redux/fuji/tiles/cumulative/81010/20210404/redrock-4-81010-thru20210404.fits' [astropy.utils.metadata]\n",
      "WARNING: MergeConflictWarning: Cannot merge meta key 'COADDFN' types <class 'str'> and <class 'str'>, choosing COADDFN='/global/cfs/cdirs/desi/spectro/redux/fuji/tiles/cumulative/81010/20210404/coadd-4-81010-thru20210404.fits' [astropy.utils.metadata]\n"
     ]
    },
    {
     "name": "stdout",
     "output_type": "stream",
     "text": [
      "81011\n"
     ]
    },
    {
     "name": "stderr",
     "output_type": "stream",
     "text": [
      "WARNING: MergeConflictWarning: Cannot merge meta key 'RRFN' types <class 'str'> and <class 'str'>, choosing RRFN='/global/cfs/cdirs/desi/spectro/redux/fuji/tiles/cumulative/81011/20210403/redrock-6-81011-thru20210403.fits' [astropy.utils.metadata]\n",
      "WARNING: MergeConflictWarning: Cannot merge meta key 'COADDFN' types <class 'str'> and <class 'str'>, choosing COADDFN='/global/cfs/cdirs/desi/spectro/redux/fuji/tiles/cumulative/81011/20210403/coadd-6-81011-thru20210403.fits' [astropy.utils.metadata]\n"
     ]
    },
    {
     "name": "stdout",
     "output_type": "stream",
     "text": [
      "81012\n"
     ]
    },
    {
     "name": "stderr",
     "output_type": "stream",
     "text": [
      "WARNING: MergeConflictWarning: Cannot merge meta key 'RRFN' types <class 'str'> and <class 'str'>, choosing RRFN='/global/cfs/cdirs/desi/spectro/redux/fuji/tiles/cumulative/81012/20210404/redrock-1-81012-thru20210404.fits' [astropy.utils.metadata]\n",
      "WARNING: MergeConflictWarning: Cannot merge meta key 'COADDFN' types <class 'str'> and <class 'str'>, choosing COADDFN='/global/cfs/cdirs/desi/spectro/redux/fuji/tiles/cumulative/81012/20210404/coadd-1-81012-thru20210404.fits' [astropy.utils.metadata]\n"
     ]
    },
    {
     "name": "stdout",
     "output_type": "stream",
     "text": [
      "81013\n"
     ]
    },
    {
     "name": "stderr",
     "output_type": "stream",
     "text": [
      "WARNING: MergeConflictWarning: Cannot merge meta key 'RRFN' types <class 'str'> and <class 'str'>, choosing RRFN='/global/cfs/cdirs/desi/spectro/redux/fuji/tiles/cumulative/81013/20210404/redrock-9-81013-thru20210404.fits' [astropy.utils.metadata]\n",
      "WARNING: MergeConflictWarning: Cannot merge meta key 'COADDFN' types <class 'str'> and <class 'str'>, choosing COADDFN='/global/cfs/cdirs/desi/spectro/redux/fuji/tiles/cumulative/81013/20210404/coadd-9-81013-thru20210404.fits' [astropy.utils.metadata]\n"
     ]
    },
    {
     "name": "stdout",
     "output_type": "stream",
     "text": [
      "81014\n"
     ]
    },
    {
     "name": "stderr",
     "output_type": "stream",
     "text": [
      "WARNING: MergeConflictWarning: Cannot merge meta key 'RRFN' types <class 'str'> and <class 'str'>, choosing RRFN='/global/cfs/cdirs/desi/spectro/redux/fuji/tiles/cumulative/81014/20210403/redrock-4-81014-thru20210403.fits' [astropy.utils.metadata]\n",
      "WARNING: MergeConflictWarning: Cannot merge meta key 'COADDFN' types <class 'str'> and <class 'str'>, choosing COADDFN='/global/cfs/cdirs/desi/spectro/redux/fuji/tiles/cumulative/81014/20210403/coadd-4-81014-thru20210403.fits' [astropy.utils.metadata]\n"
     ]
    },
    {
     "name": "stdout",
     "output_type": "stream",
     "text": [
      "81015\n"
     ]
    },
    {
     "name": "stderr",
     "output_type": "stream",
     "text": [
      "WARNING: MergeConflictWarning: Cannot merge meta key 'RRFN' types <class 'str'> and <class 'str'>, choosing RRFN='/global/cfs/cdirs/desi/spectro/redux/fuji/tiles/cumulative/81015/20210404/redrock-2-81015-thru20210404.fits' [astropy.utils.metadata]\n",
      "WARNING: MergeConflictWarning: Cannot merge meta key 'COADDFN' types <class 'str'> and <class 'str'>, choosing COADDFN='/global/cfs/cdirs/desi/spectro/redux/fuji/tiles/cumulative/81015/20210404/coadd-2-81015-thru20210404.fits' [astropy.utils.metadata]\n"
     ]
    },
    {
     "name": "stdout",
     "output_type": "stream",
     "text": [
      "81022\n"
     ]
    },
    {
     "name": "stderr",
     "output_type": "stream",
     "text": [
      "WARNING: MergeConflictWarning: Cannot merge meta key 'RRFN' types <class 'str'> and <class 'str'>, choosing RRFN='/global/cfs/cdirs/desi/spectro/redux/fuji/tiles/cumulative/81022/20210404/redrock-7-81022-thru20210404.fits' [astropy.utils.metadata]\n",
      "WARNING: MergeConflictWarning: Cannot merge meta key 'COADDFN' types <class 'str'> and <class 'str'>, choosing COADDFN='/global/cfs/cdirs/desi/spectro/redux/fuji/tiles/cumulative/81022/20210404/coadd-7-81022-thru20210404.fits' [astropy.utils.metadata]\n"
     ]
    },
    {
     "name": "stdout",
     "output_type": "stream",
     "text": [
      "81056\n"
     ]
    },
    {
     "name": "stderr",
     "output_type": "stream",
     "text": [
      "WARNING: MergeConflictWarning: Cannot merge meta key 'RRFN' types <class 'str'> and <class 'str'>, choosing RRFN='/global/cfs/cdirs/desi/spectro/redux/fuji/tiles/cumulative/81056/20210324/redrock-7-81056-thru20210324.fits' [astropy.utils.metadata]\n",
      "WARNING: MergeConflictWarning: Cannot merge meta key 'COADDFN' types <class 'str'> and <class 'str'>, choosing COADDFN='/global/cfs/cdirs/desi/spectro/redux/fuji/tiles/cumulative/81056/20210324/coadd-7-81056-thru20210324.fits' [astropy.utils.metadata]\n"
     ]
    },
    {
     "name": "stdout",
     "output_type": "stream",
     "text": [
      "81057\n"
     ]
    },
    {
     "name": "stderr",
     "output_type": "stream",
     "text": [
      "WARNING: MergeConflictWarning: Cannot merge meta key 'RRFN' types <class 'str'> and <class 'str'>, choosing RRFN='/global/cfs/cdirs/desi/spectro/redux/fuji/tiles/cumulative/81057/20210324/redrock-2-81057-thru20210324.fits' [astropy.utils.metadata]\n",
      "WARNING: MergeConflictWarning: Cannot merge meta key 'COADDFN' types <class 'str'> and <class 'str'>, choosing COADDFN='/global/cfs/cdirs/desi/spectro/redux/fuji/tiles/cumulative/81057/20210324/coadd-2-81057-thru20210324.fits' [astropy.utils.metadata]\n"
     ]
    },
    {
     "name": "stdout",
     "output_type": "stream",
     "text": [
      "81058\n"
     ]
    },
    {
     "name": "stderr",
     "output_type": "stream",
     "text": [
      "WARNING: MergeConflictWarning: Cannot merge meta key 'RRFN' types <class 'str'> and <class 'str'>, choosing RRFN='/global/cfs/cdirs/desi/spectro/redux/fuji/tiles/cumulative/81058/20210324/redrock-5-81058-thru20210324.fits' [astropy.utils.metadata]\n",
      "WARNING: MergeConflictWarning: Cannot merge meta key 'COADDFN' types <class 'str'> and <class 'str'>, choosing COADDFN='/global/cfs/cdirs/desi/spectro/redux/fuji/tiles/cumulative/81058/20210324/coadd-5-81058-thru20210324.fits' [astropy.utils.metadata]\n"
     ]
    },
    {
     "name": "stdout",
     "output_type": "stream",
     "text": [
      "81059\n"
     ]
    },
    {
     "name": "stderr",
     "output_type": "stream",
     "text": [
      "WARNING: MergeConflictWarning: Cannot merge meta key 'RRFN' types <class 'str'> and <class 'str'>, choosing RRFN='/global/cfs/cdirs/desi/spectro/redux/fuji/tiles/cumulative/81059/20210324/redrock-0-81059-thru20210324.fits' [astropy.utils.metadata]\n",
      "WARNING: MergeConflictWarning: Cannot merge meta key 'COADDFN' types <class 'str'> and <class 'str'>, choosing COADDFN='/global/cfs/cdirs/desi/spectro/redux/fuji/tiles/cumulative/81059/20210324/coadd-0-81059-thru20210324.fits' [astropy.utils.metadata]\n"
     ]
    },
    {
     "name": "stdout",
     "output_type": "stream",
     "text": [
      "81060\n"
     ]
    },
    {
     "name": "stderr",
     "output_type": "stream",
     "text": [
      "WARNING: MergeConflictWarning: Cannot merge meta key 'RRFN' types <class 'str'> and <class 'str'>, choosing RRFN='/global/cfs/cdirs/desi/spectro/redux/fuji/tiles/cumulative/81060/20210324/redrock-9-81060-thru20210324.fits' [astropy.utils.metadata]\n",
      "WARNING: MergeConflictWarning: Cannot merge meta key 'COADDFN' types <class 'str'> and <class 'str'>, choosing COADDFN='/global/cfs/cdirs/desi/spectro/redux/fuji/tiles/cumulative/81060/20210324/coadd-9-81060-thru20210324.fits' [astropy.utils.metadata]\n"
     ]
    },
    {
     "name": "stdout",
     "output_type": "stream",
     "text": [
      "81061\n"
     ]
    },
    {
     "name": "stderr",
     "output_type": "stream",
     "text": [
      "WARNING: MergeConflictWarning: Cannot merge meta key 'RRFN' types <class 'str'> and <class 'str'>, choosing RRFN='/global/cfs/cdirs/desi/spectro/redux/fuji/tiles/cumulative/81061/20210324/redrock-3-81061-thru20210324.fits' [astropy.utils.metadata]\n",
      "WARNING: MergeConflictWarning: Cannot merge meta key 'COADDFN' types <class 'str'> and <class 'str'>, choosing COADDFN='/global/cfs/cdirs/desi/spectro/redux/fuji/tiles/cumulative/81061/20210324/coadd-3-81061-thru20210324.fits' [astropy.utils.metadata]\n"
     ]
    },
    {
     "name": "stdout",
     "output_type": "stream",
     "text": [
      "81062\n"
     ]
    },
    {
     "name": "stderr",
     "output_type": "stream",
     "text": [
      "WARNING: MergeConflictWarning: Cannot merge meta key 'RRFN' types <class 'str'> and <class 'str'>, choosing RRFN='/global/cfs/cdirs/desi/spectro/redux/fuji/tiles/cumulative/81062/20210327/redrock-4-81062-thru20210327.fits' [astropy.utils.metadata]\n",
      "WARNING: MergeConflictWarning: Cannot merge meta key 'COADDFN' types <class 'str'> and <class 'str'>, choosing COADDFN='/global/cfs/cdirs/desi/spectro/redux/fuji/tiles/cumulative/81062/20210327/coadd-4-81062-thru20210327.fits' [astropy.utils.metadata]\n"
     ]
    },
    {
     "name": "stdout",
     "output_type": "stream",
     "text": [
      "81063\n"
     ]
    },
    {
     "name": "stderr",
     "output_type": "stream",
     "text": [
      "WARNING: MergeConflictWarning: Cannot merge meta key 'RRFN' types <class 'str'> and <class 'str'>, choosing RRFN='/global/cfs/cdirs/desi/spectro/redux/fuji/tiles/cumulative/81063/20210327/redrock-5-81063-thru20210327.fits' [astropy.utils.metadata]\n",
      "WARNING: MergeConflictWarning: Cannot merge meta key 'COADDFN' types <class 'str'> and <class 'str'>, choosing COADDFN='/global/cfs/cdirs/desi/spectro/redux/fuji/tiles/cumulative/81063/20210327/coadd-5-81063-thru20210327.fits' [astropy.utils.metadata]\n"
     ]
    },
    {
     "name": "stdout",
     "output_type": "stream",
     "text": [
      "81064\n"
     ]
    },
    {
     "name": "stderr",
     "output_type": "stream",
     "text": [
      "WARNING: MergeConflictWarning: Cannot merge meta key 'RRFN' types <class 'str'> and <class 'str'>, choosing RRFN='/global/cfs/cdirs/desi/spectro/redux/fuji/tiles/cumulative/81064/20210327/redrock-2-81064-thru20210327.fits' [astropy.utils.metadata]\n",
      "WARNING: MergeConflictWarning: Cannot merge meta key 'COADDFN' types <class 'str'> and <class 'str'>, choosing COADDFN='/global/cfs/cdirs/desi/spectro/redux/fuji/tiles/cumulative/81064/20210327/coadd-2-81064-thru20210327.fits' [astropy.utils.metadata]\n"
     ]
    },
    {
     "name": "stdout",
     "output_type": "stream",
     "text": [
      "81065\n"
     ]
    },
    {
     "name": "stderr",
     "output_type": "stream",
     "text": [
      "WARNING: MergeConflictWarning: Cannot merge meta key 'RRFN' types <class 'str'> and <class 'str'>, choosing RRFN='/global/cfs/cdirs/desi/spectro/redux/fuji/tiles/cumulative/81065/20210327/redrock-4-81065-thru20210327.fits' [astropy.utils.metadata]\n",
      "WARNING: MergeConflictWarning: Cannot merge meta key 'COADDFN' types <class 'str'> and <class 'str'>, choosing COADDFN='/global/cfs/cdirs/desi/spectro/redux/fuji/tiles/cumulative/81065/20210327/coadd-4-81065-thru20210327.fits' [astropy.utils.metadata]\n"
     ]
    },
    {
     "name": "stdout",
     "output_type": "stream",
     "text": [
      "81066\n"
     ]
    },
    {
     "name": "stderr",
     "output_type": "stream",
     "text": [
      "WARNING: MergeConflictWarning: Cannot merge meta key 'RRFN' types <class 'str'> and <class 'str'>, choosing RRFN='/global/cfs/cdirs/desi/spectro/redux/fuji/tiles/cumulative/81066/20210326/redrock-9-81066-thru20210326.fits' [astropy.utils.metadata]\n",
      "WARNING: MergeConflictWarning: Cannot merge meta key 'COADDFN' types <class 'str'> and <class 'str'>, choosing COADDFN='/global/cfs/cdirs/desi/spectro/redux/fuji/tiles/cumulative/81066/20210326/coadd-9-81066-thru20210326.fits' [astropy.utils.metadata]\n"
     ]
    },
    {
     "name": "stdout",
     "output_type": "stream",
     "text": [
      "81067\n"
     ]
    },
    {
     "name": "stderr",
     "output_type": "stream",
     "text": [
      "WARNING: MergeConflictWarning: Cannot merge meta key 'RRFN' types <class 'str'> and <class 'str'>, choosing RRFN='/global/cfs/cdirs/desi/spectro/redux/fuji/tiles/cumulative/81067/20210327/redrock-8-81067-thru20210327.fits' [astropy.utils.metadata]\n",
      "WARNING: MergeConflictWarning: Cannot merge meta key 'COADDFN' types <class 'str'> and <class 'str'>, choosing COADDFN='/global/cfs/cdirs/desi/spectro/redux/fuji/tiles/cumulative/81067/20210327/coadd-8-81067-thru20210327.fits' [astropy.utils.metadata]\n"
     ]
    },
    {
     "name": "stdout",
     "output_type": "stream",
     "text": [
      "81068\n"
     ]
    },
    {
     "name": "stderr",
     "output_type": "stream",
     "text": [
      "WARNING: MergeConflictWarning: Cannot merge meta key 'RRFN' types <class 'str'> and <class 'str'>, choosing RRFN='/global/cfs/cdirs/desi/spectro/redux/fuji/tiles/cumulative/81068/20210401/redrock-3-81068-thru20210401.fits' [astropy.utils.metadata]\n",
      "WARNING: MergeConflictWarning: Cannot merge meta key 'COADDFN' types <class 'str'> and <class 'str'>, choosing COADDFN='/global/cfs/cdirs/desi/spectro/redux/fuji/tiles/cumulative/81068/20210401/coadd-3-81068-thru20210401.fits' [astropy.utils.metadata]\n"
     ]
    },
    {
     "name": "stdout",
     "output_type": "stream",
     "text": [
      "81069\n"
     ]
    },
    {
     "name": "stderr",
     "output_type": "stream",
     "text": [
      "WARNING: MergeConflictWarning: Cannot merge meta key 'RRFN' types <class 'str'> and <class 'str'>, choosing RRFN='/global/cfs/cdirs/desi/spectro/redux/fuji/tiles/cumulative/81069/20210401/redrock-4-81069-thru20210401.fits' [astropy.utils.metadata]\n",
      "WARNING: MergeConflictWarning: Cannot merge meta key 'COADDFN' types <class 'str'> and <class 'str'>, choosing COADDFN='/global/cfs/cdirs/desi/spectro/redux/fuji/tiles/cumulative/81069/20210401/coadd-4-81069-thru20210401.fits' [astropy.utils.metadata]\n"
     ]
    },
    {
     "name": "stdout",
     "output_type": "stream",
     "text": [
      "81072\n"
     ]
    },
    {
     "name": "stderr",
     "output_type": "stream",
     "text": [
      "WARNING: MergeConflictWarning: Cannot merge meta key 'RRFN' types <class 'str'> and <class 'str'>, choosing RRFN='/global/cfs/cdirs/desi/spectro/redux/fuji/tiles/cumulative/81072/20210401/redrock-8-81072-thru20210401.fits' [astropy.utils.metadata]\n",
      "WARNING: MergeConflictWarning: Cannot merge meta key 'COADDFN' types <class 'str'> and <class 'str'>, choosing COADDFN='/global/cfs/cdirs/desi/spectro/redux/fuji/tiles/cumulative/81072/20210401/coadd-8-81072-thru20210401.fits' [astropy.utils.metadata]\n"
     ]
    },
    {
     "name": "stdout",
     "output_type": "stream",
     "text": [
      "81073\n"
     ]
    },
    {
     "name": "stderr",
     "output_type": "stream",
     "text": [
      "WARNING: MergeConflictWarning: Cannot merge meta key 'RRFN' types <class 'str'> and <class 'str'>, choosing RRFN='/global/cfs/cdirs/desi/spectro/redux/fuji/tiles/cumulative/81073/20210404/redrock-2-81073-thru20210404.fits' [astropy.utils.metadata]\n",
      "WARNING: MergeConflictWarning: Cannot merge meta key 'COADDFN' types <class 'str'> and <class 'str'>, choosing COADDFN='/global/cfs/cdirs/desi/spectro/redux/fuji/tiles/cumulative/81073/20210404/coadd-2-81073-thru20210404.fits' [astropy.utils.metadata]\n"
     ]
    },
    {
     "name": "stdout",
     "output_type": "stream",
     "text": [
      "81074\n"
     ]
    },
    {
     "name": "stderr",
     "output_type": "stream",
     "text": [
      "WARNING: MergeConflictWarning: Cannot merge meta key 'RRFN' types <class 'str'> and <class 'str'>, choosing RRFN='/global/cfs/cdirs/desi/spectro/redux/fuji/tiles/cumulative/81074/20210401/redrock-3-81074-thru20210401.fits' [astropy.utils.metadata]\n",
      "WARNING: MergeConflictWarning: Cannot merge meta key 'COADDFN' types <class 'str'> and <class 'str'>, choosing COADDFN='/global/cfs/cdirs/desi/spectro/redux/fuji/tiles/cumulative/81074/20210401/coadd-3-81074-thru20210401.fits' [astropy.utils.metadata]\n"
     ]
    },
    {
     "name": "stdout",
     "output_type": "stream",
     "text": [
      "81075\n"
     ]
    },
    {
     "name": "stderr",
     "output_type": "stream",
     "text": [
      "WARNING: MergeConflictWarning: Cannot merge meta key 'RRFN' types <class 'str'> and <class 'str'>, choosing RRFN='/global/cfs/cdirs/desi/spectro/redux/fuji/tiles/cumulative/81075/20210404/redrock-9-81075-thru20210404.fits' [astropy.utils.metadata]\n",
      "WARNING: MergeConflictWarning: Cannot merge meta key 'COADDFN' types <class 'str'> and <class 'str'>, choosing COADDFN='/global/cfs/cdirs/desi/spectro/redux/fuji/tiles/cumulative/81075/20210404/coadd-9-81075-thru20210404.fits' [astropy.utils.metadata]\n"
     ]
    },
    {
     "name": "stdout",
     "output_type": "stream",
     "text": [
      "81088\n"
     ]
    },
    {
     "name": "stderr",
     "output_type": "stream",
     "text": [
      "WARNING: MergeConflictWarning: Cannot merge meta key 'RRFN' types <class 'str'> and <class 'str'>, choosing RRFN='/global/cfs/cdirs/desi/spectro/redux/fuji/tiles/cumulative/81088/20210404/redrock-9-81088-thru20210404.fits' [astropy.utils.metadata]\n",
      "WARNING: MergeConflictWarning: Cannot merge meta key 'COADDFN' types <class 'str'> and <class 'str'>, choosing COADDFN='/global/cfs/cdirs/desi/spectro/redux/fuji/tiles/cumulative/81088/20210404/coadd-9-81088-thru20210404.fits' [astropy.utils.metadata]\n"
     ]
    },
    {
     "name": "stdout",
     "output_type": "stream",
     "text": [
      "81097\n"
     ]
    },
    {
     "name": "stderr",
     "output_type": "stream",
     "text": [
      "WARNING: MergeConflictWarning: Cannot merge meta key 'RRFN' types <class 'str'> and <class 'str'>, choosing RRFN='/global/cfs/cdirs/desi/spectro/redux/fuji/tiles/cumulative/81097/20210430/redrock-3-81097-thru20210430.fits' [astropy.utils.metadata]\n",
      "WARNING: MergeConflictWarning: Cannot merge meta key 'COADDFN' types <class 'str'> and <class 'str'>, choosing COADDFN='/global/cfs/cdirs/desi/spectro/redux/fuji/tiles/cumulative/81097/20210430/coadd-3-81097-thru20210430.fits' [astropy.utils.metadata]\n"
     ]
    },
    {
     "name": "stdout",
     "output_type": "stream",
     "text": [
      "81098\n"
     ]
    },
    {
     "name": "stderr",
     "output_type": "stream",
     "text": [
      "WARNING: MergeConflictWarning: Cannot merge meta key 'RRFN' types <class 'str'> and <class 'str'>, choosing RRFN='/global/cfs/cdirs/desi/spectro/redux/fuji/tiles/cumulative/81098/20210505/redrock-9-81098-thru20210505.fits' [astropy.utils.metadata]\n",
      "WARNING: MergeConflictWarning: Cannot merge meta key 'COADDFN' types <class 'str'> and <class 'str'>, choosing COADDFN='/global/cfs/cdirs/desi/spectro/redux/fuji/tiles/cumulative/81098/20210505/coadd-9-81098-thru20210505.fits' [astropy.utils.metadata]\n"
     ]
    },
    {
     "name": "stdout",
     "output_type": "stream",
     "text": [
      "81099\n"
     ]
    },
    {
     "name": "stderr",
     "output_type": "stream",
     "text": [
      "WARNING: MergeConflictWarning: Cannot merge meta key 'RRFN' types <class 'str'> and <class 'str'>, choosing RRFN='/global/cfs/cdirs/desi/spectro/redux/fuji/tiles/cumulative/81099/20210511/redrock-1-81099-thru20210511.fits' [astropy.utils.metadata]\n",
      "WARNING: MergeConflictWarning: Cannot merge meta key 'COADDFN' types <class 'str'> and <class 'str'>, choosing COADDFN='/global/cfs/cdirs/desi/spectro/redux/fuji/tiles/cumulative/81099/20210511/coadd-1-81099-thru20210511.fits' [astropy.utils.metadata]\n"
     ]
    },
    {
     "name": "stdout",
     "output_type": "stream",
     "text": [
      "81100\n"
     ]
    },
    {
     "name": "stderr",
     "output_type": "stream",
     "text": [
      "WARNING: MergeConflictWarning: Cannot merge meta key 'RRFN' types <class 'str'> and <class 'str'>, choosing RRFN='/global/cfs/cdirs/desi/spectro/redux/fuji/tiles/cumulative/81100/20210512/redrock-0-81100-thru20210512.fits' [astropy.utils.metadata]\n",
      "WARNING: MergeConflictWarning: Cannot merge meta key 'COADDFN' types <class 'str'> and <class 'str'>, choosing COADDFN='/global/cfs/cdirs/desi/spectro/redux/fuji/tiles/cumulative/81100/20210512/coadd-0-81100-thru20210512.fits' [astropy.utils.metadata]\n"
     ]
    },
    {
     "name": "stdout",
     "output_type": "stream",
     "text": [
      "81101\n"
     ]
    },
    {
     "name": "stderr",
     "output_type": "stream",
     "text": [
      "WARNING: MergeConflictWarning: Cannot merge meta key 'RRFN' types <class 'str'> and <class 'str'>, choosing RRFN='/global/cfs/cdirs/desi/spectro/redux/fuji/tiles/cumulative/81101/20210512/redrock-4-81101-thru20210512.fits' [astropy.utils.metadata]\n",
      "WARNING: MergeConflictWarning: Cannot merge meta key 'COADDFN' types <class 'str'> and <class 'str'>, choosing COADDFN='/global/cfs/cdirs/desi/spectro/redux/fuji/tiles/cumulative/81101/20210512/coadd-4-81101-thru20210512.fits' [astropy.utils.metadata]\n"
     ]
    },
    {
     "name": "stdout",
     "output_type": "stream",
     "text": [
      "81102\n"
     ]
    },
    {
     "name": "stderr",
     "output_type": "stream",
     "text": [
      "WARNING: MergeConflictWarning: Cannot merge meta key 'RRFN' types <class 'str'> and <class 'str'>, choosing RRFN='/global/cfs/cdirs/desi/spectro/redux/fuji/tiles/cumulative/81102/20210512/redrock-3-81102-thru20210512.fits' [astropy.utils.metadata]\n",
      "WARNING: MergeConflictWarning: Cannot merge meta key 'COADDFN' types <class 'str'> and <class 'str'>, choosing COADDFN='/global/cfs/cdirs/desi/spectro/redux/fuji/tiles/cumulative/81102/20210512/coadd-3-81102-thru20210512.fits' [astropy.utils.metadata]\n"
     ]
    },
    {
     "name": "stdout",
     "output_type": "stream",
     "text": [
      "81103\n"
     ]
    },
    {
     "name": "stderr",
     "output_type": "stream",
     "text": [
      "WARNING: MergeConflictWarning: Cannot merge meta key 'RRFN' types <class 'str'> and <class 'str'>, choosing RRFN='/global/cfs/cdirs/desi/spectro/redux/fuji/tiles/cumulative/81103/20210512/redrock-7-81103-thru20210512.fits' [astropy.utils.metadata]\n",
      "WARNING: MergeConflictWarning: Cannot merge meta key 'COADDFN' types <class 'str'> and <class 'str'>, choosing COADDFN='/global/cfs/cdirs/desi/spectro/redux/fuji/tiles/cumulative/81103/20210512/coadd-7-81103-thru20210512.fits' [astropy.utils.metadata]\n"
     ]
    },
    {
     "name": "stdout",
     "output_type": "stream",
     "text": [
      "81104\n"
     ]
    },
    {
     "name": "stderr",
     "output_type": "stream",
     "text": [
      "WARNING: MergeConflictWarning: Cannot merge meta key 'RRFN' types <class 'str'> and <class 'str'>, choosing RRFN='/global/cfs/cdirs/desi/spectro/redux/fuji/tiles/cumulative/81104/20210512/redrock-6-81104-thru20210512.fits' [astropy.utils.metadata]\n",
      "WARNING: MergeConflictWarning: Cannot merge meta key 'COADDFN' types <class 'str'> and <class 'str'>, choosing COADDFN='/global/cfs/cdirs/desi/spectro/redux/fuji/tiles/cumulative/81104/20210512/coadd-6-81104-thru20210512.fits' [astropy.utils.metadata]\n"
     ]
    },
    {
     "name": "stdout",
     "output_type": "stream",
     "text": [
      "81105\n"
     ]
    },
    {
     "name": "stderr",
     "output_type": "stream",
     "text": [
      "WARNING: MergeConflictWarning: Cannot merge meta key 'RRFN' types <class 'str'> and <class 'str'>, choosing RRFN='/global/cfs/cdirs/desi/spectro/redux/fuji/tiles/cumulative/81105/20210512/redrock-0-81105-thru20210512.fits' [astropy.utils.metadata]\n",
      "WARNING: MergeConflictWarning: Cannot merge meta key 'COADDFN' types <class 'str'> and <class 'str'>, choosing COADDFN='/global/cfs/cdirs/desi/spectro/redux/fuji/tiles/cumulative/81105/20210512/coadd-0-81105-thru20210512.fits' [astropy.utils.metadata]\n"
     ]
    },
    {
     "name": "stdout",
     "output_type": "stream",
     "text": [
      "81106\n"
     ]
    },
    {
     "name": "stderr",
     "output_type": "stream",
     "text": [
      "WARNING: MergeConflictWarning: Cannot merge meta key 'RRFN' types <class 'str'> and <class 'str'>, choosing RRFN='/global/cfs/cdirs/desi/spectro/redux/fuji/tiles/cumulative/81106/20210512/redrock-2-81106-thru20210512.fits' [astropy.utils.metadata]\n",
      "WARNING: MergeConflictWarning: Cannot merge meta key 'COADDFN' types <class 'str'> and <class 'str'>, choosing COADDFN='/global/cfs/cdirs/desi/spectro/redux/fuji/tiles/cumulative/81106/20210512/coadd-2-81106-thru20210512.fits' [astropy.utils.metadata]\n"
     ]
    },
    {
     "name": "stdout",
     "output_type": "stream",
     "text": [
      "81107\n"
     ]
    },
    {
     "name": "stderr",
     "output_type": "stream",
     "text": [
      "WARNING: MergeConflictWarning: Cannot merge meta key 'RRFN' types <class 'str'> and <class 'str'>, choosing RRFN='/global/cfs/cdirs/desi/spectro/redux/fuji/tiles/cumulative/81107/20210512/redrock-9-81107-thru20210512.fits' [astropy.utils.metadata]\n",
      "WARNING: MergeConflictWarning: Cannot merge meta key 'COADDFN' types <class 'str'> and <class 'str'>, choosing COADDFN='/global/cfs/cdirs/desi/spectro/redux/fuji/tiles/cumulative/81107/20210512/coadd-9-81107-thru20210512.fits' [astropy.utils.metadata]\n"
     ]
    },
    {
     "name": "stdout",
     "output_type": "stream",
     "text": [
      "81108\n"
     ]
    },
    {
     "name": "stderr",
     "output_type": "stream",
     "text": [
      "WARNING: MergeConflictWarning: Cannot merge meta key 'RRFN' types <class 'str'> and <class 'str'>, choosing RRFN='/global/cfs/cdirs/desi/spectro/redux/fuji/tiles/cumulative/81108/20210513/redrock-4-81108-thru20210513.fits' [astropy.utils.metadata]\n",
      "WARNING: MergeConflictWarning: Cannot merge meta key 'COADDFN' types <class 'str'> and <class 'str'>, choosing COADDFN='/global/cfs/cdirs/desi/spectro/redux/fuji/tiles/cumulative/81108/20210513/coadd-4-81108-thru20210513.fits' [astropy.utils.metadata]\n"
     ]
    },
    {
     "name": "stdout",
     "output_type": "stream",
     "text": [
      "81109\n"
     ]
    },
    {
     "name": "stderr",
     "output_type": "stream",
     "text": [
      "WARNING: MergeConflictWarning: Cannot merge meta key 'RRFN' types <class 'str'> and <class 'str'>, choosing RRFN='/global/cfs/cdirs/desi/spectro/redux/fuji/tiles/cumulative/81109/20210513/redrock-8-81109-thru20210513.fits' [astropy.utils.metadata]\n",
      "WARNING: MergeConflictWarning: Cannot merge meta key 'COADDFN' types <class 'str'> and <class 'str'>, choosing COADDFN='/global/cfs/cdirs/desi/spectro/redux/fuji/tiles/cumulative/81109/20210513/coadd-8-81109-thru20210513.fits' [astropy.utils.metadata]\n"
     ]
    },
    {
     "name": "stdout",
     "output_type": "stream",
     "text": [
      "81110\n"
     ]
    },
    {
     "name": "stderr",
     "output_type": "stream",
     "text": [
      "WARNING: MergeConflictWarning: Cannot merge meta key 'RRFN' types <class 'str'> and <class 'str'>, choosing RRFN='/global/cfs/cdirs/desi/spectro/redux/fuji/tiles/cumulative/81110/20210513/redrock-6-81110-thru20210513.fits' [astropy.utils.metadata]\n",
      "WARNING: MergeConflictWarning: Cannot merge meta key 'COADDFN' types <class 'str'> and <class 'str'>, choosing COADDFN='/global/cfs/cdirs/desi/spectro/redux/fuji/tiles/cumulative/81110/20210513/coadd-6-81110-thru20210513.fits' [astropy.utils.metadata]\n"
     ]
    },
    {
     "name": "stdout",
     "output_type": "stream",
     "text": [
      "81111\n"
     ]
    },
    {
     "name": "stderr",
     "output_type": "stream",
     "text": [
      "WARNING: MergeConflictWarning: Cannot merge meta key 'RRFN' types <class 'str'> and <class 'str'>, choosing RRFN='/global/cfs/cdirs/desi/spectro/redux/fuji/tiles/cumulative/81111/20210513/redrock-0-81111-thru20210513.fits' [astropy.utils.metadata]\n",
      "WARNING: MergeConflictWarning: Cannot merge meta key 'COADDFN' types <class 'str'> and <class 'str'>, choosing COADDFN='/global/cfs/cdirs/desi/spectro/redux/fuji/tiles/cumulative/81111/20210513/coadd-0-81111-thru20210513.fits' [astropy.utils.metadata]\n"
     ]
    },
    {
     "name": "stdout",
     "output_type": "stream",
     "text": [
      "81112\n"
     ]
    },
    {
     "name": "stderr",
     "output_type": "stream",
     "text": [
      "WARNING: MergeConflictWarning: Cannot merge meta key 'RRFN' types <class 'str'> and <class 'str'>, choosing RRFN='/global/cfs/cdirs/desi/spectro/redux/fuji/tiles/cumulative/81112/20210513/redrock-3-81112-thru20210513.fits' [astropy.utils.metadata]\n",
      "WARNING: MergeConflictWarning: Cannot merge meta key 'COADDFN' types <class 'str'> and <class 'str'>, choosing COADDFN='/global/cfs/cdirs/desi/spectro/redux/fuji/tiles/cumulative/81112/20210513/coadd-3-81112-thru20210513.fits' [astropy.utils.metadata]\n"
     ]
    },
    {
     "name": "stdout",
     "output_type": "stream",
     "text": [
      "81113\n"
     ]
    },
    {
     "name": "stderr",
     "output_type": "stream",
     "text": [
      "WARNING: MergeConflictWarning: Cannot merge meta key 'RRFN' types <class 'str'> and <class 'str'>, choosing RRFN='/global/cfs/cdirs/desi/spectro/redux/fuji/tiles/cumulative/81113/20210513/redrock-1-81113-thru20210513.fits' [astropy.utils.metadata]\n",
      "WARNING: MergeConflictWarning: Cannot merge meta key 'COADDFN' types <class 'str'> and <class 'str'>, choosing COADDFN='/global/cfs/cdirs/desi/spectro/redux/fuji/tiles/cumulative/81113/20210513/coadd-1-81113-thru20210513.fits' [astropy.utils.metadata]\n"
     ]
    },
    {
     "name": "stdout",
     "output_type": "stream",
     "text": [
      "81114\n"
     ]
    },
    {
     "name": "stderr",
     "output_type": "stream",
     "text": [
      "WARNING: MergeConflictWarning: Cannot merge meta key 'RRFN' types <class 'str'> and <class 'str'>, choosing RRFN='/global/cfs/cdirs/desi/spectro/redux/fuji/tiles/cumulative/81114/20210513/redrock-1-81114-thru20210513.fits' [astropy.utils.metadata]\n",
      "WARNING: MergeConflictWarning: Cannot merge meta key 'COADDFN' types <class 'str'> and <class 'str'>, choosing COADDFN='/global/cfs/cdirs/desi/spectro/redux/fuji/tiles/cumulative/81114/20210513/coadd-1-81114-thru20210513.fits' [astropy.utils.metadata]\n"
     ]
    },
    {
     "name": "stdout",
     "output_type": "stream",
     "text": [
      "81115\n"
     ]
    },
    {
     "data": {
      "image/png": "[encoded data removed]",
      "text/plain": [
       "<Figure size 432x288 with 1 Axes>"
      ]
     },
     "metadata": {
      "needs_background": "light"
     },
     "output_type": "display_data"
    },
    {
     "data": {
      "image/png": "[encoded data removed]",
      "text/plain": [
       "<Figure size 432x288 with 1 Axes>"
      ]
     },
     "metadata": {
      "needs_background": "light"
     },
     "output_type": "display_data"
    },
    {
     "data": {
      "image/png": "[encoded data removed]",
      "text/plain": [
       "<Figure size 432x288 with 1 Axes>"
      ]
     },
     "metadata": {
      "needs_background": "light"
     },
     "output_type": "display_data"
    },
    {
     "data": {
      "image/png": "[encoded data removed]",
      "text/plain": [
       "<Figure size 432x288 with 1 Axes>"
      ]
     },
     "metadata": {
      "needs_background": "light"
     },
     "output_type": "display_data"
    }
   ],
   "source": [
    "oiilinestrength=[]\n",
    "oiiilinestrength=[]\n",
    "matrices = []\n",
    "matrices_good=[]\n",
    "oiilinestrength_good=[]\n",
    "oiiilinestrength_good=[]\n",
    "\n",
    "for tile in tiles:\n",
    "    print(tile)\n",
    "    catalog = read_tile_catalog(tile)\n",
    "    catalog = filter_galaxies(catalog)\n",
    "    matrices.append(calculate_oii_oiii_matrix(catalog))\n",
    "    oiilinestrength.extend(calculateoiilinestrength(catalog))\n",
    "    oiiilinestrength.extend(calculateoiiilinestrength(catalog))\n",
    "    catalog = filter_good_fits(catalog)\n",
    "    oiilinestrength_good.extend(calculateoiilinestrength(catalog))\n",
    "    oiiilinestrength_good.extend(calculateoiiilinestrength(catalog))\n",
    "    matrices_good.append(calculate_oii_oiii_matrix(catalog))"
   ]
  },
  {
   "cell_type": "code",
   "execution_count": 172,
   "id": "6929d7da-046a-4103-bc07-046c814ec696",
   "metadata": {},
   "outputs": [
    {
     "name": "stderr",
     "output_type": "stream",
     "text": [
      "No artists with labels found to put in legend.  Note that artists whose label start with an underscore are ignored when legend() is called with no argument.\n",
      "No artists with labels found to put in legend.  Note that artists whose label start with an underscore are ignored when legend() is called with no argument.\n"
     ]
    },
    {
     "data": {
      "image/png": "[encoded data removed]",
      "text/plain": [
       "<Figure size 432x288 with 1 Axes>"
      ]
     },
     "metadata": {
      "needs_background": "light"
     },
     "output_type": "display_data"
    },
    {
     "data": {
      "image/png": "[encoded data removed]",
      "text/plain": [
       "<Figure size 432x288 with 1 Axes>"
      ]
     },
     "metadata": {
      "needs_background": "light"
     },
     "output_type": "display_data"
    },
    {
     "data": {
      "image/png": "[encoded data removed]",
      "text/plain": [
       "<Figure size 432x288 with 1 Axes>"
      ]
     },
     "metadata": {
      "needs_background": "light"
     },
     "output_type": "display_data"
    },
    {
     "data": {
      "image/png": "[encoded data removed]",
      "text/plain": [
       "<Figure size 432x288 with 1 Axes>"
      ]
     },
     "metadata": {
      "needs_background": "light"
     },
     "output_type": "display_data"
    },
    {
     "data": {
      "image/png": "[encoded data removed]",
      "text/plain": [
       "<Figure size 432x288 with 1 Axes>"
      ]
     },
     "metadata": {
      "needs_background": "light"
     },
     "output_type": "display_data"
    }
   ],
   "source": [
    "plt.scatter(oiilinestrength,oiiilinestrength)   \n",
    "plt.xlabel('oiilinestrength')\n",
    "plt.ylabel('oiiilinestrength')\n",
    "plt.title('OII-OII Correlation')\n",
    "plt.legend()\n",
    "plt.xlim(-200,200)\n",
    "plt.ylim(-200,200)\n",
    "plt.figure()\n",
    "plt.title('OII-OII Correlation good')\n",
    "plt.xlabel('oiilinestrength')\n",
    "plt.ylabel('oiiilinestrength')\n",
    "plt.legend()\n",
    "plt.scatter(oiilinestrength_good,oiiilinestrength_good)\n",
    "plt.xlim(-200,200)\n",
    "plt.ylim(-200,200)\n",
    "plt.figure()\n",
    "plt.hist(oiilinestrength,bins=np.arange(-10,10,.2),alpha=0.5,label='OII')\n",
    "plt.hist(oiiilinestrength,bins=np.arange(-10,10,.2),alpha=0.5,label='OIII')\n",
    "plt.title('OII-OII Hist')\n",
    "plt.xlabel('line strength')\n",
    "plt.legend()\n",
    "plt.figure()\n",
    "plot_matrices(matrices)\n",
    "plt.figure()\n",
    "plot_matrices(matrices_good)"
   ]
  },
  {
   "cell_type": "code",
   "execution_count": 173,
   "id": "5c963bb6-3a58-453d-bd04-aa17a53603fe",
   "metadata": {},
   "outputs": [
    {
     "data": {
      "text/plain": [
       "<matplotlib.legend.Legend at 0x155516428130>"
      ]
     },
     "execution_count": 173,
     "metadata": {},
     "output_type": "execute_result"
    },
    {
     "data": {
      "image/png": "[encoded data removed]",
      "text/plain": [
       "<Figure size 432x288 with 1 Axes>"
      ]
     },
     "metadata": {
      "needs_background": "light"
     },
     "output_type": "display_data"
    }
   ],
   "source": [
    "matricesdum = np.array(matrices)\n",
    "plt.hist(matricesdum[:,1], label=\"good OII, bad OIII\",bins=(np.linspace(0,0.1,50)),alpha=0.5)\n",
    "plt.hist(matricesdum[:,2], label=\"bad OII, good OIII\",bins=(np.linspace(0,0.1,50)),alpha=0.5)\n",
    "plt.legend()"
   ]
  },
  {
   "cell_type": "code",
   "execution_count": 174,
   "id": "a03f5a0d-99ed-4ca9-a1b4-4f1d73d1c6f0",
   "metadata": {},
   "outputs": [
    {
     "data": {
      "text/plain": [
       "<matplotlib.legend.Legend at 0x1555114681f0>"
      ]
     },
     "execution_count": 174,
     "metadata": {},
     "output_type": "execute_result"
    },
    {
     "data": {
      "image/png": "[encoded data removed]",
      "text/plain": [
       "<Figure size 432x288 with 1 Axes>"
      ]
     },
     "metadata": {
      "needs_background": "light"
     },
     "output_type": "display_data"
    }
   ],
   "source": [
    "matricesgooddum = np.array(matrices_good)\n",
    "plt.hist(matricesgooddum[:,1], label=\"good OII, bad OIII\",bins=(np.linspace(0,0.1,50)),alpha=0.5)\n",
    "plt.hist(matricesgooddum[:,2], label=\"bad OII, good OIII\",bins=(np.linspace(0,0.1,50)),alpha=0.5)\n",
    "plt.legend()"
   ]
  },
  {
   "cell_type": "code",
   "execution_count": 93,
   "id": "96ca0551-c619-4230-a72c-3d0480def1c7",
   "metadata": {},
   "outputs": [],
   "source": [
    "# An arbitrary collection of objects supported by pickle.\n",
    "data = {'matrix from all the tiles Dr. Daniel': matrices,\n",
    "    'Good Matrix from all the tiles Dr. Daniel provided': matrices_good}\n",
    "with open('data.pickle', 'wb') as f:\n",
    "    # Pickle the 'data' dictionary using the highest protocol available.\n",
    "    pickle.dump(data, f, pickle.HIGHEST_PROTOCOL)\n"
   ]
  },
  {
   "cell_type": "code",
   "execution_count": 94,
   "id": "8dfc53f2-c736-4339-bb7e-2dfbbd6a52ce",
   "metadata": {},
   "outputs": [],
   "source": [
    "with open('data.pickle', 'rb') as f:\n",
    "    # The protocol version used is detected automatically, so we do not\n",
    "    # have to specify it.\n",
    "    data = pickle.load(f)"
   ]
  },
  {
   "cell_type": "code",
   "execution_count": null,
   "id": "a169919c-dddd-4629-963d-c3178ff83746",
   "metadata": {},
   "outputs": [
    {
     "ename": "TypeError",
     "evalue": "'NoneType' object is not subscriptable",
     "output_type": "error",
     "traceback": [
      "\u001b[0;31m---------------------------------------------------------------------------\u001b[0m",
      "\u001b[0;31mTypeError\u001b[0m                                 Traceback (most recent call last)",
      "\u001b[0;32m/tmp/ipykernel_57341/3662099548.py\u001b[0m in \u001b[0;36m<module>\u001b[0;34m\u001b[0m\n\u001b[1;32m     31\u001b[0m     \u001b[0mgood_galaxies\u001b[0m \u001b[0;34m=\u001b[0m \u001b[0mselect_good_galaxies\u001b[0m\u001b[0;34m(\u001b[0m\u001b[0mredrock_cat\u001b[0m\u001b[0;34m)\u001b[0m\u001b[0;34m\u001b[0m\u001b[0;34m\u001b[0m\u001b[0m\n\u001b[1;32m     32\u001b[0m \u001b[0;34m\u001b[0m\u001b[0m\n\u001b[0;32m---> 33\u001b[0;31m     \u001b[0mpulls_oIII\u001b[0m\u001b[0;34m.\u001b[0m\u001b[0mappend\u001b[0m\u001b[0;34m(\u001b[0m\u001b[0memlinefit_cat\u001b[0m\u001b[0;34m[\u001b[0m\u001b[0mall_galaxies\u001b[0m\u001b[0;34m]\u001b[0m\u001b[0;34m[\u001b[0m\u001b[0;34m'OIII_FLUX'\u001b[0m\u001b[0;34m]\u001b[0m\u001b[0;34m/\u001b[0m\u001b[0memlinefit_cat\u001b[0m\u001b[0;34m[\u001b[0m\u001b[0mall_galaxies\u001b[0m\u001b[0;34m]\u001b[0m\u001b[0;34m[\u001b[0m\u001b[0;34m'OIII_SIGMA'\u001b[0m\u001b[0;34m]\u001b[0m\u001b[0;34m)\u001b[0m\u001b[0;34m\u001b[0m\u001b[0;34m\u001b[0m\u001b[0m\n\u001b[0m\u001b[1;32m     34\u001b[0m     \u001b[0;31m# and four more like this for the other pulls\u001b[0m\u001b[0;34m\u001b[0m\u001b[0;34m\u001b[0m\u001b[0m\n\u001b[1;32m     35\u001b[0m     \u001b[0;31m# may or may not have to subtract the continuum (also in the catalog) from the flux - best may be to look at emlinefit code\u001b[0m\u001b[0;34m\u001b[0m\u001b[0;34m\u001b[0m\u001b[0m\n",
      "\u001b[0;31mTypeError\u001b[0m: 'NoneType' object is not subscriptable"
     ]
    }
   ],
   "source": [
    "# determine pull distribution of OIII and OII lines in the data\n",
    "\n",
    "tiles = [80618]\n",
    "nights = [20210328]\n",
    "\n",
    "def read_redrock_cat(tile,night):\n",
    "    # read redrock catalog of given tile, night\n",
    "    return None\n",
    "\n",
    "def read_emlinefit_cat(tile,night):\n",
    "    return None\n",
    "\n",
    "def select_all_galaxies(redrock_cat):\n",
    "    # return indices of all galaxy fibers (see Raffaella's notebook)\n",
    "    return []\n",
    "\n",
    "def select_good_galaxies(redrock_cat):\n",
    "    # return indices of all high fidelity redshift galaxy fibers (see Raffaella's notebook)\n",
    "    return []\n",
    "\n",
    "pulls_oIII = []\n",
    "pulls_oIII_good = []\n",
    "pulls_oII  = []\n",
    "pulls_oII_good = []\n",
    "\n",
    "for tile,night in zip(tiles,nights):\n",
    "    redrock_cat = read_redrock_cat(tile,night)\n",
    "    emlinefit_cat = read_emlinefit_cat(tile,night)\n",
    "    \n",
    "    all_galaxies = select_all_galaxies(redrock_cat)\n",
    "    good_galaxies = select_good_galaxies(redrock_cat)\n",
    "    \n",
    "    pulls_oIII.append(emlinefit_cat[all_galaxies]['OIII_FLUX']/emlinefit_cat[all_galaxies]['OIII_SIGMA'])\n",
    "    # and four more like this for the other pulls\n",
    "    # may or may not have to subtract the continuum (also in the catalog) from the flux - best may be to look at emlinefit code\n",
    "    \n",
    "plt.hist(pulls_oIII)\n",
    "# add a Gaussian here to the histogram, normalized by twice the number of negative pulls\n",
    "\n",
    "# and three more\n",
    "    \n",
    "plt.scatter(pulls_oIII,pulls_oII)\n",
    "# maybe fit an ellipse == determine the covariance of these two quantities, maybe just from the negative side (ignoring cases where both are positive?)\n",
    "# the fact that the oII penalty is already in effect limits the usefulness of this test\n",
    "# (but maybe the oII penalty is not implemented right)\n",
    "\n",
    "# if this test shows a significant population of negative OIII outliers that are not also OII outliers,\n",
    "# that is clear indication we can gain by dealing with that in the fit\n",
    "\n",
    "# if this test does not show that, the next test may be to do the same on the model (which could show that the model is unphysical, even without coincidence of absorption lines in the data and oIII wavelength in the fit)\n",
    "\n"
   ]
  },
  {
   "cell_type": "code",
   "execution_count": 153,
   "id": "2de28c15-3794-4126-bdb7-323b92902a56",
   "metadata": {},
   "outputs": [
    {
     "data": {
      "text/plain": [
       "(array([], dtype=int64),)"
      ]
     },
     "execution_count": 153,
     "metadata": {},
     "output_type": "execute_result"
    }
   ],
   "source": [
    "catalog['Z'].mask.nonzero()"
   ]
  },
  {
   "cell_type": "code",
   "execution_count": 154,
   "id": "130d66ec-3ec1-4256-a715-8f0352e297d5",
   "metadata": {},
   "outputs": [
    {
     "data": {
      "text/html": [
       "<div><i>Table length=2613</i>\n",
       "<table id=\"table23455112372672\" class=\"table-striped table-bordered table-condensed\">\n",
       "<thead><tr><th>TARGETID</th><th>Z</th><th>ZWARN</th><th>SPECTYPE</th><th>DELTACHI2</th><th>TARGET_RA</th><th>TARGET_DEC</th><th>OBJTYPE</th><th>OII_FLUX</th><th>OII_FLUX_IVAR</th><th>OII_SIGMA</th><th>OII_SIGMA_IVAR</th><th>OII_CONT</th><th>OII_CONT_IVAR</th><th>OII_SHARE</th><th>OII_SHARE_IVAR</th><th>OII_EW</th><th>OII_EW_IVAR</th><th>OII_CHI2</th><th>OII_NDOF</th><th>HDELTA_FLUX</th><th>HDELTA_FLUX_IVAR</th><th>HDELTA_SIGMA</th><th>HDELTA_SIGMA_IVAR</th><th>HDELTA_CONT</th><th>HDELTA_CONT_IVAR</th><th>HDELTA_SHARE</th><th>HDELTA_SHARE_IVAR</th><th>HDELTA_EW</th><th>HDELTA_EW_IVAR</th><th>HDELTA_CHI2</th><th>HDELTA_NDOF</th><th>HGAMMA_FLUX</th><th>HGAMMA_FLUX_IVAR</th><th>HGAMMA_SIGMA</th><th>HGAMMA_SIGMA_IVAR</th><th>HGAMMA_CONT</th><th>HGAMMA_CONT_IVAR</th><th>HGAMMA_SHARE</th><th>HGAMMA_SHARE_IVAR</th><th>HGAMMA_EW</th><th>HGAMMA_EW_IVAR</th><th>HGAMMA_CHI2</th><th>HGAMMA_NDOF</th><th>HBETA_FLUX</th><th>HBETA_FLUX_IVAR</th><th>HBETA_SIGMA</th><th>HBETA_SIGMA_IVAR</th><th>HBETA_CONT</th><th>HBETA_CONT_IVAR</th><th>HBETA_SHARE</th><th>HBETA_SHARE_IVAR</th><th>HBETA_EW</th><th>HBETA_EW_IVAR</th><th>HBETA_CHI2</th><th>HBETA_NDOF</th><th>OIII_FLUX</th><th>OIII_FLUX_IVAR</th><th>OIII_SIGMA</th><th>OIII_SIGMA_IVAR</th><th>OIII_CONT</th><th>OIII_CONT_IVAR</th><th>OIII_SHARE</th><th>OIII_SHARE_IVAR</th><th>OIII_EW</th><th>OIII_EW_IVAR</th><th>OIII_CHI2</th><th>OIII_NDOF</th><th>HALPHA_FLUX</th><th>HALPHA_FLUX_IVAR</th><th>HALPHA_SIGMA</th><th>HALPHA_SIGMA_IVAR</th><th>HALPHA_CONT</th><th>HALPHA_CONT_IVAR</th><th>HALPHA_SHARE</th><th>HALPHA_SHARE_IVAR</th><th>HALPHA_EW</th><th>HALPHA_EW_IVAR</th><th>HALPHA_CHI2</th><th>HALPHA_NDOF</th></tr></thead>\n",
       "<thead><tr><th>int64</th><th>float64</th><th>int64</th><th>str6</th><th>float64</th><th>float64</th><th>float64</th><th>str3</th><th>float32</th><th>float32</th><th>float32</th><th>float32</th><th>float32</th><th>float32</th><th>float32</th><th>float32</th><th>float32</th><th>float32</th><th>float32</th><th>int32</th><th>float32</th><th>float32</th><th>float32</th><th>float32</th><th>float32</th><th>float32</th><th>float32</th><th>float32</th><th>float32</th><th>float32</th><th>float32</th><th>int32</th><th>float32</th><th>float32</th><th>float32</th><th>float32</th><th>float32</th><th>float32</th><th>float32</th><th>float32</th><th>float32</th><th>float32</th><th>float32</th><th>int32</th><th>float32</th><th>float32</th><th>float32</th><th>float32</th><th>float32</th><th>float32</th><th>float32</th><th>float32</th><th>float32</th><th>float32</th><th>float32</th><th>int32</th><th>float32</th><th>float32</th><th>float32</th><th>float32</th><th>float32</th><th>float32</th><th>float32</th><th>float32</th><th>float32</th><th>float32</th><th>float32</th><th>int32</th><th>float32</th><th>float32</th><th>float32</th><th>float32</th><th>float32</th><th>float32</th><th>float32</th><th>float32</th><th>float32</th><th>float32</th><th>float32</th><th>int32</th></tr></thead>\n",
       "<tr><td>39628521999438525</td><td>0.21885542011222583</td><td>0</td><td>GALAXY</td><td>3724.9204058647156</td><td>164.09309707738137</td><td>31.972142061085414</td><td>TGT</td><td>28.946835</td><td>0.10342222</td><td>1.46478</td><td>13.815292</td><td>1.5153205</td><td>0.81372595</td><td>0.6855876</td><td>190.7915</td><td>23.283527</td><td>0.15985215</td><td>1.1859373</td><td>123</td><td>-20.19134</td><td>0.05286017</td><td>10.0</td><td>0.16187935</td><td>2.1508102</td><td>2.0779035</td><td>--</td><td>--</td><td>-11.442349</td><td>0.16459946</td><td>0.1032385</td><td>119</td><td>2.0054858</td><td>0.43632692</td><td>1.3759782</td><td>0.7043134</td><td>2.0814147</td><td>2.5217571</td><td>--</td><td>--</td><td>1.1743922</td><td>1.2724035</td><td>0.06530508</td><td>120</td><td>12.6187525</td><td>0.40432504</td><td>1.762574</td><td>15.945973</td><td>2.1655755</td><td>3.3616335</td><td>--</td><td>--</td><td>7.102239</td><td>1.2763592</td><td>0.053638183</td><td>120</td><td>8.401562</td><td>0.34194598</td><td>1.8568299</td><td>5.406565</td><td>2.0680168</td><td>4.546647</td><td>0.744</td><td>inf</td><td>4.9517436</td><td>0.98437643</td><td>0.009562163</td><td>193</td><td>82.39344</td><td>0.07976995</td><td>2.6483312</td><td>56.46994</td><td>1.8135607</td><td>18.13441</td><td>--</td><td>--</td><td>55.37487</td><td>0.1766034</td><td>0.082393736</td><td>120</td></tr>\n",
       "<tr><td>39628527116488720</td><td>0.1783576970798117</td><td>0</td><td>GALAXY</td><td>1222.151941895485</td><td>163.45245312988646</td><td>32.34383903491252</td><td>TGT</td><td>32.765217</td><td>0.09966621</td><td>1.1168877</td><td>47.89254</td><td>1.2974705</td><td>0.7799569</td><td>0.50154066</td><td>400.00595</td><td>29.757244</td><td>0.120833844</td><td>3.868062</td><td>119</td><td>--</td><td>--</td><td>--</td><td>--</td><td>1.707655</td><td>1.7912537</td><td>--</td><td>--</td><td>--</td><td>--</td><td>--</td><td>-99</td><td>0.9049904</td><td>0.06995111</td><td>0.24840406</td><td>0.8431607</td><td>1.5939503</td><td>2.383645</td><td>--</td><td>--</td><td>0.6690312</td><td>0.12799408</td><td>0.08276434</td><td>115</td><td>9.162927</td><td>0.28502348</td><td>1.8161979</td><td>5.489071</td><td>1.512523</td><td>2.5092013</td><td>--</td><td>--</td><td>7.1385393</td><td>0.46960244</td><td>600.09784</td><td>138</td><td>13.532049</td><td>0.28245473</td><td>1.3692819</td><td>19.630692</td><td>1.4665365</td><td>2.7571945</td><td>0.744</td><td>inf</td><td>10.872961</td><td>0.43750224</td><td>1.3970517</td><td>189</td><td>26.148294</td><td>0.9759987</td><td>1.5103338</td><td>224.70982</td><td>0.9701166</td><td>14.733472</td><td>--</td><td>--</td><td>31.761175</td><td>0.66151977</td><td>0.012057047</td><td>116</td></tr>\n",
       "<tr><td>39628521999437641</td><td>0.11837033034854996</td><td>0</td><td>GALAXY</td><td>1983.430034160614</td><td>164.045452489939</td><td>31.945806441812785</td><td>TGT</td><td>42.013546</td><td>0.08636432</td><td>0.8420524</td><td>177.55829</td><td>1.5143763</td><td>0.526365</td><td>0.6423758</td><td>651.39545</td><td>31.0271</td><td>0.1583546</td><td>4.413139</td><td>113</td><td>-8.339791</td><td>0.08085163</td><td>2.7458487</td><td>0.5556586</td><td>2.403379</td><td>1.1132897</td><td>--</td><td>--</td><td>-3.8807762</td><td>0.37338942</td><td>0.89064604</td><td>110</td><td>2.5851803</td><td>0.037394427</td><td>0.33201054</td><td>0.46781278</td><td>2.2253375</td><td>1.7441769</td><td>--</td><td>--</td><td>1.2992135</td><td>0.14805649</td><td>0.21436562</td><td>110</td><td>10.97463</td><td>0.49548897</td><td>0.9048395</td><td>55.230537</td><td>2.0216231</td><td>2.5519297</td><td>--</td><td>--</td><td>6.0712113</td><td>1.6190606</td><td>0.081991225</td><td>110</td><td>20.140238</td><td>0.31743398</td><td>0.98728085</td><td>98.48775</td><td>1.937901</td><td>2.6592298</td><td>0.744</td><td>inf</td><td>11.623011</td><td>0.95311505</td><td>7.240156</td><td>177</td><td>35.649315</td><td>0.241647</td><td>0.9652445</td><td>261.4554</td><td>1.4016453</td><td>9.26145</td><td>--</td><td>--</td><td>28.444527</td><td>0.3795652</td><td>0.017387044</td><td>110</td></tr>\n",
       "<tr><td>39628527116488426</td><td>0.206604036299363</td><td>0</td><td>GALAXY</td><td>4455.878037754446</td><td>163.43383284340862</td><td>32.22652179524303</td><td>TGT</td><td>16.127487</td><td>0.0692004</td><td>2.4871535</td><td>0.8989858</td><td>3.0966659</td><td>0.79835266</td><td>0.4050643</td><td>23.433922</td><td>6.2840137</td><td>0.45579308</td><td>1.1740661</td><td>121</td><td>-28.022305</td><td>0.03985158</td><td>10.0</td><td>0.23314668</td><td>5.3011966</td><td>1.858363</td><td>--</td><td>--</td><td>-6.37815</td><td>0.7692435</td><td>0.18322851</td><td>119</td><td>-4.285698</td><td>0.17102626</td><td>1.9911487</td><td>0.5947071</td><td>5.570673</td><td>2.171695</td><td>--</td><td>--</td><td>-0.9282793</td><td>3.645428</td><td>0.143095</td><td>118</td><td>-1.9395438</td><td>0.160748</td><td>1.4531921</td><td>0.2205434</td><td>6.573814</td><td>2.182174</td><td>--</td><td>--</td><td>-0.35599753</td><td>4.7714553</td><td>0.5283568</td><td>119</td><td>7.803478</td><td>0.0971326</td><td>3.9451113</td><td>0.28179413</td><td>6.1656203</td><td>3.468214</td><td>0.744</td><td>inf</td><td>1.5271306</td><td>2.5362322</td><td>0.035502613</td><td>191</td><td>54.434464</td><td>0.032247167</td><td>4.562782</td><td>4.1362343</td><td>6.301092</td><td>11.713045</td><td>--</td><td>--</td><td>10.423723</td><td>0.8794146</td><td>0.063816845</td><td>119</td></tr>\n",
       "<tr><td>39628527120679824</td><td>0.49304899823599113</td><td>0</td><td>GALAXY</td><td>4667.560766220093</td><td>163.53648727279315</td><td>32.26442089332923</td><td>TGT</td><td>50.22893</td><td>0.13432851</td><td>2.1960354</td><td>16.67711</td><td>1.9425942</td><td>2.7221174</td><td>0.64024144</td><td>643.6748</td><td>38.60521</td><td>0.22739676</td><td>11.558962</td><td>151</td><td>-14.997976</td><td>0.0865678</td><td>10.0</td><td>0.14462622</td><td>3.1881757</td><td>4.7889223</td><td>--</td><td>--</td><td>-7.023676</td><td>0.39472327</td><td>0.010699763</td><td>147</td><td>4.072308</td><td>0.43225273</td><td>1.740835</td><td>1.7705743</td><td>3.2620711</td><td>6.446949</td><td>--</td><td>--</td><td>1.8638942</td><td>2.0633671</td><td>0.007929532</td><td>147</td><td>29.755817</td><td>0.290092</td><td>2.4878757</td><td>30.723467</td><td>3.075704</td><td>9.077518</td><td>--</td><td>--</td><td>14.444463</td><td>1.2310528</td><td>0.01658469</td><td>147</td><td>18.340153</td><td>0.250782</td><td>2.314226</td><td>11.885396</td><td>2.8704588</td><td>6.4865665</td><td>0.744</td><td>inf</td><td>9.539502</td><td>0.9269385</td><td>0.012231436</td><td>259</td><td>--</td><td>--</td><td>--</td><td>--</td><td>--</td><td>--</td><td>--</td><td>--</td><td>--</td><td>--</td><td>--</td><td>-99</td></tr>\n",
       "<tr><td>39628527116488523</td><td>0.37757959002928326</td><td>0</td><td>GALAXY</td><td>1291.5310322493315</td><td>163.43968253610103</td><td>32.19153480276068</td><td>TGT</td><td>23.92131</td><td>0.13648058</td><td>2.8267276</td><td>2.9201357</td><td>1.5093069</td><td>2.132412</td><td>0.5153028</td><td>108.105446</td><td>21.833536</td><td>0.1638297</td><td>0.08149246</td><td>139</td><td>-2.9113903</td><td>0.20779064</td><td>3.1102083</td><td>0.14012237</td><td>2.4105225</td><td>2.6827388</td><td>--</td><td>--</td><td>-1.6638185</td><td>0.6362311</td><td>0.04647862</td><td>135</td><td>-0.31354335</td><td>0.23328365</td><td>2.3980155</td><td>0.0030787026</td><td>2.1509385</td><td>4.1485577</td><td>--</td><td>--</td><td>-0.20081045</td><td>0.56873107</td><td>0.028990166</td><td>136</td><td>-5.3873873</td><td>0.18457432</td><td>10.0</td><td>0.03971556</td><td>2.9922056</td><td>7.4035378</td><td>--</td><td>--</td><td>-2.480296</td><td>0.87080467</td><td>0.0021702708</td><td>136</td><td>4.6998634</td><td>0.20550452</td><td>3.8193824</td><td>0.24397671</td><td>2.8151615</td><td>8.186558</td><td>0.744</td><td>inf</td><td>2.2998452</td><td>0.85821205</td><td>0.0052528274</td><td>218</td><td>12.405184</td><td>0.21070242</td><td>10.0</td><td>0.2571338</td><td>2.8698246</td><td>22.438522</td><td>--</td><td>--</td><td>5.954764</td><td>0.9144224</td><td>0.003972066</td><td>135</td></tr>\n",
       "<tr><td>39628527120679820</td><td>0.3520350005535238</td><td>0</td><td>GALAXY</td><td>12082.2089138031</td><td>163.5363435430462</td><td>32.301227262863186</td><td>TGT</td><td>40.965984</td><td>0.23523092</td><td>1.4952644</td><td>71.71242</td><td>2.1334517</td><td>1.8806076</td><td>0.66534954</td><td>1023.53326</td><td>25.961424</td><td>0.5857121</td><td>0.10485115</td><td>137</td><td>-12.011664</td><td>0.053627938</td><td>10.0</td><td>0.05765499</td><td>3.083476</td><td>2.6216416</td><td>--</td><td>--</td><td>-5.2668447</td><td>0.27893075</td><td>7.9353423</td><td>133</td><td>4.7455916</td><td>0.26894793</td><td>1.2007476</td><td>3.1966631</td><td>3.025022</td><td>2.5306053</td><td>--</td><td>--</td><td>2.1210444</td><td>1.3463235</td><td>0.3350947</td><td>133</td><td>24.484688</td><td>0.61127067</td><td>1.6163738</td><td>101.6248</td><td>2.9174988</td><td>6.994101</td><td>--</td><td>--</td><td>11.346759</td><td>2.8462896</td><td>0.0068391655</td><td>133</td><td>15.458488</td><td>0.45096368</td><td>2.3340528</td><td>14.806688</td><td>2.759219</td><td>7.162932</td><td>0.744</td><td>inf</td><td>7.5747585</td><td>1.8781835</td><td>0.0022870498</td><td>214</td><td>127.282326</td><td>0.030051723</td><td>2.389561</td><td>67.67418</td><td>2.3008423</td><td>21.54108</td><td>--</td><td>--</td><td>74.794426</td><td>0.087029636</td><td>0.6486354</td><td>134</td></tr>\n",
       "<tr><td>39628516857221523</td><td>0.21959350706258754</td><td>0</td><td>GALAXY</td><td>2629.783975612372</td><td>164.10404177241546</td><td>31.858195565765783</td><td>TGT</td><td>9.648364</td><td>0.11013401</td><td>1.8273052</td><td>1.63555</td><td>1.8235724</td><td>0.8052062</td><td>1.0</td><td>8.909411</td><td>6.452764</td><td>0.24622792</td><td>1.0345557</td><td>124</td><td>-5.7505465</td><td>0.08926079</td><td>5.6259775</td><td>0.07026543</td><td>2.6949415</td><td>1.9688897</td><td>--</td><td>--</td><td>-2.602405</td><td>0.43584213</td><td>0.11667726</td><td>120</td><td>-6.5145793</td><td>0.14912413</td><td>2.716526</td><td>0.64353716</td><td>2.795367</td><td>2.3949158</td><td>--</td><td>--</td><td>-2.8422525</td><td>0.78342134</td><td>0.10519385</td><td>120</td><td>-8.6667795</td><td>0.05917889</td><td>10.0</td><td>0.03306298</td><td>2.8949885</td><td>3.2369523</td><td>--</td><td>--</td><td>-3.6511192</td><td>0.3334497</td><td>0.094731495</td><td>120</td><td>6.343328</td><td>0.21149014</td><td>2.4698074</td><td>1.0605046</td><td>2.8507054</td><td>4.1992292</td><td>0.744</td><td>inf</td><td>2.713813</td><td>1.1554857</td><td>0.014628914</td><td>193</td><td>34.814964</td><td>0.12390245</td><td>3.272868</td><td>10.460895</td><td>3.1442268</td><td>15.795665</td><td>--</td><td>--</td><td>13.5041485</td><td>0.8235262</td><td>0.03950019</td><td>120</td></tr>\n",
       "<tr><td>39628521999437712</td><td>0.1624185641202831</td><td>0</td><td>GALAXY</td><td>6237.097744107246</td><td>164.04961680472312</td><td>31.907226151546887</td><td>TGT</td><td>40.73232</td><td>0.036140867</td><td>2.0609493</td><td>3.6237297</td><td>3.041415</td><td>0.69542104</td><td>0.5718667</td><td>99.10689</td><td>15.567756</td><td>0.24741434</td><td>6.7581463</td><td>117</td><td>-20.343357</td><td>0.049660426</td><td>6.0017</td><td>0.4335933</td><td>4.8531456</td><td>1.4007939</td><td>--</td><td>--</td><td>-4.872612</td><td>0.86562943</td><td>0.44064942</td><td>114</td><td>-0.5081624</td><td>0.5654714</td><td>0.33424264</td><td>0.31172353</td><td>4.7337627</td><td>1.9483494</td><td>--</td><td>--</td><td>-0.12478389</td><td>9.3777485</td><td>0.17744055</td><td>114</td><td>17.1076</td><td>0.21123733</td><td>1.598385</td><td>18.234587</td><td>5.067159</td><td>2.386573</td><td>--</td><td>--</td><td>3.9245248</td><td>4.013975</td><td>0.12027617</td><td>114</td><td>14.248632</td><td>0.037605867</td><td>2.920066</td><td>0.6813447</td><td>4.872856</td><td>2.5018678</td><td>0.744</td><td>inf</td><td>3.3990076</td><td>0.6608421</td><td>331.2129</td><td>235</td><td>116.23382</td><td>0.025135139</td><td>2.5365584</td><td>42.99077</td><td>4.5521355</td><td>5.697415</td><td>--</td><td>--</td><td>29.681091</td><td>0.38546646</td><td>56955.92</td><td>159</td></tr>\n",
       "<tr><td>39628527116487726</td><td>0.3622932029358372</td><td>0</td><td>GALAXY</td><td>985.7979851104319</td><td>163.3899441444492</td><td>32.245975912411474</td><td>TGT</td><td>26.278538</td><td>0.048753366</td><td>9.179117</td><td>0.28412974</td><td>0.7220137</td><td>2.0002437</td><td>0.1</td><td>4.0640483</td><td>49.582264</td><td>0.013694756</td><td>0.09693251</td><td>138</td><td>-4.779605</td><td>0.28032428</td><td>1.9265867</td><td>1.3137927</td><td>1.7105886</td><td>2.6822941</td><td>--</td><td>--</td><td>-3.8064227</td><td>0.4419882</td><td>12.978853</td><td>134</td><td>-2.3249416</td><td>0.23004396</td><td>2.805114</td><td>0.122226454</td><td>1.5811323</td><td>2.4392939</td><td>--</td><td>--</td><td>-2.0031543</td><td>0.30988893</td><td>0.042558488</td><td>134</td><td>0.84379596</td><td>1.6373463e-09</td><td>0.22305979</td><td>1.1502709e-07</td><td>2.2418222</td><td>7.3643303</td><td>--</td><td>--</td><td>0.5127514</td><td>4.434061e-09</td><td>0.0035068407</td><td>134</td><td>12.109226</td><td>0.20013286</td><td>5.244582</td><td>0.77382296</td><td>2.1526365</td><td>7.6143417</td><td>0.744</td><td>inf</td><td>7.6633077</td><td>0.49971068</td><td>0.0043122196</td><td>216</td><td>13.243905</td><td>0.19789463</td><td>4.6757045</td><td>1.3600234</td><td>2.0955768</td><td>23.819286</td><td>--</td><td>--</td><td>8.609602</td><td>0.468274</td><td>0.35017696</td><td>134</td></tr>\n",
       "<tr><td>...</td><td>...</td><td>...</td><td>...</td><td>...</td><td>...</td><td>...</td><td>...</td><td>...</td><td>...</td><td>...</td><td>...</td><td>...</td><td>...</td><td>...</td><td>...</td><td>...</td><td>...</td><td>...</td><td>...</td><td>...</td><td>...</td><td>...</td><td>...</td><td>...</td><td>...</td><td>...</td><td>...</td><td>...</td><td>...</td><td>...</td><td>...</td><td>...</td><td>...</td><td>...</td><td>...</td><td>...</td><td>...</td><td>...</td><td>...</td><td>...</td><td>...</td><td>...</td><td>...</td><td>...</td><td>...</td><td>...</td><td>...</td><td>...</td><td>...</td><td>...</td><td>...</td><td>...</td><td>...</td><td>...</td><td>...</td><td>...</td><td>...</td><td>...</td><td>...</td><td>...</td><td>...</td><td>...</td><td>...</td><td>...</td><td>...</td><td>...</td><td>...</td><td>...</td><td>...</td><td>...</td><td>...</td><td>...</td><td>...</td><td>...</td><td>...</td><td>...</td><td>...</td><td>...</td><td>...</td></tr>\n",
       "<tr><td>39632930309409894</td><td>0.3408158436579375</td><td>0</td><td>GALAXY</td><td>2073.547540664673</td><td>165.78716224098545</td><td>32.45716057339513</td><td>TGT</td><td>21.104362</td><td>0.28431085</td><td>1.106556</td><td>74.968834</td><td>1.474191</td><td>2.122865</td><td>0.46585667</td><td>530.5458</td><td>19.194977</td><td>0.34368667</td><td>0.07447248</td><td>136</td><td>-6.032615</td><td>0.0675506</td><td>10.0</td><td>0.018386533</td><td>1.8910019</td><td>3.2054124</td><td>--</td><td>--</td><td>-4.2774286</td><td>0.13436152</td><td>0.035066582</td><td>132</td><td>4.4829674</td><td>0.39389518</td><td>1.5027584</td><td>2.6213264</td><td>1.4325099</td><td>3.129798</td><td>--</td><td>--</td><td>4.1960154</td><td>0.44961175</td><td>0.20178828</td><td>173</td><td>7.0356</td><td>1.6822846</td><td>1.0476356</td><td>56.332657</td><td>1.3700175</td><td>7.832059</td><td>--</td><td>--</td><td>6.8856378</td><td>1.7563596</td><td>0.0030940536</td><td>132</td><td>6.802906</td><td>0.924832</td><td>1.5365862</td><td>13.565395</td><td>1.3255856</td><td>8.504679</td><td>0.744</td><td>inf</td><td>6.8810678</td><td>0.9039411</td><td>0.0013575066</td><td>212</td><td>34.988564</td><td>0.9489469</td><td>1.8829134</td><td>250.47206</td><td>0.9298705</td><td>27.421776</td><td>--</td><td>--</td><td>50.451347</td><td>0.45640305</td><td>0.07714347</td><td>132</td></tr>\n",
       "<tr><td>39632930309407288</td><td>0.43867520551226113</td><td>0</td><td>GALAXY</td><td>403.052182469517</td><td>165.56555925943684</td><td>32.4517997141089</td><td>TGT</td><td>2.3639994</td><td>0.22222732</td><td>3.306246</td><td>0.06540471</td><td>0.950507</td><td>2.95675</td><td>1.0</td><td>0.7283357</td><td>3.578119</td><td>0.09700242</td><td>0.032734085</td><td>146</td><td>-2.419172</td><td>0.2294987</td><td>3.9746122</td><td>0.064169124</td><td>1.1645789</td><td>3.1565096</td><td>--</td><td>--</td><td>-2.9885504</td><td>0.15038085</td><td>0.037550386</td><td>142</td><td>-2.7336166</td><td>0.2872492</td><td>3.4710279</td><td>0.13295689</td><td>1.2932142</td><td>5.921464</td><td>--</td><td>--</td><td>-3.0410945</td><td>0.23209952</td><td>0.012043312</td><td>142</td><td>-7.7322617</td><td>0.24500881</td><td>8.592259</td><td>0.14687474</td><td>1.7350819</td><td>9.815252</td><td>--</td><td>--</td><td>-6.4113474</td><td>0.35636595</td><td>0.00242191</td><td>142</td><td>-5.231707</td><td>0.37237477</td><td>4.054487</td><td>0.4703481</td><td>1.618791</td><td>10.151292</td><td>0.744</td><td>inf</td><td>-4.649598</td><td>0.47145072</td><td>0.0040432983</td><td>228</td><td>-4.6740646</td><td>0.29064268</td><td>8.077095</td><td>0.057206832</td><td>1.5669038</td><td>13.031403</td><td>--</td><td>--</td><td>-4.2915597</td><td>0.34476134</td><td>2.2304604</td><td>142</td></tr>\n",
       "<tr><td>39632930305213610</td><td>0.2517534916650242</td><td>0</td><td>GALAXY</td><td>123237.55546569824</td><td>165.32874859708852</td><td>32.51769734022134</td><td>TGT</td><td>284.9018</td><td>0.06755642</td><td>1.4787841</td><td>896.2396</td><td>7.5223894</td><td>1.1162109</td><td>0.5959465</td><td>15823.275</td><td>47.408714</td><td>2.4397235</td><td>0.9119648</td><td>126</td><td>12.162491</td><td>0.2803001</td><td>0.84060025</td><td>43.843193</td><td>9.227922</td><td>2.0733361</td><td>--</td><td>--</td><td>1.6498231</td><td>15.233285</td><td>0.22040819</td><td>123</td><td>39.512695</td><td>0.24088192</td><td>1.2062253</td><td>193.28368</td><td>8.341383</td><td>2.3260107</td><td>--</td><td>--</td><td>5.9294915</td><td>10.696524</td><td>0.1496534</td><td>123</td><td>120.784645</td><td>0.19187953</td><td>1.5436152</td><td>971.43677</td><td>6.6976075</td><td>3.9050586</td><td>--</td><td>--</td><td>22.574121</td><td>5.4932632</td><td>0.072606824</td><td>123</td><td>140.21486</td><td>0.26314822</td><td>1.7534412</td><td>1347.7157</td><td>6.357263</td><td>4.2966194</td><td>0.744</td><td>inf</td><td>27.608492</td><td>6.7873955</td><td>0.026662193</td><td>198</td><td>566.92944</td><td>0.0016482748</td><td>2.1519654</td><td>131.07434</td><td>4.707472</td><td>15.484476</td><td>--</td><td>--</td><td>150.75096</td><td>0.023311352</td><td>1.909779</td><td>123</td></tr>\n",
       "<tr><td>39632930305214218</td><td>0.033940856088931305</td><td>0</td><td>GALAXY</td><td>3749.0757054686546</td><td>165.3878103674149</td><td>32.41481377058709</td><td>TGT</td><td>38.9797</td><td>0.10111045</td><td>0.66106355</td><td>295.11258</td><td>1.2103891</td><td>0.23785691</td><td>0.6541094</td><td>713.7404</td><td>33.29731</td><td>0.13856536</td><td>7.719274</td><td>104</td><td>5.9627843</td><td>0.39581877</td><td>0.5540048</td><td>29.228573</td><td>2.0038424</td><td>0.994969</td><td>--</td><td>--</td><td>3.076672</td><td>1.4867302</td><td>0.9360634</td><td>102</td><td>4.9634356</td><td>0.4622428</td><td>0.57370716</td><td>23.255016</td><td>1.8266056</td><td>1.2206792</td><td>--</td><td>--</td><td>2.8095276</td><td>1.4426745</td><td>0.5323803</td><td>102</td><td>15.116507</td><td>0.73406553</td><td>0.8221067</td><td>185.30412</td><td>1.4659853</td><td>2.5856247</td><td>--</td><td>--</td><td>10.661481</td><td>1.4757155</td><td>0.0601773</td><td>102</td><td>51.677708</td><td>0.4616475</td><td>0.68768156</td><td>2038.0905</td><td>1.4152366</td><td>2.7898993</td><td>0.744</td><td>inf</td><td>37.7546</td><td>0.86492246</td><td>0.044504236</td><td>163</td><td>43.10788</td><td>1.6532285</td><td>0.74373174</td><td>4419.4287</td><td>0.66983193</td><td>9.785227</td><td>--</td><td>--</td><td>66.540565</td><td>0.69386214</td><td>0.002100039</td><td>101</td></tr>\n",
       "<tr><td>39632930305214562</td><td>0.25491589724066344</td><td>0</td><td>GALAXY</td><td>8368.565860748291</td><td>165.42772315898145</td><td>32.433252205980885</td><td>TGT</td><td>61.025867</td><td>0.17742766</td><td>1.4600018</td><td>100.45946</td><td>2.26269</td><td>1.364057</td><td>0.5552052</td><td>1898.1199</td><td>33.8457</td><td>0.5768226</td><td>0.22870246</td><td>127</td><td>-13.487383</td><td>0.060556658</td><td>7.555751</td><td>0.14468253</td><td>3.0760653</td><td>2.7390628</td><td>--</td><td>--</td><td>-5.5023313</td><td>0.36385116</td><td>0.061149802</td><td>123</td><td>4.3466954</td><td>0.3895523</td><td>1.3096828</td><td>3.2335074</td><td>2.9266982</td><td>3.0895135</td><td>--</td><td>--</td><td>1.8637853</td><td>2.1188118</td><td>0.04664344</td><td>124</td><td>18.100962</td><td>0.6133951</td><td>1.4892397</td><td>67.620834</td><td>2.1966355</td><td>5.159697</td><td>--</td><td>--</td><td>10.3408985</td><td>1.8794338</td><td>0.00915712</td><td>123</td><td>22.500061</td><td>0.34912828</td><td>1.7470942</td><td>41.69825</td><td>2.110121</td><td>5.8812976</td><td>0.744</td><td>inf</td><td>13.381073</td><td>0.9871213</td><td>0.018014839</td><td>198</td><td>81.21986</td><td>0.07144998</td><td>2.0966296</td><td>92.16476</td><td>1.7006748</td><td>21.97002</td><td>--</td><td>--</td><td>59.931557</td><td>0.13122466</td><td>0.0040209987</td><td>124</td></tr>\n",
       "<tr><td>39632930309406817</td><td>0.5123132527160283</td><td>0</td><td>GALAXY</td><td>631.6344164609909</td><td>165.52281652994452</td><td>32.47786508496189</td><td>TGT</td><td>-2.2162807</td><td>0.30961466</td><td>2.410207</td><td>0.13800216</td><td>1.1229367</td><td>3.272526</td><td>1.0</td><td>1.2618867</td><td>-2.9847727</td><td>0.17070591</td><td>89.13288</td><td>153</td><td>2.083679</td><td>0.23334427</td><td>5.7301984</td><td>0.022663351</td><td>1.4445751</td><td>5.7992554</td><td>--</td><td>--</td><td>2.1813858</td><td>0.21290892</td><td>0.005633603</td><td>149</td><td>-0.036695804</td><td>0.5975895</td><td>2.7312353</td><td>8.017441e-05</td><td>1.465229</td><td>8.179342</td><td>--</td><td>--</td><td>-0.037875</td><td>0.5609582</td><td>0.0027335892</td><td>150</td><td>4.786785</td><td>0.035858925</td><td>10.0</td><td>0.0064282753</td><td>1.5618939</td><td>10.457868</td><td>--</td><td>--</td><td>4.6348333</td><td>0.038248714</td><td>0.3253474</td><td>149</td><td>-35.33757</td><td>0.05033921</td><td>0.8996846</td><td>64.993034</td><td>1.5552093</td><td>11.914789</td><td>0.744</td><td>inf</td><td>-34.362885</td><td>0.053235404</td><td>263.67606</td><td>366</td><td>--</td><td>--</td><td>--</td><td>--</td><td>--</td><td>--</td><td>--</td><td>--</td><td>--</td><td>--</td><td>--</td><td>-99</td></tr>\n",
       "<tr><td>39632930309407742</td><td>0.11137105705578007</td><td>0</td><td>GALAXY</td><td>12136.043102689087</td><td>165.60382194783745</td><td>32.47568684892076</td><td>TGT</td><td>11.400666</td><td>0.08495661</td><td>1.3600646</td><td>2.7022867</td><td>5.0936637</td><td>0.6761242</td><td>0.113388695</td><td>15.607197</td><td>2.4874768</td><td>1.7845944</td><td>3.2302594</td><td>112</td><td>-1.8776182</td><td>0.09887782</td><td>1.9688091</td><td>0.06840443</td><td>8.891285</td><td>1.2026491</td><td>--</td><td>--</td><td>-0.23469391</td><td>6.328631</td><td>0.88697565</td><td>109</td><td>17.456717</td><td>0.008958992</td><td>10.0</td><td>0.020366944</td><td>10.093012</td><td>1.652163</td><td>--</td><td>--</td><td>1.9222101</td><td>0.73889464</td><td>0.97613347</td><td>110</td><td>-46.196964</td><td>0.040137</td><td>10.0</td><td>0.6374792</td><td>13.824666</td><td>2.097534</td><td>--</td><td>--</td><td>-3.7137945</td><td>6.2106357</td><td>0.12977283</td><td>109</td><td>18.732775</td><td>0.010141211</td><td>10.0</td><td>0.027488546</td><td>13.065598</td><td>2.2096941</td><td>0.744</td><td>inf</td><td>1.5934261</td><td>1.4016197</td><td>131.78024</td><td>176</td><td>7.905691</td><td>0.028820964</td><td>10.0</td><td>0.013483728</td><td>14.425828</td><td>5.4558997</td><td>--</td><td>--</td><td>0.6090573</td><td>4.8559237</td><td>0.11086092</td><td>109</td></tr>\n",
       "<tr><td>39632930309409235</td><td>0.28985348933984295</td><td>0</td><td>GALAXY</td><td>1232.1640951838344</td><td>165.73223100674923</td><td>32.571898130952725</td><td>TGT</td><td>12.672215</td><td>0.19455399</td><td>2.0525143</td><td>2.426268</td><td>1.9612341</td><td>1.6952858</td><td>0.7995028</td><td>36.757156</td><td>8.334191</td><td>0.44979876</td><td>0.12784764</td><td>131</td><td>-2.1041462</td><td>0.19546078</td><td>3.129968</td><td>0.06598563</td><td>3.0045419</td><td>3.006287</td><td>--</td><td>--</td><td>-0.90331256</td><td>1.0605603</td><td>0.043974597</td><td>127</td><td>3.4368715</td><td>0.03223706</td><td>10.0</td><td>0.0027443382</td><td>3.1410441</td><td>3.0632627</td><td>--</td><td>--</td><td>1.4113334</td><td>0.19117133</td><td>12.331554</td><td>127</td><td>-13.366349</td><td>0.099000834</td><td>10.0</td><td>0.13458</td><td>3.655476</td><td>5.5316277</td><td>--</td><td>--</td><td>-4.716385</td><td>0.79514426</td><td>0.017012853</td><td>127</td><td>3.7110622</td><td>0.25060478</td><td>3.1126337</td><td>0.25892872</td><td>3.5531778</td><td>6.0358114</td><td>0.744</td><td>inf</td><td>1.3471677</td><td>1.9017018</td><td>0.005913937</td><td>204</td><td>1.6591707</td><td>0.48857257</td><td>3.3095994</td><td>0.08388269</td><td>3.8641336</td><td>20.028454</td><td>--</td><td>--</td><td>0.55383366</td><td>4.384828</td><td>0.12883763</td><td>127</td></tr>\n",
       "<tr><td>39632930313601256</td><td>0.24130921128627644</td><td>0</td><td>GALAXY</td><td>168.79034441709518</td><td>165.83205803866377</td><td>32.48226423931002</td><td>TGT</td><td>5.015398</td><td>0.15370655</td><td>1.4980634</td><td>0.49007055</td><td>2.1073804</td><td>0.9345286</td><td>0.4676533</td><td>10.661077</td><td>2.9542172</td><td>0.44301486</td><td>0.5829516</td><td>125</td><td>-2.1330192</td><td>0.05682949</td><td>5.4483266</td><td>0.006519479</td><td>2.4188037</td><td>2.0394197</td><td>--</td><td>--</td><td>-1.094647</td><td>0.21578194</td><td>0.20205137</td><td>122</td><td>1.2531998</td><td>0.055821735</td><td>10.0</td><td>0.0006592526</td><td>2.221542</td><td>2.3125558</td><td>--</td><td>--</td><td>0.70023817</td><td>0.1787938</td><td>0.07744248</td><td>122</td><td>-3.7283223</td><td>0.06061769</td><td>10.0</td><td>0.006455212</td><td>2.3075516</td><td>3.7290568</td><td>--</td><td>--</td><td>-2.0055892</td><td>0.20947985</td><td>0.028261885</td><td>122</td><td>0.69461685</td><td>0.079138346</td><td>5.182977</td><td>0.0010609857</td><td>2.235602</td><td>4.2157555</td><td>0.744</td><td>inf</td><td>0.38568327</td><td>0.25669417</td><td>0.022610458</td><td>197</td><td>3.0024164</td><td>0.54819196</td><td>3.0357726</td><td>0.3793767</td><td>1.9690481</td><td>16.864382</td><td>--</td><td>--</td><td>1.8927556</td><td>1.3793846</td><td>0.0010505214</td><td>122</td></tr>\n",
       "<tr><td>39632930305212769</td><td>0.22172312593249627</td><td>0</td><td>GALAXY</td><td>4441.171953201294</td><td>165.25189482033892</td><td>32.4655964572746</td><td>TGT</td><td>46.083355</td><td>0.18200223</td><td>0.8158116</td><td>506.10452</td><td>1.9927061</td><td>1.0068195</td><td>0.58826905</td><td>1984.8401</td><td>28.253592</td><td>0.48419198</td><td>0.5814685</td><td>124</td><td>-11.884677</td><td>0.07447059</td><td>7.7974067</td><td>0.12885463</td><td>2.663893</td><td>2.3230257</td><td>--</td><td>--</td><td>-5.450588</td><td>0.35405666</td><td>0.08144726</td><td>120</td><td>4.161551</td><td>0.6445479</td><td>0.732219</td><td>15.238741</td><td>2.4107094</td><td>2.7702012</td><td>--</td><td>--</td><td>2.109032</td><td>2.5095704</td><td>0.06290441</td><td>120</td><td>11.904036</td><td>1.1825024</td><td>0.7362455</td><td>243.55923</td><td>1.5407196</td><td>4.0399323</td><td>--</td><td>--</td><td>9.439379</td><td>1.8806313</td><td>0.026797002</td><td>121</td><td>35.597744</td><td>0.6113809</td><td>0.85242283</td><td>818.71423</td><td>1.4376371</td><td>4.569868</td><td>0.744</td><td>inf</td><td>30.251438</td><td>0.84657365</td><td>0.011286453</td><td>193</td><td>34.837433</td><td>0.55257195</td><td>0.9940337</td><td>511.5291</td><td>1.0492237</td><td>19.025286</td><td>--</td><td>--</td><td>40.56494</td><td>0.40754858</td><td>0.0027807122</td><td>120</td></tr>\n",
       "</table></div>"
      ],
      "text/plain": [
       "<Table length=2613>\n",
       "     TARGETID              Z           ZWARN ... HALPHA_CHI2  HALPHA_NDOF\n",
       "      int64             float64        int64 ...   float32       int32   \n",
       "----------------- -------------------- ----- ... ------------ -----------\n",
       "39628521999438525  0.21885542011222583     0 ...  0.082393736         120\n",
       "39628527116488720   0.1783576970798117     0 ...  0.012057047         116\n",
       "39628521999437641  0.11837033034854996     0 ...  0.017387044         110\n",
       "39628527116488426    0.206604036299363     0 ...  0.063816845         119\n",
       "39628527120679824  0.49304899823599113     0 ...           --         -99\n",
       "39628527116488523  0.37757959002928326     0 ...  0.003972066         135\n",
       "39628527120679820   0.3520350005535238     0 ...    0.6486354         134\n",
       "39628516857221523  0.21959350706258754     0 ...   0.03950019         120\n",
       "39628521999437712   0.1624185641202831     0 ...     56955.92         159\n",
       "39628527116487726   0.3622932029358372     0 ...   0.35017696         134\n",
       "              ...                  ...   ... ...          ...         ...\n",
       "39632930309409894   0.3408158436579375     0 ...   0.07714347         132\n",
       "39632930309407288  0.43867520551226113     0 ...    2.2304604         142\n",
       "39632930305213610   0.2517534916650242     0 ...     1.909779         123\n",
       "39632930305214218 0.033940856088931305     0 ...  0.002100039         101\n",
       "39632930305214562  0.25491589724066344     0 ... 0.0040209987         124\n",
       "39632930309406817   0.5123132527160283     0 ...           --         -99\n",
       "39632930309407742  0.11137105705578007     0 ...   0.11086092         109\n",
       "39632930309409235  0.28985348933984295     0 ...   0.12883763         127\n",
       "39632930313601256  0.24130921128627644     0 ... 0.0010505214         122\n",
       "39632930305212769  0.22172312593249627     0 ... 0.0027807122         120"
      ]
     },
     "execution_count": 154,
     "metadata": {},
     "output_type": "execute_result"
    }
   ],
   "source": [
    "catalog"
   ]
  },
  {
   "cell_type": "code",
   "execution_count": null,
   "id": "4d8c0b6f-bb87-42a1-a12e-e6d3b7ee2d00",
   "metadata": {},
   "outputs": [],
   "source": []
  }
 ],
 "metadata": {
  "kernelspec": {
   "display_name": "NERSC Python",
   "language": "python",
   "name": "python3"
  },
  "language_info": {
   "codemirror_mode": {
    "name": "ipython",
    "version": 3
   },
   "file_extension": ".py",
   "mimetype": "text/x-python",
   "name": "python",
   "nbconvert_exporter": "python",
   "pygments_lexer": "ipython3",
   "version": "3.9.7"
  }
 },
 "nbformat": 4,
 "nbformat_minor": 5
}
