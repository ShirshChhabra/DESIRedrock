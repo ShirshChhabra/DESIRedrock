{
 "cells": [
  {
   "cell_type": "code",
   "execution_count": 3,
   "id": "b874a36d-0471-4cce-b728-ced8b4019185",
   "metadata": {},
   "outputs": [],
   "source": [
    "import fitsio\n",
    "from astropy.io import fits\n",
    "import matplotlib.pyplot as plt\n",
    "import astropy.table as t\n",
    "# importing all modules\n",
    "import os\n",
    "import fitsio\n",
    "import matplotlib.pyplot as plt\n",
    "import glob\n",
    "from astropy.io import fits\n",
    "import numpy as np\n",
    "import astropy.table as t\n",
    "import subprocess\n",
    "import json \n",
    "import scipy.optimize as so\n",
    "from scipy.integrate import odeint\n",
    "import numpy.ma as ma\n",
    "from scipy.stats import linregress\n",
    "import pandas as pd\n",
    "from scipy.stats import binned_statistic as bn\n",
    "import pickle\n",
    "from scipy.stats import norm\n",
    "import random"
   ]
  },
  {
   "cell_type": "code",
   "execution_count": 65,
   "id": "a69cdb7a-92fe-4731-994d-145063d93362",
   "metadata": {},
   "outputs": [
    {
     "name": "stdout",
     "output_type": "stream",
     "text": [
      "26.0 %\n",
      "26\n"
     ]
    },
    {
     "data": {
      "image/png": "[encoded data removed]",
      "text/plain": [
       "<Figure size 432x288 with 1 Axes>"
      ]
     },
     "metadata": {
      "needs_background": "light"
     },
     "output_type": "display_data"
    }
   ],
   "source": [
    "x=[]\n",
    "y=[]\n",
    "for i in range(0,100):\n",
    "    x.append(random.randint(0,100))\n",
    "    y.append(random.randint(0,100))\n",
    "x=np.array(x)\n",
    "y=np.array(y)\n",
    "plt.scatter(x,y)\n",
    "plt.plot(x,x+40)\n",
    "plt.axvline(40)\n",
    "print(len(x[(x<40)*(x>0)*(y>0)*(y<x+40)])/len(x)*100,'%')\n",
    "print(len(x[(x<40)*(x>0)*(y>0)*(y<x+40)]))\n",
    "\n"
   ]
  },
  {
   "cell_type": "code",
   "execution_count": 3,
   "id": "59dfc441-570b-41c5-8af7-6d77b31e6fae",
   "metadata": {},
   "outputs": [
    {
     "name": "stdout",
     "output_type": "stream",
     "text": [
      "TILEID\n",
      "------\n",
      " 80605\n",
      " 80609\n",
      "TILEID\n",
      "------\n",
      " 80606\n",
      " 80608\n",
      " 80610\n"
     ]
    }
   ],
   "source": [
    "# checking which tiles have truth tables\n",
    "trutab=t.Table.read('/global/cfs/cdirs/desi/sv/vi/TruthTables/Fuji/ELG/220505_ELG_SV1_blanc_and_Fuji_v1.csv')\n",
    "trutab2=t.Table.read('/global/cfs/cdirs/desi/sv/vi/TruthTables/Fuji/LRG/220505_LRG_SV1_blanc_and_Fuji_v1.csv')\n",
    "print(np.unique(trutab2['TILEID']))\n",
    "print(np.unique(trutab['TILEID']))"
   ]
  },
  {
   "cell_type": "code",
   "execution_count": 4,
   "id": "91349251-91a9-4c98-a6ee-d25fabfa8d3c",
   "metadata": {
    "scrolled": true,
    "tags": []
   },
   "outputs": [
    {
     "ename": "NameError",
     "evalue": "name 'emlist' is not defined",
     "output_type": "error",
     "traceback": [
      "\u001b[0;31m---------------------------------------------------------------------------\u001b[0m",
      "\u001b[0;31mNameError\u001b[0m                                 Traceback (most recent call last)",
      "\u001b[0;32m/tmp/ipykernel_45709/3026116810.py\u001b[0m in \u001b[0;36m<module>\u001b[0;34m\u001b[0m\n\u001b[1;32m      1\u001b[0m \u001b[0;31m# reading each fits file in emfit output\u001b[0m\u001b[0;34m\u001b[0m\u001b[0;34m\u001b[0m\u001b[0m\n\u001b[0;32m----> 2\u001b[0;31m \u001b[0;32mfor\u001b[0m \u001b[0mfilename\u001b[0m \u001b[0;32min\u001b[0m \u001b[0memlist\u001b[0m\u001b[0;34m:\u001b[0m\u001b[0;34m\u001b[0m\u001b[0;34m\u001b[0m\u001b[0m\n\u001b[0m\u001b[1;32m      3\u001b[0m     \u001b[0memread1\u001b[0m\u001b[0;34m=\u001b[0m \u001b[0mfitsio\u001b[0m\u001b[0;34m.\u001b[0m\u001b[0mFITS\u001b[0m\u001b[0;34m(\u001b[0m\u001b[0mfilename\u001b[0m\u001b[0;34m)\u001b[0m\u001b[0;34m\u001b[0m\u001b[0;34m\u001b[0m\u001b[0m\n\u001b[1;32m      4\u001b[0m \u001b[0mprint\u001b[0m\u001b[0;34m(\u001b[0m\u001b[0memread1\u001b[0m\u001b[0;34m[\u001b[0m\u001b[0;36m1\u001b[0m\u001b[0;34m]\u001b[0m\u001b[0;34m.\u001b[0m\u001b[0mread_header\u001b[0m\u001b[0;34m(\u001b[0m\u001b[0;34m)\u001b[0m\u001b[0;34m)\u001b[0m\u001b[0;34m\u001b[0m\u001b[0;34m\u001b[0m\u001b[0m\n",
      "\u001b[0;31mNameError\u001b[0m: name 'emlist' is not defined"
     ]
    }
   ],
   "source": [
    "# reading each fits file in emfit output\n",
    "for filename in emlist:\n",
    "    emread1= fitsio.FITS(filename)\n",
    "print(emread1[1].read_header())"
   ]
  },
  {
   "cell_type": "code",
   "execution_count": null,
   "id": "abbf0061-bdcf-474d-82c7-7d96970a7637",
   "metadata": {},
   "outputs": [],
   "source": []
  },
  {
   "cell_type": "code",
   "execution_count": null,
   "id": "ddc34ad0-0a27-4c06-8f57-83f199bb8cb0",
   "metadata": {},
   "outputs": [],
   "source": []
  },
  {
   "cell_type": "code",
   "execution_count": 7,
   "id": "bfb22852-a7a3-41b8-ab2e-9b1cbfa2dfd8",
   "metadata": {},
   "outputs": [],
   "source": [
    "def read_tile_catalog(tile_string):\n",
    "    # Read galaxy catalog of a tile including line fit information of all objects\n",
    "    # input: string with the ID of the tile, e.g. \"80605\"\n",
    "    # returns: structured array with catalog of all objects in that tile\n",
    "    \n",
    "    emlist = glob.glob('/global/cfs/cdirs/desi/spectro/redux/fuji/tiles/cumulative/'+tile_string+'/*/emline*.fits')\n",
    "    emtable = t.Table()\n",
    "    for filename in emlist:\n",
    "        emread2=fits.open(filename)\n",
    "        dumtable=t.Table.read(emread2[1])\n",
    "        dumtable['RRFN']=dumtable.meta['RRFN']\n",
    "        dumtable['FN']=filename\n",
    "        dumtable['COADDFN']=dumtable.meta['COADDFN']\n",
    "        emtable=t.vstack([dumtable,emtable])\n",
    "    \n",
    "    return emtable\n",
    "\n",
    "def filter_galaxies(catalog):\n",
    "    # Filter catalog to only include galaxy targets among spectype and targets among different, return the filtered catalog\n",
    "    return catalog[(catalog['SPECTYPE']=='GALAXY') & (catalog['OBJTYPE']=='TGT')]\n",
    "\n",
    "def filter_good_fits(catalog, deltachi2=40):\n",
    "    # Filter catalog to only include targets with no ZWARN flag and good deltachi2\n",
    "    \n",
    "    good = (catalog['ZWARN'] == 0) & (catalog['DELTACHI2']>deltachi2)\n",
    "    return catalog[good]\n",
    "\n",
    "def calculate_oii_oiii_matrix(catalog, oIIlimit=-3, oIIIlimit=-3):\n",
    "    \n",
    "    # return normalized matrix of whether OII and OIII fluxes are or are not compatible with physical fit\n",
    "    \n",
    "    matrix = np.zeros(4)\n",
    "    # ordered as 'OII good, OIII good', 'good, bad', 'bad, good', 'bad, bad' where bad means the significance of the respective flux is smaller than the limit passed to the function\n",
    "    \n",
    "    select = (catalog['OII_FLUX']*catalog['OII_FLUX_IVAR']**0.5 > oIIlimit) & (catalog['OIII_FLUX']*catalog['OIII_FLUX_IVAR']**0.5 > oIIIlimit)\n",
    "    matrix[0] = np.sum(select)\n",
    "    \n",
    "    select = (catalog['OII_FLUX']*catalog['OII_FLUX_IVAR']**0.5 > oIIlimit) & (catalog['OIII_FLUX']*catalog['OIII_FLUX_IVAR']**0.5 <= oIIIlimit)\n",
    "    matrix[1] = np.sum(select)\n",
    "    \n",
    "    select = (catalog['OII_FLUX']*catalog['OII_FLUX_IVAR']**0.5 <= oIIlimit) & (catalog['OIII_FLUX']*catalog['OIII_FLUX_IVAR']**0.5 > oIIIlimit)\n",
    "    matrix[2] = np.sum(select)\n",
    "    \n",
    "    select = (catalog['OII_FLUX']*catalog['OII_FLUX_IVAR']**0.5 <= oIIlimit) & (catalog['OIII_FLUX']*catalog['OIII_FLUX_IVAR']**0.5 <= oIIIlimit)\n",
    "    matrix[3] = np.sum(select)\n",
    "    \n",
    "    return matrix/np.sum(matrix)\n",
    "\n",
    "\n",
    "def plot_matrices(matrices):\n",
    "    \n",
    "    matrices = np.array(matrices)\n",
    "    \n",
    "    # plt.hist(matrices[:,0], label=\"good OII & OIII\",color='blue') hidden because we expect it to be -> 1\n",
    "    plt.hist(matrices[:,1], label=\"good OII, bad OIII\",bins=(np.linspace(0,0.1,100)),alpha=0.5)\n",
    "    plt.hist(matrices[:,2], label=\"bad OII, good OIII\",bins=(np.linspace(0,0.1,100)),alpha=0.5)\n",
    "    plt.hist(matrices[:,3], label=\"bad OII & OIII\",bins=(np.linspace(0,0.1,100)),alpha=0.5)\n",
    "    plt.legend()\n",
    "    plt.xlabel('Fraction of Galaxies')\n",
    "    plt.ylabel('Frequency')\n",
    "\n",
    "def calculateoiilinestrength(catalog):\n",
    "    return (np.array(catalog['OII_FLUX']*catalog['OII_FLUX_IVAR']**0.5))\n",
    "\n",
    "def calculateoiiilinestrength(catalog):\n",
    "    return (np.array(catalog['OIII_FLUX']*catalog['OIII_FLUX_IVAR']**0.5))\n",
    "    \n"
   ]
  },
  {
   "cell_type": "code",
   "execution_count": 61,
   "id": "82d681ce-e9ee-4fd9-a0a7-009ab8ea7ac8",
   "metadata": {},
   "outputs": [],
   "source": [
    "tiles=[\"80653\",\"80654\",\"80655\",\"80656\",\"80657\",\"80658\",\"80659\",\"80660\",\"80661\",\"80662\",\"80663\",\"80664\",\"80665\",\"80666\",\"80669\",\"80670\",\"80673\",\"80674\",\"80675\",\"80676\",\"80677\",\"80678\",\"80679\",\"80680\",\"80681\",\"80682\",\"80683\",\"80684\",\"80685\",\"80686\",\"80687\",\"80688\",\"80689\",\"80690\",\"80691\",\"80692\",\"80693\",\"80694\",\"80695\",\"80696\",\"80697\",\"80698\",\"80699\",\"80700\",\"80701\",\"80702\",\"80703\",\"80705\",\"80706\",\"80707\",\"80708\",\"80709\",\"80710\",\"80711\",\"80712\",\"80715\",\"80718\",\"80719\",\"80720\",\"80721\",\"80722\",\"80724\",\"80726\",\"80728\",\"80729\",\"80730\",\"80731\",\"80732\",\"80733\",\"80734\",\"80735\",\"80736\",\"80737\",\"80738\",\"80740\",\"80741\",\"80742\",\"80782\",\"80783\",\"80784\",\"80785\",\"80786\",\"80787\",\"80788\",\"80789\",\"80790\",\"80856\",\"80857\",\"80858\",\"80859\",\"80860\",\"80861\",\"80862\",\"80863\",\"80865\",\"80866\",\"80867\",\"80869\",\"80870\",\"80871\",\"80872\",\"80873\",\"80875\",\"80876\",\"80879\",\"80882\",\"80885\",\"80886\",\"80887\",\"80888\",\"80889\",\"80890\",\"80891\",\"80892\",\"80893\",\"80894\",\"80895\",\"80896\",\"80897\",\"80898\",\"80899\",\"80900\",\"80901\",\"80902\",\"80938\",\"80944\",\"80949\",\"80950\",\"80951\",\"80952\",\"80954\",\"80955\",\"80956\",\"80958\",\"80959\",\"80960\",\"80962\",\"80963\",\"80966\",\"80968\",\"80970\",\"80971\",\"80972\",\"80974\",\"80975\",\"81000\",\"81001\",\"81002\",\"81003\",\"81004\",\"81005\",\"81006\",\"81007\",\"81008\",\"81009\",\"81010\",\"81011\",\"81012\",\"81013\",\"81014\",\"81015\",\"81022\",\"81056\",\"81057\",\"81058\",\"81059\",\"81060\",\"81061\",\"81062\",\"81063\",\"81064\",\"81065\",\"81066\",\"81067\",\"81068\",\"81069\",\"81072\",\"81073\",\"81074\",\"81075\",\"81088\",\"81097\",\"81098\",\"81099\",\"81100\",\"81101\",\"81102\",\"81103\",\"81104\",\"81105\",\"81106\",\"81107\",\"81108\",\"81109\",\"81110\",\"81111\",\"81112\",\"81113\",\"81114\",\"81115\"]\n",
    "# tiles=[\"80653\",\"80654\",\"80655\",\"80656\",\"80657\",\"80658\",\"80659\"] # if you want to test a particular file"
   ]
  },
  {
   "cell_type": "code",
   "execution_count": 62,
   "id": "8eb20c89-2ff5-4199-a74a-0c42f076ef28",
   "metadata": {},
   "outputs": [
    {
     "data": {
      "text/plain": [
       "200"
      ]
     },
     "execution_count": 62,
     "metadata": {},
     "output_type": "execute_result"
    }
   ],
   "source": [
    "len(tiles)"
   ]
  },
  {
   "cell_type": "code",
   "execution_count": null,
   "id": "9d5d0048-5e4e-4ffe-bc08-ea195c041dc6",
   "metadata": {
    "tags": []
   },
   "outputs": [],
   "source": [
    "oiilinestrength=[]\n",
    "oiiilinestrength=[]\n",
    "matrices = []\n",
    "matrices_good=[]\n",
    "oiilinestrength_good=[]\n",
    "oiiilinestrength_good=[]\n",
    "\n",
    "for tile in tiles:\n",
    "    print(tile)\n",
    "    catalog = read_tile_catalog(tile)\n",
    "    catalog = filter_galaxies(catalog)\n",
    "    matrices.append(calculate_oii_oiii_matrix(catalog))\n",
    "    oiilinestrength.append(calculateoiilinestrength(catalog))\n",
    "    oiiilinestrength.append(calculateoiiilinestrength(catalog))\n",
    "    catalog = filter_good_fits(catalog)\n",
    "    oiilinestrength_good.append(calculateoiilinestrength(catalog))\n",
    "    oiiilinestrength_good.append(calculateoiiilinestrength(catalog))\n",
    "    matrices_good.append(calculate_oii_oiii_matrix(catalog))"
   ]
  },
  {
   "cell_type": "code",
   "execution_count": null,
   "id": "f51196e0-b7c0-4ec4-a1d3-39e3b4ec608d",
   "metadata": {
    "tags": []
   },
   "outputs": [],
   "source": [
    "# Pickling data\n",
    "data = {'matrix from all the tiles Dr. Daniel': matrices,\n",
    "    'Good Matrix from all the tiles Dr. Daniel provided': matrices_good,\n",
    "       'oiilinestrength': oiilinestrength,\n",
    "       'oiiilinestrength':oiiilinestrength,\n",
    "       'oiilinestrength_good':oiilinestrength_good,\n",
    "       'oiiilinestrength_good':oiiilinestrength_good,\n",
    "       }\n",
    "with open('data.pickle', 'wb') as f:\n",
    "    # Pickle the 'data' dictionary using the highest protocol available.\n",
    "    pickle.dump(data, f, pickle.HIGHEST_PROTOCOL)\n"
   ]
  },
  {
   "cell_type": "code",
   "execution_count": 10,
   "id": "52833125-d6c7-48a0-942e-3546f2c342d0",
   "metadata": {},
   "outputs": [],
   "source": [
    "# Extracting pickled data\n",
    "with open('data.pickle', 'rb') as f:\n",
    "    # The protocol version used is detected automatically, so we do not\n",
    "    # have to specify it.\n",
    "    data = pickle.load(f)"
   ]
  },
  {
   "cell_type": "code",
   "execution_count": 11,
   "id": "d1656b94-094f-45e8-afbd-e7743a4ce599",
   "metadata": {},
   "outputs": [
    {
     "ename": "NameError",
     "evalue": "name 'badoii' is not defined",
     "output_type": "error",
     "traceback": [
      "\u001b[0;31m---------------------------------------------------------------------------\u001b[0m",
      "\u001b[0;31mNameError\u001b[0m                                 Traceback (most recent call last)",
      "\u001b[0;32m/tmp/ipykernel_45709/3577802511.py\u001b[0m in \u001b[0;36m<module>\u001b[0;34m\u001b[0m\n\u001b[1;32m      2\u001b[0m \u001b[0mcmap\u001b[0m \u001b[0;34m=\u001b[0m \u001b[0mplt\u001b[0m\u001b[0;34m.\u001b[0m\u001b[0mcm\u001b[0m\u001b[0;34m.\u001b[0m\u001b[0mSpectral\u001b[0m\u001b[0;34m\u001b[0m\u001b[0;34m\u001b[0m\u001b[0m\n\u001b[1;32m      3\u001b[0m \u001b[0mplt\u001b[0m\u001b[0;34m.\u001b[0m\u001b[0mfigure\u001b[0m\u001b[0;34m(\u001b[0m\u001b[0;34m)\u001b[0m\u001b[0;34m\u001b[0m\u001b[0;34m\u001b[0m\u001b[0m\n\u001b[0;32m----> 4\u001b[0;31m \u001b[0mnorm\u001b[0m \u001b[0;34m=\u001b[0m \u001b[0mplt\u001b[0m\u001b[0;34m.\u001b[0m\u001b[0mNormalize\u001b[0m\u001b[0;34m(\u001b[0m\u001b[0mvmin\u001b[0m\u001b[0;34m=\u001b[0m\u001b[0mnp\u001b[0m\u001b[0;34m.\u001b[0m\u001b[0mmin\u001b[0m\u001b[0;34m(\u001b[0m\u001b[0mbadoii\u001b[0m\u001b[0;34m)\u001b[0m\u001b[0;34m,\u001b[0m \u001b[0mvmax\u001b[0m\u001b[0;34m=\u001b[0m\u001b[0mnp\u001b[0m\u001b[0;34m.\u001b[0m\u001b[0mmax\u001b[0m\u001b[0;34m(\u001b[0m\u001b[0mbadoii\u001b[0m\u001b[0;34m)\u001b[0m\u001b[0;34m)\u001b[0m\u001b[0;34m\u001b[0m\u001b[0;34m\u001b[0m\u001b[0m\n\u001b[0m\u001b[1;32m      5\u001b[0m \u001b[0mplt\u001b[0m\u001b[0;34m.\u001b[0m\u001b[0mtitle\u001b[0m\u001b[0;34m(\u001b[0m\u001b[0;34m'Line Significance for bad OII Tiles'\u001b[0m\u001b[0;34m)\u001b[0m\u001b[0;34m\u001b[0m\u001b[0;34m\u001b[0m\u001b[0m\n\u001b[1;32m      6\u001b[0m \u001b[0;32mfor\u001b[0m \u001b[0mi\u001b[0m\u001b[0;34m,\u001b[0m\u001b[0mtile\u001b[0m \u001b[0;32min\u001b[0m \u001b[0menumerate\u001b[0m\u001b[0;34m(\u001b[0m\u001b[0mbadoii\u001b[0m\u001b[0;34m)\u001b[0m\u001b[0;34m:\u001b[0m\u001b[0;34m\u001b[0m\u001b[0;34m\u001b[0m\u001b[0m\n",
      "\u001b[0;31mNameError\u001b[0m: name 'badoii' is not defined"
     ]
    },
    {
     "data": {
      "text/plain": [
       "<Figure size 432x288 with 0 Axes>"
      ]
     },
     "metadata": {},
     "output_type": "display_data"
    }
   ],
   "source": [
    "# Correlation plots\n",
    "cmap = plt.cm.Spectral\n",
    "plt.figure()\n",
    "norm = plt.Normalize(vmin=np.min(badoii), vmax=np.max(badoii))\n",
    "plt.title('Line Significance for bad OII Tiles')\n",
    "for i,tile in enumerate(badoii):\n",
    "    plt.scatter(data['oiilinestrength'][i],data['oiiilinestrength'][i],zorder=i,alpha=0.3,s=150,color=cmap(norm(int(tile))),label=tile)\n",
    "plt.xlim(-10,10)\n",
    "plt.ylim(-10,10)\n",
    "plt.legend(loc='lower left',bbox_to_anchor=(1,0),ncol=5)\n",
    "plt.xlabel('OII Significance')\n",
    "plt.axhline(-3,color='k',ls=':')\n",
    "plt.axvline(-3,color='k',ls=':')\n",
    "plt.ylabel('OIII Significance')\n",
    "plt.figure()\n",
    "norm = plt.Normalize(vmin=np.min(badoiisigfits), vmax=np.max(badoiisigfits))\n",
    "for i,tile in enumerate(badoiisigfits):\n",
    "    plt.scatter(data['oiilinestrength'][i],data['oiiilinestrength'][i],zorder=i,alpha=0.3,s=150,color=cmap(norm(int(tile))),label=tile)\n",
    "plt.xlim(-10,10)\n",
    "plt.axhline(-3,color='k',ls=':')\n",
    "plt.axvline(-3,color='k',ls=':')\n",
    "plt.ylim(-10,10)\n",
    "plt.legend(loc='lower left',bbox_to_anchor=(1,0),ncol=5)\n",
    "plt.title('Line Significance for bad OII Tiles with \\n High Confidence Galaxy Fits')\n",
    "plt.xlabel('OII Significance')\n",
    "plt.ylabel('OIII Significance')\n",
    "plt.figure()\n",
    "norm = plt.Normalize(vmin=np.min(badoiii), vmax=np.max(badoiii))\n",
    "plt.title('Line Significance for bad OIII Tiles')\n",
    "for i,tile in enumerate(badoiii):\n",
    "    plt.scatter(data['oiilinestrength'][i],data['oiiilinestrength'][i],zorder=i,alpha=0.3,s=150,color=cmap(norm(int(tile))),label=tile)\n",
    "plt.xlim(-10,10)\n",
    "plt.ylim(-10,10)\n",
    "plt.axhline(-3,color='k',ls=':')\n",
    "plt.axvline(-3,color='k',ls=':')\n",
    "plt.legend(loc='lower left',bbox_to_anchor=(1,0),ncol=5)\n",
    "plt.xlabel('OII Significance')\n",
    "plt.ylabel('OIII Significance')\n",
    "plt.figure()\n",
    "norm = plt.Normalize(vmin=np.min(badoiiisigfits), vmax=np.max(badoiiisigfits))\n",
    "plt.title('Line Significance for bad OIII Tiles with \\n High Confidence Galaxy Fits')\n",
    "for i,tile in enumerate(badoiiisigfits):\n",
    "    plt.scatter(data['oiilinestrength'][i],data['oiiilinestrength'][i],zorder=i,alpha=0.3,s=150,color=cmap(norm(int(tile))),label=tile)\n",
    "plt.xlim(-10,10)\n",
    "plt.ylim(-10,10)\n",
    "plt.axhline(-3,color='k',ls=':')\n",
    "plt.axvline(-3,color='k',ls=':')\n",
    "plt.legend(loc='lower left',bbox_to_anchor=(1,0),ncol=5)\n",
    "plt.xlabel('OII Significance')\n",
    "plt.ylabel('OIII Significance')\n",
    "plt.figure()"
   ]
  },
  {
   "cell_type": "code",
   "execution_count": 210,
   "id": "2b7c7b96-48d7-4a4b-a1d2-0aee9d6d7995",
   "metadata": {},
   "outputs": [
    {
     "data": {
      "text/plain": [
       "'80673'"
      ]
     },
     "execution_count": 210,
     "metadata": {},
     "output_type": "execute_result"
    }
   ],
   "source": [
    "badoii[0]"
   ]
  },
  {
   "cell_type": "code",
   "execution_count": 12,
   "id": "92272105-6fbf-43e0-a4e9-f8fc08d8ac04",
   "metadata": {},
   "outputs": [
    {
     "ename": "NameError",
     "evalue": "name 'oiisig' is not defined",
     "output_type": "error",
     "traceback": [
      "\u001b[0;31m---------------------------------------------------------------------------\u001b[0m",
      "\u001b[0;31mNameError\u001b[0m                                 Traceback (most recent call last)",
      "\u001b[0;32m/tmp/ipykernel_45709/329812319.py\u001b[0m in \u001b[0;36m<module>\u001b[0;34m\u001b[0m\n\u001b[1;32m      1\u001b[0m \u001b[0;32mimport\u001b[0m \u001b[0mmatplotlib\u001b[0m\u001b[0;34m.\u001b[0m\u001b[0mcolors\u001b[0m\u001b[0;34m\u001b[0m\u001b[0;34m\u001b[0m\u001b[0m\n\u001b[0;32m----> 2\u001b[0;31m \u001b[0mplt\u001b[0m\u001b[0;34m.\u001b[0m\u001b[0mscatter\u001b[0m\u001b[0;34m(\u001b[0m\u001b[0moiisig\u001b[0m\u001b[0;34m,\u001b[0m\u001b[0moiiisig\u001b[0m\u001b[0;34m,\u001b[0m\u001b[0mlabel\u001b[0m\u001b[0;34m=\u001b[0m\u001b[0;34m'All Galaxies'\u001b[0m\u001b[0;34m)\u001b[0m\u001b[0;34m\u001b[0m\u001b[0;34m\u001b[0m\u001b[0m\n\u001b[0m\u001b[1;32m      3\u001b[0m \u001b[0mplt\u001b[0m\u001b[0;34m.\u001b[0m\u001b[0mscatter\u001b[0m\u001b[0;34m(\u001b[0m\u001b[0moiisiggood\u001b[0m\u001b[0;34m,\u001b[0m\u001b[0moiiisiggood\u001b[0m\u001b[0;34m,\u001b[0m\u001b[0malpha\u001b[0m\u001b[0;34m=\u001b[0m\u001b[0;36m0.4\u001b[0m\u001b[0;34m,\u001b[0m\u001b[0mlabel\u001b[0m\u001b[0;34m=\u001b[0m\u001b[0;34m'High Significance Fits'\u001b[0m\u001b[0;34m)\u001b[0m\u001b[0;34m\u001b[0m\u001b[0;34m\u001b[0m\u001b[0m\n\u001b[1;32m      4\u001b[0m \u001b[0mplt\u001b[0m\u001b[0;34m.\u001b[0m\u001b[0mxlim\u001b[0m\u001b[0;34m(\u001b[0m\u001b[0;34m-\u001b[0m\u001b[0;36m210\u001b[0m\u001b[0;34m,\u001b[0m\u001b[0;36m210\u001b[0m\u001b[0;34m)\u001b[0m\u001b[0;34m\u001b[0m\u001b[0;34m\u001b[0m\u001b[0m\n\u001b[1;32m      5\u001b[0m \u001b[0mplt\u001b[0m\u001b[0;34m.\u001b[0m\u001b[0mylim\u001b[0m\u001b[0;34m(\u001b[0m\u001b[0;34m-\u001b[0m\u001b[0;36m210\u001b[0m\u001b[0;34m,\u001b[0m\u001b[0;36m210\u001b[0m\u001b[0;34m)\u001b[0m\u001b[0;34m\u001b[0m\u001b[0;34m\u001b[0m\u001b[0m\n",
      "\u001b[0;31mNameError\u001b[0m: name 'oiisig' is not defined"
     ]
    }
   ],
   "source": [
    "import matplotlib.colors\n",
    "plt.scatter(oiisig,oiiisig,label='All Galaxies')\n",
    "plt.scatter(oiisiggood,oiiisiggood,alpha=0.4,label='High Significance Fits')\n",
    "plt.xlim(-210,210)\n",
    "plt.ylim(-210,210)\n",
    "plt.legend()\n",
    "plt.xlabel('OII Significance')\n",
    "plt.ylabel('OIII Significance')\n",
    "plt.figure()\n",
    "plt.hist2d(oiisig,oiiisig,bins=np.linspace(-210,210,50),norm=matplotlib.colors.LogNorm())\n",
    "cbar=plt.colorbar()\n",
    "plt.title('All Galaxies')\n",
    "cbar.ax.set_ylabel('# of spectra', rotation=270)\n",
    "plt.xlabel('OII Significance')\n",
    "plt.ylabel('OIII Significance')\n",
    "plt.figure()\n",
    "plt.hist2d(oiisiggood,oiiisiggood,bins=np.linspace(-210,210,50),norm=matplotlib.colors.LogNorm())\n",
    "cbar=plt.colorbar()\n",
    "plt.title('High Significance Fits')\n",
    "cbar.ax.set_ylabel('# of spectra', rotation=270)\n",
    "plt.xlabel('OII Significance')\n",
    "plt.ylabel('OIII Significance')"
   ]
  },
  {
   "cell_type": "code",
   "execution_count": 319,
   "id": "c3308163-1bfc-467c-bf03-6ebe25f2322f",
   "metadata": {},
   "outputs": [
    {
     "data": {
      "text/plain": [
       "Text(0.5, 0, 'OII Significance')"
      ]
     },
     "execution_count": 319,
     "metadata": {},
     "output_type": "execute_result"
    },
    {
     "data": {
      "image/png": "[encoded data removed]",
      "text/plain": [
       "<Figure size 864x432 with 4 Axes>"
      ]
     },
     "metadata": {
      "needs_background": "light"
     },
     "output_type": "display_data"
    }
   ],
   "source": [
    "import matplotlib.colors\n",
    "# plt.scatter(oiisig,oiiisig,label='All Galaxies')\n",
    "# plt.scatter(oiisiggood,oiiisiggood,alpha=0.4,label='High Significance Fits')\n",
    "# plt.xlim(-10,10)\n",
    "# plt.ylim(-10,10)\n",
    "# plt.legend()\n",
    "# plt.axhline(-3,color='red',ls=':',linewidth=4)\n",
    "# plt.axvline(-3,color='red',ls=':',linewidth=4)\n",
    "# plt.xlabel('OII Significance')\n",
    "# plt.ylabel('OIII Significance')\n",
    "plt.figure(figsize=(12,6))\n",
    "plt.subplot(1,2,1)\n",
    "plt.hist2d(oiisig,oiiisig,bins=np.linspace(-10,10,50),norm=matplotlib.colors.LogNorm())\n",
    "cbar=plt.colorbar()\n",
    "plt.axhline(-3,color='red',ls=':',linewidth=4)\n",
    "plt.axvline(-3,color='red',ls=':',linewidth=4, label='-3\\u03C3 line')\n",
    "plt.legend()\n",
    "plt.title('All Galaxies')\n",
    "plt.xlabel('OII Significance')\n",
    "plt.ylabel('OIII Significance')\n",
    "plt.subplot(1,2,2)\n",
    "plt.axhline(-3,color='red',ls=':',linewidth=4)\n",
    "plt.axvline(-3,color='red',ls=':',linewidth=4, label='-3\\u03C3 line')\n",
    "plt.legend()\n",
    "plt.hist2d(oiisiggood,oiiisiggood,bins=np.linspace(-10,10,50),norm=matplotlib.colors.LogNorm())\n",
    "cbar=plt.colorbar()\n",
    "plt.title('High Confidence Fits')\n",
    "cbar.ax.set_ylabel('# of spectra', rotation=270,labelpad=20)\n",
    "plt.xlabel('OII Significance')"
   ]
  },
  {
   "cell_type": "markdown",
   "id": "e9e34c6d-f45a-40ca-bd3d-6fc94de9ec35",
   "metadata": {},
   "source": [
    "cmap = plt.cm.Spectral\n",
    "norm = plt.Normalize(vmin=80600, vmax=81200)\n",
    "plt.figure(figsize=(10,10))\n",
    "plt.subplot(2, 2, 1)\n",
    "plt.title('OII Line Significance')\n",
    "for i,tile in enumerate(tiles):\n",
    "    plt.hist(data['oiilinestrength'][i],color=cmap(norm(int(tile))),zorder=200-i,bins=np.linspace(-20.1,0.3,103),alpha=0.2)   \n",
    "plt.xlabel('Line Significance')\n",
    "plt.ylabel('Frequency')\n",
    "plt.text(-20,90,'zorder - VIBGYOR')\n",
    "plt.subplot(2, 2, 2)\n",
    "plt.title('OIII Line Significance')\n",
    "for i,tile in enumerate(tiles):\n",
    "    plt.hist(data['oiiilinestrength'][i],color=cmap(norm(int(tile))),zorder=i,bins=np.linspace(-20.1,0.3,103),alpha=0.2)   \n",
    "plt.xlabel('Line Significance')\n",
    "plt.ylabel('Frequency')\n",
    "plt.text(-20,70,'zorder - VIBGYOR')\n",
    "plt.subplot(2, 2, 3)\n",
    "plt.title('OII Line Significance for \\n High Confidence Galaxy Fits')\n",
    "for i,tile in enumerate(tiles):\n",
    "    plt.hist(data['oiilinestrength_good'][i],color=cmap(norm(int(tile))),zorder=i,bins=np.linspace(-20.1,0.3,103),alpha=0.2) \n",
    "plt.ylim(0,136) # adjusted according to the default plot\n",
    "plt.xlabel('Line Significance')\n",
    "plt.ylabel('Frequency')\n",
    "plt.text(-20,90,'zorder - ROYGBIV')\n",
    "plt.subplot(2, 2, 4)\n",
    "plt.title('OIII Line Significance for \\n High Confidence Galaxy Fits') \n",
    "for i,tile in enumerate(tiles):\n",
    "    plt.hist(data['oiiilinestrength_good'][i],color=cmap(norm(int(tile))),zorder=i,bins=np.linspace(-20.1,0.3,103),alpha=0.2,label=tile) \n",
    "plt.xlabel('Line Significance')\n",
    "plt.ylabel('Frequency')\n",
    "plt.text(-20,70,'zorder - ROYGBIV')\n",
    "plt.ylim(0,83) # adjusted according to the default plot\n",
    "plt.subplots_adjust(hspace=0.4)\n",
    "plt.legend(loc='lower left',bbox_to_anchor=(1,-0.15),ncol=5,title=\"TILES' COLOR CODE\")"
   ]
  },
  {
   "cell_type": "markdown",
   "id": "a8753ea8-b80f-457b-80bf-fca3c60a195d",
   "metadata": {},
   "source": [
    "cmap = plt.cm.Spectral\n",
    "norm = plt.Normalize(vmin=80600, vmax=81200)\n",
    "plt.figure(figsize=(10,10))\n",
    "plt.subplot(2, 2, 1)\n",
    "plt.title('OII Line Significance')\n",
    "for i,tile in enumerate(tiles):\n",
    "    plt.hist(data['oiilinestrength'][i],color=cmap(norm(int(tile))),zorder=200-i,bins=np.linspace(-.3,0.3,40),alpha=0.2)   \n",
    "plt.xlabel('Line Significance')\n",
    "plt.ylabel('Frequency')\n",
    "plt.subplot(2, 2, 2)\n",
    "plt.title('OIII Line Significance')\n",
    "for i,tile in enumerate(tiles):\n",
    "    plt.hist(data['oiiilinestrength'][i],color=cmap(norm(int(tile))),zorder=200-i,bins=np.linspace(-.3,0.3,40),alpha=0.2)   \n",
    "plt.xlabel('Line Significance')\n",
    "plt.ylabel('Frequency')\n",
    "plt.subplot(2, 2, 3)\n",
    "plt.title('OII Line Significance for \\n High Confidence Galaxy Fits')\n",
    "for i,tile in enumerate(tiles):\n",
    "    plt.hist(data['oiilinestrength_good'][i],color=cmap(norm(int(tile))),zorder=i,bins=np.linspace(-.3,0.3,40),alpha=0.2) \n",
    "plt.ylim(0,136) # adjusted according to the default plot\n",
    "plt.xlabel('Line Significance')\n",
    "plt.ylabel('Frequency')\n",
    "plt.subplot(2, 2, 4)\n",
    "plt.title('OIII Line Significance for \\n High Confidence Galaxy Fits') \n",
    "for i,tile in enumerate(tiles):\n",
    "    plt.hist(data['oiiilinestrength_good'][i],color=cmap(norm(int(tile))),zorder=i,bins=np.linspace(-.3,0.3,40),alpha=0.2,label=tile) \n",
    "plt.xlabel('Line Significance')\n",
    "plt.ylabel('Frequency')\n",
    "plt.ylim(0,83) # adjusted according to the default plot\n",
    "plt.subplots_adjust(hspace=0.4)\n",
    "plt.legend(loc='lower left',bbox_to_anchor=(1,-0.15),ncol=5,title=\"TILES' COLOR CODE\")"
   ]
  },
  {
   "cell_type": "code",
   "execution_count": 318,
   "id": "ae408870-f69d-4f20-a461-6ae529003b2b",
   "metadata": {},
   "outputs": [
    {
     "name": "stdout",
     "output_type": "stream",
     "text": [
      "area is 9003.600000000002\n",
      "area is 2219.0000000000005\n",
      "area is 10993.600000000002\n",
      "area is 6052.4000000000015\n"
     ]
    },
    {
     "data": {
      "text/plain": [
       "<matplotlib.legend.Legend at 0x15547a21ef10>"
      ]
     },
     "execution_count": 318,
     "metadata": {},
     "output_type": "execute_result"
    },
    {
     "data": {
      "image/png": "[encoded data removed]",
      "text/plain": [
       "<Figure size 864x432 with 2 Axes>"
      ]
     },
     "metadata": {
      "needs_background": "light"
     },
     "output_type": "display_data"
    }
   ],
   "source": [
    "oiisig = np.array([item for sublist in data['oiilinestrength'] for item in sublist])\n",
    "oiiisig = np.array([item for sublist in data['oiiilinestrength'] for item in sublist])\n",
    "oiisiggood = np.array([item for sublist in data['oiilinestrength_good'] for item in sublist])\n",
    "oiiisiggood = np.array([item for sublist in data['oiiilinestrength_good'] for item in sublist])\n",
    "plt.figure(figsize=(12,6))\n",
    "plt.subplot(1, 2, 1)\n",
    "plt.xlim(-10,-3)\n",
    "values, bins, _ =plt.hist(oiisig,bins=np.linspace(-10.1,10.1,102),alpha=0.5,label='OII')\n",
    "ar=np.sum(values[0:50]*np.diff(bins[0:51]))\n",
    "print('area is',ar)\n",
    "x_axis = np.arange(-10, 10, 0.01)\n",
    "mu=0\n",
    "sig=1\n",
    "plt.plot(x_axis, 2*ar*norm.pdf(x_axis, mu, sig),color='darkblue',linestyle='--',label='Gaussian expectation')\n",
    "values, bins, _ =plt.hist(oiisiggood,bins=np.linspace(-10.1,10.1,102),alpha=0.5,label='OII for high\\nconfidence galaxy fits')\n",
    "ar=np.sum(values[0:50]*np.diff(bins[0:51]))\n",
    "print('area is',ar)\n",
    "x_axis = np.arange(-10, 10, 0.01)\n",
    "mu=0\n",
    "sig=1\n",
    "plt.plot(x_axis, 2*ar*norm.pdf(x_axis, mu, sig),color='darkred',linestyle='--',label='Gaussian expectation\\nfor high confidence\\nfits')\n",
    "plt.xlabel('Line Significance')\n",
    "plt.ylabel('Frequency')\n",
    "plt.ylim(0,400)\n",
    "plt.legend(loc='best',fancybox=True, framealpha=0.5)\n",
    "plt.subplot(1, 2, 2)\n",
    "values, bins, _ =plt.hist(oiiisig,bins=np.linspace(-10.1,10.1,102),alpha=0.5,label='OIII')\n",
    "ar=np.sum(values[0:50]*np.diff(bins[0:51]))\n",
    "print('area is',ar)\n",
    "x_axis = np.arange(-10, 10, 0.01)\n",
    "mu=0\n",
    "sig=1\n",
    "plt.plot(x_axis, 2*ar*norm.pdf(x_axis, mu, sig),color='darkblue',linestyle='--',label='Gaussian expectation')\n",
    "values, bins, _ =plt.hist(oiiisiggood,bins=np.linspace(-10.1,10.1,102),alpha=0.5,label='OIII for high\\nconfidence galaxy fits')\n",
    "ar=np.sum(values[0:50]*np.diff(bins[0:51]))\n",
    "print('area is',ar)\n",
    "x_axis = np.arange(-10, 10, 0.01)\n",
    "mu=0\n",
    "sig=1\n",
    "plt.plot(x_axis, 2*ar*norm.pdf(x_axis, mu, sig),color='darkred',linestyle='--',label='Gaussian expectation\\nfor high confidence\\nfits')\n",
    "plt.xlabel('Line Significance')\n",
    "# plt.yscale('log')\n",
    "plt.xlim(-10,-3) # adjusted according to the default plot\n",
    "plt.ylim(0,400)\n",
    "plt.subplots_adjust(hspace=0.4)\n",
    "plt.legend(loc='best',fancybox=True, framealpha=0.5)\n"
   ]
  },
  {
   "cell_type": "code",
   "execution_count": 320,
   "id": "09df6fd9-00d7-4452-85be-7fd8e3a6b890",
   "metadata": {},
   "outputs": [
    {
     "name": "stdout",
     "output_type": "stream",
     "text": [
      "area is 9003.600000000002\n",
      "area is 2219.0000000000005\n",
      "area is 10993.600000000002\n",
      "area is 6052.4000000000015\n"
     ]
    },
    {
     "data": {
      "text/plain": [
       "<matplotlib.legend.Legend at 0x15547e88c4f0>"
      ]
     },
     "execution_count": 320,
     "metadata": {},
     "output_type": "execute_result"
    },
    {
     "data": {
      "image/png": "[encoded data removed]",
      "text/plain": [
       "<Figure size 864x432 with 2 Axes>"
      ]
     },
     "metadata": {
      "needs_background": "light"
     },
     "output_type": "display_data"
    }
   ],
   "source": [
    "oiisig = np.array([item for sublist in data['oiilinestrength'] for item in sublist])\n",
    "oiiisig = np.array([item for sublist in data['oiiilinestrength'] for item in sublist])\n",
    "oiisiggood = np.array([item for sublist in data['oiilinestrength_good'] for item in sublist])\n",
    "oiiisiggood = np.array([item for sublist in data['oiiilinestrength_good'] for item in sublist])\n",
    "plt.figure(figsize=(12,6))\n",
    "plt.subplot(1, 2, 1)\n",
    "values, bins, _ =plt.hist(oiisig,bins=np.linspace(-10.1,10.1,102),alpha=0.5,label='OII')\n",
    "ar=np.sum(values[0:50]*np.diff(bins[0:51]))\n",
    "print('area is',ar)\n",
    "x_axis = np.arange(-10, 10, 0.01)\n",
    "mu=0\n",
    "sig=1\n",
    "plt.plot(x_axis, 2*ar*norm.pdf(x_axis, mu, sig),color='darkblue',linestyle='--',label='Gaussian expectation')\n",
    "values, bins, _ =plt.hist(oiisiggood,bins=np.linspace(-10.1,10.1,102),alpha=0.5,label='OII for high\\nconfidence galaxy fits')\n",
    "ar=np.sum(values[0:50]*np.diff(bins[0:51]))\n",
    "print('area is',ar)\n",
    "x_axis = np.arange(-10, 10, 0.01)\n",
    "mu=0\n",
    "sig=1\n",
    "plt.plot(x_axis, 2*ar*norm.pdf(x_axis, mu, sig),color='darkred',linestyle='--',label='Gaussian expectation\\nfor high confidence\\nfits')\n",
    "plt.xlabel('Line Significance')\n",
    "plt.ylabel('Frequency')\n",
    "plt.ylim(0,11000)\n",
    "plt.legend(loc='best',fancybox=True, framealpha=0.5)\n",
    "plt.subplot(1, 2, 2)\n",
    "values, bins, _ =plt.hist(oiiisig,bins=np.linspace(-10.1,10.1,102),alpha=0.5,label='OIII')\n",
    "ar=np.sum(values[0:50]*np.diff(bins[0:51]))\n",
    "print('area is',ar)\n",
    "x_axis = np.arange(-10, 10, 0.01)\n",
    "mu=0\n",
    "sig=1\n",
    "plt.plot(x_axis, 2*ar*norm.pdf(x_axis, mu, sig),color='darkblue',linestyle='--',label='Gaussian expectation')\n",
    "values, bins, _ =plt.hist(oiiisiggood,bins=np.linspace(-10.1,10.1,102),alpha=0.5,label='OIII for high\\nconfidence galaxy fits')\n",
    "ar=np.sum(values[0:50]*np.diff(bins[0:51]))\n",
    "print('area is',ar)\n",
    "x_axis = np.arange(-10, 10, 0.01)\n",
    "mu=0\n",
    "sig=1\n",
    "plt.plot(x_axis, 2*ar*norm.pdf(x_axis, mu, sig),color='darkred',linestyle='--',label='Gaussian expectation\\nfor high confidence\\nfits')\n",
    "plt.xlabel('Line Significance')\n",
    "# plt.yscale('log')\n",
    "# plt.xlim(-10,-3) # adjusted according to the default plot\n",
    "plt.ylim(0,11000)\n",
    "plt.subplots_adjust(hspace=0.4)\n",
    "plt.legend(loc='best',fancybox=True, framealpha=0.5)\n"
   ]
  },
  {
   "cell_type": "markdown",
   "id": "2aa7a491-30f3-4372-8b10-3cc5af39e0a8",
   "metadata": {},
   "source": [
    "###### 0.1/0.0015"
   ]
  },
  {
   "cell_type": "code",
   "execution_count": 322,
   "id": "df6d10e1-642a-488a-a7dc-caeffda45e16",
   "metadata": {},
   "outputs": [
    {
     "name": "stdout",
     "output_type": "stream",
     "text": [
      "53 Tiles with sig -ve OII\n",
      "71 Tiles with sig -ve OIII\n",
      "46 Tiles with sig -ve OII with good fits\n",
      "13 Tiles with sig -ve OIII with good fits\n"
     ]
    },
    {
     "data": {
      "image/png": "[encoded data removed]",
      "text/plain": [
       "<Figure size 432x288 with 1 Axes>"
      ]
     },
     "metadata": {
      "needs_background": "light"
     },
     "output_type": "display_data"
    },
    {
     "data": {
      "image/png": "[encoded data removed]",
      "text/plain": [
       "<Figure size 432x288 with 1 Axes>"
      ]
     },
     "metadata": {
      "needs_background": "light"
     },
     "output_type": "display_data"
    },
    {
     "data": {
      "image/png": "[encoded data removed]",
      "text/plain": [
       "<Figure size 864x432 with 2 Axes>"
      ]
     },
     "metadata": {
      "needs_background": "light"
     },
     "output_type": "display_data"
    }
   ],
   "source": [
    "# Histogram plots\n",
    "plt.figure()\n",
    "plot_matrices(data['matrix from all the tiles Dr. Daniel'])\n",
    "plt.figure()\n",
    "plot_matrices(data['Good Matrix from all the tiles Dr. Daniel provided'])\n",
    "plt.figure(figsize=(12,6))\n",
    "plt.subplot(1,2,1)\n",
    "# fract. gal hist plots without 00\n",
    "matricesdum = np.array(data['matrix from all the tiles Dr. Daniel'])\n",
    "plt.hist(matricesdum[:,1], label=\"good OII, bad OIII\",bins=(np.linspace(0,0.1,67)),alpha=0.5)\n",
    "plt.hist(matricesdum[:,2], label=\"bad OII, good OIII\",bins=(np.linspace(0,0.1,67)),alpha=0.5)\n",
    "plt.xlabel('Fraction of Galaxies')\n",
    "plt.ylabel('Frequency')\n",
    "plt.title('Tiles with negative lines for All Galaxies ')\n",
    "plt.legend()\n",
    "plt.ylim(0,60)\n",
    "plt.subplot(1,2,2)\n",
    "# good fract. gal hist plots without 00\n",
    "matricesgooddum = np.array(data['Good Matrix from all the tiles Dr. Daniel provided'])\n",
    "plt.hist(matricesgooddum[:,1], label=\"good OII, bad OIII\",bins=(np.linspace(0,0.1,67)),alpha=0.5)\n",
    "plt.hist(matricesgooddum[:,2], label=\"bad OII, good OIII\",bins=(np.linspace(0,0.1,67)),alpha=0.5)\n",
    "plt.xlabel('Fraction of Galaxies')\n",
    "plt.title('Tiles with negative lines for High Confidence Galaxies')\n",
    "plt.legend()\n",
    "plt.ylim(0,60)\n",
    "print(len(badoii),'Tiles with sig -ve OII')\n",
    "print(len(badoiii),'Tiles with sig -ve OIII')\n",
    "print(len(badoiisigfits),'Tiles with sig -ve OII with good fits')\n",
    "print(len(badoiiisigfits),'Tiles with sig -ve OIII with good fits')"
   ]
  },
  {
   "cell_type": "code",
   "execution_count": 310,
   "id": "d57df71e-a7b8-44b1-8b9b-1eac2983f947",
   "metadata": {},
   "outputs": [
    {
     "data": {
      "text/plain": [
       "0.0014925373134328358"
      ]
     },
     "execution_count": 310,
     "metadata": {},
     "output_type": "execute_result"
    }
   ],
   "source": [
    "0.1/67"
   ]
  },
  {
   "cell_type": "code",
   "execution_count": 213,
   "id": "ee418075-ab02-4520-832f-923131653983",
   "metadata": {},
   "outputs": [
    {
     "name": "stdout",
     "output_type": "stream",
     "text": [
      "53 Tiles with sig -ve OII\n",
      "46 Tiles with sig -ve OII with good fits\n",
      "71 Tiles with sig -ve OIII\n",
      "13 Tiles with sig -ve OIII with good fits\n"
     ]
    }
   ],
   "source": [
    "tilenum=np.array(tiles)\n",
    "badoiii=tilenum[[i[1]>0.015 for i in data['matrix from all the tiles Dr. Daniel']]]\n",
    "badoii=tilenum[[i[2]>0.015 for i in data['matrix from all the tiles Dr. Daniel']]]\n",
    "\n",
    "badoiiisigfits=tilenum[[i[1]>0.015 for i in data['Good Matrix from all the tiles Dr. Daniel provided']]]\n",
    "badoiisigfits=tilenum[[i[2]>0.015 for i in data['Good Matrix from all the tiles Dr. Daniel provided']]]\n",
    "\n",
    "badoii=[int(i) for i in badoii]\n",
    "badoiisigfits=[int(i) for i in badoiisigfits]\n",
    "badoiii=[int(i) for i in badoiii]\n",
    "badoiiisigfits=[int(i) for i in badoiiisigfits]\n",
    "print(len(badoii),'Tiles with sig -ve OII')\n",
    "print(len(badoiisigfits),'Tiles with sig -ve OII with good fits')\n",
    "print(len(badoiii),'Tiles with sig -ve OIII')\n",
    "print(len(badoiiisigfits),'Tiles with sig -ve OIII with good fits')"
   ]
  },
  {
   "cell_type": "code",
   "execution_count": 214,
   "id": "a04db62b-7d82-4d8e-80eb-74087a30ae49",
   "metadata": {},
   "outputs": [
    {
     "data": {
      "text/plain": [
       "80673"
      ]
     },
     "execution_count": 214,
     "metadata": {},
     "output_type": "execute_result"
    }
   ],
   "source": [
    "badoii[0]"
   ]
  },
  {
   "cell_type": "code",
   "execution_count": 161,
   "id": "f381bb6f-ff39-4078-b6b0-0d2505535cf1",
   "metadata": {},
   "outputs": [
    {
     "name": "stdout",
     "output_type": "stream",
     "text": [
      "1.1367110351955823\n",
      "0.45149352004186577\n",
      "1.0612538031900698\n",
      "0.2879981392994326\n"
     ]
    }
   ],
   "source": [
    "print(len(oiisig[oiisig<-3])/len(oiisig)*100)\n",
    "print(np.sum(oiisiggood<-3)/len(oiisiggood)*100)\n",
    "print(np.sum(oiiisig<-3)/len(oiiisig)*100)\n",
    "print(np.sum(oiiisiggood<-3)/len(oiiisiggood)*100)"
   ]
  },
  {
   "cell_type": "code",
   "execution_count": 120,
   "id": "86313e2d-2f28-4282-a965-d44261af4977",
   "metadata": {},
   "outputs": [
    {
     "ename": "SyntaxError",
     "evalue": "invalid syntax (3696235409.py, line 1)",
     "output_type": "error",
     "traceback": [
      "\u001b[0;36m  File \u001b[0;32m\"/tmp/ipykernel_38107/3696235409.py\"\u001b[0;36m, line \u001b[0;32m1\u001b[0m\n\u001b[0;31m    tiles[i[1]>0.015 for i in data['matrix from all the tiles Dr. Daniel']]\u001b[0m\n\u001b[0m                     ^\u001b[0m\n\u001b[0;31mSyntaxError\u001b[0m\u001b[0;31m:\u001b[0m invalid syntax\n"
     ]
    }
   ],
   "source": [
    "tiles[i[1]>0.015 for i in data['matrix from all the tiles Dr. Daniel']]"
   ]
  },
  {
   "cell_type": "code",
   "execution_count": 145,
   "id": "b721d15d-8357-4704-897e-472bef6da53c",
   "metadata": {},
   "outputs": [
    {
     "data": {
      "text/plain": [
       "array(['80673', '80675', '80677', '80679', '80681', '80683', '80685',\n",
       "       '80696', '80697', '80703', '80705', '80707', '80708', '80709',\n",
       "       '80711', '80715', '80719', '80720', '80729', '80730', '80733',\n",
       "       '80734', '80738', '80786', '80857', '80869', '80870', '80871',\n",
       "       '80872', '80875', '80882', '80886', '80887', '80888', '80889',\n",
       "       '80890', '80891', '80892', '80896', '80897', '80898', '80900',\n",
       "       '80902', '80938', '80949', '80955', '80962', '80963', '80970',\n",
       "       '81009', '81013', '81022', '81097', '81098', '81099', '81100',\n",
       "       '81101', '81102', '81103', '81104', '81105', '81106', '81107',\n",
       "       '81108', '81109', '81110', '81111', '81112', '81113', '81114',\n",
       "       '81115'], dtype='<U5')"
      ]
     },
     "execution_count": 145,
     "metadata": {},
     "output_type": "execute_result"
    }
   ],
   "source": [
    "tilenum=np.array(tiles)\n",
    "tilenum[[i[1]>0.015 for i in data['matrix from all the tiles Dr. Daniel']]]"
   ]
  },
  {
   "cell_type": "markdown",
   "id": "b8537974-c521-4c84-8f36-9398ccb1e314",
   "metadata": {},
   "source": [
    "a=data['oiilinestrength'][1][~np.isnan(data['oiilinestrength'][1])]\n",
    "b=data['oiiilinestrength'][1][~np.isnan(data['oiiilinestrength'][1])]\n",
    "print(a)\n",
    "plt.hist2d(a,b)"
   ]
  },
  {
   "cell_type": "code",
   "execution_count": 127,
   "id": "42a67224-cb6a-4a56-a9f7-8a0c39af7a82",
   "metadata": {},
   "outputs": [
    {
     "data": {
      "text/plain": [
       "array([[ 51],\n",
       "       [ 58],\n",
       "       [ 61],\n",
       "       [ 73],\n",
       "       [ 80],\n",
       "       [ 87],\n",
       "       [ 88],\n",
       "       [ 90],\n",
       "       [ 91],\n",
       "       [ 95],\n",
       "       [ 99],\n",
       "       [134],\n",
       "       [141],\n",
       "       [158],\n",
       "       [183],\n",
       "       [186],\n",
       "       [270],\n",
       "       [285],\n",
       "       [294],\n",
       "       [332],\n",
       "       [349]])"
      ]
     },
     "execution_count": 127,
     "metadata": {},
     "output_type": "execute_result"
    }
   ],
   "source": [
    "np.argwhere(np.isnan(data['oiiilinestrength_good'][-1]))"
   ]
  },
  {
   "cell_type": "code",
   "execution_count": 128,
   "id": "fc1c3eb1-4cf0-4be8-9928-4897a6ea6b32",
   "metadata": {},
   "outputs": [
    {
     "data": {
      "text/html": [
       "<i>Row index=55</i>\n",
       "<table id=\"table23456164123648\">\n",
       "<thead><tr><th>TARGETID</th><th>Z</th><th>ZWARN</th><th>SPECTYPE</th><th>DELTACHI2</th><th>TARGET_RA</th><th>TARGET_DEC</th><th>OBJTYPE</th><th>OII_FLUX</th><th>OII_FLUX_IVAR</th><th>OII_SIGMA</th><th>OII_SIGMA_IVAR</th><th>OII_CONT</th><th>OII_CONT_IVAR</th><th>OII_SHARE</th><th>OII_SHARE_IVAR</th><th>OII_EW</th><th>OII_EW_IVAR</th><th>OII_CHI2</th><th>OII_NDOF</th><th>HDELTA_FLUX</th><th>HDELTA_FLUX_IVAR</th><th>HDELTA_SIGMA</th><th>HDELTA_SIGMA_IVAR</th><th>HDELTA_CONT</th><th>HDELTA_CONT_IVAR</th><th>HDELTA_SHARE</th><th>HDELTA_SHARE_IVAR</th><th>HDELTA_EW</th><th>HDELTA_EW_IVAR</th><th>HDELTA_CHI2</th><th>HDELTA_NDOF</th><th>HGAMMA_FLUX</th><th>HGAMMA_FLUX_IVAR</th><th>HGAMMA_SIGMA</th><th>HGAMMA_SIGMA_IVAR</th><th>HGAMMA_CONT</th><th>HGAMMA_CONT_IVAR</th><th>HGAMMA_SHARE</th><th>HGAMMA_SHARE_IVAR</th><th>HGAMMA_EW</th><th>HGAMMA_EW_IVAR</th><th>HGAMMA_CHI2</th><th>HGAMMA_NDOF</th><th>HBETA_FLUX</th><th>HBETA_FLUX_IVAR</th><th>HBETA_SIGMA</th><th>HBETA_SIGMA_IVAR</th><th>HBETA_CONT</th><th>HBETA_CONT_IVAR</th><th>HBETA_SHARE</th><th>HBETA_SHARE_IVAR</th><th>HBETA_EW</th><th>HBETA_EW_IVAR</th><th>HBETA_CHI2</th><th>HBETA_NDOF</th><th>OIII_FLUX</th><th>OIII_FLUX_IVAR</th><th>OIII_SIGMA</th><th>OIII_SIGMA_IVAR</th><th>OIII_CONT</th><th>OIII_CONT_IVAR</th><th>OIII_SHARE</th><th>OIII_SHARE_IVAR</th><th>OIII_EW</th><th>OIII_EW_IVAR</th><th>OIII_CHI2</th><th>OIII_NDOF</th><th>HALPHA_FLUX</th><th>HALPHA_FLUX_IVAR</th><th>HALPHA_SIGMA</th><th>HALPHA_SIGMA_IVAR</th><th>HALPHA_CONT</th><th>HALPHA_CONT_IVAR</th><th>HALPHA_SHARE</th><th>HALPHA_SHARE_IVAR</th><th>HALPHA_EW</th><th>HALPHA_EW_IVAR</th><th>HALPHA_CHI2</th><th>HALPHA_NDOF</th><th>RRFN</th><th>FN</th><th>COADDFN</th></tr></thead>\n",
       "<thead><tr><th>int64</th><th>float64</th><th>int64</th><th>str6</th><th>float64</th><th>float64</th><th>float64</th><th>str3</th><th>float32</th><th>float32</th><th>float32</th><th>float32</th><th>float32</th><th>float32</th><th>float32</th><th>float32</th><th>float32</th><th>float32</th><th>float32</th><th>int32</th><th>float32</th><th>float32</th><th>float32</th><th>float32</th><th>float32</th><th>float32</th><th>float32</th><th>float32</th><th>float32</th><th>float32</th><th>float32</th><th>int32</th><th>float32</th><th>float32</th><th>float32</th><th>float32</th><th>float32</th><th>float32</th><th>float32</th><th>float32</th><th>float32</th><th>float32</th><th>float32</th><th>int32</th><th>float32</th><th>float32</th><th>float32</th><th>float32</th><th>float32</th><th>float32</th><th>float32</th><th>float32</th><th>float32</th><th>float32</th><th>float32</th><th>int32</th><th>float32</th><th>float32</th><th>float32</th><th>float32</th><th>float32</th><th>float32</th><th>float32</th><th>float32</th><th>float32</th><th>float32</th><th>float32</th><th>int32</th><th>float32</th><th>float32</th><th>float32</th><th>float32</th><th>float32</th><th>float32</th><th>float32</th><th>float32</th><th>float32</th><th>float32</th><th>float32</th><th>int32</th><th>str107</th><th>str106</th><th>str105</th></tr></thead>\n",
       "<tr><td>39633441326630842</td><td>0.07266766201642973</td><td>0</td><td>GALAXY</td><td>95.86408092826605</td><td>285.65672787545054</td><td>64.83578979675036</td><td>TGT</td><td>--</td><td>--</td><td>--</td><td>--</td><td>2.0164614</td><td>0.011288561</td><td>--</td><td>--</td><td>--</td><td>--</td><td>--</td><td>-99</td><td>39.883003</td><td>0.0016922519</td><td>5.3412204</td><td>0.07097352</td><td>1.4816047</td><td>0.037486583</td><td>--</td><td>--</td><td>28.874914</td><td>0.003228489</td><td>22998.445</td><td>102</td><td>21.780874</td><td>0.009734849</td><td>1.7015084</td><td>1.2346551</td><td>1.7274393</td><td>0.06565443</td><td>--</td><td>--</td><td>13.525014</td><td>0.025246691</td><td>3262.1387</td><td>106</td><td>3.6952553</td><td>0.05618555</td><td>0.71185106</td><td>1.2239658</td><td>1.7449406</td><td>0.15564144</td><td>--</td><td>--</td><td>2.271585</td><td>0.14868104</td><td>227.2548</td><td>105</td><td>31.560385</td><td>0.036274265</td><td>0.7482039</td><td>48.312134</td><td>1.6631469</td><td>0.17273483</td><td>0.744</td><td>inf</td><td>20.35527</td><td>0.0872026</td><td>207.65488</td><td>169</td><td>30.2435</td><td>0.15997739</td><td>0.9576757</td><td>126.03385</td><td>0.6646483</td><td>0.6957831</td><td>--</td><td>--</td><td>48.809612</td><td>0.061420307</td><td>3.3187616</td><td>105</td><td>/global/cfs/cdirs/desi/spectro/redux/fuji/tiles/cumulative/81115/20210513/redrock-2-81115-thru20210513.fits</td><td>/global/cfs/cdirs/desi/spectro/redux/fuji/tiles/cumulative/81115/20210513/emline-2-81115-thru20210513.fits</td><td>/global/cfs/cdirs/desi/spectro/redux/fuji/tiles/cumulative/81115/20210513/coadd-2-81115-thru20210513.fits</td></tr>\n",
       "</table>"
      ],
      "text/plain": [
       "<Row index=55>\n",
       "     TARGETID              Z          ZWARN SPECTYPE     DELTACHI2         TARGET_RA          TARGET_DEC    OBJTYPE OII_FLUX OII_FLUX_IVAR OII_SIGMA OII_SIGMA_IVAR  OII_CONT OII_CONT_IVAR OII_SHARE OII_SHARE_IVAR  OII_EW OII_EW_IVAR OII_CHI2 OII_NDOF HDELTA_FLUX HDELTA_FLUX_IVAR HDELTA_SIGMA HDELTA_SIGMA_IVAR HDELTA_CONT HDELTA_CONT_IVAR HDELTA_SHARE HDELTA_SHARE_IVAR HDELTA_EW HDELTA_EW_IVAR HDELTA_CHI2 HDELTA_NDOF HGAMMA_FLUX HGAMMA_FLUX_IVAR HGAMMA_SIGMA HGAMMA_SIGMA_IVAR HGAMMA_CONT HGAMMA_CONT_IVAR HGAMMA_SHARE HGAMMA_SHARE_IVAR HGAMMA_EW HGAMMA_EW_IVAR HGAMMA_CHI2 HGAMMA_NDOF HBETA_FLUX HBETA_FLUX_IVAR HBETA_SIGMA HBETA_SIGMA_IVAR HBETA_CONT HBETA_CONT_IVAR HBETA_SHARE HBETA_SHARE_IVAR HBETA_EW HBETA_EW_IVAR HBETA_CHI2 HBETA_NDOF OIII_FLUX OIII_FLUX_IVAR OIII_SIGMA OIII_SIGMA_IVAR OIII_CONT OIII_CONT_IVAR OIII_SHARE OIII_SHARE_IVAR OIII_EW  OIII_EW_IVAR OIII_CHI2 OIII_NDOF HALPHA_FLUX HALPHA_FLUX_IVAR HALPHA_SIGMA HALPHA_SIGMA_IVAR HALPHA_CONT HALPHA_CONT_IVAR HALPHA_SHARE HALPHA_SHARE_IVAR HALPHA_EW HALPHA_EW_IVAR HALPHA_CHI2 HALPHA_NDOF                                                     RRFN                                                                                                        FN                                                                                                      COADDFN                                                 \n",
       "      int64             float64       int64   str6        float64           float64            float64        str3  float32     float32     float32     float32      float32     float32     float32     float32     float32   float32   float32   int32     float32       float32        float32         float32        float32       float32        float32         float32       float32     float32       float32      int32      float32       float32        float32         float32        float32       float32        float32         float32       float32     float32       float32      int32     float32       float32       float32       float32       float32       float32       float32       float32      float32     float32     float32     int32     float32     float32      float32       float32      float32     float32      float32       float32     float32    float32     float32    int32     float32       float32        float32         float32        float32       float32        float32         float32       float32     float32       float32      int32                                                       str107                                                                                                     str106                                                                                                     str105                                                 \n",
       "----------------- ------------------- ----- -------- ----------------- ------------------ ----------------- ------- -------- ------------- --------- -------------- --------- ------------- --------- -------------- ------- ----------- -------- -------- ----------- ---------------- ------------ ----------------- ----------- ---------------- ------------ ----------------- --------- -------------- ----------- ----------- ----------- ---------------- ------------ ----------------- ----------- ---------------- ------------ ----------------- --------- -------------- ----------- ----------- ---------- --------------- ----------- ---------------- ---------- --------------- ----------- ---------------- -------- ------------- ---------- ---------- --------- -------------- ---------- --------------- --------- -------------- ---------- --------------- -------- ------------ --------- --------- ----------- ---------------- ------------ ----------------- ----------- ---------------- ------------ ----------------- --------- -------------- ----------- ----------- ----------------------------------------------------------------------------------------------------------- ---------------------------------------------------------------------------------------------------------- ---------------------------------------------------------------------------------------------------------\n",
       "39633441326630842 0.07266766201642973     0   GALAXY 95.86408092826605 285.65672787545054 64.83578979675036     TGT       --            --        --             -- 2.0164614   0.011288561        --             --      --          --       --      -99   39.883003     0.0016922519    5.3412204        0.07097352   1.4816047      0.037486583           --                -- 28.874914    0.003228489   22998.445         102   21.780874      0.009734849    1.7015084         1.2346551   1.7274393       0.06565443           --                -- 13.525014    0.025246691   3262.1387         106  3.6952553      0.05618555  0.71185106        1.2239658  1.7449406      0.15564144          --               -- 2.271585    0.14868104   227.2548        105 31.560385    0.036274265  0.7482039       48.312134 1.6631469     0.17273483      0.744             inf 20.35527    0.0872026 207.65488       169     30.2435       0.15997739    0.9576757         126.03385   0.6646483        0.6957831           --                -- 48.809612    0.061420307   3.3187616         105 /global/cfs/cdirs/desi/spectro/redux/fuji/tiles/cumulative/81115/20210513/redrock-2-81115-thru20210513.fits /global/cfs/cdirs/desi/spectro/redux/fuji/tiles/cumulative/81115/20210513/emline-2-81115-thru20210513.fits /global/cfs/cdirs/desi/spectro/redux/fuji/tiles/cumulative/81115/20210513/coadd-2-81115-thru20210513.fits"
      ]
     },
     "execution_count": 128,
     "metadata": {},
     "output_type": "execute_result"
    }
   ],
   "source": [
    "catalog[55]"
   ]
  },
  {
   "cell_type": "code",
   "execution_count": 81,
   "id": "509e99c4-fceb-40db-bed8-bc5eb32c23bc",
   "metadata": {},
   "outputs": [
    {
     "ename": "NameError",
     "evalue": "name 'catalog' is not defined",
     "output_type": "error",
     "traceback": [
      "\u001b[0;31m---------------------------------------------------------------------------\u001b[0m",
      "\u001b[0;31mNameError\u001b[0m                                 Traceback (most recent call last)",
      "\u001b[0;32m/tmp/ipykernel_38107/1781742152.py\u001b[0m in \u001b[0;36m<module>\u001b[0;34m\u001b[0m\n\u001b[1;32m      1\u001b[0m \u001b[0moutdict\u001b[0m\u001b[0;34m=\u001b[0m\u001b[0;34m{\u001b[0m\u001b[0;34m}\u001b[0m\u001b[0;34m\u001b[0m\u001b[0;34m\u001b[0m\u001b[0m\n\u001b[0;32m----> 2\u001b[0;31m \u001b[0mproblematic\u001b[0m \u001b[0;34m=\u001b[0m\u001b[0;34m(\u001b[0m\u001b[0mcatalog\u001b[0m\u001b[0;34m[\u001b[0m\u001b[0;34m'OII_FLUX'\u001b[0m\u001b[0;34m]\u001b[0m\u001b[0;34m*\u001b[0m\u001b[0mcatalog\u001b[0m\u001b[0;34m[\u001b[0m\u001b[0;34m'OII_FLUX_IVAR'\u001b[0m\u001b[0;34m]\u001b[0m\u001b[0;34m**\u001b[0m\u001b[0;36m0.5\u001b[0m\u001b[0;34m<\u001b[0m\u001b[0;34m-\u001b[0m\u001b[0;36m30\u001b[0m\u001b[0;34m)\u001b[0m \u001b[0;31m#managable\u001b[0m\u001b[0;34m\u001b[0m\u001b[0;34m\u001b[0m\u001b[0m\n\u001b[0m\u001b[1;32m      3\u001b[0m \u001b[0;32mfor\u001b[0m \u001b[0mfn\u001b[0m \u001b[0;32min\u001b[0m \u001b[0mnp\u001b[0m\u001b[0;34m.\u001b[0m\u001b[0munique\u001b[0m\u001b[0;34m(\u001b[0m\u001b[0mcatalog\u001b[0m\u001b[0;34m[\u001b[0m\u001b[0mproblematic\u001b[0m\u001b[0;34m]\u001b[0m\u001b[0;34m[\u001b[0m\u001b[0;34m'COADDFN'\u001b[0m\u001b[0;34m]\u001b[0m\u001b[0;34m)\u001b[0m\u001b[0;34m:\u001b[0m\u001b[0;34m\u001b[0m\u001b[0;34m\u001b[0m\u001b[0m\n\u001b[1;32m      4\u001b[0m     \u001b[0mentries\u001b[0m\u001b[0;34m=\u001b[0m\u001b[0mcatalog\u001b[0m\u001b[0;34m[\u001b[0m\u001b[0mproblematic\u001b[0m\u001b[0;34m]\u001b[0m\u001b[0;34m[\u001b[0m\u001b[0mcatalog\u001b[0m\u001b[0;34m[\u001b[0m\u001b[0mproblematic\u001b[0m\u001b[0;34m]\u001b[0m\u001b[0;34m[\u001b[0m\u001b[0;34m'COADDFN'\u001b[0m\u001b[0;34m]\u001b[0m\u001b[0;34m==\u001b[0m\u001b[0mfn\u001b[0m\u001b[0;34m]\u001b[0m\u001b[0;34m\u001b[0m\u001b[0;34m\u001b[0m\u001b[0m\n\u001b[1;32m      5\u001b[0m     \u001b[0mfnrr\u001b[0m\u001b[0;34m=\u001b[0m\u001b[0mentries\u001b[0m\u001b[0;34m[\u001b[0m\u001b[0;34m'RRFN'\u001b[0m\u001b[0;34m]\u001b[0m\u001b[0;34m[\u001b[0m\u001b[0;36m0\u001b[0m\u001b[0;34m]\u001b[0m\u001b[0;34m\u001b[0m\u001b[0;34m\u001b[0m\u001b[0m\n",
      "\u001b[0;31mNameError\u001b[0m: name 'catalog' is not defined"
     ]
    }
   ],
   "source": [
    "outdict={}\n",
    "problematic =(catalog['OII_FLUX']*catalog['OII_FLUX_IVAR']**0.5<-30) #managable\n",
    "for fn in np.unique(catalog[problematic]['COADDFN']):\n",
    "    entries=catalog[problematic][catalog[problematic]['COADDFN']==fn]\n",
    "    fnrr=entries['RRFN'][0]\n",
    "    rrf=fitsio.FITS(fnrr)\n",
    "    fobj=fitsio.FITS(fn)\n",
    "    fm=fobj['FIBERMAP']\n",
    "    tids=fm['TARGETID'][:]\n",
    "    for entry in entries:\n",
    "        if entry['TARGETID'] in tids:\n",
    "            index=(fm['TARGETID'][:]==entry['TARGETID']).nonzero()[0]\n",
    "            print(index, entry['TARGETID'])\n",
    "            outdict[entry['TARGETID']]={'wave':[],'flux':[],'ivar':[],'mask':[],'redshift':entry['Z']}            \n",
    "            for color in 'BRZ':\n",
    "                outdict[entry['TARGETID']]['wave'].append(fobj[f'{color}_WAVELENGTH'][:])\n",
    "                outdict[entry['TARGETID']]['flux'].append(fobj[f'{color}_FLUX'][index:index+1,:][0])\n",
    "                outdict[entry['TARGETID']]['ivar'].append(fobj[f'{color}_IVAR'][index:index+1,:][0])\n",
    "                outdict[entry['TARGETID']]['mask'].append(fobj[f'{color}_MASK'][index:index+1,:][0])\n"
   ]
  },
  {
   "cell_type": "code",
   "execution_count": 69,
   "id": "13d75e53-b80e-41e5-81a2-0168af3dbfaf",
   "metadata": {},
   "outputs": [
    {
     "data": {
      "text/plain": [
       "384"
      ]
     },
     "execution_count": 69,
     "metadata": {},
     "output_type": "execute_result"
    }
   ],
   "source": [
    "len(oiilinestrength_good[-1])"
   ]
  },
  {
   "cell_type": "code",
   "execution_count": null,
   "id": "ad7084ec-96e1-4696-a389-2f8c8c6cdd4a",
   "metadata": {},
   "outputs": [],
   "source": [
    "fig,ax_all=plt.subplots(len(outdict),figsize=(20,5*len(outdict)))\n",
    "for ax,(tid, tdict) in zip(ax_all,outdict.items()):\n",
    "    for j,(w,f,i,m) in enumerate(zip(tdict['wave'],tdict['flux'],tdict['ivar'],tdict['mask'])):\n",
    "        ax.plot(w[m==0],f[m==0],color='k',label='flux' if j==0 else '')\n",
    "        ax.plot(w[m==0],i[m==0]**(-0.5),color='r',label='sigma_flux' if j==0 else '')\n",
    "        ax.plot(w,m,color='g',label='mask' if j==0 else '')\n",
    "        ax.set_title(tid)\n",
    "        ax.set_ylim(-10,100)\n",
    "        ax.axvline(3726*(1+tdict['redshift']),ls=':')\n",
    "        \n",
    "        ax.axvline(3729*(1+tdict['redshift']),ls=':')\n",
    "        ax.set_xlim(3726*(1+tdict['redshift'])-200,3726*(1+tdict['redshift'])+200)\n",
    "        ax.legend()\n",
    "        print(tdict['redshift'])\n",
    "        \n",
    "#1.105 is the 1+z for those objects, please read those from the respective RRFN\n",
    "#5000 is the ~ wavelength of the OIII doublet, needs to be adapted for OII"
   ]
  },
  {
   "cell_type": "code",
   "execution_count": null,
   "id": "d63e7973-2286-4b92-baf9-42d3ac83f50c",
   "metadata": {},
   "outputs": [],
   "source": [
    "print(tdict['redshift'])"
   ]
  },
  {
   "cell_type": "code",
   "execution_count": 80,
   "id": "130d66ec-3ec1-4256-a715-8f0352e297d5",
   "metadata": {},
   "outputs": [
    {
     "ename": "NameError",
     "evalue": "name 'catalog' is not defined",
     "output_type": "error",
     "traceback": [
      "\u001b[0;31m---------------------------------------------------------------------------\u001b[0m",
      "\u001b[0;31mNameError\u001b[0m                                 Traceback (most recent call last)",
      "\u001b[0;32m/tmp/ipykernel_38107/4221525534.py\u001b[0m in \u001b[0;36m<module>\u001b[0;34m\u001b[0m\n\u001b[0;32m----> 1\u001b[0;31m \u001b[0mcatalog\u001b[0m\u001b[0;34m\u001b[0m\u001b[0;34m\u001b[0m\u001b[0m\n\u001b[0m",
      "\u001b[0;31mNameError\u001b[0m: name 'catalog' is not defined"
     ]
    }
   ],
   "source": [
    "catalog"
   ]
  },
  {
   "cell_type": "code",
   "execution_count": null,
   "id": "86c38197-ad2b-4e17-bf88-41503e926834",
   "metadata": {},
   "outputs": [],
   "source": []
  }
 ],
 "metadata": {
  "kernelspec": {
   "display_name": "NERSC Python",
   "language": "python",
   "name": "python3"
  },
  "language_info": {
   "codemirror_mode": {
    "name": "ipython",
    "version": 3
   },
   "file_extension": ".py",
   "mimetype": "text/x-python",
   "name": "python",
   "nbconvert_exporter": "python",
   "pygments_lexer": "ipython3",
   "version": "3.9.7"
  }
 },
 "nbformat": 4,
 "nbformat_minor": 5
}
